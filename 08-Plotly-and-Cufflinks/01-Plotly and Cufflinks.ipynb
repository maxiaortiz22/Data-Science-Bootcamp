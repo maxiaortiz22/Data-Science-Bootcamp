{
 "cells": [
  {
   "cell_type": "markdown",
   "metadata": {},
   "source": [
    "___\n",
    "\n",
    "<a href='http://www.pieriandata.com'> <img src='../Pierian_Data_Logo.png' /></a>\n",
    "___\n",
    "# Plotly and Cufflinks"
   ]
  },
  {
   "cell_type": "markdown",
   "metadata": {},
   "source": [
    "Plotly is a library that allows you to create interactive plots that you can use in dashboards or websites (you can save them as html files or static images).\n",
    "\n",
    "## Installation\n",
    "\n",
    "In order for this all to work, you'll need to install plotly and cufflinks to call plots directly off of a pandas dataframe. These libraries are not currently available through **conda** but are available through **pip**. Install the libraries at your command line/terminal using:\n",
    "\n",
    "    pip install plotly\n",
    "    pip install cufflinks\n",
    "\n",
    "** NOTE: Make sure you only have one installation of Python on your computer when you do this, otherwise the installation may not work. **\n",
    "\n",
    "## Imports and Set-up"
   ]
  },
  {
   "cell_type": "code",
   "execution_count": 1,
   "metadata": {
    "collapsed": true
   },
   "outputs": [],
   "source": [
    "import pandas as pd\n",
    "import numpy as np\n",
    "import chart_studio.plotly as py\n",
    "%matplotlib inline"
   ]
  },
  {
   "cell_type": "code",
   "execution_count": 2,
   "metadata": {
    "collapsed": false
   },
   "outputs": [
    {
     "output_type": "stream",
     "name": "stdout",
     "text": [
      "4.9.0\n"
     ]
    }
   ],
   "source": [
    "from plotly import __version__\n",
    "from plotly.offline import download_plotlyjs, init_notebook_mode, plot, iplot\n",
    "\n",
    "print(__version__) # requires version >= 1.9.0"
   ]
  },
  {
   "cell_type": "code",
   "execution_count": 3,
   "metadata": {
    "collapsed": true
   },
   "outputs": [],
   "source": [
    "import cufflinks as cf"
   ]
  },
  {
   "cell_type": "code",
   "execution_count": 4,
   "metadata": {
    "collapsed": false
   },
   "outputs": [
    {
     "output_type": "display_data",
     "data": {
      "text/html": "        <script type=\"text/javascript\">\n        window.PlotlyConfig = {MathJaxConfig: 'local'};\n        if (window.MathJax) {MathJax.Hub.Config({SVG: {font: \"STIX-Web\"}});}\n        if (typeof require !== 'undefined') {\n        require.undef(\"plotly\");\n        requirejs.config({\n            paths: {\n                'plotly': ['https://cdn.plot.ly/plotly-latest.min']\n            }\n        });\n        require(['plotly'], function(Plotly) {\n            window._Plotly = Plotly;\n        });\n        }\n        </script>\n        "
     },
     "metadata": {}
    }
   ],
   "source": [
    "# For Notebooks\n",
    "init_notebook_mode(connected=True)"
   ]
  },
  {
   "cell_type": "code",
   "execution_count": 5,
   "metadata": {
    "collapsed": false
   },
   "outputs": [
    {
     "output_type": "display_data",
     "data": {
      "text/html": "        <script type=\"text/javascript\">\n        window.PlotlyConfig = {MathJaxConfig: 'local'};\n        if (window.MathJax) {MathJax.Hub.Config({SVG: {font: \"STIX-Web\"}});}\n        if (typeof require !== 'undefined') {\n        require.undef(\"plotly\");\n        requirejs.config({\n            paths: {\n                'plotly': ['https://cdn.plot.ly/plotly-latest.min']\n            }\n        });\n        require(['plotly'], function(Plotly) {\n            window._Plotly = Plotly;\n        });\n        }\n        </script>\n        "
     },
     "metadata": {}
    }
   ],
   "source": [
    "# For offline use\n",
    "cf.go_offline()"
   ]
  },
  {
   "cell_type": "markdown",
   "metadata": {},
   "source": [
    "### Fake Data"
   ]
  },
  {
   "cell_type": "code",
   "execution_count": 6,
   "metadata": {
    "collapsed": false
   },
   "outputs": [],
   "source": [
    "df = pd.DataFrame(np.random.randn(100,4),columns='A B C D'.split())"
   ]
  },
  {
   "cell_type": "code",
   "execution_count": 7,
   "metadata": {
    "collapsed": false
   },
   "outputs": [
    {
     "output_type": "execute_result",
     "data": {
      "text/plain": [
       "          A         B         C         D\n",
       "0  0.081548  0.923985  0.173190 -1.387485\n",
       "1  0.729411  0.695302  1.080572 -1.865650\n",
       "2 -0.595443  0.291650  0.166182 -0.337490\n",
       "3  0.113927 -0.965920 -0.423197  0.548834\n",
       "4  0.245011  0.171920 -0.289453 -1.050869"
      ],
      "text/html": "<div>\n<style scoped>\n    .dataframe tbody tr th:only-of-type {\n        vertical-align: middle;\n    }\n\n    .dataframe tbody tr th {\n        vertical-align: top;\n    }\n\n    .dataframe thead th {\n        text-align: right;\n    }\n</style>\n<table border=\"1\" class=\"dataframe\">\n  <thead>\n    <tr style=\"text-align: right;\">\n      <th></th>\n      <th>A</th>\n      <th>B</th>\n      <th>C</th>\n      <th>D</th>\n    </tr>\n  </thead>\n  <tbody>\n    <tr>\n      <th>0</th>\n      <td>0.081548</td>\n      <td>0.923985</td>\n      <td>0.173190</td>\n      <td>-1.387485</td>\n    </tr>\n    <tr>\n      <th>1</th>\n      <td>0.729411</td>\n      <td>0.695302</td>\n      <td>1.080572</td>\n      <td>-1.865650</td>\n    </tr>\n    <tr>\n      <th>2</th>\n      <td>-0.595443</td>\n      <td>0.291650</td>\n      <td>0.166182</td>\n      <td>-0.337490</td>\n    </tr>\n    <tr>\n      <th>3</th>\n      <td>0.113927</td>\n      <td>-0.965920</td>\n      <td>-0.423197</td>\n      <td>0.548834</td>\n    </tr>\n    <tr>\n      <th>4</th>\n      <td>0.245011</td>\n      <td>0.171920</td>\n      <td>-0.289453</td>\n      <td>-1.050869</td>\n    </tr>\n  </tbody>\n</table>\n</div>"
     },
     "metadata": {},
     "execution_count": 7
    }
   ],
   "source": [
    "df.head()"
   ]
  },
  {
   "cell_type": "code",
   "execution_count": 8,
   "metadata": {
    "collapsed": true
   },
   "outputs": [],
   "source": [
    "df2 = pd.DataFrame({'Category':['A','B','C'],'Values':[32,43,50]})"
   ]
  },
  {
   "cell_type": "code",
   "execution_count": 9,
   "metadata": {
    "collapsed": false
   },
   "outputs": [
    {
     "output_type": "execute_result",
     "data": {
      "text/plain": [
       "  Category  Values\n",
       "0        A      32\n",
       "1        B      43\n",
       "2        C      50"
      ],
      "text/html": "<div>\n<style scoped>\n    .dataframe tbody tr th:only-of-type {\n        vertical-align: middle;\n    }\n\n    .dataframe tbody tr th {\n        vertical-align: top;\n    }\n\n    .dataframe thead th {\n        text-align: right;\n    }\n</style>\n<table border=\"1\" class=\"dataframe\">\n  <thead>\n    <tr style=\"text-align: right;\">\n      <th></th>\n      <th>Category</th>\n      <th>Values</th>\n    </tr>\n  </thead>\n  <tbody>\n    <tr>\n      <th>0</th>\n      <td>A</td>\n      <td>32</td>\n    </tr>\n    <tr>\n      <th>1</th>\n      <td>B</td>\n      <td>43</td>\n    </tr>\n    <tr>\n      <th>2</th>\n      <td>C</td>\n      <td>50</td>\n    </tr>\n  </tbody>\n</table>\n</div>"
     },
     "metadata": {},
     "execution_count": 9
    }
   ],
   "source": [
    "df2.head()"
   ]
  },
  {
   "cell_type": "markdown",
   "metadata": {},
   "source": [
    "## Using Cufflinks and iplot()\n",
    "\n",
    "* scatter\n",
    "* bar\n",
    "* box\n",
    "* spread\n",
    "* ratio\n",
    "* heatmap\n",
    "* surface\n",
    "* histogram\n",
    "* bubble"
   ]
  },
  {
   "cell_type": "markdown",
   "metadata": {},
   "source": [
    "## Scatter"
   ]
  },
  {
   "cell_type": "code",
   "execution_count": 10,
   "metadata": {
    "collapsed": false
   },
   "outputs": [
    {
     "output_type": "display_data",
     "data": {
      "application/vnd.plotly.v1+json": {
       "config": {
        "linkText": "Export to plot.ly",
        "plotlyServerURL": "https://plot.ly",
        "showLink": true
       },
       "data": [
        {
         "line": {
          "color": "rgba(255, 153, 51, 1.0)",
          "dash": "solid",
          "shape": "linear",
          "width": 1.3
         },
         "marker": {
          "size": 10,
          "symbol": "circle"
         },
         "mode": "markers",
         "name": "B",
         "text": "",
         "type": "scatter",
         "x": [
          0.08154756008965315,
          0.7294112196056034,
          -0.5954430102961661,
          0.11392668617930163,
          0.24501060951980624,
          0.010534816638921151,
          2.6364400057784594,
          0.12297180125533486,
          -0.8405470416845079,
          0.6503905079803126,
          0.02672677148625623,
          1.0390373819102718,
          0.9133276526366109,
          0.18141581073949015,
          0.9104636520368209,
          -1.40892263236515,
          -0.31567975933388454,
          2.4929469924755048,
          -0.4616394252856013,
          0.048035937256642,
          0.547119258096743,
          0.3881502777279593,
          -0.6229558942782302,
          0.1730967480960979,
          1.158573553878103,
          2.005769635483669,
          0.0009764871350639321,
          1.115750124492762,
          0.7765290283003947,
          -0.15117506367172406,
          -1.084832578987809,
          0.23376103148894553,
          -0.1821311071608296,
          0.43465292198301053,
          -1.3718084383090414,
          -0.7065580490592018,
          0.909913758991963,
          0.6969810629188408,
          1.0463714894729697,
          0.6831279695180076,
          0.24409792910146047,
          1.433229901433797,
          -0.4058507832926155,
          -1.10187824116574,
          -0.8071314308373911,
          0.8577612683913687,
          -1.0708370629080108,
          -0.9168997646164357,
          -2.1631333724515924,
          0.13079043749727665,
          0.3381626091783292,
          0.15506303239424246,
          0.7901778906730181,
          0.9305057191246837,
          0.099085161899565,
          -0.9169462506429646,
          0.36951902680482057,
          0.06925822193942366,
          -0.7198369642867564,
          -1.7245899453715674,
          -0.45008624430717875,
          0.2967832703141231,
          -1.3377202043417142,
          0.27493114755760784,
          0.45941519480195747,
          -1.6291864606638882,
          -0.22070503253306045,
          0.007709510068425308,
          0.01768433879422398,
          -0.07079772944421962,
          -1.6679549393374373,
          -0.594619630454869,
          1.0366407677017115,
          0.2819081617296796,
          1.3546788202799147,
          -0.07505679983163255,
          -0.9231210754582747,
          0.6687394981273819,
          -0.5238978468910802,
          -0.8632332797156874,
          0.4545244092944283,
          1.1078297676122262,
          -0.44292004296577747,
          -0.9184911891684518,
          -0.00401103462367758,
          0.09773503073679715,
          -0.8916894520145863,
          -2.170179314341021,
          -0.012113705461402155,
          1.5340561179830172,
          -0.18585726925530954,
          -0.4131874227536773,
          -1.3631444791162253,
          1.02004939629908,
          -0.9134507475058871,
          -0.32772598652099594,
          0.34053976632380595,
          -0.2748575672954093,
          0.8385945981431505,
          -1.1295338677638593
         ],
         "y": [
          0.9239846501391048,
          0.6953024520295731,
          0.2916503621311321,
          -0.965919765688481,
          0.17191954706583218,
          0.7624116519905186,
          -0.6652284368098259,
          -0.4772016744650276,
          0.7982642870613752,
          -0.3548888991782037,
          0.6746554659039304,
          0.17857352576234595,
          2.054763084961261,
          -0.1509660537376362,
          -0.8650692283683096,
          0.22136934835948605,
          -0.4345578354252637,
          -0.8941880991505339,
          0.16429920246842383,
          0.5039931460708144,
          1.8607739043126235,
          -0.9196941311634963,
          0.799503085141445,
          -1.4450435479215027,
          -0.6072544017417235,
          0.49500505670127404,
          -0.2969998338332768,
          -0.16673200385647882,
          0.303882295816272,
          0.6744726043764007,
          0.8362026045828959,
          -0.18002551045619974,
          -0.49870969915426255,
          -0.2873512773835932,
          0.758343432345483,
          0.4346064861801654,
          -0.31777292964171794,
          -0.10655199147282932,
          -1.235611158554504,
          1.114378533758231,
          -1.2458539752494155,
          0.7741141869892867,
          -2.061430139425667,
          1.0090783960346168,
          -0.0035614682665801155,
          1.2993259230256762,
          -1.4530859670521163,
          -0.5675395884441028,
          -0.3029557917594186,
          -0.8305521833670725,
          -0.5388610646465275,
          0.11145956959528848,
          0.6905566980694475,
          -0.6056110692747558,
          -0.960534196518318,
          -2.0885118049507394,
          0.9041150734606206,
          0.47995318291304495,
          -0.14548997263476554,
          1.0524863440461119,
          -0.5611798616616022,
          -1.187334192251828,
          0.39513785300405296,
          -1.3946753976310993,
          0.24659571882049935,
          -0.2543266430056381,
          -0.5476933696255555,
          -0.28217802860274704,
          -0.5393215350313256,
          -0.8095377645697454,
          -1.8410594008385672,
          0.405702434109728,
          1.1937169003480823,
          1.581909236767621,
          -1.9180940814652665,
          1.2008090209574682,
          -0.8939329531465761,
          0.8751629307055746,
          0.29177545956713835,
          -0.9403895202828687,
          1.2286191801145336,
          -1.1950136610294053,
          0.8143533691093339,
          2.099738473353832,
          0.34499031718368306,
          -0.9010719850875789,
          0.2397697728514549,
          1.155092720172047,
          -0.5364473130500922,
          0.4116350556286882,
          -0.5224746391063635,
          -0.6780665888992978,
          -0.4083440051678913,
          1.6260859831944012,
          0.7288485407412735,
          -1.1055630627568243,
          -1.4637814591932408,
          0.008076970853890886,
          0.5256062276641782,
          -1.6605193369448148
         ]
        }
       ],
       "layout": {
        "legend": {
         "bgcolor": "#F5F6F9",
         "font": {
          "color": "#4D5663"
         }
        },
        "paper_bgcolor": "#F5F6F9",
        "plot_bgcolor": "#F5F6F9",
        "template": {
         "data": {
          "bar": [
           {
            "error_x": {
             "color": "#2a3f5f"
            },
            "error_y": {
             "color": "#2a3f5f"
            },
            "marker": {
             "line": {
              "color": "#E5ECF6",
              "width": 0.5
             }
            },
            "type": "bar"
           }
          ],
          "barpolar": [
           {
            "marker": {
             "line": {
              "color": "#E5ECF6",
              "width": 0.5
             }
            },
            "type": "barpolar"
           }
          ],
          "carpet": [
           {
            "aaxis": {
             "endlinecolor": "#2a3f5f",
             "gridcolor": "white",
             "linecolor": "white",
             "minorgridcolor": "white",
             "startlinecolor": "#2a3f5f"
            },
            "baxis": {
             "endlinecolor": "#2a3f5f",
             "gridcolor": "white",
             "linecolor": "white",
             "minorgridcolor": "white",
             "startlinecolor": "#2a3f5f"
            },
            "type": "carpet"
           }
          ],
          "choropleth": [
           {
            "colorbar": {
             "outlinewidth": 0,
             "ticks": ""
            },
            "type": "choropleth"
           }
          ],
          "contour": [
           {
            "colorbar": {
             "outlinewidth": 0,
             "ticks": ""
            },
            "colorscale": [
             [
              0,
              "#0d0887"
             ],
             [
              0.1111111111111111,
              "#46039f"
             ],
             [
              0.2222222222222222,
              "#7201a8"
             ],
             [
              0.3333333333333333,
              "#9c179e"
             ],
             [
              0.4444444444444444,
              "#bd3786"
             ],
             [
              0.5555555555555556,
              "#d8576b"
             ],
             [
              0.6666666666666666,
              "#ed7953"
             ],
             [
              0.7777777777777778,
              "#fb9f3a"
             ],
             [
              0.8888888888888888,
              "#fdca26"
             ],
             [
              1,
              "#f0f921"
             ]
            ],
            "type": "contour"
           }
          ],
          "contourcarpet": [
           {
            "colorbar": {
             "outlinewidth": 0,
             "ticks": ""
            },
            "type": "contourcarpet"
           }
          ],
          "heatmap": [
           {
            "colorbar": {
             "outlinewidth": 0,
             "ticks": ""
            },
            "colorscale": [
             [
              0,
              "#0d0887"
             ],
             [
              0.1111111111111111,
              "#46039f"
             ],
             [
              0.2222222222222222,
              "#7201a8"
             ],
             [
              0.3333333333333333,
              "#9c179e"
             ],
             [
              0.4444444444444444,
              "#bd3786"
             ],
             [
              0.5555555555555556,
              "#d8576b"
             ],
             [
              0.6666666666666666,
              "#ed7953"
             ],
             [
              0.7777777777777778,
              "#fb9f3a"
             ],
             [
              0.8888888888888888,
              "#fdca26"
             ],
             [
              1,
              "#f0f921"
             ]
            ],
            "type": "heatmap"
           }
          ],
          "heatmapgl": [
           {
            "colorbar": {
             "outlinewidth": 0,
             "ticks": ""
            },
            "colorscale": [
             [
              0,
              "#0d0887"
             ],
             [
              0.1111111111111111,
              "#46039f"
             ],
             [
              0.2222222222222222,
              "#7201a8"
             ],
             [
              0.3333333333333333,
              "#9c179e"
             ],
             [
              0.4444444444444444,
              "#bd3786"
             ],
             [
              0.5555555555555556,
              "#d8576b"
             ],
             [
              0.6666666666666666,
              "#ed7953"
             ],
             [
              0.7777777777777778,
              "#fb9f3a"
             ],
             [
              0.8888888888888888,
              "#fdca26"
             ],
             [
              1,
              "#f0f921"
             ]
            ],
            "type": "heatmapgl"
           }
          ],
          "histogram": [
           {
            "marker": {
             "colorbar": {
              "outlinewidth": 0,
              "ticks": ""
             }
            },
            "type": "histogram"
           }
          ],
          "histogram2d": [
           {
            "colorbar": {
             "outlinewidth": 0,
             "ticks": ""
            },
            "colorscale": [
             [
              0,
              "#0d0887"
             ],
             [
              0.1111111111111111,
              "#46039f"
             ],
             [
              0.2222222222222222,
              "#7201a8"
             ],
             [
              0.3333333333333333,
              "#9c179e"
             ],
             [
              0.4444444444444444,
              "#bd3786"
             ],
             [
              0.5555555555555556,
              "#d8576b"
             ],
             [
              0.6666666666666666,
              "#ed7953"
             ],
             [
              0.7777777777777778,
              "#fb9f3a"
             ],
             [
              0.8888888888888888,
              "#fdca26"
             ],
             [
              1,
              "#f0f921"
             ]
            ],
            "type": "histogram2d"
           }
          ],
          "histogram2dcontour": [
           {
            "colorbar": {
             "outlinewidth": 0,
             "ticks": ""
            },
            "colorscale": [
             [
              0,
              "#0d0887"
             ],
             [
              0.1111111111111111,
              "#46039f"
             ],
             [
              0.2222222222222222,
              "#7201a8"
             ],
             [
              0.3333333333333333,
              "#9c179e"
             ],
             [
              0.4444444444444444,
              "#bd3786"
             ],
             [
              0.5555555555555556,
              "#d8576b"
             ],
             [
              0.6666666666666666,
              "#ed7953"
             ],
             [
              0.7777777777777778,
              "#fb9f3a"
             ],
             [
              0.8888888888888888,
              "#fdca26"
             ],
             [
              1,
              "#f0f921"
             ]
            ],
            "type": "histogram2dcontour"
           }
          ],
          "mesh3d": [
           {
            "colorbar": {
             "outlinewidth": 0,
             "ticks": ""
            },
            "type": "mesh3d"
           }
          ],
          "parcoords": [
           {
            "line": {
             "colorbar": {
              "outlinewidth": 0,
              "ticks": ""
             }
            },
            "type": "parcoords"
           }
          ],
          "pie": [
           {
            "automargin": true,
            "type": "pie"
           }
          ],
          "scatter": [
           {
            "marker": {
             "colorbar": {
              "outlinewidth": 0,
              "ticks": ""
             }
            },
            "type": "scatter"
           }
          ],
          "scatter3d": [
           {
            "line": {
             "colorbar": {
              "outlinewidth": 0,
              "ticks": ""
             }
            },
            "marker": {
             "colorbar": {
              "outlinewidth": 0,
              "ticks": ""
             }
            },
            "type": "scatter3d"
           }
          ],
          "scattercarpet": [
           {
            "marker": {
             "colorbar": {
              "outlinewidth": 0,
              "ticks": ""
             }
            },
            "type": "scattercarpet"
           }
          ],
          "scattergeo": [
           {
            "marker": {
             "colorbar": {
              "outlinewidth": 0,
              "ticks": ""
             }
            },
            "type": "scattergeo"
           }
          ],
          "scattergl": [
           {
            "marker": {
             "colorbar": {
              "outlinewidth": 0,
              "ticks": ""
             }
            },
            "type": "scattergl"
           }
          ],
          "scattermapbox": [
           {
            "marker": {
             "colorbar": {
              "outlinewidth": 0,
              "ticks": ""
             }
            },
            "type": "scattermapbox"
           }
          ],
          "scatterpolar": [
           {
            "marker": {
             "colorbar": {
              "outlinewidth": 0,
              "ticks": ""
             }
            },
            "type": "scatterpolar"
           }
          ],
          "scatterpolargl": [
           {
            "marker": {
             "colorbar": {
              "outlinewidth": 0,
              "ticks": ""
             }
            },
            "type": "scatterpolargl"
           }
          ],
          "scatterternary": [
           {
            "marker": {
             "colorbar": {
              "outlinewidth": 0,
              "ticks": ""
             }
            },
            "type": "scatterternary"
           }
          ],
          "surface": [
           {
            "colorbar": {
             "outlinewidth": 0,
             "ticks": ""
            },
            "colorscale": [
             [
              0,
              "#0d0887"
             ],
             [
              0.1111111111111111,
              "#46039f"
             ],
             [
              0.2222222222222222,
              "#7201a8"
             ],
             [
              0.3333333333333333,
              "#9c179e"
             ],
             [
              0.4444444444444444,
              "#bd3786"
             ],
             [
              0.5555555555555556,
              "#d8576b"
             ],
             [
              0.6666666666666666,
              "#ed7953"
             ],
             [
              0.7777777777777778,
              "#fb9f3a"
             ],
             [
              0.8888888888888888,
              "#fdca26"
             ],
             [
              1,
              "#f0f921"
             ]
            ],
            "type": "surface"
           }
          ],
          "table": [
           {
            "cells": {
             "fill": {
              "color": "#EBF0F8"
             },
             "line": {
              "color": "white"
             }
            },
            "header": {
             "fill": {
              "color": "#C8D4E3"
             },
             "line": {
              "color": "white"
             }
            },
            "type": "table"
           }
          ]
         },
         "layout": {
          "annotationdefaults": {
           "arrowcolor": "#2a3f5f",
           "arrowhead": 0,
           "arrowwidth": 1
          },
          "coloraxis": {
           "colorbar": {
            "outlinewidth": 0,
            "ticks": ""
           }
          },
          "colorscale": {
           "diverging": [
            [
             0,
             "#8e0152"
            ],
            [
             0.1,
             "#c51b7d"
            ],
            [
             0.2,
             "#de77ae"
            ],
            [
             0.3,
             "#f1b6da"
            ],
            [
             0.4,
             "#fde0ef"
            ],
            [
             0.5,
             "#f7f7f7"
            ],
            [
             0.6,
             "#e6f5d0"
            ],
            [
             0.7,
             "#b8e186"
            ],
            [
             0.8,
             "#7fbc41"
            ],
            [
             0.9,
             "#4d9221"
            ],
            [
             1,
             "#276419"
            ]
           ],
           "sequential": [
            [
             0,
             "#0d0887"
            ],
            [
             0.1111111111111111,
             "#46039f"
            ],
            [
             0.2222222222222222,
             "#7201a8"
            ],
            [
             0.3333333333333333,
             "#9c179e"
            ],
            [
             0.4444444444444444,
             "#bd3786"
            ],
            [
             0.5555555555555556,
             "#d8576b"
            ],
            [
             0.6666666666666666,
             "#ed7953"
            ],
            [
             0.7777777777777778,
             "#fb9f3a"
            ],
            [
             0.8888888888888888,
             "#fdca26"
            ],
            [
             1,
             "#f0f921"
            ]
           ],
           "sequentialminus": [
            [
             0,
             "#0d0887"
            ],
            [
             0.1111111111111111,
             "#46039f"
            ],
            [
             0.2222222222222222,
             "#7201a8"
            ],
            [
             0.3333333333333333,
             "#9c179e"
            ],
            [
             0.4444444444444444,
             "#bd3786"
            ],
            [
             0.5555555555555556,
             "#d8576b"
            ],
            [
             0.6666666666666666,
             "#ed7953"
            ],
            [
             0.7777777777777778,
             "#fb9f3a"
            ],
            [
             0.8888888888888888,
             "#fdca26"
            ],
            [
             1,
             "#f0f921"
            ]
           ]
          },
          "colorway": [
           "#636efa",
           "#EF553B",
           "#00cc96",
           "#ab63fa",
           "#FFA15A",
           "#19d3f3",
           "#FF6692",
           "#B6E880",
           "#FF97FF",
           "#FECB52"
          ],
          "font": {
           "color": "#2a3f5f"
          },
          "geo": {
           "bgcolor": "white",
           "lakecolor": "white",
           "landcolor": "#E5ECF6",
           "showlakes": true,
           "showland": true,
           "subunitcolor": "white"
          },
          "hoverlabel": {
           "align": "left"
          },
          "hovermode": "closest",
          "mapbox": {
           "style": "light"
          },
          "paper_bgcolor": "white",
          "plot_bgcolor": "#E5ECF6",
          "polar": {
           "angularaxis": {
            "gridcolor": "white",
            "linecolor": "white",
            "ticks": ""
           },
           "bgcolor": "#E5ECF6",
           "radialaxis": {
            "gridcolor": "white",
            "linecolor": "white",
            "ticks": ""
           }
          },
          "scene": {
           "xaxis": {
            "backgroundcolor": "#E5ECF6",
            "gridcolor": "white",
            "gridwidth": 2,
            "linecolor": "white",
            "showbackground": true,
            "ticks": "",
            "zerolinecolor": "white"
           },
           "yaxis": {
            "backgroundcolor": "#E5ECF6",
            "gridcolor": "white",
            "gridwidth": 2,
            "linecolor": "white",
            "showbackground": true,
            "ticks": "",
            "zerolinecolor": "white"
           },
           "zaxis": {
            "backgroundcolor": "#E5ECF6",
            "gridcolor": "white",
            "gridwidth": 2,
            "linecolor": "white",
            "showbackground": true,
            "ticks": "",
            "zerolinecolor": "white"
           }
          },
          "shapedefaults": {
           "line": {
            "color": "#2a3f5f"
           }
          },
          "ternary": {
           "aaxis": {
            "gridcolor": "white",
            "linecolor": "white",
            "ticks": ""
           },
           "baxis": {
            "gridcolor": "white",
            "linecolor": "white",
            "ticks": ""
           },
           "bgcolor": "#E5ECF6",
           "caxis": {
            "gridcolor": "white",
            "linecolor": "white",
            "ticks": ""
           }
          },
          "title": {
           "x": 0.05
          },
          "xaxis": {
           "automargin": true,
           "gridcolor": "white",
           "linecolor": "white",
           "ticks": "",
           "title": {
            "standoff": 15
           },
           "zerolinecolor": "white",
           "zerolinewidth": 2
          },
          "yaxis": {
           "automargin": true,
           "gridcolor": "white",
           "linecolor": "white",
           "ticks": "",
           "title": {
            "standoff": 15
           },
           "zerolinecolor": "white",
           "zerolinewidth": 2
          }
         }
        },
        "title": {
         "font": {
          "color": "#4D5663"
         }
        },
        "xaxis": {
         "gridcolor": "#E1E5ED",
         "showgrid": true,
         "tickfont": {
          "color": "#4D5663"
         },
         "title": {
          "font": {
           "color": "#4D5663"
          },
          "text": ""
         },
         "zerolinecolor": "#E1E5ED"
        },
        "yaxis": {
         "gridcolor": "#E1E5ED",
         "showgrid": true,
         "tickfont": {
          "color": "#4D5663"
         },
         "title": {
          "font": {
           "color": "#4D5663"
          },
          "text": ""
         },
         "zerolinecolor": "#E1E5ED"
        }
       }
      },
      "text/html": "<div>\n        \n        \n            <div id=\"557c4402-5a80-4e6a-9e85-96a30f0ab8d6\" class=\"plotly-graph-div\" style=\"height:525px; width:100%;\"></div>\n            <script type=\"text/javascript\">\n                require([\"plotly\"], function(Plotly) {\n                    window.PLOTLYENV=window.PLOTLYENV || {};\n                    window.PLOTLYENV.BASE_URL='https://plot.ly';\n                    \n                if (document.getElementById(\"557c4402-5a80-4e6a-9e85-96a30f0ab8d6\")) {\n                    Plotly.newPlot(\n                        '557c4402-5a80-4e6a-9e85-96a30f0ab8d6',\n                        [{\"line\": {\"color\": \"rgba(255, 153, 51, 1.0)\", \"dash\": \"solid\", \"shape\": \"linear\", \"width\": 1.3}, \"marker\": {\"size\": 10, \"symbol\": \"circle\"}, \"mode\": \"markers\", \"name\": \"B\", \"text\": \"\", \"type\": \"scatter\", \"x\": [0.08154756008965315, 0.7294112196056034, -0.5954430102961661, 0.11392668617930163, 0.24501060951980624, 0.010534816638921151, 2.6364400057784594, 0.12297180125533486, -0.8405470416845079, 0.6503905079803126, 0.02672677148625623, 1.0390373819102718, 0.9133276526366109, 0.18141581073949015, 0.9104636520368209, -1.40892263236515, -0.31567975933388454, 2.4929469924755048, -0.4616394252856013, 0.048035937256642, 0.547119258096743, 0.3881502777279593, -0.6229558942782302, 0.1730967480960979, 1.158573553878103, 2.005769635483669, 0.0009764871350639321, 1.115750124492762, 0.7765290283003947, -0.15117506367172406, -1.084832578987809, 0.23376103148894553, -0.1821311071608296, 0.43465292198301053, -1.3718084383090414, -0.7065580490592018, 0.909913758991963, 0.6969810629188408, 1.0463714894729697, 0.6831279695180076, 0.24409792910146047, 1.433229901433797, -0.4058507832926155, -1.10187824116574, -0.8071314308373911, 0.8577612683913687, -1.0708370629080108, -0.9168997646164357, -2.1631333724515924, 0.13079043749727665, 0.3381626091783292, 0.15506303239424246, 0.7901778906730181, 0.9305057191246837, 0.099085161899565, -0.9169462506429646, 0.36951902680482057, 0.06925822193942366, -0.7198369642867564, -1.7245899453715674, -0.45008624430717875, 0.2967832703141231, -1.3377202043417142, 0.27493114755760784, 0.45941519480195747, -1.6291864606638882, -0.22070503253306045, 0.007709510068425308, 0.01768433879422398, -0.07079772944421962, -1.6679549393374373, -0.594619630454869, 1.0366407677017115, 0.2819081617296796, 1.3546788202799147, -0.07505679983163255, -0.9231210754582747, 0.6687394981273819, -0.5238978468910802, -0.8632332797156874, 0.4545244092944283, 1.1078297676122262, -0.44292004296577747, -0.9184911891684518, -0.00401103462367758, 0.09773503073679715, -0.8916894520145863, -2.170179314341021, -0.012113705461402155, 1.5340561179830172, -0.18585726925530954, -0.4131874227536773, -1.3631444791162253, 1.02004939629908, -0.9134507475058871, -0.32772598652099594, 0.34053976632380595, -0.2748575672954093, 0.8385945981431505, -1.1295338677638593], \"y\": [0.9239846501391048, 0.6953024520295731, 0.2916503621311321, -0.965919765688481, 0.17191954706583218, 0.7624116519905186, -0.6652284368098259, -0.4772016744650276, 0.7982642870613752, -0.3548888991782037, 0.6746554659039304, 0.17857352576234595, 2.054763084961261, -0.1509660537376362, -0.8650692283683096, 0.22136934835948605, -0.4345578354252637, -0.8941880991505339, 0.16429920246842383, 0.5039931460708144, 1.8607739043126235, -0.9196941311634963, 0.799503085141445, -1.4450435479215027, -0.6072544017417235, 0.49500505670127404, -0.2969998338332768, -0.16673200385647882, 0.303882295816272, 0.6744726043764007, 0.8362026045828959, -0.18002551045619974, -0.49870969915426255, -0.2873512773835932, 0.758343432345483, 0.4346064861801654, -0.31777292964171794, -0.10655199147282932, -1.235611158554504, 1.114378533758231, -1.2458539752494155, 0.7741141869892867, -2.061430139425667, 1.0090783960346168, -0.0035614682665801155, 1.2993259230256762, -1.4530859670521163, -0.5675395884441028, -0.3029557917594186, -0.8305521833670725, -0.5388610646465275, 0.11145956959528848, 0.6905566980694475, -0.6056110692747558, -0.960534196518318, -2.0885118049507394, 0.9041150734606206, 0.47995318291304495, -0.14548997263476554, 1.0524863440461119, -0.5611798616616022, -1.187334192251828, 0.39513785300405296, -1.3946753976310993, 0.24659571882049935, -0.2543266430056381, -0.5476933696255555, -0.28217802860274704, -0.5393215350313256, -0.8095377645697454, -1.8410594008385672, 0.405702434109728, 1.1937169003480823, 1.581909236767621, -1.9180940814652665, 1.2008090209574682, -0.8939329531465761, 0.8751629307055746, 0.29177545956713835, -0.9403895202828687, 1.2286191801145336, -1.1950136610294053, 0.8143533691093339, 2.099738473353832, 0.34499031718368306, -0.9010719850875789, 0.2397697728514549, 1.155092720172047, -0.5364473130500922, 0.4116350556286882, -0.5224746391063635, -0.6780665888992978, -0.4083440051678913, 1.6260859831944012, 0.7288485407412735, -1.1055630627568243, -1.4637814591932408, 0.008076970853890886, 0.5256062276641782, -1.6605193369448148]}],\n                        {\"legend\": {\"bgcolor\": \"#F5F6F9\", \"font\": {\"color\": \"#4D5663\"}}, \"paper_bgcolor\": \"#F5F6F9\", \"plot_bgcolor\": \"#F5F6F9\", \"template\": {\"data\": {\"bar\": [{\"error_x\": {\"color\": \"#2a3f5f\"}, \"error_y\": {\"color\": \"#2a3f5f\"}, \"marker\": {\"line\": {\"color\": \"#E5ECF6\", \"width\": 0.5}}, \"type\": \"bar\"}], \"barpolar\": [{\"marker\": {\"line\": {\"color\": \"#E5ECF6\", \"width\": 0.5}}, \"type\": \"barpolar\"}], \"carpet\": [{\"aaxis\": {\"endlinecolor\": \"#2a3f5f\", \"gridcolor\": \"white\", \"linecolor\": \"white\", \"minorgridcolor\": \"white\", \"startlinecolor\": \"#2a3f5f\"}, \"baxis\": {\"endlinecolor\": \"#2a3f5f\", \"gridcolor\": \"white\", \"linecolor\": \"white\", \"minorgridcolor\": \"white\", \"startlinecolor\": \"#2a3f5f\"}, \"type\": \"carpet\"}], \"choropleth\": [{\"colorbar\": {\"outlinewidth\": 0, \"ticks\": \"\"}, \"type\": \"choropleth\"}], \"contour\": [{\"colorbar\": {\"outlinewidth\": 0, \"ticks\": \"\"}, \"colorscale\": [[0.0, \"#0d0887\"], [0.1111111111111111, \"#46039f\"], [0.2222222222222222, \"#7201a8\"], [0.3333333333333333, \"#9c179e\"], [0.4444444444444444, \"#bd3786\"], [0.5555555555555556, \"#d8576b\"], [0.6666666666666666, \"#ed7953\"], [0.7777777777777778, \"#fb9f3a\"], [0.8888888888888888, \"#fdca26\"], [1.0, \"#f0f921\"]], \"type\": \"contour\"}], \"contourcarpet\": [{\"colorbar\": {\"outlinewidth\": 0, \"ticks\": \"\"}, \"type\": \"contourcarpet\"}], \"heatmap\": [{\"colorbar\": {\"outlinewidth\": 0, \"ticks\": \"\"}, \"colorscale\": [[0.0, \"#0d0887\"], [0.1111111111111111, \"#46039f\"], [0.2222222222222222, \"#7201a8\"], [0.3333333333333333, \"#9c179e\"], [0.4444444444444444, \"#bd3786\"], [0.5555555555555556, \"#d8576b\"], [0.6666666666666666, \"#ed7953\"], [0.7777777777777778, \"#fb9f3a\"], [0.8888888888888888, \"#fdca26\"], [1.0, \"#f0f921\"]], \"type\": \"heatmap\"}], \"heatmapgl\": [{\"colorbar\": {\"outlinewidth\": 0, \"ticks\": \"\"}, \"colorscale\": [[0.0, \"#0d0887\"], [0.1111111111111111, \"#46039f\"], [0.2222222222222222, \"#7201a8\"], [0.3333333333333333, \"#9c179e\"], [0.4444444444444444, \"#bd3786\"], [0.5555555555555556, \"#d8576b\"], [0.6666666666666666, \"#ed7953\"], [0.7777777777777778, \"#fb9f3a\"], [0.8888888888888888, \"#fdca26\"], [1.0, \"#f0f921\"]], \"type\": \"heatmapgl\"}], \"histogram\": [{\"marker\": {\"colorbar\": {\"outlinewidth\": 0, \"ticks\": \"\"}}, \"type\": \"histogram\"}], \"histogram2d\": [{\"colorbar\": {\"outlinewidth\": 0, \"ticks\": \"\"}, \"colorscale\": [[0.0, \"#0d0887\"], [0.1111111111111111, \"#46039f\"], [0.2222222222222222, \"#7201a8\"], [0.3333333333333333, \"#9c179e\"], [0.4444444444444444, \"#bd3786\"], [0.5555555555555556, \"#d8576b\"], [0.6666666666666666, \"#ed7953\"], [0.7777777777777778, \"#fb9f3a\"], [0.8888888888888888, \"#fdca26\"], [1.0, \"#f0f921\"]], \"type\": \"histogram2d\"}], \"histogram2dcontour\": [{\"colorbar\": {\"outlinewidth\": 0, \"ticks\": \"\"}, \"colorscale\": [[0.0, \"#0d0887\"], [0.1111111111111111, \"#46039f\"], [0.2222222222222222, \"#7201a8\"], [0.3333333333333333, \"#9c179e\"], [0.4444444444444444, \"#bd3786\"], [0.5555555555555556, \"#d8576b\"], [0.6666666666666666, \"#ed7953\"], [0.7777777777777778, \"#fb9f3a\"], [0.8888888888888888, \"#fdca26\"], [1.0, \"#f0f921\"]], \"type\": \"histogram2dcontour\"}], \"mesh3d\": [{\"colorbar\": {\"outlinewidth\": 0, \"ticks\": \"\"}, \"type\": \"mesh3d\"}], \"parcoords\": [{\"line\": {\"colorbar\": {\"outlinewidth\": 0, \"ticks\": \"\"}}, \"type\": \"parcoords\"}], \"pie\": [{\"automargin\": true, \"type\": \"pie\"}], \"scatter\": [{\"marker\": {\"colorbar\": {\"outlinewidth\": 0, \"ticks\": \"\"}}, \"type\": \"scatter\"}], \"scatter3d\": [{\"line\": {\"colorbar\": {\"outlinewidth\": 0, \"ticks\": \"\"}}, \"marker\": {\"colorbar\": {\"outlinewidth\": 0, \"ticks\": \"\"}}, \"type\": \"scatter3d\"}], \"scattercarpet\": [{\"marker\": {\"colorbar\": {\"outlinewidth\": 0, \"ticks\": \"\"}}, \"type\": \"scattercarpet\"}], \"scattergeo\": [{\"marker\": {\"colorbar\": {\"outlinewidth\": 0, \"ticks\": \"\"}}, \"type\": \"scattergeo\"}], \"scattergl\": [{\"marker\": {\"colorbar\": {\"outlinewidth\": 0, \"ticks\": \"\"}}, \"type\": \"scattergl\"}], \"scattermapbox\": [{\"marker\": {\"colorbar\": {\"outlinewidth\": 0, \"ticks\": \"\"}}, \"type\": \"scattermapbox\"}], \"scatterpolar\": [{\"marker\": {\"colorbar\": {\"outlinewidth\": 0, \"ticks\": \"\"}}, \"type\": \"scatterpolar\"}], \"scatterpolargl\": [{\"marker\": {\"colorbar\": {\"outlinewidth\": 0, \"ticks\": \"\"}}, \"type\": \"scatterpolargl\"}], \"scatterternary\": [{\"marker\": {\"colorbar\": {\"outlinewidth\": 0, \"ticks\": \"\"}}, \"type\": \"scatterternary\"}], \"surface\": [{\"colorbar\": {\"outlinewidth\": 0, \"ticks\": \"\"}, \"colorscale\": [[0.0, \"#0d0887\"], [0.1111111111111111, \"#46039f\"], [0.2222222222222222, \"#7201a8\"], [0.3333333333333333, \"#9c179e\"], [0.4444444444444444, \"#bd3786\"], [0.5555555555555556, \"#d8576b\"], [0.6666666666666666, \"#ed7953\"], [0.7777777777777778, \"#fb9f3a\"], [0.8888888888888888, \"#fdca26\"], [1.0, \"#f0f921\"]], \"type\": \"surface\"}], \"table\": [{\"cells\": {\"fill\": {\"color\": \"#EBF0F8\"}, \"line\": {\"color\": \"white\"}}, \"header\": {\"fill\": {\"color\": \"#C8D4E3\"}, \"line\": {\"color\": \"white\"}}, \"type\": \"table\"}]}, \"layout\": {\"annotationdefaults\": {\"arrowcolor\": \"#2a3f5f\", \"arrowhead\": 0, \"arrowwidth\": 1}, \"coloraxis\": {\"colorbar\": {\"outlinewidth\": 0, \"ticks\": \"\"}}, \"colorscale\": {\"diverging\": [[0, \"#8e0152\"], [0.1, \"#c51b7d\"], [0.2, \"#de77ae\"], [0.3, \"#f1b6da\"], [0.4, \"#fde0ef\"], [0.5, \"#f7f7f7\"], [0.6, \"#e6f5d0\"], [0.7, \"#b8e186\"], [0.8, \"#7fbc41\"], [0.9, \"#4d9221\"], [1, \"#276419\"]], \"sequential\": [[0.0, \"#0d0887\"], [0.1111111111111111, \"#46039f\"], [0.2222222222222222, \"#7201a8\"], [0.3333333333333333, \"#9c179e\"], [0.4444444444444444, \"#bd3786\"], [0.5555555555555556, \"#d8576b\"], [0.6666666666666666, \"#ed7953\"], [0.7777777777777778, \"#fb9f3a\"], [0.8888888888888888, \"#fdca26\"], [1.0, \"#f0f921\"]], \"sequentialminus\": [[0.0, \"#0d0887\"], [0.1111111111111111, \"#46039f\"], [0.2222222222222222, \"#7201a8\"], [0.3333333333333333, \"#9c179e\"], [0.4444444444444444, \"#bd3786\"], [0.5555555555555556, \"#d8576b\"], [0.6666666666666666, \"#ed7953\"], [0.7777777777777778, \"#fb9f3a\"], [0.8888888888888888, \"#fdca26\"], [1.0, \"#f0f921\"]]}, \"colorway\": [\"#636efa\", \"#EF553B\", \"#00cc96\", \"#ab63fa\", \"#FFA15A\", \"#19d3f3\", \"#FF6692\", \"#B6E880\", \"#FF97FF\", \"#FECB52\"], \"font\": {\"color\": \"#2a3f5f\"}, \"geo\": {\"bgcolor\": \"white\", \"lakecolor\": \"white\", \"landcolor\": \"#E5ECF6\", \"showlakes\": true, \"showland\": true, \"subunitcolor\": \"white\"}, \"hoverlabel\": {\"align\": \"left\"}, \"hovermode\": \"closest\", \"mapbox\": {\"style\": \"light\"}, \"paper_bgcolor\": \"white\", \"plot_bgcolor\": \"#E5ECF6\", \"polar\": {\"angularaxis\": {\"gridcolor\": \"white\", \"linecolor\": \"white\", \"ticks\": \"\"}, \"bgcolor\": \"#E5ECF6\", \"radialaxis\": {\"gridcolor\": \"white\", \"linecolor\": \"white\", \"ticks\": \"\"}}, \"scene\": {\"xaxis\": {\"backgroundcolor\": \"#E5ECF6\", \"gridcolor\": \"white\", \"gridwidth\": 2, \"linecolor\": \"white\", \"showbackground\": true, \"ticks\": \"\", \"zerolinecolor\": \"white\"}, \"yaxis\": {\"backgroundcolor\": \"#E5ECF6\", \"gridcolor\": \"white\", \"gridwidth\": 2, \"linecolor\": \"white\", \"showbackground\": true, \"ticks\": \"\", \"zerolinecolor\": \"white\"}, \"zaxis\": {\"backgroundcolor\": \"#E5ECF6\", \"gridcolor\": \"white\", \"gridwidth\": 2, \"linecolor\": \"white\", \"showbackground\": true, \"ticks\": \"\", \"zerolinecolor\": \"white\"}}, \"shapedefaults\": {\"line\": {\"color\": \"#2a3f5f\"}}, \"ternary\": {\"aaxis\": {\"gridcolor\": \"white\", \"linecolor\": \"white\", \"ticks\": \"\"}, \"baxis\": {\"gridcolor\": \"white\", \"linecolor\": \"white\", \"ticks\": \"\"}, \"bgcolor\": \"#E5ECF6\", \"caxis\": {\"gridcolor\": \"white\", \"linecolor\": \"white\", \"ticks\": \"\"}}, \"title\": {\"x\": 0.05}, \"xaxis\": {\"automargin\": true, \"gridcolor\": \"white\", \"linecolor\": \"white\", \"ticks\": \"\", \"title\": {\"standoff\": 15}, \"zerolinecolor\": \"white\", \"zerolinewidth\": 2}, \"yaxis\": {\"automargin\": true, \"gridcolor\": \"white\", \"linecolor\": \"white\", \"ticks\": \"\", \"title\": {\"standoff\": 15}, \"zerolinecolor\": \"white\", \"zerolinewidth\": 2}}}, \"title\": {\"font\": {\"color\": \"#4D5663\"}}, \"xaxis\": {\"gridcolor\": \"#E1E5ED\", \"showgrid\": true, \"tickfont\": {\"color\": \"#4D5663\"}, \"title\": {\"font\": {\"color\": \"#4D5663\"}, \"text\": \"\"}, \"zerolinecolor\": \"#E1E5ED\"}, \"yaxis\": {\"gridcolor\": \"#E1E5ED\", \"showgrid\": true, \"tickfont\": {\"color\": \"#4D5663\"}, \"title\": {\"font\": {\"color\": \"#4D5663\"}, \"text\": \"\"}, \"zerolinecolor\": \"#E1E5ED\"}},\n                        {\"showLink\": true, \"linkText\": \"Export to plot.ly\", \"plotlyServerURL\": \"https://plot.ly\", \"responsive\": true}\n                    ).then(function(){\n                            \nvar gd = document.getElementById('557c4402-5a80-4e6a-9e85-96a30f0ab8d6');\nvar x = new MutationObserver(function (mutations, observer) {{\n        var display = window.getComputedStyle(gd).display;\n        if (!display || display === 'none') {{\n            console.log([gd, 'removed!']);\n            Plotly.purge(gd);\n            observer.disconnect();\n        }}\n}});\n\n// Listen for the removal of the full notebook cells\nvar notebookContainer = gd.closest('#notebook-container');\nif (notebookContainer) {{\n    x.observe(notebookContainer, {childList: true});\n}}\n\n// Listen for the clearing of the current output cell\nvar outputEl = gd.closest('.output');\nif (outputEl) {{\n    x.observe(outputEl, {childList: true});\n}}\n\n                        })\n                };\n                });\n            </script>\n        </div>"
     },
     "metadata": {}
    }
   ],
   "source": [
    "df.iplot(kind='scatter',x='A',y='B',mode='markers',size=10)"
   ]
  },
  {
   "cell_type": "markdown",
   "metadata": {},
   "source": [
    "## Bar Plots"
   ]
  },
  {
   "cell_type": "code",
   "execution_count": 11,
   "metadata": {
    "collapsed": false
   },
   "outputs": [
    {
     "output_type": "display_data",
     "data": {
      "application/vnd.plotly.v1+json": {
       "config": {
        "linkText": "Export to plot.ly",
        "plotlyServerURL": "https://plot.ly",
        "showLink": true
       },
       "data": [
        {
         "marker": {
          "color": "rgba(255, 153, 51, 0.6)",
          "line": {
           "color": "rgba(255, 153, 51, 1.0)",
           "width": 1
          }
         },
         "name": "Values",
         "orientation": "v",
         "text": "",
         "type": "bar",
         "x": [
          "A",
          "B",
          "C"
         ],
         "y": [
          32,
          43,
          50
         ]
        }
       ],
       "layout": {
        "legend": {
         "bgcolor": "#F5F6F9",
         "font": {
          "color": "#4D5663"
         }
        },
        "paper_bgcolor": "#F5F6F9",
        "plot_bgcolor": "#F5F6F9",
        "template": {
         "data": {
          "bar": [
           {
            "error_x": {
             "color": "#2a3f5f"
            },
            "error_y": {
             "color": "#2a3f5f"
            },
            "marker": {
             "line": {
              "color": "#E5ECF6",
              "width": 0.5
             }
            },
            "type": "bar"
           }
          ],
          "barpolar": [
           {
            "marker": {
             "line": {
              "color": "#E5ECF6",
              "width": 0.5
             }
            },
            "type": "barpolar"
           }
          ],
          "carpet": [
           {
            "aaxis": {
             "endlinecolor": "#2a3f5f",
             "gridcolor": "white",
             "linecolor": "white",
             "minorgridcolor": "white",
             "startlinecolor": "#2a3f5f"
            },
            "baxis": {
             "endlinecolor": "#2a3f5f",
             "gridcolor": "white",
             "linecolor": "white",
             "minorgridcolor": "white",
             "startlinecolor": "#2a3f5f"
            },
            "type": "carpet"
           }
          ],
          "choropleth": [
           {
            "colorbar": {
             "outlinewidth": 0,
             "ticks": ""
            },
            "type": "choropleth"
           }
          ],
          "contour": [
           {
            "colorbar": {
             "outlinewidth": 0,
             "ticks": ""
            },
            "colorscale": [
             [
              0,
              "#0d0887"
             ],
             [
              0.1111111111111111,
              "#46039f"
             ],
             [
              0.2222222222222222,
              "#7201a8"
             ],
             [
              0.3333333333333333,
              "#9c179e"
             ],
             [
              0.4444444444444444,
              "#bd3786"
             ],
             [
              0.5555555555555556,
              "#d8576b"
             ],
             [
              0.6666666666666666,
              "#ed7953"
             ],
             [
              0.7777777777777778,
              "#fb9f3a"
             ],
             [
              0.8888888888888888,
              "#fdca26"
             ],
             [
              1,
              "#f0f921"
             ]
            ],
            "type": "contour"
           }
          ],
          "contourcarpet": [
           {
            "colorbar": {
             "outlinewidth": 0,
             "ticks": ""
            },
            "type": "contourcarpet"
           }
          ],
          "heatmap": [
           {
            "colorbar": {
             "outlinewidth": 0,
             "ticks": ""
            },
            "colorscale": [
             [
              0,
              "#0d0887"
             ],
             [
              0.1111111111111111,
              "#46039f"
             ],
             [
              0.2222222222222222,
              "#7201a8"
             ],
             [
              0.3333333333333333,
              "#9c179e"
             ],
             [
              0.4444444444444444,
              "#bd3786"
             ],
             [
              0.5555555555555556,
              "#d8576b"
             ],
             [
              0.6666666666666666,
              "#ed7953"
             ],
             [
              0.7777777777777778,
              "#fb9f3a"
             ],
             [
              0.8888888888888888,
              "#fdca26"
             ],
             [
              1,
              "#f0f921"
             ]
            ],
            "type": "heatmap"
           }
          ],
          "heatmapgl": [
           {
            "colorbar": {
             "outlinewidth": 0,
             "ticks": ""
            },
            "colorscale": [
             [
              0,
              "#0d0887"
             ],
             [
              0.1111111111111111,
              "#46039f"
             ],
             [
              0.2222222222222222,
              "#7201a8"
             ],
             [
              0.3333333333333333,
              "#9c179e"
             ],
             [
              0.4444444444444444,
              "#bd3786"
             ],
             [
              0.5555555555555556,
              "#d8576b"
             ],
             [
              0.6666666666666666,
              "#ed7953"
             ],
             [
              0.7777777777777778,
              "#fb9f3a"
             ],
             [
              0.8888888888888888,
              "#fdca26"
             ],
             [
              1,
              "#f0f921"
             ]
            ],
            "type": "heatmapgl"
           }
          ],
          "histogram": [
           {
            "marker": {
             "colorbar": {
              "outlinewidth": 0,
              "ticks": ""
             }
            },
            "type": "histogram"
           }
          ],
          "histogram2d": [
           {
            "colorbar": {
             "outlinewidth": 0,
             "ticks": ""
            },
            "colorscale": [
             [
              0,
              "#0d0887"
             ],
             [
              0.1111111111111111,
              "#46039f"
             ],
             [
              0.2222222222222222,
              "#7201a8"
             ],
             [
              0.3333333333333333,
              "#9c179e"
             ],
             [
              0.4444444444444444,
              "#bd3786"
             ],
             [
              0.5555555555555556,
              "#d8576b"
             ],
             [
              0.6666666666666666,
              "#ed7953"
             ],
             [
              0.7777777777777778,
              "#fb9f3a"
             ],
             [
              0.8888888888888888,
              "#fdca26"
             ],
             [
              1,
              "#f0f921"
             ]
            ],
            "type": "histogram2d"
           }
          ],
          "histogram2dcontour": [
           {
            "colorbar": {
             "outlinewidth": 0,
             "ticks": ""
            },
            "colorscale": [
             [
              0,
              "#0d0887"
             ],
             [
              0.1111111111111111,
              "#46039f"
             ],
             [
              0.2222222222222222,
              "#7201a8"
             ],
             [
              0.3333333333333333,
              "#9c179e"
             ],
             [
              0.4444444444444444,
              "#bd3786"
             ],
             [
              0.5555555555555556,
              "#d8576b"
             ],
             [
              0.6666666666666666,
              "#ed7953"
             ],
             [
              0.7777777777777778,
              "#fb9f3a"
             ],
             [
              0.8888888888888888,
              "#fdca26"
             ],
             [
              1,
              "#f0f921"
             ]
            ],
            "type": "histogram2dcontour"
           }
          ],
          "mesh3d": [
           {
            "colorbar": {
             "outlinewidth": 0,
             "ticks": ""
            },
            "type": "mesh3d"
           }
          ],
          "parcoords": [
           {
            "line": {
             "colorbar": {
              "outlinewidth": 0,
              "ticks": ""
             }
            },
            "type": "parcoords"
           }
          ],
          "pie": [
           {
            "automargin": true,
            "type": "pie"
           }
          ],
          "scatter": [
           {
            "marker": {
             "colorbar": {
              "outlinewidth": 0,
              "ticks": ""
             }
            },
            "type": "scatter"
           }
          ],
          "scatter3d": [
           {
            "line": {
             "colorbar": {
              "outlinewidth": 0,
              "ticks": ""
             }
            },
            "marker": {
             "colorbar": {
              "outlinewidth": 0,
              "ticks": ""
             }
            },
            "type": "scatter3d"
           }
          ],
          "scattercarpet": [
           {
            "marker": {
             "colorbar": {
              "outlinewidth": 0,
              "ticks": ""
             }
            },
            "type": "scattercarpet"
           }
          ],
          "scattergeo": [
           {
            "marker": {
             "colorbar": {
              "outlinewidth": 0,
              "ticks": ""
             }
            },
            "type": "scattergeo"
           }
          ],
          "scattergl": [
           {
            "marker": {
             "colorbar": {
              "outlinewidth": 0,
              "ticks": ""
             }
            },
            "type": "scattergl"
           }
          ],
          "scattermapbox": [
           {
            "marker": {
             "colorbar": {
              "outlinewidth": 0,
              "ticks": ""
             }
            },
            "type": "scattermapbox"
           }
          ],
          "scatterpolar": [
           {
            "marker": {
             "colorbar": {
              "outlinewidth": 0,
              "ticks": ""
             }
            },
            "type": "scatterpolar"
           }
          ],
          "scatterpolargl": [
           {
            "marker": {
             "colorbar": {
              "outlinewidth": 0,
              "ticks": ""
             }
            },
            "type": "scatterpolargl"
           }
          ],
          "scatterternary": [
           {
            "marker": {
             "colorbar": {
              "outlinewidth": 0,
              "ticks": ""
             }
            },
            "type": "scatterternary"
           }
          ],
          "surface": [
           {
            "colorbar": {
             "outlinewidth": 0,
             "ticks": ""
            },
            "colorscale": [
             [
              0,
              "#0d0887"
             ],
             [
              0.1111111111111111,
              "#46039f"
             ],
             [
              0.2222222222222222,
              "#7201a8"
             ],
             [
              0.3333333333333333,
              "#9c179e"
             ],
             [
              0.4444444444444444,
              "#bd3786"
             ],
             [
              0.5555555555555556,
              "#d8576b"
             ],
             [
              0.6666666666666666,
              "#ed7953"
             ],
             [
              0.7777777777777778,
              "#fb9f3a"
             ],
             [
              0.8888888888888888,
              "#fdca26"
             ],
             [
              1,
              "#f0f921"
             ]
            ],
            "type": "surface"
           }
          ],
          "table": [
           {
            "cells": {
             "fill": {
              "color": "#EBF0F8"
             },
             "line": {
              "color": "white"
             }
            },
            "header": {
             "fill": {
              "color": "#C8D4E3"
             },
             "line": {
              "color": "white"
             }
            },
            "type": "table"
           }
          ]
         },
         "layout": {
          "annotationdefaults": {
           "arrowcolor": "#2a3f5f",
           "arrowhead": 0,
           "arrowwidth": 1
          },
          "coloraxis": {
           "colorbar": {
            "outlinewidth": 0,
            "ticks": ""
           }
          },
          "colorscale": {
           "diverging": [
            [
             0,
             "#8e0152"
            ],
            [
             0.1,
             "#c51b7d"
            ],
            [
             0.2,
             "#de77ae"
            ],
            [
             0.3,
             "#f1b6da"
            ],
            [
             0.4,
             "#fde0ef"
            ],
            [
             0.5,
             "#f7f7f7"
            ],
            [
             0.6,
             "#e6f5d0"
            ],
            [
             0.7,
             "#b8e186"
            ],
            [
             0.8,
             "#7fbc41"
            ],
            [
             0.9,
             "#4d9221"
            ],
            [
             1,
             "#276419"
            ]
           ],
           "sequential": [
            [
             0,
             "#0d0887"
            ],
            [
             0.1111111111111111,
             "#46039f"
            ],
            [
             0.2222222222222222,
             "#7201a8"
            ],
            [
             0.3333333333333333,
             "#9c179e"
            ],
            [
             0.4444444444444444,
             "#bd3786"
            ],
            [
             0.5555555555555556,
             "#d8576b"
            ],
            [
             0.6666666666666666,
             "#ed7953"
            ],
            [
             0.7777777777777778,
             "#fb9f3a"
            ],
            [
             0.8888888888888888,
             "#fdca26"
            ],
            [
             1,
             "#f0f921"
            ]
           ],
           "sequentialminus": [
            [
             0,
             "#0d0887"
            ],
            [
             0.1111111111111111,
             "#46039f"
            ],
            [
             0.2222222222222222,
             "#7201a8"
            ],
            [
             0.3333333333333333,
             "#9c179e"
            ],
            [
             0.4444444444444444,
             "#bd3786"
            ],
            [
             0.5555555555555556,
             "#d8576b"
            ],
            [
             0.6666666666666666,
             "#ed7953"
            ],
            [
             0.7777777777777778,
             "#fb9f3a"
            ],
            [
             0.8888888888888888,
             "#fdca26"
            ],
            [
             1,
             "#f0f921"
            ]
           ]
          },
          "colorway": [
           "#636efa",
           "#EF553B",
           "#00cc96",
           "#ab63fa",
           "#FFA15A",
           "#19d3f3",
           "#FF6692",
           "#B6E880",
           "#FF97FF",
           "#FECB52"
          ],
          "font": {
           "color": "#2a3f5f"
          },
          "geo": {
           "bgcolor": "white",
           "lakecolor": "white",
           "landcolor": "#E5ECF6",
           "showlakes": true,
           "showland": true,
           "subunitcolor": "white"
          },
          "hoverlabel": {
           "align": "left"
          },
          "hovermode": "closest",
          "mapbox": {
           "style": "light"
          },
          "paper_bgcolor": "white",
          "plot_bgcolor": "#E5ECF6",
          "polar": {
           "angularaxis": {
            "gridcolor": "white",
            "linecolor": "white",
            "ticks": ""
           },
           "bgcolor": "#E5ECF6",
           "radialaxis": {
            "gridcolor": "white",
            "linecolor": "white",
            "ticks": ""
           }
          },
          "scene": {
           "xaxis": {
            "backgroundcolor": "#E5ECF6",
            "gridcolor": "white",
            "gridwidth": 2,
            "linecolor": "white",
            "showbackground": true,
            "ticks": "",
            "zerolinecolor": "white"
           },
           "yaxis": {
            "backgroundcolor": "#E5ECF6",
            "gridcolor": "white",
            "gridwidth": 2,
            "linecolor": "white",
            "showbackground": true,
            "ticks": "",
            "zerolinecolor": "white"
           },
           "zaxis": {
            "backgroundcolor": "#E5ECF6",
            "gridcolor": "white",
            "gridwidth": 2,
            "linecolor": "white",
            "showbackground": true,
            "ticks": "",
            "zerolinecolor": "white"
           }
          },
          "shapedefaults": {
           "line": {
            "color": "#2a3f5f"
           }
          },
          "ternary": {
           "aaxis": {
            "gridcolor": "white",
            "linecolor": "white",
            "ticks": ""
           },
           "baxis": {
            "gridcolor": "white",
            "linecolor": "white",
            "ticks": ""
           },
           "bgcolor": "#E5ECF6",
           "caxis": {
            "gridcolor": "white",
            "linecolor": "white",
            "ticks": ""
           }
          },
          "title": {
           "x": 0.05
          },
          "xaxis": {
           "automargin": true,
           "gridcolor": "white",
           "linecolor": "white",
           "ticks": "",
           "title": {
            "standoff": 15
           },
           "zerolinecolor": "white",
           "zerolinewidth": 2
          },
          "yaxis": {
           "automargin": true,
           "gridcolor": "white",
           "linecolor": "white",
           "ticks": "",
           "title": {
            "standoff": 15
           },
           "zerolinecolor": "white",
           "zerolinewidth": 2
          }
         }
        },
        "title": {
         "font": {
          "color": "#4D5663"
         }
        },
        "xaxis": {
         "gridcolor": "#E1E5ED",
         "showgrid": true,
         "tickfont": {
          "color": "#4D5663"
         },
         "title": {
          "font": {
           "color": "#4D5663"
          },
          "text": ""
         },
         "zerolinecolor": "#E1E5ED"
        },
        "yaxis": {
         "gridcolor": "#E1E5ED",
         "showgrid": true,
         "tickfont": {
          "color": "#4D5663"
         },
         "title": {
          "font": {
           "color": "#4D5663"
          },
          "text": ""
         },
         "zerolinecolor": "#E1E5ED"
        }
       }
      },
      "text/html": "<div>\n        \n        \n            <div id=\"fabded2f-42d9-4d32-bd56-eabf09f66643\" class=\"plotly-graph-div\" style=\"height:525px; width:100%;\"></div>\n            <script type=\"text/javascript\">\n                require([\"plotly\"], function(Plotly) {\n                    window.PLOTLYENV=window.PLOTLYENV || {};\n                    window.PLOTLYENV.BASE_URL='https://plot.ly';\n                    \n                if (document.getElementById(\"fabded2f-42d9-4d32-bd56-eabf09f66643\")) {\n                    Plotly.newPlot(\n                        'fabded2f-42d9-4d32-bd56-eabf09f66643',\n                        [{\"marker\": {\"color\": \"rgba(255, 153, 51, 0.6)\", \"line\": {\"color\": \"rgba(255, 153, 51, 1.0)\", \"width\": 1}}, \"name\": \"Values\", \"orientation\": \"v\", \"text\": \"\", \"type\": \"bar\", \"x\": [\"A\", \"B\", \"C\"], \"y\": [32, 43, 50]}],\n                        {\"legend\": {\"bgcolor\": \"#F5F6F9\", \"font\": {\"color\": \"#4D5663\"}}, \"paper_bgcolor\": \"#F5F6F9\", \"plot_bgcolor\": \"#F5F6F9\", \"template\": {\"data\": {\"bar\": [{\"error_x\": {\"color\": \"#2a3f5f\"}, \"error_y\": {\"color\": \"#2a3f5f\"}, \"marker\": {\"line\": {\"color\": \"#E5ECF6\", \"width\": 0.5}}, \"type\": \"bar\"}], \"barpolar\": [{\"marker\": {\"line\": {\"color\": \"#E5ECF6\", \"width\": 0.5}}, \"type\": \"barpolar\"}], \"carpet\": [{\"aaxis\": {\"endlinecolor\": \"#2a3f5f\", \"gridcolor\": \"white\", \"linecolor\": \"white\", \"minorgridcolor\": \"white\", \"startlinecolor\": \"#2a3f5f\"}, \"baxis\": {\"endlinecolor\": \"#2a3f5f\", \"gridcolor\": \"white\", \"linecolor\": \"white\", \"minorgridcolor\": \"white\", \"startlinecolor\": \"#2a3f5f\"}, \"type\": \"carpet\"}], \"choropleth\": [{\"colorbar\": {\"outlinewidth\": 0, \"ticks\": \"\"}, \"type\": \"choropleth\"}], \"contour\": [{\"colorbar\": {\"outlinewidth\": 0, \"ticks\": \"\"}, \"colorscale\": [[0.0, \"#0d0887\"], [0.1111111111111111, \"#46039f\"], [0.2222222222222222, \"#7201a8\"], [0.3333333333333333, \"#9c179e\"], [0.4444444444444444, \"#bd3786\"], [0.5555555555555556, \"#d8576b\"], [0.6666666666666666, \"#ed7953\"], [0.7777777777777778, \"#fb9f3a\"], [0.8888888888888888, \"#fdca26\"], [1.0, \"#f0f921\"]], \"type\": \"contour\"}], \"contourcarpet\": [{\"colorbar\": {\"outlinewidth\": 0, \"ticks\": \"\"}, \"type\": \"contourcarpet\"}], \"heatmap\": [{\"colorbar\": {\"outlinewidth\": 0, \"ticks\": \"\"}, \"colorscale\": [[0.0, \"#0d0887\"], [0.1111111111111111, \"#46039f\"], [0.2222222222222222, \"#7201a8\"], [0.3333333333333333, \"#9c179e\"], [0.4444444444444444, \"#bd3786\"], [0.5555555555555556, \"#d8576b\"], [0.6666666666666666, \"#ed7953\"], [0.7777777777777778, \"#fb9f3a\"], [0.8888888888888888, \"#fdca26\"], [1.0, \"#f0f921\"]], \"type\": \"heatmap\"}], \"heatmapgl\": [{\"colorbar\": {\"outlinewidth\": 0, \"ticks\": \"\"}, \"colorscale\": [[0.0, \"#0d0887\"], [0.1111111111111111, \"#46039f\"], [0.2222222222222222, \"#7201a8\"], [0.3333333333333333, \"#9c179e\"], [0.4444444444444444, \"#bd3786\"], [0.5555555555555556, \"#d8576b\"], [0.6666666666666666, \"#ed7953\"], [0.7777777777777778, \"#fb9f3a\"], [0.8888888888888888, \"#fdca26\"], [1.0, \"#f0f921\"]], \"type\": \"heatmapgl\"}], \"histogram\": [{\"marker\": {\"colorbar\": {\"outlinewidth\": 0, \"ticks\": \"\"}}, \"type\": \"histogram\"}], \"histogram2d\": [{\"colorbar\": {\"outlinewidth\": 0, \"ticks\": \"\"}, \"colorscale\": [[0.0, \"#0d0887\"], [0.1111111111111111, \"#46039f\"], [0.2222222222222222, \"#7201a8\"], [0.3333333333333333, \"#9c179e\"], [0.4444444444444444, \"#bd3786\"], [0.5555555555555556, \"#d8576b\"], [0.6666666666666666, \"#ed7953\"], [0.7777777777777778, \"#fb9f3a\"], [0.8888888888888888, \"#fdca26\"], [1.0, \"#f0f921\"]], \"type\": \"histogram2d\"}], \"histogram2dcontour\": [{\"colorbar\": {\"outlinewidth\": 0, \"ticks\": \"\"}, \"colorscale\": [[0.0, \"#0d0887\"], [0.1111111111111111, \"#46039f\"], [0.2222222222222222, \"#7201a8\"], [0.3333333333333333, \"#9c179e\"], [0.4444444444444444, \"#bd3786\"], [0.5555555555555556, \"#d8576b\"], [0.6666666666666666, \"#ed7953\"], [0.7777777777777778, \"#fb9f3a\"], [0.8888888888888888, \"#fdca26\"], [1.0, \"#f0f921\"]], \"type\": \"histogram2dcontour\"}], \"mesh3d\": [{\"colorbar\": {\"outlinewidth\": 0, \"ticks\": \"\"}, \"type\": \"mesh3d\"}], \"parcoords\": [{\"line\": {\"colorbar\": {\"outlinewidth\": 0, \"ticks\": \"\"}}, \"type\": \"parcoords\"}], \"pie\": [{\"automargin\": true, \"type\": \"pie\"}], \"scatter\": [{\"marker\": {\"colorbar\": {\"outlinewidth\": 0, \"ticks\": \"\"}}, \"type\": \"scatter\"}], \"scatter3d\": [{\"line\": {\"colorbar\": {\"outlinewidth\": 0, \"ticks\": \"\"}}, \"marker\": {\"colorbar\": {\"outlinewidth\": 0, \"ticks\": \"\"}}, \"type\": \"scatter3d\"}], \"scattercarpet\": [{\"marker\": {\"colorbar\": {\"outlinewidth\": 0, \"ticks\": \"\"}}, \"type\": \"scattercarpet\"}], \"scattergeo\": [{\"marker\": {\"colorbar\": {\"outlinewidth\": 0, \"ticks\": \"\"}}, \"type\": \"scattergeo\"}], \"scattergl\": [{\"marker\": {\"colorbar\": {\"outlinewidth\": 0, \"ticks\": \"\"}}, \"type\": \"scattergl\"}], \"scattermapbox\": [{\"marker\": {\"colorbar\": {\"outlinewidth\": 0, \"ticks\": \"\"}}, \"type\": \"scattermapbox\"}], \"scatterpolar\": [{\"marker\": {\"colorbar\": {\"outlinewidth\": 0, \"ticks\": \"\"}}, \"type\": \"scatterpolar\"}], \"scatterpolargl\": [{\"marker\": {\"colorbar\": {\"outlinewidth\": 0, \"ticks\": \"\"}}, \"type\": \"scatterpolargl\"}], \"scatterternary\": [{\"marker\": {\"colorbar\": {\"outlinewidth\": 0, \"ticks\": \"\"}}, \"type\": \"scatterternary\"}], \"surface\": [{\"colorbar\": {\"outlinewidth\": 0, \"ticks\": \"\"}, \"colorscale\": [[0.0, \"#0d0887\"], [0.1111111111111111, \"#46039f\"], [0.2222222222222222, \"#7201a8\"], [0.3333333333333333, \"#9c179e\"], [0.4444444444444444, \"#bd3786\"], [0.5555555555555556, \"#d8576b\"], [0.6666666666666666, \"#ed7953\"], [0.7777777777777778, \"#fb9f3a\"], [0.8888888888888888, \"#fdca26\"], [1.0, \"#f0f921\"]], \"type\": \"surface\"}], \"table\": [{\"cells\": {\"fill\": {\"color\": \"#EBF0F8\"}, \"line\": {\"color\": \"white\"}}, \"header\": {\"fill\": {\"color\": \"#C8D4E3\"}, \"line\": {\"color\": \"white\"}}, \"type\": \"table\"}]}, \"layout\": {\"annotationdefaults\": {\"arrowcolor\": \"#2a3f5f\", \"arrowhead\": 0, \"arrowwidth\": 1}, \"coloraxis\": {\"colorbar\": {\"outlinewidth\": 0, \"ticks\": \"\"}}, \"colorscale\": {\"diverging\": [[0, \"#8e0152\"], [0.1, \"#c51b7d\"], [0.2, \"#de77ae\"], [0.3, \"#f1b6da\"], [0.4, \"#fde0ef\"], [0.5, \"#f7f7f7\"], [0.6, \"#e6f5d0\"], [0.7, \"#b8e186\"], [0.8, \"#7fbc41\"], [0.9, \"#4d9221\"], [1, \"#276419\"]], \"sequential\": [[0.0, \"#0d0887\"], [0.1111111111111111, \"#46039f\"], [0.2222222222222222, \"#7201a8\"], [0.3333333333333333, \"#9c179e\"], [0.4444444444444444, \"#bd3786\"], [0.5555555555555556, \"#d8576b\"], [0.6666666666666666, \"#ed7953\"], [0.7777777777777778, \"#fb9f3a\"], [0.8888888888888888, \"#fdca26\"], [1.0, \"#f0f921\"]], \"sequentialminus\": [[0.0, \"#0d0887\"], [0.1111111111111111, \"#46039f\"], [0.2222222222222222, \"#7201a8\"], [0.3333333333333333, \"#9c179e\"], [0.4444444444444444, \"#bd3786\"], [0.5555555555555556, \"#d8576b\"], [0.6666666666666666, \"#ed7953\"], [0.7777777777777778, \"#fb9f3a\"], [0.8888888888888888, \"#fdca26\"], [1.0, \"#f0f921\"]]}, \"colorway\": [\"#636efa\", \"#EF553B\", \"#00cc96\", \"#ab63fa\", \"#FFA15A\", \"#19d3f3\", \"#FF6692\", \"#B6E880\", \"#FF97FF\", \"#FECB52\"], \"font\": {\"color\": \"#2a3f5f\"}, \"geo\": {\"bgcolor\": \"white\", \"lakecolor\": \"white\", \"landcolor\": \"#E5ECF6\", \"showlakes\": true, \"showland\": true, \"subunitcolor\": \"white\"}, \"hoverlabel\": {\"align\": \"left\"}, \"hovermode\": \"closest\", \"mapbox\": {\"style\": \"light\"}, \"paper_bgcolor\": \"white\", \"plot_bgcolor\": \"#E5ECF6\", \"polar\": {\"angularaxis\": {\"gridcolor\": \"white\", \"linecolor\": \"white\", \"ticks\": \"\"}, \"bgcolor\": \"#E5ECF6\", \"radialaxis\": {\"gridcolor\": \"white\", \"linecolor\": \"white\", \"ticks\": \"\"}}, \"scene\": {\"xaxis\": {\"backgroundcolor\": \"#E5ECF6\", \"gridcolor\": \"white\", \"gridwidth\": 2, \"linecolor\": \"white\", \"showbackground\": true, \"ticks\": \"\", \"zerolinecolor\": \"white\"}, \"yaxis\": {\"backgroundcolor\": \"#E5ECF6\", \"gridcolor\": \"white\", \"gridwidth\": 2, \"linecolor\": \"white\", \"showbackground\": true, \"ticks\": \"\", \"zerolinecolor\": \"white\"}, \"zaxis\": {\"backgroundcolor\": \"#E5ECF6\", \"gridcolor\": \"white\", \"gridwidth\": 2, \"linecolor\": \"white\", \"showbackground\": true, \"ticks\": \"\", \"zerolinecolor\": \"white\"}}, \"shapedefaults\": {\"line\": {\"color\": \"#2a3f5f\"}}, \"ternary\": {\"aaxis\": {\"gridcolor\": \"white\", \"linecolor\": \"white\", \"ticks\": \"\"}, \"baxis\": {\"gridcolor\": \"white\", \"linecolor\": \"white\", \"ticks\": \"\"}, \"bgcolor\": \"#E5ECF6\", \"caxis\": {\"gridcolor\": \"white\", \"linecolor\": \"white\", \"ticks\": \"\"}}, \"title\": {\"x\": 0.05}, \"xaxis\": {\"automargin\": true, \"gridcolor\": \"white\", \"linecolor\": \"white\", \"ticks\": \"\", \"title\": {\"standoff\": 15}, \"zerolinecolor\": \"white\", \"zerolinewidth\": 2}, \"yaxis\": {\"automargin\": true, \"gridcolor\": \"white\", \"linecolor\": \"white\", \"ticks\": \"\", \"title\": {\"standoff\": 15}, \"zerolinecolor\": \"white\", \"zerolinewidth\": 2}}}, \"title\": {\"font\": {\"color\": \"#4D5663\"}}, \"xaxis\": {\"gridcolor\": \"#E1E5ED\", \"showgrid\": true, \"tickfont\": {\"color\": \"#4D5663\"}, \"title\": {\"font\": {\"color\": \"#4D5663\"}, \"text\": \"\"}, \"zerolinecolor\": \"#E1E5ED\"}, \"yaxis\": {\"gridcolor\": \"#E1E5ED\", \"showgrid\": true, \"tickfont\": {\"color\": \"#4D5663\"}, \"title\": {\"font\": {\"color\": \"#4D5663\"}, \"text\": \"\"}, \"zerolinecolor\": \"#E1E5ED\"}},\n                        {\"showLink\": true, \"linkText\": \"Export to plot.ly\", \"plotlyServerURL\": \"https://plot.ly\", \"responsive\": true}\n                    ).then(function(){\n                            \nvar gd = document.getElementById('fabded2f-42d9-4d32-bd56-eabf09f66643');\nvar x = new MutationObserver(function (mutations, observer) {{\n        var display = window.getComputedStyle(gd).display;\n        if (!display || display === 'none') {{\n            console.log([gd, 'removed!']);\n            Plotly.purge(gd);\n            observer.disconnect();\n        }}\n}});\n\n// Listen for the removal of the full notebook cells\nvar notebookContainer = gd.closest('#notebook-container');\nif (notebookContainer) {{\n    x.observe(notebookContainer, {childList: true});\n}}\n\n// Listen for the clearing of the current output cell\nvar outputEl = gd.closest('.output');\nif (outputEl) {{\n    x.observe(outputEl, {childList: true});\n}}\n\n                        })\n                };\n                });\n            </script>\n        </div>"
     },
     "metadata": {}
    }
   ],
   "source": [
    "df2.iplot(kind='bar',x='Category',y='Values')"
   ]
  },
  {
   "cell_type": "code",
   "execution_count": 12,
   "metadata": {
    "collapsed": false
   },
   "outputs": [
    {
     "output_type": "display_data",
     "data": {
      "application/vnd.plotly.v1+json": {
       "config": {
        "linkText": "Export to plot.ly",
        "plotlyServerURL": "https://plot.ly",
        "showLink": true
       },
       "data": [
        {
         "marker": {
          "color": "rgba(255, 153, 51, 0.6)",
          "line": {
           "color": "rgba(255, 153, 51, 1.0)",
           "width": 1
          }
         },
         "name": "None",
         "orientation": "v",
         "text": "",
         "type": "bar",
         "x": [
          "A",
          "B",
          "C",
          "D"
         ],
         "y": [
          100,
          100,
          100,
          100
         ]
        }
       ],
       "layout": {
        "legend": {
         "bgcolor": "#F5F6F9",
         "font": {
          "color": "#4D5663"
         }
        },
        "paper_bgcolor": "#F5F6F9",
        "plot_bgcolor": "#F5F6F9",
        "template": {
         "data": {
          "bar": [
           {
            "error_x": {
             "color": "#2a3f5f"
            },
            "error_y": {
             "color": "#2a3f5f"
            },
            "marker": {
             "line": {
              "color": "#E5ECF6",
              "width": 0.5
             }
            },
            "type": "bar"
           }
          ],
          "barpolar": [
           {
            "marker": {
             "line": {
              "color": "#E5ECF6",
              "width": 0.5
             }
            },
            "type": "barpolar"
           }
          ],
          "carpet": [
           {
            "aaxis": {
             "endlinecolor": "#2a3f5f",
             "gridcolor": "white",
             "linecolor": "white",
             "minorgridcolor": "white",
             "startlinecolor": "#2a3f5f"
            },
            "baxis": {
             "endlinecolor": "#2a3f5f",
             "gridcolor": "white",
             "linecolor": "white",
             "minorgridcolor": "white",
             "startlinecolor": "#2a3f5f"
            },
            "type": "carpet"
           }
          ],
          "choropleth": [
           {
            "colorbar": {
             "outlinewidth": 0,
             "ticks": ""
            },
            "type": "choropleth"
           }
          ],
          "contour": [
           {
            "colorbar": {
             "outlinewidth": 0,
             "ticks": ""
            },
            "colorscale": [
             [
              0,
              "#0d0887"
             ],
             [
              0.1111111111111111,
              "#46039f"
             ],
             [
              0.2222222222222222,
              "#7201a8"
             ],
             [
              0.3333333333333333,
              "#9c179e"
             ],
             [
              0.4444444444444444,
              "#bd3786"
             ],
             [
              0.5555555555555556,
              "#d8576b"
             ],
             [
              0.6666666666666666,
              "#ed7953"
             ],
             [
              0.7777777777777778,
              "#fb9f3a"
             ],
             [
              0.8888888888888888,
              "#fdca26"
             ],
             [
              1,
              "#f0f921"
             ]
            ],
            "type": "contour"
           }
          ],
          "contourcarpet": [
           {
            "colorbar": {
             "outlinewidth": 0,
             "ticks": ""
            },
            "type": "contourcarpet"
           }
          ],
          "heatmap": [
           {
            "colorbar": {
             "outlinewidth": 0,
             "ticks": ""
            },
            "colorscale": [
             [
              0,
              "#0d0887"
             ],
             [
              0.1111111111111111,
              "#46039f"
             ],
             [
              0.2222222222222222,
              "#7201a8"
             ],
             [
              0.3333333333333333,
              "#9c179e"
             ],
             [
              0.4444444444444444,
              "#bd3786"
             ],
             [
              0.5555555555555556,
              "#d8576b"
             ],
             [
              0.6666666666666666,
              "#ed7953"
             ],
             [
              0.7777777777777778,
              "#fb9f3a"
             ],
             [
              0.8888888888888888,
              "#fdca26"
             ],
             [
              1,
              "#f0f921"
             ]
            ],
            "type": "heatmap"
           }
          ],
          "heatmapgl": [
           {
            "colorbar": {
             "outlinewidth": 0,
             "ticks": ""
            },
            "colorscale": [
             [
              0,
              "#0d0887"
             ],
             [
              0.1111111111111111,
              "#46039f"
             ],
             [
              0.2222222222222222,
              "#7201a8"
             ],
             [
              0.3333333333333333,
              "#9c179e"
             ],
             [
              0.4444444444444444,
              "#bd3786"
             ],
             [
              0.5555555555555556,
              "#d8576b"
             ],
             [
              0.6666666666666666,
              "#ed7953"
             ],
             [
              0.7777777777777778,
              "#fb9f3a"
             ],
             [
              0.8888888888888888,
              "#fdca26"
             ],
             [
              1,
              "#f0f921"
             ]
            ],
            "type": "heatmapgl"
           }
          ],
          "histogram": [
           {
            "marker": {
             "colorbar": {
              "outlinewidth": 0,
              "ticks": ""
             }
            },
            "type": "histogram"
           }
          ],
          "histogram2d": [
           {
            "colorbar": {
             "outlinewidth": 0,
             "ticks": ""
            },
            "colorscale": [
             [
              0,
              "#0d0887"
             ],
             [
              0.1111111111111111,
              "#46039f"
             ],
             [
              0.2222222222222222,
              "#7201a8"
             ],
             [
              0.3333333333333333,
              "#9c179e"
             ],
             [
              0.4444444444444444,
              "#bd3786"
             ],
             [
              0.5555555555555556,
              "#d8576b"
             ],
             [
              0.6666666666666666,
              "#ed7953"
             ],
             [
              0.7777777777777778,
              "#fb9f3a"
             ],
             [
              0.8888888888888888,
              "#fdca26"
             ],
             [
              1,
              "#f0f921"
             ]
            ],
            "type": "histogram2d"
           }
          ],
          "histogram2dcontour": [
           {
            "colorbar": {
             "outlinewidth": 0,
             "ticks": ""
            },
            "colorscale": [
             [
              0,
              "#0d0887"
             ],
             [
              0.1111111111111111,
              "#46039f"
             ],
             [
              0.2222222222222222,
              "#7201a8"
             ],
             [
              0.3333333333333333,
              "#9c179e"
             ],
             [
              0.4444444444444444,
              "#bd3786"
             ],
             [
              0.5555555555555556,
              "#d8576b"
             ],
             [
              0.6666666666666666,
              "#ed7953"
             ],
             [
              0.7777777777777778,
              "#fb9f3a"
             ],
             [
              0.8888888888888888,
              "#fdca26"
             ],
             [
              1,
              "#f0f921"
             ]
            ],
            "type": "histogram2dcontour"
           }
          ],
          "mesh3d": [
           {
            "colorbar": {
             "outlinewidth": 0,
             "ticks": ""
            },
            "type": "mesh3d"
           }
          ],
          "parcoords": [
           {
            "line": {
             "colorbar": {
              "outlinewidth": 0,
              "ticks": ""
             }
            },
            "type": "parcoords"
           }
          ],
          "pie": [
           {
            "automargin": true,
            "type": "pie"
           }
          ],
          "scatter": [
           {
            "marker": {
             "colorbar": {
              "outlinewidth": 0,
              "ticks": ""
             }
            },
            "type": "scatter"
           }
          ],
          "scatter3d": [
           {
            "line": {
             "colorbar": {
              "outlinewidth": 0,
              "ticks": ""
             }
            },
            "marker": {
             "colorbar": {
              "outlinewidth": 0,
              "ticks": ""
             }
            },
            "type": "scatter3d"
           }
          ],
          "scattercarpet": [
           {
            "marker": {
             "colorbar": {
              "outlinewidth": 0,
              "ticks": ""
             }
            },
            "type": "scattercarpet"
           }
          ],
          "scattergeo": [
           {
            "marker": {
             "colorbar": {
              "outlinewidth": 0,
              "ticks": ""
             }
            },
            "type": "scattergeo"
           }
          ],
          "scattergl": [
           {
            "marker": {
             "colorbar": {
              "outlinewidth": 0,
              "ticks": ""
             }
            },
            "type": "scattergl"
           }
          ],
          "scattermapbox": [
           {
            "marker": {
             "colorbar": {
              "outlinewidth": 0,
              "ticks": ""
             }
            },
            "type": "scattermapbox"
           }
          ],
          "scatterpolar": [
           {
            "marker": {
             "colorbar": {
              "outlinewidth": 0,
              "ticks": ""
             }
            },
            "type": "scatterpolar"
           }
          ],
          "scatterpolargl": [
           {
            "marker": {
             "colorbar": {
              "outlinewidth": 0,
              "ticks": ""
             }
            },
            "type": "scatterpolargl"
           }
          ],
          "scatterternary": [
           {
            "marker": {
             "colorbar": {
              "outlinewidth": 0,
              "ticks": ""
             }
            },
            "type": "scatterternary"
           }
          ],
          "surface": [
           {
            "colorbar": {
             "outlinewidth": 0,
             "ticks": ""
            },
            "colorscale": [
             [
              0,
              "#0d0887"
             ],
             [
              0.1111111111111111,
              "#46039f"
             ],
             [
              0.2222222222222222,
              "#7201a8"
             ],
             [
              0.3333333333333333,
              "#9c179e"
             ],
             [
              0.4444444444444444,
              "#bd3786"
             ],
             [
              0.5555555555555556,
              "#d8576b"
             ],
             [
              0.6666666666666666,
              "#ed7953"
             ],
             [
              0.7777777777777778,
              "#fb9f3a"
             ],
             [
              0.8888888888888888,
              "#fdca26"
             ],
             [
              1,
              "#f0f921"
             ]
            ],
            "type": "surface"
           }
          ],
          "table": [
           {
            "cells": {
             "fill": {
              "color": "#EBF0F8"
             },
             "line": {
              "color": "white"
             }
            },
            "header": {
             "fill": {
              "color": "#C8D4E3"
             },
             "line": {
              "color": "white"
             }
            },
            "type": "table"
           }
          ]
         },
         "layout": {
          "annotationdefaults": {
           "arrowcolor": "#2a3f5f",
           "arrowhead": 0,
           "arrowwidth": 1
          },
          "coloraxis": {
           "colorbar": {
            "outlinewidth": 0,
            "ticks": ""
           }
          },
          "colorscale": {
           "diverging": [
            [
             0,
             "#8e0152"
            ],
            [
             0.1,
             "#c51b7d"
            ],
            [
             0.2,
             "#de77ae"
            ],
            [
             0.3,
             "#f1b6da"
            ],
            [
             0.4,
             "#fde0ef"
            ],
            [
             0.5,
             "#f7f7f7"
            ],
            [
             0.6,
             "#e6f5d0"
            ],
            [
             0.7,
             "#b8e186"
            ],
            [
             0.8,
             "#7fbc41"
            ],
            [
             0.9,
             "#4d9221"
            ],
            [
             1,
             "#276419"
            ]
           ],
           "sequential": [
            [
             0,
             "#0d0887"
            ],
            [
             0.1111111111111111,
             "#46039f"
            ],
            [
             0.2222222222222222,
             "#7201a8"
            ],
            [
             0.3333333333333333,
             "#9c179e"
            ],
            [
             0.4444444444444444,
             "#bd3786"
            ],
            [
             0.5555555555555556,
             "#d8576b"
            ],
            [
             0.6666666666666666,
             "#ed7953"
            ],
            [
             0.7777777777777778,
             "#fb9f3a"
            ],
            [
             0.8888888888888888,
             "#fdca26"
            ],
            [
             1,
             "#f0f921"
            ]
           ],
           "sequentialminus": [
            [
             0,
             "#0d0887"
            ],
            [
             0.1111111111111111,
             "#46039f"
            ],
            [
             0.2222222222222222,
             "#7201a8"
            ],
            [
             0.3333333333333333,
             "#9c179e"
            ],
            [
             0.4444444444444444,
             "#bd3786"
            ],
            [
             0.5555555555555556,
             "#d8576b"
            ],
            [
             0.6666666666666666,
             "#ed7953"
            ],
            [
             0.7777777777777778,
             "#fb9f3a"
            ],
            [
             0.8888888888888888,
             "#fdca26"
            ],
            [
             1,
             "#f0f921"
            ]
           ]
          },
          "colorway": [
           "#636efa",
           "#EF553B",
           "#00cc96",
           "#ab63fa",
           "#FFA15A",
           "#19d3f3",
           "#FF6692",
           "#B6E880",
           "#FF97FF",
           "#FECB52"
          ],
          "font": {
           "color": "#2a3f5f"
          },
          "geo": {
           "bgcolor": "white",
           "lakecolor": "white",
           "landcolor": "#E5ECF6",
           "showlakes": true,
           "showland": true,
           "subunitcolor": "white"
          },
          "hoverlabel": {
           "align": "left"
          },
          "hovermode": "closest",
          "mapbox": {
           "style": "light"
          },
          "paper_bgcolor": "white",
          "plot_bgcolor": "#E5ECF6",
          "polar": {
           "angularaxis": {
            "gridcolor": "white",
            "linecolor": "white",
            "ticks": ""
           },
           "bgcolor": "#E5ECF6",
           "radialaxis": {
            "gridcolor": "white",
            "linecolor": "white",
            "ticks": ""
           }
          },
          "scene": {
           "xaxis": {
            "backgroundcolor": "#E5ECF6",
            "gridcolor": "white",
            "gridwidth": 2,
            "linecolor": "white",
            "showbackground": true,
            "ticks": "",
            "zerolinecolor": "white"
           },
           "yaxis": {
            "backgroundcolor": "#E5ECF6",
            "gridcolor": "white",
            "gridwidth": 2,
            "linecolor": "white",
            "showbackground": true,
            "ticks": "",
            "zerolinecolor": "white"
           },
           "zaxis": {
            "backgroundcolor": "#E5ECF6",
            "gridcolor": "white",
            "gridwidth": 2,
            "linecolor": "white",
            "showbackground": true,
            "ticks": "",
            "zerolinecolor": "white"
           }
          },
          "shapedefaults": {
           "line": {
            "color": "#2a3f5f"
           }
          },
          "ternary": {
           "aaxis": {
            "gridcolor": "white",
            "linecolor": "white",
            "ticks": ""
           },
           "baxis": {
            "gridcolor": "white",
            "linecolor": "white",
            "ticks": ""
           },
           "bgcolor": "#E5ECF6",
           "caxis": {
            "gridcolor": "white",
            "linecolor": "white",
            "ticks": ""
           }
          },
          "title": {
           "x": 0.05
          },
          "xaxis": {
           "automargin": true,
           "gridcolor": "white",
           "linecolor": "white",
           "ticks": "",
           "title": {
            "standoff": 15
           },
           "zerolinecolor": "white",
           "zerolinewidth": 2
          },
          "yaxis": {
           "automargin": true,
           "gridcolor": "white",
           "linecolor": "white",
           "ticks": "",
           "title": {
            "standoff": 15
           },
           "zerolinecolor": "white",
           "zerolinewidth": 2
          }
         }
        },
        "title": {
         "font": {
          "color": "#4D5663"
         }
        },
        "xaxis": {
         "gridcolor": "#E1E5ED",
         "showgrid": true,
         "tickfont": {
          "color": "#4D5663"
         },
         "title": {
          "font": {
           "color": "#4D5663"
          },
          "text": ""
         },
         "zerolinecolor": "#E1E5ED"
        },
        "yaxis": {
         "gridcolor": "#E1E5ED",
         "showgrid": true,
         "tickfont": {
          "color": "#4D5663"
         },
         "title": {
          "font": {
           "color": "#4D5663"
          },
          "text": ""
         },
         "zerolinecolor": "#E1E5ED"
        }
       }
      },
      "text/html": "<div>\n        \n        \n            <div id=\"03525d63-696a-40aa-8a8d-22e819c952b3\" class=\"plotly-graph-div\" style=\"height:525px; width:100%;\"></div>\n            <script type=\"text/javascript\">\n                require([\"plotly\"], function(Plotly) {\n                    window.PLOTLYENV=window.PLOTLYENV || {};\n                    window.PLOTLYENV.BASE_URL='https://plot.ly';\n                    \n                if (document.getElementById(\"03525d63-696a-40aa-8a8d-22e819c952b3\")) {\n                    Plotly.newPlot(\n                        '03525d63-696a-40aa-8a8d-22e819c952b3',\n                        [{\"marker\": {\"color\": \"rgba(255, 153, 51, 0.6)\", \"line\": {\"color\": \"rgba(255, 153, 51, 1.0)\", \"width\": 1}}, \"name\": \"None\", \"orientation\": \"v\", \"text\": \"\", \"type\": \"bar\", \"x\": [\"A\", \"B\", \"C\", \"D\"], \"y\": [100, 100, 100, 100]}],\n                        {\"legend\": {\"bgcolor\": \"#F5F6F9\", \"font\": {\"color\": \"#4D5663\"}}, \"paper_bgcolor\": \"#F5F6F9\", \"plot_bgcolor\": \"#F5F6F9\", \"template\": {\"data\": {\"bar\": [{\"error_x\": {\"color\": \"#2a3f5f\"}, \"error_y\": {\"color\": \"#2a3f5f\"}, \"marker\": {\"line\": {\"color\": \"#E5ECF6\", \"width\": 0.5}}, \"type\": \"bar\"}], \"barpolar\": [{\"marker\": {\"line\": {\"color\": \"#E5ECF6\", \"width\": 0.5}}, \"type\": \"barpolar\"}], \"carpet\": [{\"aaxis\": {\"endlinecolor\": \"#2a3f5f\", \"gridcolor\": \"white\", \"linecolor\": \"white\", \"minorgridcolor\": \"white\", \"startlinecolor\": \"#2a3f5f\"}, \"baxis\": {\"endlinecolor\": \"#2a3f5f\", \"gridcolor\": \"white\", \"linecolor\": \"white\", \"minorgridcolor\": \"white\", \"startlinecolor\": \"#2a3f5f\"}, \"type\": \"carpet\"}], \"choropleth\": [{\"colorbar\": {\"outlinewidth\": 0, \"ticks\": \"\"}, \"type\": \"choropleth\"}], \"contour\": [{\"colorbar\": {\"outlinewidth\": 0, \"ticks\": \"\"}, \"colorscale\": [[0.0, \"#0d0887\"], [0.1111111111111111, \"#46039f\"], [0.2222222222222222, \"#7201a8\"], [0.3333333333333333, \"#9c179e\"], [0.4444444444444444, \"#bd3786\"], [0.5555555555555556, \"#d8576b\"], [0.6666666666666666, \"#ed7953\"], [0.7777777777777778, \"#fb9f3a\"], [0.8888888888888888, \"#fdca26\"], [1.0, \"#f0f921\"]], \"type\": \"contour\"}], \"contourcarpet\": [{\"colorbar\": {\"outlinewidth\": 0, \"ticks\": \"\"}, \"type\": \"contourcarpet\"}], \"heatmap\": [{\"colorbar\": {\"outlinewidth\": 0, \"ticks\": \"\"}, \"colorscale\": [[0.0, \"#0d0887\"], [0.1111111111111111, \"#46039f\"], [0.2222222222222222, \"#7201a8\"], [0.3333333333333333, \"#9c179e\"], [0.4444444444444444, \"#bd3786\"], [0.5555555555555556, \"#d8576b\"], [0.6666666666666666, \"#ed7953\"], [0.7777777777777778, \"#fb9f3a\"], [0.8888888888888888, \"#fdca26\"], [1.0, \"#f0f921\"]], \"type\": \"heatmap\"}], \"heatmapgl\": [{\"colorbar\": {\"outlinewidth\": 0, \"ticks\": \"\"}, \"colorscale\": [[0.0, \"#0d0887\"], [0.1111111111111111, \"#46039f\"], [0.2222222222222222, \"#7201a8\"], [0.3333333333333333, \"#9c179e\"], [0.4444444444444444, \"#bd3786\"], [0.5555555555555556, \"#d8576b\"], [0.6666666666666666, \"#ed7953\"], [0.7777777777777778, \"#fb9f3a\"], [0.8888888888888888, \"#fdca26\"], [1.0, \"#f0f921\"]], \"type\": \"heatmapgl\"}], \"histogram\": [{\"marker\": {\"colorbar\": {\"outlinewidth\": 0, \"ticks\": \"\"}}, \"type\": \"histogram\"}], \"histogram2d\": [{\"colorbar\": {\"outlinewidth\": 0, \"ticks\": \"\"}, \"colorscale\": [[0.0, \"#0d0887\"], [0.1111111111111111, \"#46039f\"], [0.2222222222222222, \"#7201a8\"], [0.3333333333333333, \"#9c179e\"], [0.4444444444444444, \"#bd3786\"], [0.5555555555555556, \"#d8576b\"], [0.6666666666666666, \"#ed7953\"], [0.7777777777777778, \"#fb9f3a\"], [0.8888888888888888, \"#fdca26\"], [1.0, \"#f0f921\"]], \"type\": \"histogram2d\"}], \"histogram2dcontour\": [{\"colorbar\": {\"outlinewidth\": 0, \"ticks\": \"\"}, \"colorscale\": [[0.0, \"#0d0887\"], [0.1111111111111111, \"#46039f\"], [0.2222222222222222, \"#7201a8\"], [0.3333333333333333, \"#9c179e\"], [0.4444444444444444, \"#bd3786\"], [0.5555555555555556, \"#d8576b\"], [0.6666666666666666, \"#ed7953\"], [0.7777777777777778, \"#fb9f3a\"], [0.8888888888888888, \"#fdca26\"], [1.0, \"#f0f921\"]], \"type\": \"histogram2dcontour\"}], \"mesh3d\": [{\"colorbar\": {\"outlinewidth\": 0, \"ticks\": \"\"}, \"type\": \"mesh3d\"}], \"parcoords\": [{\"line\": {\"colorbar\": {\"outlinewidth\": 0, \"ticks\": \"\"}}, \"type\": \"parcoords\"}], \"pie\": [{\"automargin\": true, \"type\": \"pie\"}], \"scatter\": [{\"marker\": {\"colorbar\": {\"outlinewidth\": 0, \"ticks\": \"\"}}, \"type\": \"scatter\"}], \"scatter3d\": [{\"line\": {\"colorbar\": {\"outlinewidth\": 0, \"ticks\": \"\"}}, \"marker\": {\"colorbar\": {\"outlinewidth\": 0, \"ticks\": \"\"}}, \"type\": \"scatter3d\"}], \"scattercarpet\": [{\"marker\": {\"colorbar\": {\"outlinewidth\": 0, \"ticks\": \"\"}}, \"type\": \"scattercarpet\"}], \"scattergeo\": [{\"marker\": {\"colorbar\": {\"outlinewidth\": 0, \"ticks\": \"\"}}, \"type\": \"scattergeo\"}], \"scattergl\": [{\"marker\": {\"colorbar\": {\"outlinewidth\": 0, \"ticks\": \"\"}}, \"type\": \"scattergl\"}], \"scattermapbox\": [{\"marker\": {\"colorbar\": {\"outlinewidth\": 0, \"ticks\": \"\"}}, \"type\": \"scattermapbox\"}], \"scatterpolar\": [{\"marker\": {\"colorbar\": {\"outlinewidth\": 0, \"ticks\": \"\"}}, \"type\": \"scatterpolar\"}], \"scatterpolargl\": [{\"marker\": {\"colorbar\": {\"outlinewidth\": 0, \"ticks\": \"\"}}, \"type\": \"scatterpolargl\"}], \"scatterternary\": [{\"marker\": {\"colorbar\": {\"outlinewidth\": 0, \"ticks\": \"\"}}, \"type\": \"scatterternary\"}], \"surface\": [{\"colorbar\": {\"outlinewidth\": 0, \"ticks\": \"\"}, \"colorscale\": [[0.0, \"#0d0887\"], [0.1111111111111111, \"#46039f\"], [0.2222222222222222, \"#7201a8\"], [0.3333333333333333, \"#9c179e\"], [0.4444444444444444, \"#bd3786\"], [0.5555555555555556, \"#d8576b\"], [0.6666666666666666, \"#ed7953\"], [0.7777777777777778, \"#fb9f3a\"], [0.8888888888888888, \"#fdca26\"], [1.0, \"#f0f921\"]], \"type\": \"surface\"}], \"table\": [{\"cells\": {\"fill\": {\"color\": \"#EBF0F8\"}, \"line\": {\"color\": \"white\"}}, \"header\": {\"fill\": {\"color\": \"#C8D4E3\"}, \"line\": {\"color\": \"white\"}}, \"type\": \"table\"}]}, \"layout\": {\"annotationdefaults\": {\"arrowcolor\": \"#2a3f5f\", \"arrowhead\": 0, \"arrowwidth\": 1}, \"coloraxis\": {\"colorbar\": {\"outlinewidth\": 0, \"ticks\": \"\"}}, \"colorscale\": {\"diverging\": [[0, \"#8e0152\"], [0.1, \"#c51b7d\"], [0.2, \"#de77ae\"], [0.3, \"#f1b6da\"], [0.4, \"#fde0ef\"], [0.5, \"#f7f7f7\"], [0.6, \"#e6f5d0\"], [0.7, \"#b8e186\"], [0.8, \"#7fbc41\"], [0.9, \"#4d9221\"], [1, \"#276419\"]], \"sequential\": [[0.0, \"#0d0887\"], [0.1111111111111111, \"#46039f\"], [0.2222222222222222, \"#7201a8\"], [0.3333333333333333, \"#9c179e\"], [0.4444444444444444, \"#bd3786\"], [0.5555555555555556, \"#d8576b\"], [0.6666666666666666, \"#ed7953\"], [0.7777777777777778, \"#fb9f3a\"], [0.8888888888888888, \"#fdca26\"], [1.0, \"#f0f921\"]], \"sequentialminus\": [[0.0, \"#0d0887\"], [0.1111111111111111, \"#46039f\"], [0.2222222222222222, \"#7201a8\"], [0.3333333333333333, \"#9c179e\"], [0.4444444444444444, \"#bd3786\"], [0.5555555555555556, \"#d8576b\"], [0.6666666666666666, \"#ed7953\"], [0.7777777777777778, \"#fb9f3a\"], [0.8888888888888888, \"#fdca26\"], [1.0, \"#f0f921\"]]}, \"colorway\": [\"#636efa\", \"#EF553B\", \"#00cc96\", \"#ab63fa\", \"#FFA15A\", \"#19d3f3\", \"#FF6692\", \"#B6E880\", \"#FF97FF\", \"#FECB52\"], \"font\": {\"color\": \"#2a3f5f\"}, \"geo\": {\"bgcolor\": \"white\", \"lakecolor\": \"white\", \"landcolor\": \"#E5ECF6\", \"showlakes\": true, \"showland\": true, \"subunitcolor\": \"white\"}, \"hoverlabel\": {\"align\": \"left\"}, \"hovermode\": \"closest\", \"mapbox\": {\"style\": \"light\"}, \"paper_bgcolor\": \"white\", \"plot_bgcolor\": \"#E5ECF6\", \"polar\": {\"angularaxis\": {\"gridcolor\": \"white\", \"linecolor\": \"white\", \"ticks\": \"\"}, \"bgcolor\": \"#E5ECF6\", \"radialaxis\": {\"gridcolor\": \"white\", \"linecolor\": \"white\", \"ticks\": \"\"}}, \"scene\": {\"xaxis\": {\"backgroundcolor\": \"#E5ECF6\", \"gridcolor\": \"white\", \"gridwidth\": 2, \"linecolor\": \"white\", \"showbackground\": true, \"ticks\": \"\", \"zerolinecolor\": \"white\"}, \"yaxis\": {\"backgroundcolor\": \"#E5ECF6\", \"gridcolor\": \"white\", \"gridwidth\": 2, \"linecolor\": \"white\", \"showbackground\": true, \"ticks\": \"\", \"zerolinecolor\": \"white\"}, \"zaxis\": {\"backgroundcolor\": \"#E5ECF6\", \"gridcolor\": \"white\", \"gridwidth\": 2, \"linecolor\": \"white\", \"showbackground\": true, \"ticks\": \"\", \"zerolinecolor\": \"white\"}}, \"shapedefaults\": {\"line\": {\"color\": \"#2a3f5f\"}}, \"ternary\": {\"aaxis\": {\"gridcolor\": \"white\", \"linecolor\": \"white\", \"ticks\": \"\"}, \"baxis\": {\"gridcolor\": \"white\", \"linecolor\": \"white\", \"ticks\": \"\"}, \"bgcolor\": \"#E5ECF6\", \"caxis\": {\"gridcolor\": \"white\", \"linecolor\": \"white\", \"ticks\": \"\"}}, \"title\": {\"x\": 0.05}, \"xaxis\": {\"automargin\": true, \"gridcolor\": \"white\", \"linecolor\": \"white\", \"ticks\": \"\", \"title\": {\"standoff\": 15}, \"zerolinecolor\": \"white\", \"zerolinewidth\": 2}, \"yaxis\": {\"automargin\": true, \"gridcolor\": \"white\", \"linecolor\": \"white\", \"ticks\": \"\", \"title\": {\"standoff\": 15}, \"zerolinecolor\": \"white\", \"zerolinewidth\": 2}}}, \"title\": {\"font\": {\"color\": \"#4D5663\"}}, \"xaxis\": {\"gridcolor\": \"#E1E5ED\", \"showgrid\": true, \"tickfont\": {\"color\": \"#4D5663\"}, \"title\": {\"font\": {\"color\": \"#4D5663\"}, \"text\": \"\"}, \"zerolinecolor\": \"#E1E5ED\"}, \"yaxis\": {\"gridcolor\": \"#E1E5ED\", \"showgrid\": true, \"tickfont\": {\"color\": \"#4D5663\"}, \"title\": {\"font\": {\"color\": \"#4D5663\"}, \"text\": \"\"}, \"zerolinecolor\": \"#E1E5ED\"}},\n                        {\"showLink\": true, \"linkText\": \"Export to plot.ly\", \"plotlyServerURL\": \"https://plot.ly\", \"responsive\": true}\n                    ).then(function(){\n                            \nvar gd = document.getElementById('03525d63-696a-40aa-8a8d-22e819c952b3');\nvar x = new MutationObserver(function (mutations, observer) {{\n        var display = window.getComputedStyle(gd).display;\n        if (!display || display === 'none') {{\n            console.log([gd, 'removed!']);\n            Plotly.purge(gd);\n            observer.disconnect();\n        }}\n}});\n\n// Listen for the removal of the full notebook cells\nvar notebookContainer = gd.closest('#notebook-container');\nif (notebookContainer) {{\n    x.observe(notebookContainer, {childList: true});\n}}\n\n// Listen for the clearing of the current output cell\nvar outputEl = gd.closest('.output');\nif (outputEl) {{\n    x.observe(outputEl, {childList: true});\n}}\n\n                        })\n                };\n                });\n            </script>\n        </div>"
     },
     "metadata": {}
    }
   ],
   "source": [
    "df.count().iplot(kind='bar')"
   ]
  },
  {
   "cell_type": "code",
   "execution_count": 13,
   "metadata": {},
   "outputs": [
    {
     "output_type": "display_data",
     "data": {
      "application/vnd.plotly.v1+json": {
       "config": {
        "linkText": "Export to plot.ly",
        "plotlyServerURL": "https://plot.ly",
        "showLink": true
       },
       "data": [
        {
         "marker": {
          "color": "rgba(255, 153, 51, 0.6)",
          "line": {
           "color": "rgba(255, 153, 51, 1.0)",
           "width": 1
          }
         },
         "name": "None",
         "orientation": "v",
         "text": "",
         "type": "bar",
         "x": [
          "A",
          "B",
          "C",
          "D"
         ],
         "y": [
          0.6100936096084957,
          -4.901688232500511,
          0.5234290081987447,
          4.170911517679113
         ]
        }
       ],
       "layout": {
        "legend": {
         "bgcolor": "#F5F6F9",
         "font": {
          "color": "#4D5663"
         }
        },
        "paper_bgcolor": "#F5F6F9",
        "plot_bgcolor": "#F5F6F9",
        "template": {
         "data": {
          "bar": [
           {
            "error_x": {
             "color": "#2a3f5f"
            },
            "error_y": {
             "color": "#2a3f5f"
            },
            "marker": {
             "line": {
              "color": "#E5ECF6",
              "width": 0.5
             }
            },
            "type": "bar"
           }
          ],
          "barpolar": [
           {
            "marker": {
             "line": {
              "color": "#E5ECF6",
              "width": 0.5
             }
            },
            "type": "barpolar"
           }
          ],
          "carpet": [
           {
            "aaxis": {
             "endlinecolor": "#2a3f5f",
             "gridcolor": "white",
             "linecolor": "white",
             "minorgridcolor": "white",
             "startlinecolor": "#2a3f5f"
            },
            "baxis": {
             "endlinecolor": "#2a3f5f",
             "gridcolor": "white",
             "linecolor": "white",
             "minorgridcolor": "white",
             "startlinecolor": "#2a3f5f"
            },
            "type": "carpet"
           }
          ],
          "choropleth": [
           {
            "colorbar": {
             "outlinewidth": 0,
             "ticks": ""
            },
            "type": "choropleth"
           }
          ],
          "contour": [
           {
            "colorbar": {
             "outlinewidth": 0,
             "ticks": ""
            },
            "colorscale": [
             [
              0,
              "#0d0887"
             ],
             [
              0.1111111111111111,
              "#46039f"
             ],
             [
              0.2222222222222222,
              "#7201a8"
             ],
             [
              0.3333333333333333,
              "#9c179e"
             ],
             [
              0.4444444444444444,
              "#bd3786"
             ],
             [
              0.5555555555555556,
              "#d8576b"
             ],
             [
              0.6666666666666666,
              "#ed7953"
             ],
             [
              0.7777777777777778,
              "#fb9f3a"
             ],
             [
              0.8888888888888888,
              "#fdca26"
             ],
             [
              1,
              "#f0f921"
             ]
            ],
            "type": "contour"
           }
          ],
          "contourcarpet": [
           {
            "colorbar": {
             "outlinewidth": 0,
             "ticks": ""
            },
            "type": "contourcarpet"
           }
          ],
          "heatmap": [
           {
            "colorbar": {
             "outlinewidth": 0,
             "ticks": ""
            },
            "colorscale": [
             [
              0,
              "#0d0887"
             ],
             [
              0.1111111111111111,
              "#46039f"
             ],
             [
              0.2222222222222222,
              "#7201a8"
             ],
             [
              0.3333333333333333,
              "#9c179e"
             ],
             [
              0.4444444444444444,
              "#bd3786"
             ],
             [
              0.5555555555555556,
              "#d8576b"
             ],
             [
              0.6666666666666666,
              "#ed7953"
             ],
             [
              0.7777777777777778,
              "#fb9f3a"
             ],
             [
              0.8888888888888888,
              "#fdca26"
             ],
             [
              1,
              "#f0f921"
             ]
            ],
            "type": "heatmap"
           }
          ],
          "heatmapgl": [
           {
            "colorbar": {
             "outlinewidth": 0,
             "ticks": ""
            },
            "colorscale": [
             [
              0,
              "#0d0887"
             ],
             [
              0.1111111111111111,
              "#46039f"
             ],
             [
              0.2222222222222222,
              "#7201a8"
             ],
             [
              0.3333333333333333,
              "#9c179e"
             ],
             [
              0.4444444444444444,
              "#bd3786"
             ],
             [
              0.5555555555555556,
              "#d8576b"
             ],
             [
              0.6666666666666666,
              "#ed7953"
             ],
             [
              0.7777777777777778,
              "#fb9f3a"
             ],
             [
              0.8888888888888888,
              "#fdca26"
             ],
             [
              1,
              "#f0f921"
             ]
            ],
            "type": "heatmapgl"
           }
          ],
          "histogram": [
           {
            "marker": {
             "colorbar": {
              "outlinewidth": 0,
              "ticks": ""
             }
            },
            "type": "histogram"
           }
          ],
          "histogram2d": [
           {
            "colorbar": {
             "outlinewidth": 0,
             "ticks": ""
            },
            "colorscale": [
             [
              0,
              "#0d0887"
             ],
             [
              0.1111111111111111,
              "#46039f"
             ],
             [
              0.2222222222222222,
              "#7201a8"
             ],
             [
              0.3333333333333333,
              "#9c179e"
             ],
             [
              0.4444444444444444,
              "#bd3786"
             ],
             [
              0.5555555555555556,
              "#d8576b"
             ],
             [
              0.6666666666666666,
              "#ed7953"
             ],
             [
              0.7777777777777778,
              "#fb9f3a"
             ],
             [
              0.8888888888888888,
              "#fdca26"
             ],
             [
              1,
              "#f0f921"
             ]
            ],
            "type": "histogram2d"
           }
          ],
          "histogram2dcontour": [
           {
            "colorbar": {
             "outlinewidth": 0,
             "ticks": ""
            },
            "colorscale": [
             [
              0,
              "#0d0887"
             ],
             [
              0.1111111111111111,
              "#46039f"
             ],
             [
              0.2222222222222222,
              "#7201a8"
             ],
             [
              0.3333333333333333,
              "#9c179e"
             ],
             [
              0.4444444444444444,
              "#bd3786"
             ],
             [
              0.5555555555555556,
              "#d8576b"
             ],
             [
              0.6666666666666666,
              "#ed7953"
             ],
             [
              0.7777777777777778,
              "#fb9f3a"
             ],
             [
              0.8888888888888888,
              "#fdca26"
             ],
             [
              1,
              "#f0f921"
             ]
            ],
            "type": "histogram2dcontour"
           }
          ],
          "mesh3d": [
           {
            "colorbar": {
             "outlinewidth": 0,
             "ticks": ""
            },
            "type": "mesh3d"
           }
          ],
          "parcoords": [
           {
            "line": {
             "colorbar": {
              "outlinewidth": 0,
              "ticks": ""
             }
            },
            "type": "parcoords"
           }
          ],
          "pie": [
           {
            "automargin": true,
            "type": "pie"
           }
          ],
          "scatter": [
           {
            "marker": {
             "colorbar": {
              "outlinewidth": 0,
              "ticks": ""
             }
            },
            "type": "scatter"
           }
          ],
          "scatter3d": [
           {
            "line": {
             "colorbar": {
              "outlinewidth": 0,
              "ticks": ""
             }
            },
            "marker": {
             "colorbar": {
              "outlinewidth": 0,
              "ticks": ""
             }
            },
            "type": "scatter3d"
           }
          ],
          "scattercarpet": [
           {
            "marker": {
             "colorbar": {
              "outlinewidth": 0,
              "ticks": ""
             }
            },
            "type": "scattercarpet"
           }
          ],
          "scattergeo": [
           {
            "marker": {
             "colorbar": {
              "outlinewidth": 0,
              "ticks": ""
             }
            },
            "type": "scattergeo"
           }
          ],
          "scattergl": [
           {
            "marker": {
             "colorbar": {
              "outlinewidth": 0,
              "ticks": ""
             }
            },
            "type": "scattergl"
           }
          ],
          "scattermapbox": [
           {
            "marker": {
             "colorbar": {
              "outlinewidth": 0,
              "ticks": ""
             }
            },
            "type": "scattermapbox"
           }
          ],
          "scatterpolar": [
           {
            "marker": {
             "colorbar": {
              "outlinewidth": 0,
              "ticks": ""
             }
            },
            "type": "scatterpolar"
           }
          ],
          "scatterpolargl": [
           {
            "marker": {
             "colorbar": {
              "outlinewidth": 0,
              "ticks": ""
             }
            },
            "type": "scatterpolargl"
           }
          ],
          "scatterternary": [
           {
            "marker": {
             "colorbar": {
              "outlinewidth": 0,
              "ticks": ""
             }
            },
            "type": "scatterternary"
           }
          ],
          "surface": [
           {
            "colorbar": {
             "outlinewidth": 0,
             "ticks": ""
            },
            "colorscale": [
             [
              0,
              "#0d0887"
             ],
             [
              0.1111111111111111,
              "#46039f"
             ],
             [
              0.2222222222222222,
              "#7201a8"
             ],
             [
              0.3333333333333333,
              "#9c179e"
             ],
             [
              0.4444444444444444,
              "#bd3786"
             ],
             [
              0.5555555555555556,
              "#d8576b"
             ],
             [
              0.6666666666666666,
              "#ed7953"
             ],
             [
              0.7777777777777778,
              "#fb9f3a"
             ],
             [
              0.8888888888888888,
              "#fdca26"
             ],
             [
              1,
              "#f0f921"
             ]
            ],
            "type": "surface"
           }
          ],
          "table": [
           {
            "cells": {
             "fill": {
              "color": "#EBF0F8"
             },
             "line": {
              "color": "white"
             }
            },
            "header": {
             "fill": {
              "color": "#C8D4E3"
             },
             "line": {
              "color": "white"
             }
            },
            "type": "table"
           }
          ]
         },
         "layout": {
          "annotationdefaults": {
           "arrowcolor": "#2a3f5f",
           "arrowhead": 0,
           "arrowwidth": 1
          },
          "coloraxis": {
           "colorbar": {
            "outlinewidth": 0,
            "ticks": ""
           }
          },
          "colorscale": {
           "diverging": [
            [
             0,
             "#8e0152"
            ],
            [
             0.1,
             "#c51b7d"
            ],
            [
             0.2,
             "#de77ae"
            ],
            [
             0.3,
             "#f1b6da"
            ],
            [
             0.4,
             "#fde0ef"
            ],
            [
             0.5,
             "#f7f7f7"
            ],
            [
             0.6,
             "#e6f5d0"
            ],
            [
             0.7,
             "#b8e186"
            ],
            [
             0.8,
             "#7fbc41"
            ],
            [
             0.9,
             "#4d9221"
            ],
            [
             1,
             "#276419"
            ]
           ],
           "sequential": [
            [
             0,
             "#0d0887"
            ],
            [
             0.1111111111111111,
             "#46039f"
            ],
            [
             0.2222222222222222,
             "#7201a8"
            ],
            [
             0.3333333333333333,
             "#9c179e"
            ],
            [
             0.4444444444444444,
             "#bd3786"
            ],
            [
             0.5555555555555556,
             "#d8576b"
            ],
            [
             0.6666666666666666,
             "#ed7953"
            ],
            [
             0.7777777777777778,
             "#fb9f3a"
            ],
            [
             0.8888888888888888,
             "#fdca26"
            ],
            [
             1,
             "#f0f921"
            ]
           ],
           "sequentialminus": [
            [
             0,
             "#0d0887"
            ],
            [
             0.1111111111111111,
             "#46039f"
            ],
            [
             0.2222222222222222,
             "#7201a8"
            ],
            [
             0.3333333333333333,
             "#9c179e"
            ],
            [
             0.4444444444444444,
             "#bd3786"
            ],
            [
             0.5555555555555556,
             "#d8576b"
            ],
            [
             0.6666666666666666,
             "#ed7953"
            ],
            [
             0.7777777777777778,
             "#fb9f3a"
            ],
            [
             0.8888888888888888,
             "#fdca26"
            ],
            [
             1,
             "#f0f921"
            ]
           ]
          },
          "colorway": [
           "#636efa",
           "#EF553B",
           "#00cc96",
           "#ab63fa",
           "#FFA15A",
           "#19d3f3",
           "#FF6692",
           "#B6E880",
           "#FF97FF",
           "#FECB52"
          ],
          "font": {
           "color": "#2a3f5f"
          },
          "geo": {
           "bgcolor": "white",
           "lakecolor": "white",
           "landcolor": "#E5ECF6",
           "showlakes": true,
           "showland": true,
           "subunitcolor": "white"
          },
          "hoverlabel": {
           "align": "left"
          },
          "hovermode": "closest",
          "mapbox": {
           "style": "light"
          },
          "paper_bgcolor": "white",
          "plot_bgcolor": "#E5ECF6",
          "polar": {
           "angularaxis": {
            "gridcolor": "white",
            "linecolor": "white",
            "ticks": ""
           },
           "bgcolor": "#E5ECF6",
           "radialaxis": {
            "gridcolor": "white",
            "linecolor": "white",
            "ticks": ""
           }
          },
          "scene": {
           "xaxis": {
            "backgroundcolor": "#E5ECF6",
            "gridcolor": "white",
            "gridwidth": 2,
            "linecolor": "white",
            "showbackground": true,
            "ticks": "",
            "zerolinecolor": "white"
           },
           "yaxis": {
            "backgroundcolor": "#E5ECF6",
            "gridcolor": "white",
            "gridwidth": 2,
            "linecolor": "white",
            "showbackground": true,
            "ticks": "",
            "zerolinecolor": "white"
           },
           "zaxis": {
            "backgroundcolor": "#E5ECF6",
            "gridcolor": "white",
            "gridwidth": 2,
            "linecolor": "white",
            "showbackground": true,
            "ticks": "",
            "zerolinecolor": "white"
           }
          },
          "shapedefaults": {
           "line": {
            "color": "#2a3f5f"
           }
          },
          "ternary": {
           "aaxis": {
            "gridcolor": "white",
            "linecolor": "white",
            "ticks": ""
           },
           "baxis": {
            "gridcolor": "white",
            "linecolor": "white",
            "ticks": ""
           },
           "bgcolor": "#E5ECF6",
           "caxis": {
            "gridcolor": "white",
            "linecolor": "white",
            "ticks": ""
           }
          },
          "title": {
           "x": 0.05
          },
          "xaxis": {
           "automargin": true,
           "gridcolor": "white",
           "linecolor": "white",
           "ticks": "",
           "title": {
            "standoff": 15
           },
           "zerolinecolor": "white",
           "zerolinewidth": 2
          },
          "yaxis": {
           "automargin": true,
           "gridcolor": "white",
           "linecolor": "white",
           "ticks": "",
           "title": {
            "standoff": 15
           },
           "zerolinecolor": "white",
           "zerolinewidth": 2
          }
         }
        },
        "title": {
         "font": {
          "color": "#4D5663"
         }
        },
        "xaxis": {
         "gridcolor": "#E1E5ED",
         "showgrid": true,
         "tickfont": {
          "color": "#4D5663"
         },
         "title": {
          "font": {
           "color": "#4D5663"
          },
          "text": ""
         },
         "zerolinecolor": "#E1E5ED"
        },
        "yaxis": {
         "gridcolor": "#E1E5ED",
         "showgrid": true,
         "tickfont": {
          "color": "#4D5663"
         },
         "title": {
          "font": {
           "color": "#4D5663"
          },
          "text": ""
         },
         "zerolinecolor": "#E1E5ED"
        }
       }
      },
      "text/html": "<div>\n        \n        \n            <div id=\"db406395-704c-4089-87ba-ff1475e4def8\" class=\"plotly-graph-div\" style=\"height:525px; width:100%;\"></div>\n            <script type=\"text/javascript\">\n                require([\"plotly\"], function(Plotly) {\n                    window.PLOTLYENV=window.PLOTLYENV || {};\n                    window.PLOTLYENV.BASE_URL='https://plot.ly';\n                    \n                if (document.getElementById(\"db406395-704c-4089-87ba-ff1475e4def8\")) {\n                    Plotly.newPlot(\n                        'db406395-704c-4089-87ba-ff1475e4def8',\n                        [{\"marker\": {\"color\": \"rgba(255, 153, 51, 0.6)\", \"line\": {\"color\": \"rgba(255, 153, 51, 1.0)\", \"width\": 1}}, \"name\": \"None\", \"orientation\": \"v\", \"text\": \"\", \"type\": \"bar\", \"x\": [\"A\", \"B\", \"C\", \"D\"], \"y\": [0.6100936096084957, -4.901688232500511, 0.5234290081987447, 4.170911517679113]}],\n                        {\"legend\": {\"bgcolor\": \"#F5F6F9\", \"font\": {\"color\": \"#4D5663\"}}, \"paper_bgcolor\": \"#F5F6F9\", \"plot_bgcolor\": \"#F5F6F9\", \"template\": {\"data\": {\"bar\": [{\"error_x\": {\"color\": \"#2a3f5f\"}, \"error_y\": {\"color\": \"#2a3f5f\"}, \"marker\": {\"line\": {\"color\": \"#E5ECF6\", \"width\": 0.5}}, \"type\": \"bar\"}], \"barpolar\": [{\"marker\": {\"line\": {\"color\": \"#E5ECF6\", \"width\": 0.5}}, \"type\": \"barpolar\"}], \"carpet\": [{\"aaxis\": {\"endlinecolor\": \"#2a3f5f\", \"gridcolor\": \"white\", \"linecolor\": \"white\", \"minorgridcolor\": \"white\", \"startlinecolor\": \"#2a3f5f\"}, \"baxis\": {\"endlinecolor\": \"#2a3f5f\", \"gridcolor\": \"white\", \"linecolor\": \"white\", \"minorgridcolor\": \"white\", \"startlinecolor\": \"#2a3f5f\"}, \"type\": \"carpet\"}], \"choropleth\": [{\"colorbar\": {\"outlinewidth\": 0, \"ticks\": \"\"}, \"type\": \"choropleth\"}], \"contour\": [{\"colorbar\": {\"outlinewidth\": 0, \"ticks\": \"\"}, \"colorscale\": [[0.0, \"#0d0887\"], [0.1111111111111111, \"#46039f\"], [0.2222222222222222, \"#7201a8\"], [0.3333333333333333, \"#9c179e\"], [0.4444444444444444, \"#bd3786\"], [0.5555555555555556, \"#d8576b\"], [0.6666666666666666, \"#ed7953\"], [0.7777777777777778, \"#fb9f3a\"], [0.8888888888888888, \"#fdca26\"], [1.0, \"#f0f921\"]], \"type\": \"contour\"}], \"contourcarpet\": [{\"colorbar\": {\"outlinewidth\": 0, \"ticks\": \"\"}, \"type\": \"contourcarpet\"}], \"heatmap\": [{\"colorbar\": {\"outlinewidth\": 0, \"ticks\": \"\"}, \"colorscale\": [[0.0, \"#0d0887\"], [0.1111111111111111, \"#46039f\"], [0.2222222222222222, \"#7201a8\"], [0.3333333333333333, \"#9c179e\"], [0.4444444444444444, \"#bd3786\"], [0.5555555555555556, \"#d8576b\"], [0.6666666666666666, \"#ed7953\"], [0.7777777777777778, \"#fb9f3a\"], [0.8888888888888888, \"#fdca26\"], [1.0, \"#f0f921\"]], \"type\": \"heatmap\"}], \"heatmapgl\": [{\"colorbar\": {\"outlinewidth\": 0, \"ticks\": \"\"}, \"colorscale\": [[0.0, \"#0d0887\"], [0.1111111111111111, \"#46039f\"], [0.2222222222222222, \"#7201a8\"], [0.3333333333333333, \"#9c179e\"], [0.4444444444444444, \"#bd3786\"], [0.5555555555555556, \"#d8576b\"], [0.6666666666666666, \"#ed7953\"], [0.7777777777777778, \"#fb9f3a\"], [0.8888888888888888, \"#fdca26\"], [1.0, \"#f0f921\"]], \"type\": \"heatmapgl\"}], \"histogram\": [{\"marker\": {\"colorbar\": {\"outlinewidth\": 0, \"ticks\": \"\"}}, \"type\": \"histogram\"}], \"histogram2d\": [{\"colorbar\": {\"outlinewidth\": 0, \"ticks\": \"\"}, \"colorscale\": [[0.0, \"#0d0887\"], [0.1111111111111111, \"#46039f\"], [0.2222222222222222, \"#7201a8\"], [0.3333333333333333, \"#9c179e\"], [0.4444444444444444, \"#bd3786\"], [0.5555555555555556, \"#d8576b\"], [0.6666666666666666, \"#ed7953\"], [0.7777777777777778, \"#fb9f3a\"], [0.8888888888888888, \"#fdca26\"], [1.0, \"#f0f921\"]], \"type\": \"histogram2d\"}], \"histogram2dcontour\": [{\"colorbar\": {\"outlinewidth\": 0, \"ticks\": \"\"}, \"colorscale\": [[0.0, \"#0d0887\"], [0.1111111111111111, \"#46039f\"], [0.2222222222222222, \"#7201a8\"], [0.3333333333333333, \"#9c179e\"], [0.4444444444444444, \"#bd3786\"], [0.5555555555555556, \"#d8576b\"], [0.6666666666666666, \"#ed7953\"], [0.7777777777777778, \"#fb9f3a\"], [0.8888888888888888, \"#fdca26\"], [1.0, \"#f0f921\"]], \"type\": \"histogram2dcontour\"}], \"mesh3d\": [{\"colorbar\": {\"outlinewidth\": 0, \"ticks\": \"\"}, \"type\": \"mesh3d\"}], \"parcoords\": [{\"line\": {\"colorbar\": {\"outlinewidth\": 0, \"ticks\": \"\"}}, \"type\": \"parcoords\"}], \"pie\": [{\"automargin\": true, \"type\": \"pie\"}], \"scatter\": [{\"marker\": {\"colorbar\": {\"outlinewidth\": 0, \"ticks\": \"\"}}, \"type\": \"scatter\"}], \"scatter3d\": [{\"line\": {\"colorbar\": {\"outlinewidth\": 0, \"ticks\": \"\"}}, \"marker\": {\"colorbar\": {\"outlinewidth\": 0, \"ticks\": \"\"}}, \"type\": \"scatter3d\"}], \"scattercarpet\": [{\"marker\": {\"colorbar\": {\"outlinewidth\": 0, \"ticks\": \"\"}}, \"type\": \"scattercarpet\"}], \"scattergeo\": [{\"marker\": {\"colorbar\": {\"outlinewidth\": 0, \"ticks\": \"\"}}, \"type\": \"scattergeo\"}], \"scattergl\": [{\"marker\": {\"colorbar\": {\"outlinewidth\": 0, \"ticks\": \"\"}}, \"type\": \"scattergl\"}], \"scattermapbox\": [{\"marker\": {\"colorbar\": {\"outlinewidth\": 0, \"ticks\": \"\"}}, \"type\": \"scattermapbox\"}], \"scatterpolar\": [{\"marker\": {\"colorbar\": {\"outlinewidth\": 0, \"ticks\": \"\"}}, \"type\": \"scatterpolar\"}], \"scatterpolargl\": [{\"marker\": {\"colorbar\": {\"outlinewidth\": 0, \"ticks\": \"\"}}, \"type\": \"scatterpolargl\"}], \"scatterternary\": [{\"marker\": {\"colorbar\": {\"outlinewidth\": 0, \"ticks\": \"\"}}, \"type\": \"scatterternary\"}], \"surface\": [{\"colorbar\": {\"outlinewidth\": 0, \"ticks\": \"\"}, \"colorscale\": [[0.0, \"#0d0887\"], [0.1111111111111111, \"#46039f\"], [0.2222222222222222, \"#7201a8\"], [0.3333333333333333, \"#9c179e\"], [0.4444444444444444, \"#bd3786\"], [0.5555555555555556, \"#d8576b\"], [0.6666666666666666, \"#ed7953\"], [0.7777777777777778, \"#fb9f3a\"], [0.8888888888888888, \"#fdca26\"], [1.0, \"#f0f921\"]], \"type\": \"surface\"}], \"table\": [{\"cells\": {\"fill\": {\"color\": \"#EBF0F8\"}, \"line\": {\"color\": \"white\"}}, \"header\": {\"fill\": {\"color\": \"#C8D4E3\"}, \"line\": {\"color\": \"white\"}}, \"type\": \"table\"}]}, \"layout\": {\"annotationdefaults\": {\"arrowcolor\": \"#2a3f5f\", \"arrowhead\": 0, \"arrowwidth\": 1}, \"coloraxis\": {\"colorbar\": {\"outlinewidth\": 0, \"ticks\": \"\"}}, \"colorscale\": {\"diverging\": [[0, \"#8e0152\"], [0.1, \"#c51b7d\"], [0.2, \"#de77ae\"], [0.3, \"#f1b6da\"], [0.4, \"#fde0ef\"], [0.5, \"#f7f7f7\"], [0.6, \"#e6f5d0\"], [0.7, \"#b8e186\"], [0.8, \"#7fbc41\"], [0.9, \"#4d9221\"], [1, \"#276419\"]], \"sequential\": [[0.0, \"#0d0887\"], [0.1111111111111111, \"#46039f\"], [0.2222222222222222, \"#7201a8\"], [0.3333333333333333, \"#9c179e\"], [0.4444444444444444, \"#bd3786\"], [0.5555555555555556, \"#d8576b\"], [0.6666666666666666, \"#ed7953\"], [0.7777777777777778, \"#fb9f3a\"], [0.8888888888888888, \"#fdca26\"], [1.0, \"#f0f921\"]], \"sequentialminus\": [[0.0, \"#0d0887\"], [0.1111111111111111, \"#46039f\"], [0.2222222222222222, \"#7201a8\"], [0.3333333333333333, \"#9c179e\"], [0.4444444444444444, \"#bd3786\"], [0.5555555555555556, \"#d8576b\"], [0.6666666666666666, \"#ed7953\"], [0.7777777777777778, \"#fb9f3a\"], [0.8888888888888888, \"#fdca26\"], [1.0, \"#f0f921\"]]}, \"colorway\": [\"#636efa\", \"#EF553B\", \"#00cc96\", \"#ab63fa\", \"#FFA15A\", \"#19d3f3\", \"#FF6692\", \"#B6E880\", \"#FF97FF\", \"#FECB52\"], \"font\": {\"color\": \"#2a3f5f\"}, \"geo\": {\"bgcolor\": \"white\", \"lakecolor\": \"white\", \"landcolor\": \"#E5ECF6\", \"showlakes\": true, \"showland\": true, \"subunitcolor\": \"white\"}, \"hoverlabel\": {\"align\": \"left\"}, \"hovermode\": \"closest\", \"mapbox\": {\"style\": \"light\"}, \"paper_bgcolor\": \"white\", \"plot_bgcolor\": \"#E5ECF6\", \"polar\": {\"angularaxis\": {\"gridcolor\": \"white\", \"linecolor\": \"white\", \"ticks\": \"\"}, \"bgcolor\": \"#E5ECF6\", \"radialaxis\": {\"gridcolor\": \"white\", \"linecolor\": \"white\", \"ticks\": \"\"}}, \"scene\": {\"xaxis\": {\"backgroundcolor\": \"#E5ECF6\", \"gridcolor\": \"white\", \"gridwidth\": 2, \"linecolor\": \"white\", \"showbackground\": true, \"ticks\": \"\", \"zerolinecolor\": \"white\"}, \"yaxis\": {\"backgroundcolor\": \"#E5ECF6\", \"gridcolor\": \"white\", \"gridwidth\": 2, \"linecolor\": \"white\", \"showbackground\": true, \"ticks\": \"\", \"zerolinecolor\": \"white\"}, \"zaxis\": {\"backgroundcolor\": \"#E5ECF6\", \"gridcolor\": \"white\", \"gridwidth\": 2, \"linecolor\": \"white\", \"showbackground\": true, \"ticks\": \"\", \"zerolinecolor\": \"white\"}}, \"shapedefaults\": {\"line\": {\"color\": \"#2a3f5f\"}}, \"ternary\": {\"aaxis\": {\"gridcolor\": \"white\", \"linecolor\": \"white\", \"ticks\": \"\"}, \"baxis\": {\"gridcolor\": \"white\", \"linecolor\": \"white\", \"ticks\": \"\"}, \"bgcolor\": \"#E5ECF6\", \"caxis\": {\"gridcolor\": \"white\", \"linecolor\": \"white\", \"ticks\": \"\"}}, \"title\": {\"x\": 0.05}, \"xaxis\": {\"automargin\": true, \"gridcolor\": \"white\", \"linecolor\": \"white\", \"ticks\": \"\", \"title\": {\"standoff\": 15}, \"zerolinecolor\": \"white\", \"zerolinewidth\": 2}, \"yaxis\": {\"automargin\": true, \"gridcolor\": \"white\", \"linecolor\": \"white\", \"ticks\": \"\", \"title\": {\"standoff\": 15}, \"zerolinecolor\": \"white\", \"zerolinewidth\": 2}}}, \"title\": {\"font\": {\"color\": \"#4D5663\"}}, \"xaxis\": {\"gridcolor\": \"#E1E5ED\", \"showgrid\": true, \"tickfont\": {\"color\": \"#4D5663\"}, \"title\": {\"font\": {\"color\": \"#4D5663\"}, \"text\": \"\"}, \"zerolinecolor\": \"#E1E5ED\"}, \"yaxis\": {\"gridcolor\": \"#E1E5ED\", \"showgrid\": true, \"tickfont\": {\"color\": \"#4D5663\"}, \"title\": {\"font\": {\"color\": \"#4D5663\"}, \"text\": \"\"}, \"zerolinecolor\": \"#E1E5ED\"}},\n                        {\"showLink\": true, \"linkText\": \"Export to plot.ly\", \"plotlyServerURL\": \"https://plot.ly\", \"responsive\": true}\n                    ).then(function(){\n                            \nvar gd = document.getElementById('db406395-704c-4089-87ba-ff1475e4def8');\nvar x = new MutationObserver(function (mutations, observer) {{\n        var display = window.getComputedStyle(gd).display;\n        if (!display || display === 'none') {{\n            console.log([gd, 'removed!']);\n            Plotly.purge(gd);\n            observer.disconnect();\n        }}\n}});\n\n// Listen for the removal of the full notebook cells\nvar notebookContainer = gd.closest('#notebook-container');\nif (notebookContainer) {{\n    x.observe(notebookContainer, {childList: true});\n}}\n\n// Listen for the clearing of the current output cell\nvar outputEl = gd.closest('.output');\nif (outputEl) {{\n    x.observe(outputEl, {childList: true});\n}}\n\n                        })\n                };\n                });\n            </script>\n        </div>"
     },
     "metadata": {}
    }
   ],
   "source": [
    "df.sum().iplot(kind='bar')"
   ]
  },
  {
   "cell_type": "markdown",
   "metadata": {},
   "source": [
    "## Boxplots"
   ]
  },
  {
   "cell_type": "code",
   "execution_count": 18,
   "metadata": {},
   "outputs": [
    {
     "output_type": "display_data",
     "data": {
      "application/vnd.plotly.v1+json": {
       "config": {
        "linkText": "Export to plot.ly",
        "plotlyServerURL": "https://plot.ly",
        "showLink": true
       },
       "data": [
        {
         "boxpoints": false,
         "line": {
          "width": 1.3
         },
         "marker": {
          "color": "rgba(255, 153, 51, 1.0)"
         },
         "name": "A",
         "orientation": "v",
         "type": "box",
         "y": [
          0.08154756008965315,
          0.7294112196056034,
          -0.5954430102961661,
          0.11392668617930163,
          0.24501060951980624,
          0.010534816638921151,
          2.6364400057784594,
          0.12297180125533486,
          -0.8405470416845079,
          0.6503905079803126,
          0.02672677148625623,
          1.0390373819102718,
          0.9133276526366109,
          0.18141581073949015,
          0.9104636520368209,
          -1.40892263236515,
          -0.31567975933388454,
          2.4929469924755048,
          -0.4616394252856013,
          0.048035937256642,
          0.547119258096743,
          0.3881502777279593,
          -0.6229558942782302,
          0.1730967480960979,
          1.158573553878103,
          2.005769635483669,
          0.0009764871350639321,
          1.115750124492762,
          0.7765290283003947,
          -0.15117506367172406,
          -1.084832578987809,
          0.23376103148894553,
          -0.1821311071608296,
          0.43465292198301053,
          -1.3718084383090414,
          -0.7065580490592018,
          0.909913758991963,
          0.6969810629188408,
          1.0463714894729697,
          0.6831279695180076,
          0.24409792910146047,
          1.433229901433797,
          -0.4058507832926155,
          -1.10187824116574,
          -0.8071314308373911,
          0.8577612683913687,
          -1.0708370629080108,
          -0.9168997646164357,
          -2.1631333724515924,
          0.13079043749727665,
          0.3381626091783292,
          0.15506303239424246,
          0.7901778906730181,
          0.9305057191246837,
          0.099085161899565,
          -0.9169462506429646,
          0.36951902680482057,
          0.06925822193942366,
          -0.7198369642867564,
          -1.7245899453715674,
          -0.45008624430717875,
          0.2967832703141231,
          -1.3377202043417142,
          0.27493114755760784,
          0.45941519480195747,
          -1.6291864606638882,
          -0.22070503253306045,
          0.007709510068425308,
          0.01768433879422398,
          -0.07079772944421962,
          -1.6679549393374373,
          -0.594619630454869,
          1.0366407677017115,
          0.2819081617296796,
          1.3546788202799147,
          -0.07505679983163255,
          -0.9231210754582747,
          0.6687394981273819,
          -0.5238978468910802,
          -0.8632332797156874,
          0.4545244092944283,
          1.1078297676122262,
          -0.44292004296577747,
          -0.9184911891684518,
          -0.00401103462367758,
          0.09773503073679715,
          -0.8916894520145863,
          -2.170179314341021,
          -0.012113705461402155,
          1.5340561179830172,
          -0.18585726925530954,
          -0.4131874227536773,
          -1.3631444791162253,
          1.02004939629908,
          -0.9134507475058871,
          -0.32772598652099594,
          0.34053976632380595,
          -0.2748575672954093,
          0.8385945981431505,
          -1.1295338677638593
         ]
        },
        {
         "boxpoints": false,
         "line": {
          "width": 1.3
         },
         "marker": {
          "color": "rgba(55, 128, 191, 1.0)"
         },
         "name": "B",
         "orientation": "v",
         "type": "box",
         "y": [
          0.9239846501391048,
          0.6953024520295731,
          0.2916503621311321,
          -0.965919765688481,
          0.17191954706583218,
          0.7624116519905186,
          -0.6652284368098259,
          -0.4772016744650276,
          0.7982642870613752,
          -0.3548888991782037,
          0.6746554659039304,
          0.17857352576234595,
          2.054763084961261,
          -0.1509660537376362,
          -0.8650692283683096,
          0.22136934835948605,
          -0.4345578354252637,
          -0.8941880991505339,
          0.16429920246842383,
          0.5039931460708144,
          1.8607739043126235,
          -0.9196941311634963,
          0.799503085141445,
          -1.4450435479215027,
          -0.6072544017417235,
          0.49500505670127404,
          -0.2969998338332768,
          -0.16673200385647882,
          0.303882295816272,
          0.6744726043764007,
          0.8362026045828959,
          -0.18002551045619974,
          -0.49870969915426255,
          -0.2873512773835932,
          0.758343432345483,
          0.4346064861801654,
          -0.31777292964171794,
          -0.10655199147282932,
          -1.235611158554504,
          1.114378533758231,
          -1.2458539752494155,
          0.7741141869892867,
          -2.061430139425667,
          1.0090783960346168,
          -0.0035614682665801155,
          1.2993259230256762,
          -1.4530859670521163,
          -0.5675395884441028,
          -0.3029557917594186,
          -0.8305521833670725,
          -0.5388610646465275,
          0.11145956959528848,
          0.6905566980694475,
          -0.6056110692747558,
          -0.960534196518318,
          -2.0885118049507394,
          0.9041150734606206,
          0.47995318291304495,
          -0.14548997263476554,
          1.0524863440461119,
          -0.5611798616616022,
          -1.187334192251828,
          0.39513785300405296,
          -1.3946753976310993,
          0.24659571882049935,
          -0.2543266430056381,
          -0.5476933696255555,
          -0.28217802860274704,
          -0.5393215350313256,
          -0.8095377645697454,
          -1.8410594008385672,
          0.405702434109728,
          1.1937169003480823,
          1.581909236767621,
          -1.9180940814652665,
          1.2008090209574682,
          -0.8939329531465761,
          0.8751629307055746,
          0.29177545956713835,
          -0.9403895202828687,
          1.2286191801145336,
          -1.1950136610294053,
          0.8143533691093339,
          2.099738473353832,
          0.34499031718368306,
          -0.9010719850875789,
          0.2397697728514549,
          1.155092720172047,
          -0.5364473130500922,
          0.4116350556286882,
          -0.5224746391063635,
          -0.6780665888992978,
          -0.4083440051678913,
          1.6260859831944012,
          0.7288485407412735,
          -1.1055630627568243,
          -1.4637814591932408,
          0.008076970853890886,
          0.5256062276641782,
          -1.6605193369448148
         ]
        },
        {
         "boxpoints": false,
         "line": {
          "width": 1.3
         },
         "marker": {
          "color": "rgba(50, 171, 96, 1.0)"
         },
         "name": "C",
         "orientation": "v",
         "type": "box",
         "y": [
          0.1731897801871931,
          1.0805717454346522,
          0.1661815232188988,
          -0.4231972335987849,
          -0.2894533176460957,
          0.9497988890641357,
          1.558133953659309,
          -1.5291805685676683,
          -1.0551807024957554,
          -0.640238750476245,
          1.1446536801133733,
          0.20976504318236616,
          -1.3382958360655268,
          0.9518497188546176,
          -1.2288145585109191,
          0.11670601375788553,
          -0.2655007078065531,
          0.3688943535632997,
          -1.1547589682595232,
          -0.48901052641937004,
          0.19946934127534185,
          -1.9021996549429325,
          -0.9377069093083589,
          -0.9337351133110984,
          0.5623826885631529,
          -0.5622692926720693,
          0.11934591893240494,
          -0.4800356227742899,
          0.5104577368749124,
          -0.2795289095937796,
          -0.12692310306701218,
          0.07343796483065212,
          0.35976486569917826,
          -0.020082737660763607,
          1.1114187302743177,
          -0.863830611873298,
          -1.2783946019204804,
          1.5250607675908419,
          0.002146472280955956,
          -0.16949927720793204,
          -0.7586236333447639,
          0.17887601161337757,
          1.0517588365000778,
          -1.967048201289373,
          0.6750443213360052,
          0.6483937197172981,
          0.850693843078563,
          0.3227404170056332,
          0.34889164245916643,
          -1.0457422369419092,
          0.014022093848823814,
          -0.6973731946226839,
          1.1691260417598122,
          1.0887492305473025,
          -2.0629420159266196,
          -0.3817441839140059,
          -0.23409990190736532,
          0.13264340828353383,
          -0.08222876710525634,
          1.3688674497143116,
          1.6352216822242112,
          -1.471449110271284,
          -0.5244026362381358,
          1.4362226985951463,
          0.3085997514256125,
          0.6241273972711119,
          -1.3342724604708143,
          0.7806353792899472,
          1.9824371066258424,
          0.29970388069490195,
          1.5404486201641265,
          0.18096403741163036,
          -0.39596123536534394,
          1.9376849092721047,
          -1.3292782232149443,
          -1.4666601875527623,
          0.6242695966531804,
          -0.6176493128058889,
          -0.0750675329539289,
          0.9481856527016067,
          -1.2872360668272416,
          -0.8789159961972396,
          0.2983390403860215,
          -0.220802075095829,
          0.09694274281928222,
          1.0610922307984672,
          1.2243623444569152,
          0.4822194731439537,
          -0.4003820335468704,
          -0.11951785465035626,
          -1.6618586635524273,
          0.13157180141905434,
          0.6435258751189307,
          -1.2678693784667685,
          1.603064218833642,
          0.20869997830926718,
          0.452935272055739,
          -1.942258717894802,
          2.025334371561616,
          -0.8449746319198892
         ]
        },
        {
         "boxpoints": false,
         "line": {
          "width": 1.3
         },
         "marker": {
          "color": "rgba(128, 0, 128, 1.0)"
         },
         "name": "D",
         "orientation": "v",
         "type": "box",
         "y": [
          -1.3874849477667144,
          -1.8656498231275773,
          -0.33749021888015307,
          0.5488343617703392,
          -1.0508688271766322,
          -0.08778009754034234,
          -2.286142696234354,
          1.6257304646226955,
          0.15313810264602,
          -0.3987176989567448,
          0.35764497952947116,
          0.47354284215415654,
          -0.1723453883790165,
          -0.8914056644373052,
          1.2902095150186206,
          -1.4816870734327254,
          0.1483562742596897,
          0.3043444840057154,
          0.2539473040683697,
          0.23526044843933577,
          1.2629927352072594,
          -0.22611484087641787,
          0.7109365890900765,
          0.08756974766629698,
          0.16531812727383804,
          -0.9616230175982924,
          -0.6006186301256718,
          1.0643291101644667,
          -0.545939815993772,
          0.6430378864115665,
          0.0052357292339122495,
          -1.513604748112339,
          0.5231533677726229,
          1.3817943007055535,
          0.27125166672707574,
          1.9037269509437669,
          0.045407533647354247,
          0.3952368589656036,
          0.8083530083235367,
          -2.3419611795562294,
          -1.6511650360092605,
          0.06280541544054928,
          -0.052273312085548036,
          1.2001554553695584,
          -0.8547263820888261,
          0.5177546873595925,
          0.17508077620254087,
          1.9001590783905606,
          -0.713229459631557,
          2.373962445976622,
          0.5532735516263807,
          -0.3840168580308098,
          0.03362334697478046,
          -1.103203773813644,
          0.02346124218995091,
          0.05255960602561054,
          0.6727938023652159,
          0.5646896146548723,
          -0.6266538981748045,
          1.526513850461846,
          1.1952029124949193,
          0.9274273106965598,
          -0.33731735453322564,
          0.44685854230215055,
          1.6349709493685298,
          -0.2209708413295089,
          0.48923563646043466,
          -0.2945118225534256,
          -0.8251248149131969,
          0.00857551287297888,
          -0.13002228318371914,
          -0.9771456209548197,
          0.09469617143608043,
          -0.14593108388755036,
          0.17630435429081576,
          1.79185022241687,
          -1.8143582927777,
          0.7017241144873628,
          -0.2568340537743485,
          1.004992962769046,
          -1.85800838094076,
          0.3102690773759805,
          0.5739626686524494,
          -0.4524609135108897,
          -0.4996566096925608,
          0.3067263817491155,
          -0.33826278591067316,
          -0.9535551517747584,
          0.5543197263992433,
          -0.5380370196346342,
          -0.13926724184245634,
          -1.6050890209212885,
          0.10552377837277267,
          0.8482112437267506,
          2.6089245208845684,
          0.4010429097785106,
          1.1204122953435418,
          -0.1889293064943024,
          -1.7312277812298196,
          -0.6050912679966161
         ]
        }
       ],
       "layout": {
        "legend": {
         "bgcolor": "#F5F6F9",
         "font": {
          "color": "#4D5663"
         }
        },
        "paper_bgcolor": "#F5F6F9",
        "plot_bgcolor": "#F5F6F9",
        "template": {
         "data": {
          "bar": [
           {
            "error_x": {
             "color": "#2a3f5f"
            },
            "error_y": {
             "color": "#2a3f5f"
            },
            "marker": {
             "line": {
              "color": "#E5ECF6",
              "width": 0.5
             }
            },
            "type": "bar"
           }
          ],
          "barpolar": [
           {
            "marker": {
             "line": {
              "color": "#E5ECF6",
              "width": 0.5
             }
            },
            "type": "barpolar"
           }
          ],
          "carpet": [
           {
            "aaxis": {
             "endlinecolor": "#2a3f5f",
             "gridcolor": "white",
             "linecolor": "white",
             "minorgridcolor": "white",
             "startlinecolor": "#2a3f5f"
            },
            "baxis": {
             "endlinecolor": "#2a3f5f",
             "gridcolor": "white",
             "linecolor": "white",
             "minorgridcolor": "white",
             "startlinecolor": "#2a3f5f"
            },
            "type": "carpet"
           }
          ],
          "choropleth": [
           {
            "colorbar": {
             "outlinewidth": 0,
             "ticks": ""
            },
            "type": "choropleth"
           }
          ],
          "contour": [
           {
            "colorbar": {
             "outlinewidth": 0,
             "ticks": ""
            },
            "colorscale": [
             [
              0,
              "#0d0887"
             ],
             [
              0.1111111111111111,
              "#46039f"
             ],
             [
              0.2222222222222222,
              "#7201a8"
             ],
             [
              0.3333333333333333,
              "#9c179e"
             ],
             [
              0.4444444444444444,
              "#bd3786"
             ],
             [
              0.5555555555555556,
              "#d8576b"
             ],
             [
              0.6666666666666666,
              "#ed7953"
             ],
             [
              0.7777777777777778,
              "#fb9f3a"
             ],
             [
              0.8888888888888888,
              "#fdca26"
             ],
             [
              1,
              "#f0f921"
             ]
            ],
            "type": "contour"
           }
          ],
          "contourcarpet": [
           {
            "colorbar": {
             "outlinewidth": 0,
             "ticks": ""
            },
            "type": "contourcarpet"
           }
          ],
          "heatmap": [
           {
            "colorbar": {
             "outlinewidth": 0,
             "ticks": ""
            },
            "colorscale": [
             [
              0,
              "#0d0887"
             ],
             [
              0.1111111111111111,
              "#46039f"
             ],
             [
              0.2222222222222222,
              "#7201a8"
             ],
             [
              0.3333333333333333,
              "#9c179e"
             ],
             [
              0.4444444444444444,
              "#bd3786"
             ],
             [
              0.5555555555555556,
              "#d8576b"
             ],
             [
              0.6666666666666666,
              "#ed7953"
             ],
             [
              0.7777777777777778,
              "#fb9f3a"
             ],
             [
              0.8888888888888888,
              "#fdca26"
             ],
             [
              1,
              "#f0f921"
             ]
            ],
            "type": "heatmap"
           }
          ],
          "heatmapgl": [
           {
            "colorbar": {
             "outlinewidth": 0,
             "ticks": ""
            },
            "colorscale": [
             [
              0,
              "#0d0887"
             ],
             [
              0.1111111111111111,
              "#46039f"
             ],
             [
              0.2222222222222222,
              "#7201a8"
             ],
             [
              0.3333333333333333,
              "#9c179e"
             ],
             [
              0.4444444444444444,
              "#bd3786"
             ],
             [
              0.5555555555555556,
              "#d8576b"
             ],
             [
              0.6666666666666666,
              "#ed7953"
             ],
             [
              0.7777777777777778,
              "#fb9f3a"
             ],
             [
              0.8888888888888888,
              "#fdca26"
             ],
             [
              1,
              "#f0f921"
             ]
            ],
            "type": "heatmapgl"
           }
          ],
          "histogram": [
           {
            "marker": {
             "colorbar": {
              "outlinewidth": 0,
              "ticks": ""
             }
            },
            "type": "histogram"
           }
          ],
          "histogram2d": [
           {
            "colorbar": {
             "outlinewidth": 0,
             "ticks": ""
            },
            "colorscale": [
             [
              0,
              "#0d0887"
             ],
             [
              0.1111111111111111,
              "#46039f"
             ],
             [
              0.2222222222222222,
              "#7201a8"
             ],
             [
              0.3333333333333333,
              "#9c179e"
             ],
             [
              0.4444444444444444,
              "#bd3786"
             ],
             [
              0.5555555555555556,
              "#d8576b"
             ],
             [
              0.6666666666666666,
              "#ed7953"
             ],
             [
              0.7777777777777778,
              "#fb9f3a"
             ],
             [
              0.8888888888888888,
              "#fdca26"
             ],
             [
              1,
              "#f0f921"
             ]
            ],
            "type": "histogram2d"
           }
          ],
          "histogram2dcontour": [
           {
            "colorbar": {
             "outlinewidth": 0,
             "ticks": ""
            },
            "colorscale": [
             [
              0,
              "#0d0887"
             ],
             [
              0.1111111111111111,
              "#46039f"
             ],
             [
              0.2222222222222222,
              "#7201a8"
             ],
             [
              0.3333333333333333,
              "#9c179e"
             ],
             [
              0.4444444444444444,
              "#bd3786"
             ],
             [
              0.5555555555555556,
              "#d8576b"
             ],
             [
              0.6666666666666666,
              "#ed7953"
             ],
             [
              0.7777777777777778,
              "#fb9f3a"
             ],
             [
              0.8888888888888888,
              "#fdca26"
             ],
             [
              1,
              "#f0f921"
             ]
            ],
            "type": "histogram2dcontour"
           }
          ],
          "mesh3d": [
           {
            "colorbar": {
             "outlinewidth": 0,
             "ticks": ""
            },
            "type": "mesh3d"
           }
          ],
          "parcoords": [
           {
            "line": {
             "colorbar": {
              "outlinewidth": 0,
              "ticks": ""
             }
            },
            "type": "parcoords"
           }
          ],
          "pie": [
           {
            "automargin": true,
            "type": "pie"
           }
          ],
          "scatter": [
           {
            "marker": {
             "colorbar": {
              "outlinewidth": 0,
              "ticks": ""
             }
            },
            "type": "scatter"
           }
          ],
          "scatter3d": [
           {
            "line": {
             "colorbar": {
              "outlinewidth": 0,
              "ticks": ""
             }
            },
            "marker": {
             "colorbar": {
              "outlinewidth": 0,
              "ticks": ""
             }
            },
            "type": "scatter3d"
           }
          ],
          "scattercarpet": [
           {
            "marker": {
             "colorbar": {
              "outlinewidth": 0,
              "ticks": ""
             }
            },
            "type": "scattercarpet"
           }
          ],
          "scattergeo": [
           {
            "marker": {
             "colorbar": {
              "outlinewidth": 0,
              "ticks": ""
             }
            },
            "type": "scattergeo"
           }
          ],
          "scattergl": [
           {
            "marker": {
             "colorbar": {
              "outlinewidth": 0,
              "ticks": ""
             }
            },
            "type": "scattergl"
           }
          ],
          "scattermapbox": [
           {
            "marker": {
             "colorbar": {
              "outlinewidth": 0,
              "ticks": ""
             }
            },
            "type": "scattermapbox"
           }
          ],
          "scatterpolar": [
           {
            "marker": {
             "colorbar": {
              "outlinewidth": 0,
              "ticks": ""
             }
            },
            "type": "scatterpolar"
           }
          ],
          "scatterpolargl": [
           {
            "marker": {
             "colorbar": {
              "outlinewidth": 0,
              "ticks": ""
             }
            },
            "type": "scatterpolargl"
           }
          ],
          "scatterternary": [
           {
            "marker": {
             "colorbar": {
              "outlinewidth": 0,
              "ticks": ""
             }
            },
            "type": "scatterternary"
           }
          ],
          "surface": [
           {
            "colorbar": {
             "outlinewidth": 0,
             "ticks": ""
            },
            "colorscale": [
             [
              0,
              "#0d0887"
             ],
             [
              0.1111111111111111,
              "#46039f"
             ],
             [
              0.2222222222222222,
              "#7201a8"
             ],
             [
              0.3333333333333333,
              "#9c179e"
             ],
             [
              0.4444444444444444,
              "#bd3786"
             ],
             [
              0.5555555555555556,
              "#d8576b"
             ],
             [
              0.6666666666666666,
              "#ed7953"
             ],
             [
              0.7777777777777778,
              "#fb9f3a"
             ],
             [
              0.8888888888888888,
              "#fdca26"
             ],
             [
              1,
              "#f0f921"
             ]
            ],
            "type": "surface"
           }
          ],
          "table": [
           {
            "cells": {
             "fill": {
              "color": "#EBF0F8"
             },
             "line": {
              "color": "white"
             }
            },
            "header": {
             "fill": {
              "color": "#C8D4E3"
             },
             "line": {
              "color": "white"
             }
            },
            "type": "table"
           }
          ]
         },
         "layout": {
          "annotationdefaults": {
           "arrowcolor": "#2a3f5f",
           "arrowhead": 0,
           "arrowwidth": 1
          },
          "coloraxis": {
           "colorbar": {
            "outlinewidth": 0,
            "ticks": ""
           }
          },
          "colorscale": {
           "diverging": [
            [
             0,
             "#8e0152"
            ],
            [
             0.1,
             "#c51b7d"
            ],
            [
             0.2,
             "#de77ae"
            ],
            [
             0.3,
             "#f1b6da"
            ],
            [
             0.4,
             "#fde0ef"
            ],
            [
             0.5,
             "#f7f7f7"
            ],
            [
             0.6,
             "#e6f5d0"
            ],
            [
             0.7,
             "#b8e186"
            ],
            [
             0.8,
             "#7fbc41"
            ],
            [
             0.9,
             "#4d9221"
            ],
            [
             1,
             "#276419"
            ]
           ],
           "sequential": [
            [
             0,
             "#0d0887"
            ],
            [
             0.1111111111111111,
             "#46039f"
            ],
            [
             0.2222222222222222,
             "#7201a8"
            ],
            [
             0.3333333333333333,
             "#9c179e"
            ],
            [
             0.4444444444444444,
             "#bd3786"
            ],
            [
             0.5555555555555556,
             "#d8576b"
            ],
            [
             0.6666666666666666,
             "#ed7953"
            ],
            [
             0.7777777777777778,
             "#fb9f3a"
            ],
            [
             0.8888888888888888,
             "#fdca26"
            ],
            [
             1,
             "#f0f921"
            ]
           ],
           "sequentialminus": [
            [
             0,
             "#0d0887"
            ],
            [
             0.1111111111111111,
             "#46039f"
            ],
            [
             0.2222222222222222,
             "#7201a8"
            ],
            [
             0.3333333333333333,
             "#9c179e"
            ],
            [
             0.4444444444444444,
             "#bd3786"
            ],
            [
             0.5555555555555556,
             "#d8576b"
            ],
            [
             0.6666666666666666,
             "#ed7953"
            ],
            [
             0.7777777777777778,
             "#fb9f3a"
            ],
            [
             0.8888888888888888,
             "#fdca26"
            ],
            [
             1,
             "#f0f921"
            ]
           ]
          },
          "colorway": [
           "#636efa",
           "#EF553B",
           "#00cc96",
           "#ab63fa",
           "#FFA15A",
           "#19d3f3",
           "#FF6692",
           "#B6E880",
           "#FF97FF",
           "#FECB52"
          ],
          "font": {
           "color": "#2a3f5f"
          },
          "geo": {
           "bgcolor": "white",
           "lakecolor": "white",
           "landcolor": "#E5ECF6",
           "showlakes": true,
           "showland": true,
           "subunitcolor": "white"
          },
          "hoverlabel": {
           "align": "left"
          },
          "hovermode": "closest",
          "mapbox": {
           "style": "light"
          },
          "paper_bgcolor": "white",
          "plot_bgcolor": "#E5ECF6",
          "polar": {
           "angularaxis": {
            "gridcolor": "white",
            "linecolor": "white",
            "ticks": ""
           },
           "bgcolor": "#E5ECF6",
           "radialaxis": {
            "gridcolor": "white",
            "linecolor": "white",
            "ticks": ""
           }
          },
          "scene": {
           "xaxis": {
            "backgroundcolor": "#E5ECF6",
            "gridcolor": "white",
            "gridwidth": 2,
            "linecolor": "white",
            "showbackground": true,
            "ticks": "",
            "zerolinecolor": "white"
           },
           "yaxis": {
            "backgroundcolor": "#E5ECF6",
            "gridcolor": "white",
            "gridwidth": 2,
            "linecolor": "white",
            "showbackground": true,
            "ticks": "",
            "zerolinecolor": "white"
           },
           "zaxis": {
            "backgroundcolor": "#E5ECF6",
            "gridcolor": "white",
            "gridwidth": 2,
            "linecolor": "white",
            "showbackground": true,
            "ticks": "",
            "zerolinecolor": "white"
           }
          },
          "shapedefaults": {
           "line": {
            "color": "#2a3f5f"
           }
          },
          "ternary": {
           "aaxis": {
            "gridcolor": "white",
            "linecolor": "white",
            "ticks": ""
           },
           "baxis": {
            "gridcolor": "white",
            "linecolor": "white",
            "ticks": ""
           },
           "bgcolor": "#E5ECF6",
           "caxis": {
            "gridcolor": "white",
            "linecolor": "white",
            "ticks": ""
           }
          },
          "title": {
           "x": 0.05
          },
          "xaxis": {
           "automargin": true,
           "gridcolor": "white",
           "linecolor": "white",
           "ticks": "",
           "title": {
            "standoff": 15
           },
           "zerolinecolor": "white",
           "zerolinewidth": 2
          },
          "yaxis": {
           "automargin": true,
           "gridcolor": "white",
           "linecolor": "white",
           "ticks": "",
           "title": {
            "standoff": 15
           },
           "zerolinecolor": "white",
           "zerolinewidth": 2
          }
         }
        },
        "title": {
         "font": {
          "color": "#4D5663"
         },
         "text": "Interactive boxplot"
        },
        "xaxis": {
         "gridcolor": "#E1E5ED",
         "showgrid": true,
         "tickfont": {
          "color": "#4D5663"
         },
         "title": {
          "font": {
           "color": "#4D5663"
          },
          "text": ""
         },
         "zerolinecolor": "#E1E5ED"
        },
        "yaxis": {
         "gridcolor": "#E1E5ED",
         "showgrid": true,
         "tickfont": {
          "color": "#4D5663"
         },
         "title": {
          "font": {
           "color": "#4D5663"
          },
          "text": ""
         },
         "zerolinecolor": "#E1E5ED"
        }
       }
      },
      "text/html": "<div>\n        \n        \n            <div id=\"37b42c9d-d6cb-44f3-a9b1-136d22568ddd\" class=\"plotly-graph-div\" style=\"height:525px; width:100%;\"></div>\n            <script type=\"text/javascript\">\n                require([\"plotly\"], function(Plotly) {\n                    window.PLOTLYENV=window.PLOTLYENV || {};\n                    window.PLOTLYENV.BASE_URL='https://plot.ly';\n                    \n                if (document.getElementById(\"37b42c9d-d6cb-44f3-a9b1-136d22568ddd\")) {\n                    Plotly.newPlot(\n                        '37b42c9d-d6cb-44f3-a9b1-136d22568ddd',\n                        [{\"boxpoints\": false, \"line\": {\"width\": 1.3}, \"marker\": {\"color\": \"rgba(255, 153, 51, 1.0)\"}, \"name\": \"A\", \"orientation\": \"v\", \"type\": \"box\", \"y\": [0.08154756008965315, 0.7294112196056034, -0.5954430102961661, 0.11392668617930163, 0.24501060951980624, 0.010534816638921151, 2.6364400057784594, 0.12297180125533486, -0.8405470416845079, 0.6503905079803126, 0.02672677148625623, 1.0390373819102718, 0.9133276526366109, 0.18141581073949015, 0.9104636520368209, -1.40892263236515, -0.31567975933388454, 2.4929469924755048, -0.4616394252856013, 0.048035937256642, 0.547119258096743, 0.3881502777279593, -0.6229558942782302, 0.1730967480960979, 1.158573553878103, 2.005769635483669, 0.0009764871350639321, 1.115750124492762, 0.7765290283003947, -0.15117506367172406, -1.084832578987809, 0.23376103148894553, -0.1821311071608296, 0.43465292198301053, -1.3718084383090414, -0.7065580490592018, 0.909913758991963, 0.6969810629188408, 1.0463714894729697, 0.6831279695180076, 0.24409792910146047, 1.433229901433797, -0.4058507832926155, -1.10187824116574, -0.8071314308373911, 0.8577612683913687, -1.0708370629080108, -0.9168997646164357, -2.1631333724515924, 0.13079043749727665, 0.3381626091783292, 0.15506303239424246, 0.7901778906730181, 0.9305057191246837, 0.099085161899565, -0.9169462506429646, 0.36951902680482057, 0.06925822193942366, -0.7198369642867564, -1.7245899453715674, -0.45008624430717875, 0.2967832703141231, -1.3377202043417142, 0.27493114755760784, 0.45941519480195747, -1.6291864606638882, -0.22070503253306045, 0.007709510068425308, 0.01768433879422398, -0.07079772944421962, -1.6679549393374373, -0.594619630454869, 1.0366407677017115, 0.2819081617296796, 1.3546788202799147, -0.07505679983163255, -0.9231210754582747, 0.6687394981273819, -0.5238978468910802, -0.8632332797156874, 0.4545244092944283, 1.1078297676122262, -0.44292004296577747, -0.9184911891684518, -0.00401103462367758, 0.09773503073679715, -0.8916894520145863, -2.170179314341021, -0.012113705461402155, 1.5340561179830172, -0.18585726925530954, -0.4131874227536773, -1.3631444791162253, 1.02004939629908, -0.9134507475058871, -0.32772598652099594, 0.34053976632380595, -0.2748575672954093, 0.8385945981431505, -1.1295338677638593]}, {\"boxpoints\": false, \"line\": {\"width\": 1.3}, \"marker\": {\"color\": \"rgba(55, 128, 191, 1.0)\"}, \"name\": \"B\", \"orientation\": \"v\", \"type\": \"box\", \"y\": [0.9239846501391048, 0.6953024520295731, 0.2916503621311321, -0.965919765688481, 0.17191954706583218, 0.7624116519905186, -0.6652284368098259, -0.4772016744650276, 0.7982642870613752, -0.3548888991782037, 0.6746554659039304, 0.17857352576234595, 2.054763084961261, -0.1509660537376362, -0.8650692283683096, 0.22136934835948605, -0.4345578354252637, -0.8941880991505339, 0.16429920246842383, 0.5039931460708144, 1.8607739043126235, -0.9196941311634963, 0.799503085141445, -1.4450435479215027, -0.6072544017417235, 0.49500505670127404, -0.2969998338332768, -0.16673200385647882, 0.303882295816272, 0.6744726043764007, 0.8362026045828959, -0.18002551045619974, -0.49870969915426255, -0.2873512773835932, 0.758343432345483, 0.4346064861801654, -0.31777292964171794, -0.10655199147282932, -1.235611158554504, 1.114378533758231, -1.2458539752494155, 0.7741141869892867, -2.061430139425667, 1.0090783960346168, -0.0035614682665801155, 1.2993259230256762, -1.4530859670521163, -0.5675395884441028, -0.3029557917594186, -0.8305521833670725, -0.5388610646465275, 0.11145956959528848, 0.6905566980694475, -0.6056110692747558, -0.960534196518318, -2.0885118049507394, 0.9041150734606206, 0.47995318291304495, -0.14548997263476554, 1.0524863440461119, -0.5611798616616022, -1.187334192251828, 0.39513785300405296, -1.3946753976310993, 0.24659571882049935, -0.2543266430056381, -0.5476933696255555, -0.28217802860274704, -0.5393215350313256, -0.8095377645697454, -1.8410594008385672, 0.405702434109728, 1.1937169003480823, 1.581909236767621, -1.9180940814652665, 1.2008090209574682, -0.8939329531465761, 0.8751629307055746, 0.29177545956713835, -0.9403895202828687, 1.2286191801145336, -1.1950136610294053, 0.8143533691093339, 2.099738473353832, 0.34499031718368306, -0.9010719850875789, 0.2397697728514549, 1.155092720172047, -0.5364473130500922, 0.4116350556286882, -0.5224746391063635, -0.6780665888992978, -0.4083440051678913, 1.6260859831944012, 0.7288485407412735, -1.1055630627568243, -1.4637814591932408, 0.008076970853890886, 0.5256062276641782, -1.6605193369448148]}, {\"boxpoints\": false, \"line\": {\"width\": 1.3}, \"marker\": {\"color\": \"rgba(50, 171, 96, 1.0)\"}, \"name\": \"C\", \"orientation\": \"v\", \"type\": \"box\", \"y\": [0.1731897801871931, 1.0805717454346522, 0.1661815232188988, -0.4231972335987849, -0.2894533176460957, 0.9497988890641357, 1.558133953659309, -1.5291805685676683, -1.0551807024957554, -0.640238750476245, 1.1446536801133733, 0.20976504318236616, -1.3382958360655268, 0.9518497188546176, -1.2288145585109191, 0.11670601375788553, -0.2655007078065531, 0.3688943535632997, -1.1547589682595232, -0.48901052641937004, 0.19946934127534185, -1.9021996549429325, -0.9377069093083589, -0.9337351133110984, 0.5623826885631529, -0.5622692926720693, 0.11934591893240494, -0.4800356227742899, 0.5104577368749124, -0.2795289095937796, -0.12692310306701218, 0.07343796483065212, 0.35976486569917826, -0.020082737660763607, 1.1114187302743177, -0.863830611873298, -1.2783946019204804, 1.5250607675908419, 0.002146472280955956, -0.16949927720793204, -0.7586236333447639, 0.17887601161337757, 1.0517588365000778, -1.967048201289373, 0.6750443213360052, 0.6483937197172981, 0.850693843078563, 0.3227404170056332, 0.34889164245916643, -1.0457422369419092, 0.014022093848823814, -0.6973731946226839, 1.1691260417598122, 1.0887492305473025, -2.0629420159266196, -0.3817441839140059, -0.23409990190736532, 0.13264340828353383, -0.08222876710525634, 1.3688674497143116, 1.6352216822242112, -1.471449110271284, -0.5244026362381358, 1.4362226985951463, 0.3085997514256125, 0.6241273972711119, -1.3342724604708143, 0.7806353792899472, 1.9824371066258424, 0.29970388069490195, 1.5404486201641265, 0.18096403741163036, -0.39596123536534394, 1.9376849092721047, -1.3292782232149443, -1.4666601875527623, 0.6242695966531804, -0.6176493128058889, -0.0750675329539289, 0.9481856527016067, -1.2872360668272416, -0.8789159961972396, 0.2983390403860215, -0.220802075095829, 0.09694274281928222, 1.0610922307984672, 1.2243623444569152, 0.4822194731439537, -0.4003820335468704, -0.11951785465035626, -1.6618586635524273, 0.13157180141905434, 0.6435258751189307, -1.2678693784667685, 1.603064218833642, 0.20869997830926718, 0.452935272055739, -1.942258717894802, 2.025334371561616, -0.8449746319198892]}, {\"boxpoints\": false, \"line\": {\"width\": 1.3}, \"marker\": {\"color\": \"rgba(128, 0, 128, 1.0)\"}, \"name\": \"D\", \"orientation\": \"v\", \"type\": \"box\", \"y\": [-1.3874849477667144, -1.8656498231275773, -0.33749021888015307, 0.5488343617703392, -1.0508688271766322, -0.08778009754034234, -2.286142696234354, 1.6257304646226955, 0.15313810264602, -0.3987176989567448, 0.35764497952947116, 0.47354284215415654, -0.1723453883790165, -0.8914056644373052, 1.2902095150186206, -1.4816870734327254, 0.1483562742596897, 0.3043444840057154, 0.2539473040683697, 0.23526044843933577, 1.2629927352072594, -0.22611484087641787, 0.7109365890900765, 0.08756974766629698, 0.16531812727383804, -0.9616230175982924, -0.6006186301256718, 1.0643291101644667, -0.545939815993772, 0.6430378864115665, 0.0052357292339122495, -1.513604748112339, 0.5231533677726229, 1.3817943007055535, 0.27125166672707574, 1.9037269509437669, 0.045407533647354247, 0.3952368589656036, 0.8083530083235367, -2.3419611795562294, -1.6511650360092605, 0.06280541544054928, -0.052273312085548036, 1.2001554553695584, -0.8547263820888261, 0.5177546873595925, 0.17508077620254087, 1.9001590783905606, -0.713229459631557, 2.373962445976622, 0.5532735516263807, -0.3840168580308098, 0.03362334697478046, -1.103203773813644, 0.02346124218995091, 0.05255960602561054, 0.6727938023652159, 0.5646896146548723, -0.6266538981748045, 1.526513850461846, 1.1952029124949193, 0.9274273106965598, -0.33731735453322564, 0.44685854230215055, 1.6349709493685298, -0.2209708413295089, 0.48923563646043466, -0.2945118225534256, -0.8251248149131969, 0.00857551287297888, -0.13002228318371914, -0.9771456209548197, 0.09469617143608043, -0.14593108388755036, 0.17630435429081576, 1.79185022241687, -1.8143582927777, 0.7017241144873628, -0.2568340537743485, 1.004992962769046, -1.85800838094076, 0.3102690773759805, 0.5739626686524494, -0.4524609135108897, -0.4996566096925608, 0.3067263817491155, -0.33826278591067316, -0.9535551517747584, 0.5543197263992433, -0.5380370196346342, -0.13926724184245634, -1.6050890209212885, 0.10552377837277267, 0.8482112437267506, 2.6089245208845684, 0.4010429097785106, 1.1204122953435418, -0.1889293064943024, -1.7312277812298196, -0.6050912679966161]}],\n                        {\"legend\": {\"bgcolor\": \"#F5F6F9\", \"font\": {\"color\": \"#4D5663\"}}, \"paper_bgcolor\": \"#F5F6F9\", \"plot_bgcolor\": \"#F5F6F9\", \"template\": {\"data\": {\"bar\": [{\"error_x\": {\"color\": \"#2a3f5f\"}, \"error_y\": {\"color\": \"#2a3f5f\"}, \"marker\": {\"line\": {\"color\": \"#E5ECF6\", \"width\": 0.5}}, \"type\": \"bar\"}], \"barpolar\": [{\"marker\": {\"line\": {\"color\": \"#E5ECF6\", \"width\": 0.5}}, \"type\": \"barpolar\"}], \"carpet\": [{\"aaxis\": {\"endlinecolor\": \"#2a3f5f\", \"gridcolor\": \"white\", \"linecolor\": \"white\", \"minorgridcolor\": \"white\", \"startlinecolor\": \"#2a3f5f\"}, \"baxis\": {\"endlinecolor\": \"#2a3f5f\", \"gridcolor\": \"white\", \"linecolor\": \"white\", \"minorgridcolor\": \"white\", \"startlinecolor\": \"#2a3f5f\"}, \"type\": \"carpet\"}], \"choropleth\": [{\"colorbar\": {\"outlinewidth\": 0, \"ticks\": \"\"}, \"type\": \"choropleth\"}], \"contour\": [{\"colorbar\": {\"outlinewidth\": 0, \"ticks\": \"\"}, \"colorscale\": [[0.0, \"#0d0887\"], [0.1111111111111111, \"#46039f\"], [0.2222222222222222, \"#7201a8\"], [0.3333333333333333, \"#9c179e\"], [0.4444444444444444, \"#bd3786\"], [0.5555555555555556, \"#d8576b\"], [0.6666666666666666, \"#ed7953\"], [0.7777777777777778, \"#fb9f3a\"], [0.8888888888888888, \"#fdca26\"], [1.0, \"#f0f921\"]], \"type\": \"contour\"}], \"contourcarpet\": [{\"colorbar\": {\"outlinewidth\": 0, \"ticks\": \"\"}, \"type\": \"contourcarpet\"}], \"heatmap\": [{\"colorbar\": {\"outlinewidth\": 0, \"ticks\": \"\"}, \"colorscale\": [[0.0, \"#0d0887\"], [0.1111111111111111, \"#46039f\"], [0.2222222222222222, \"#7201a8\"], [0.3333333333333333, \"#9c179e\"], [0.4444444444444444, \"#bd3786\"], [0.5555555555555556, \"#d8576b\"], [0.6666666666666666, \"#ed7953\"], [0.7777777777777778, \"#fb9f3a\"], [0.8888888888888888, \"#fdca26\"], [1.0, \"#f0f921\"]], \"type\": \"heatmap\"}], \"heatmapgl\": [{\"colorbar\": {\"outlinewidth\": 0, \"ticks\": \"\"}, \"colorscale\": [[0.0, \"#0d0887\"], [0.1111111111111111, \"#46039f\"], [0.2222222222222222, \"#7201a8\"], [0.3333333333333333, \"#9c179e\"], [0.4444444444444444, \"#bd3786\"], [0.5555555555555556, \"#d8576b\"], [0.6666666666666666, \"#ed7953\"], [0.7777777777777778, \"#fb9f3a\"], [0.8888888888888888, \"#fdca26\"], [1.0, \"#f0f921\"]], \"type\": \"heatmapgl\"}], \"histogram\": [{\"marker\": {\"colorbar\": {\"outlinewidth\": 0, \"ticks\": \"\"}}, \"type\": \"histogram\"}], \"histogram2d\": [{\"colorbar\": {\"outlinewidth\": 0, \"ticks\": \"\"}, \"colorscale\": [[0.0, \"#0d0887\"], [0.1111111111111111, \"#46039f\"], [0.2222222222222222, \"#7201a8\"], [0.3333333333333333, \"#9c179e\"], [0.4444444444444444, \"#bd3786\"], [0.5555555555555556, \"#d8576b\"], [0.6666666666666666, \"#ed7953\"], [0.7777777777777778, \"#fb9f3a\"], [0.8888888888888888, \"#fdca26\"], [1.0, \"#f0f921\"]], \"type\": \"histogram2d\"}], \"histogram2dcontour\": [{\"colorbar\": {\"outlinewidth\": 0, \"ticks\": \"\"}, \"colorscale\": [[0.0, \"#0d0887\"], [0.1111111111111111, \"#46039f\"], [0.2222222222222222, \"#7201a8\"], [0.3333333333333333, \"#9c179e\"], [0.4444444444444444, \"#bd3786\"], [0.5555555555555556, \"#d8576b\"], [0.6666666666666666, \"#ed7953\"], [0.7777777777777778, \"#fb9f3a\"], [0.8888888888888888, \"#fdca26\"], [1.0, \"#f0f921\"]], \"type\": \"histogram2dcontour\"}], \"mesh3d\": [{\"colorbar\": {\"outlinewidth\": 0, \"ticks\": \"\"}, \"type\": \"mesh3d\"}], \"parcoords\": [{\"line\": {\"colorbar\": {\"outlinewidth\": 0, \"ticks\": \"\"}}, \"type\": \"parcoords\"}], \"pie\": [{\"automargin\": true, \"type\": \"pie\"}], \"scatter\": [{\"marker\": {\"colorbar\": {\"outlinewidth\": 0, \"ticks\": \"\"}}, \"type\": \"scatter\"}], \"scatter3d\": [{\"line\": {\"colorbar\": {\"outlinewidth\": 0, \"ticks\": \"\"}}, \"marker\": {\"colorbar\": {\"outlinewidth\": 0, \"ticks\": \"\"}}, \"type\": \"scatter3d\"}], \"scattercarpet\": [{\"marker\": {\"colorbar\": {\"outlinewidth\": 0, \"ticks\": \"\"}}, \"type\": \"scattercarpet\"}], \"scattergeo\": [{\"marker\": {\"colorbar\": {\"outlinewidth\": 0, \"ticks\": \"\"}}, \"type\": \"scattergeo\"}], \"scattergl\": [{\"marker\": {\"colorbar\": {\"outlinewidth\": 0, \"ticks\": \"\"}}, \"type\": \"scattergl\"}], \"scattermapbox\": [{\"marker\": {\"colorbar\": {\"outlinewidth\": 0, \"ticks\": \"\"}}, \"type\": \"scattermapbox\"}], \"scatterpolar\": [{\"marker\": {\"colorbar\": {\"outlinewidth\": 0, \"ticks\": \"\"}}, \"type\": \"scatterpolar\"}], \"scatterpolargl\": [{\"marker\": {\"colorbar\": {\"outlinewidth\": 0, \"ticks\": \"\"}}, \"type\": \"scatterpolargl\"}], \"scatterternary\": [{\"marker\": {\"colorbar\": {\"outlinewidth\": 0, \"ticks\": \"\"}}, \"type\": \"scatterternary\"}], \"surface\": [{\"colorbar\": {\"outlinewidth\": 0, \"ticks\": \"\"}, \"colorscale\": [[0.0, \"#0d0887\"], [0.1111111111111111, \"#46039f\"], [0.2222222222222222, \"#7201a8\"], [0.3333333333333333, \"#9c179e\"], [0.4444444444444444, \"#bd3786\"], [0.5555555555555556, \"#d8576b\"], [0.6666666666666666, \"#ed7953\"], [0.7777777777777778, \"#fb9f3a\"], [0.8888888888888888, \"#fdca26\"], [1.0, \"#f0f921\"]], \"type\": \"surface\"}], \"table\": [{\"cells\": {\"fill\": {\"color\": \"#EBF0F8\"}, \"line\": {\"color\": \"white\"}}, \"header\": {\"fill\": {\"color\": \"#C8D4E3\"}, \"line\": {\"color\": \"white\"}}, \"type\": \"table\"}]}, \"layout\": {\"annotationdefaults\": {\"arrowcolor\": \"#2a3f5f\", \"arrowhead\": 0, \"arrowwidth\": 1}, \"coloraxis\": {\"colorbar\": {\"outlinewidth\": 0, \"ticks\": \"\"}}, \"colorscale\": {\"diverging\": [[0, \"#8e0152\"], [0.1, \"#c51b7d\"], [0.2, \"#de77ae\"], [0.3, \"#f1b6da\"], [0.4, \"#fde0ef\"], [0.5, \"#f7f7f7\"], [0.6, \"#e6f5d0\"], [0.7, \"#b8e186\"], [0.8, \"#7fbc41\"], [0.9, \"#4d9221\"], [1, \"#276419\"]], \"sequential\": [[0.0, \"#0d0887\"], [0.1111111111111111, \"#46039f\"], [0.2222222222222222, \"#7201a8\"], [0.3333333333333333, \"#9c179e\"], [0.4444444444444444, \"#bd3786\"], [0.5555555555555556, \"#d8576b\"], [0.6666666666666666, \"#ed7953\"], [0.7777777777777778, \"#fb9f3a\"], [0.8888888888888888, \"#fdca26\"], [1.0, \"#f0f921\"]], \"sequentialminus\": [[0.0, \"#0d0887\"], [0.1111111111111111, \"#46039f\"], [0.2222222222222222, \"#7201a8\"], [0.3333333333333333, \"#9c179e\"], [0.4444444444444444, \"#bd3786\"], [0.5555555555555556, \"#d8576b\"], [0.6666666666666666, \"#ed7953\"], [0.7777777777777778, \"#fb9f3a\"], [0.8888888888888888, \"#fdca26\"], [1.0, \"#f0f921\"]]}, \"colorway\": [\"#636efa\", \"#EF553B\", \"#00cc96\", \"#ab63fa\", \"#FFA15A\", \"#19d3f3\", \"#FF6692\", \"#B6E880\", \"#FF97FF\", \"#FECB52\"], \"font\": {\"color\": \"#2a3f5f\"}, \"geo\": {\"bgcolor\": \"white\", \"lakecolor\": \"white\", \"landcolor\": \"#E5ECF6\", \"showlakes\": true, \"showland\": true, \"subunitcolor\": \"white\"}, \"hoverlabel\": {\"align\": \"left\"}, \"hovermode\": \"closest\", \"mapbox\": {\"style\": \"light\"}, \"paper_bgcolor\": \"white\", \"plot_bgcolor\": \"#E5ECF6\", \"polar\": {\"angularaxis\": {\"gridcolor\": \"white\", \"linecolor\": \"white\", \"ticks\": \"\"}, \"bgcolor\": \"#E5ECF6\", \"radialaxis\": {\"gridcolor\": \"white\", \"linecolor\": \"white\", \"ticks\": \"\"}}, \"scene\": {\"xaxis\": {\"backgroundcolor\": \"#E5ECF6\", \"gridcolor\": \"white\", \"gridwidth\": 2, \"linecolor\": \"white\", \"showbackground\": true, \"ticks\": \"\", \"zerolinecolor\": \"white\"}, \"yaxis\": {\"backgroundcolor\": \"#E5ECF6\", \"gridcolor\": \"white\", \"gridwidth\": 2, \"linecolor\": \"white\", \"showbackground\": true, \"ticks\": \"\", \"zerolinecolor\": \"white\"}, \"zaxis\": {\"backgroundcolor\": \"#E5ECF6\", \"gridcolor\": \"white\", \"gridwidth\": 2, \"linecolor\": \"white\", \"showbackground\": true, \"ticks\": \"\", \"zerolinecolor\": \"white\"}}, \"shapedefaults\": {\"line\": {\"color\": \"#2a3f5f\"}}, \"ternary\": {\"aaxis\": {\"gridcolor\": \"white\", \"linecolor\": \"white\", \"ticks\": \"\"}, \"baxis\": {\"gridcolor\": \"white\", \"linecolor\": \"white\", \"ticks\": \"\"}, \"bgcolor\": \"#E5ECF6\", \"caxis\": {\"gridcolor\": \"white\", \"linecolor\": \"white\", \"ticks\": \"\"}}, \"title\": {\"x\": 0.05}, \"xaxis\": {\"automargin\": true, \"gridcolor\": \"white\", \"linecolor\": \"white\", \"ticks\": \"\", \"title\": {\"standoff\": 15}, \"zerolinecolor\": \"white\", \"zerolinewidth\": 2}, \"yaxis\": {\"automargin\": true, \"gridcolor\": \"white\", \"linecolor\": \"white\", \"ticks\": \"\", \"title\": {\"standoff\": 15}, \"zerolinecolor\": \"white\", \"zerolinewidth\": 2}}}, \"title\": {\"font\": {\"color\": \"#4D5663\"}, \"text\": \"Interactive boxplot\"}, \"xaxis\": {\"gridcolor\": \"#E1E5ED\", \"showgrid\": true, \"tickfont\": {\"color\": \"#4D5663\"}, \"title\": {\"font\": {\"color\": \"#4D5663\"}, \"text\": \"\"}, \"zerolinecolor\": \"#E1E5ED\"}, \"yaxis\": {\"gridcolor\": \"#E1E5ED\", \"showgrid\": true, \"tickfont\": {\"color\": \"#4D5663\"}, \"title\": {\"font\": {\"color\": \"#4D5663\"}, \"text\": \"\"}, \"zerolinecolor\": \"#E1E5ED\"}},\n                        {\"showLink\": true, \"linkText\": \"Export to plot.ly\", \"plotlyServerURL\": \"https://plot.ly\", \"responsive\": true}\n                    ).then(function(){\n                            \nvar gd = document.getElementById('37b42c9d-d6cb-44f3-a9b1-136d22568ddd');\nvar x = new MutationObserver(function (mutations, observer) {{\n        var display = window.getComputedStyle(gd).display;\n        if (!display || display === 'none') {{\n            console.log([gd, 'removed!']);\n            Plotly.purge(gd);\n            observer.disconnect();\n        }}\n}});\n\n// Listen for the removal of the full notebook cells\nvar notebookContainer = gd.closest('#notebook-container');\nif (notebookContainer) {{\n    x.observe(notebookContainer, {childList: true});\n}}\n\n// Listen for the clearing of the current output cell\nvar outputEl = gd.closest('.output');\nif (outputEl) {{\n    x.observe(outputEl, {childList: true});\n}}\n\n                        })\n                };\n                });\n            </script>\n        </div>"
     },
     "metadata": {}
    }
   ],
   "source": [
    "df.iplot(kind='box',title='Interactive boxplot')"
   ]
  },
  {
   "cell_type": "markdown",
   "metadata": {},
   "source": [
    "## 3d Surface"
   ]
  },
  {
   "cell_type": "code",
   "execution_count": 19,
   "metadata": {
    "collapsed": false
   },
   "outputs": [
    {
     "output_type": "display_data",
     "data": {
      "application/vnd.plotly.v1+json": {
       "config": {
        "linkText": "Export to plot.ly",
        "plotlyServerURL": "https://plot.ly",
        "showLink": true
       },
       "data": [
        {
         "colorscale": [
          [
           0,
           "rgb(165,0,38)"
          ],
          [
           0.1,
           "rgb(215,48,39)"
          ],
          [
           0.2,
           "rgb(244,109,67)"
          ],
          [
           0.3,
           "rgb(253,174,97)"
          ],
          [
           0.4,
           "rgb(254,224,144)"
          ],
          [
           0.5,
           "rgb(255,255,191)"
          ],
          [
           0.6,
           "rgb(224,243,248)"
          ],
          [
           0.7,
           "rgb(171,217,233)"
          ],
          [
           0.8,
           "rgb(116,173,209)"
          ],
          [
           0.9,
           "rgb(69,117,180)"
          ],
          [
           1,
           "rgb(49,54,149)"
          ]
         ],
         "type": "surface",
         "x": [
          0,
          1,
          2,
          3,
          4
         ],
         "y": [
          "x",
          "y",
          "z"
         ],
         "z": [
          [
           1,
           2,
           3,
           4,
           5
          ],
          [
           10,
           20,
           30,
           20,
           10
          ],
          [
           5,
           4,
           3,
           2,
           1
          ]
         ]
        }
       ],
       "layout": {
        "legend": {
         "bgcolor": "#F5F6F9",
         "font": {
          "color": "#4D5663"
         }
        },
        "paper_bgcolor": "#F5F6F9",
        "plot_bgcolor": "#F5F6F9",
        "template": {
         "data": {
          "bar": [
           {
            "error_x": {
             "color": "#2a3f5f"
            },
            "error_y": {
             "color": "#2a3f5f"
            },
            "marker": {
             "line": {
              "color": "#E5ECF6",
              "width": 0.5
             }
            },
            "type": "bar"
           }
          ],
          "barpolar": [
           {
            "marker": {
             "line": {
              "color": "#E5ECF6",
              "width": 0.5
             }
            },
            "type": "barpolar"
           }
          ],
          "carpet": [
           {
            "aaxis": {
             "endlinecolor": "#2a3f5f",
             "gridcolor": "white",
             "linecolor": "white",
             "minorgridcolor": "white",
             "startlinecolor": "#2a3f5f"
            },
            "baxis": {
             "endlinecolor": "#2a3f5f",
             "gridcolor": "white",
             "linecolor": "white",
             "minorgridcolor": "white",
             "startlinecolor": "#2a3f5f"
            },
            "type": "carpet"
           }
          ],
          "choropleth": [
           {
            "colorbar": {
             "outlinewidth": 0,
             "ticks": ""
            },
            "type": "choropleth"
           }
          ],
          "contour": [
           {
            "colorbar": {
             "outlinewidth": 0,
             "ticks": ""
            },
            "colorscale": [
             [
              0,
              "#0d0887"
             ],
             [
              0.1111111111111111,
              "#46039f"
             ],
             [
              0.2222222222222222,
              "#7201a8"
             ],
             [
              0.3333333333333333,
              "#9c179e"
             ],
             [
              0.4444444444444444,
              "#bd3786"
             ],
             [
              0.5555555555555556,
              "#d8576b"
             ],
             [
              0.6666666666666666,
              "#ed7953"
             ],
             [
              0.7777777777777778,
              "#fb9f3a"
             ],
             [
              0.8888888888888888,
              "#fdca26"
             ],
             [
              1,
              "#f0f921"
             ]
            ],
            "type": "contour"
           }
          ],
          "contourcarpet": [
           {
            "colorbar": {
             "outlinewidth": 0,
             "ticks": ""
            },
            "type": "contourcarpet"
           }
          ],
          "heatmap": [
           {
            "colorbar": {
             "outlinewidth": 0,
             "ticks": ""
            },
            "colorscale": [
             [
              0,
              "#0d0887"
             ],
             [
              0.1111111111111111,
              "#46039f"
             ],
             [
              0.2222222222222222,
              "#7201a8"
             ],
             [
              0.3333333333333333,
              "#9c179e"
             ],
             [
              0.4444444444444444,
              "#bd3786"
             ],
             [
              0.5555555555555556,
              "#d8576b"
             ],
             [
              0.6666666666666666,
              "#ed7953"
             ],
             [
              0.7777777777777778,
              "#fb9f3a"
             ],
             [
              0.8888888888888888,
              "#fdca26"
             ],
             [
              1,
              "#f0f921"
             ]
            ],
            "type": "heatmap"
           }
          ],
          "heatmapgl": [
           {
            "colorbar": {
             "outlinewidth": 0,
             "ticks": ""
            },
            "colorscale": [
             [
              0,
              "#0d0887"
             ],
             [
              0.1111111111111111,
              "#46039f"
             ],
             [
              0.2222222222222222,
              "#7201a8"
             ],
             [
              0.3333333333333333,
              "#9c179e"
             ],
             [
              0.4444444444444444,
              "#bd3786"
             ],
             [
              0.5555555555555556,
              "#d8576b"
             ],
             [
              0.6666666666666666,
              "#ed7953"
             ],
             [
              0.7777777777777778,
              "#fb9f3a"
             ],
             [
              0.8888888888888888,
              "#fdca26"
             ],
             [
              1,
              "#f0f921"
             ]
            ],
            "type": "heatmapgl"
           }
          ],
          "histogram": [
           {
            "marker": {
             "colorbar": {
              "outlinewidth": 0,
              "ticks": ""
             }
            },
            "type": "histogram"
           }
          ],
          "histogram2d": [
           {
            "colorbar": {
             "outlinewidth": 0,
             "ticks": ""
            },
            "colorscale": [
             [
              0,
              "#0d0887"
             ],
             [
              0.1111111111111111,
              "#46039f"
             ],
             [
              0.2222222222222222,
              "#7201a8"
             ],
             [
              0.3333333333333333,
              "#9c179e"
             ],
             [
              0.4444444444444444,
              "#bd3786"
             ],
             [
              0.5555555555555556,
              "#d8576b"
             ],
             [
              0.6666666666666666,
              "#ed7953"
             ],
             [
              0.7777777777777778,
              "#fb9f3a"
             ],
             [
              0.8888888888888888,
              "#fdca26"
             ],
             [
              1,
              "#f0f921"
             ]
            ],
            "type": "histogram2d"
           }
          ],
          "histogram2dcontour": [
           {
            "colorbar": {
             "outlinewidth": 0,
             "ticks": ""
            },
            "colorscale": [
             [
              0,
              "#0d0887"
             ],
             [
              0.1111111111111111,
              "#46039f"
             ],
             [
              0.2222222222222222,
              "#7201a8"
             ],
             [
              0.3333333333333333,
              "#9c179e"
             ],
             [
              0.4444444444444444,
              "#bd3786"
             ],
             [
              0.5555555555555556,
              "#d8576b"
             ],
             [
              0.6666666666666666,
              "#ed7953"
             ],
             [
              0.7777777777777778,
              "#fb9f3a"
             ],
             [
              0.8888888888888888,
              "#fdca26"
             ],
             [
              1,
              "#f0f921"
             ]
            ],
            "type": "histogram2dcontour"
           }
          ],
          "mesh3d": [
           {
            "colorbar": {
             "outlinewidth": 0,
             "ticks": ""
            },
            "type": "mesh3d"
           }
          ],
          "parcoords": [
           {
            "line": {
             "colorbar": {
              "outlinewidth": 0,
              "ticks": ""
             }
            },
            "type": "parcoords"
           }
          ],
          "pie": [
           {
            "automargin": true,
            "type": "pie"
           }
          ],
          "scatter": [
           {
            "marker": {
             "colorbar": {
              "outlinewidth": 0,
              "ticks": ""
             }
            },
            "type": "scatter"
           }
          ],
          "scatter3d": [
           {
            "line": {
             "colorbar": {
              "outlinewidth": 0,
              "ticks": ""
             }
            },
            "marker": {
             "colorbar": {
              "outlinewidth": 0,
              "ticks": ""
             }
            },
            "type": "scatter3d"
           }
          ],
          "scattercarpet": [
           {
            "marker": {
             "colorbar": {
              "outlinewidth": 0,
              "ticks": ""
             }
            },
            "type": "scattercarpet"
           }
          ],
          "scattergeo": [
           {
            "marker": {
             "colorbar": {
              "outlinewidth": 0,
              "ticks": ""
             }
            },
            "type": "scattergeo"
           }
          ],
          "scattergl": [
           {
            "marker": {
             "colorbar": {
              "outlinewidth": 0,
              "ticks": ""
             }
            },
            "type": "scattergl"
           }
          ],
          "scattermapbox": [
           {
            "marker": {
             "colorbar": {
              "outlinewidth": 0,
              "ticks": ""
             }
            },
            "type": "scattermapbox"
           }
          ],
          "scatterpolar": [
           {
            "marker": {
             "colorbar": {
              "outlinewidth": 0,
              "ticks": ""
             }
            },
            "type": "scatterpolar"
           }
          ],
          "scatterpolargl": [
           {
            "marker": {
             "colorbar": {
              "outlinewidth": 0,
              "ticks": ""
             }
            },
            "type": "scatterpolargl"
           }
          ],
          "scatterternary": [
           {
            "marker": {
             "colorbar": {
              "outlinewidth": 0,
              "ticks": ""
             }
            },
            "type": "scatterternary"
           }
          ],
          "surface": [
           {
            "colorbar": {
             "outlinewidth": 0,
             "ticks": ""
            },
            "colorscale": [
             [
              0,
              "#0d0887"
             ],
             [
              0.1111111111111111,
              "#46039f"
             ],
             [
              0.2222222222222222,
              "#7201a8"
             ],
             [
              0.3333333333333333,
              "#9c179e"
             ],
             [
              0.4444444444444444,
              "#bd3786"
             ],
             [
              0.5555555555555556,
              "#d8576b"
             ],
             [
              0.6666666666666666,
              "#ed7953"
             ],
             [
              0.7777777777777778,
              "#fb9f3a"
             ],
             [
              0.8888888888888888,
              "#fdca26"
             ],
             [
              1,
              "#f0f921"
             ]
            ],
            "type": "surface"
           }
          ],
          "table": [
           {
            "cells": {
             "fill": {
              "color": "#EBF0F8"
             },
             "line": {
              "color": "white"
             }
            },
            "header": {
             "fill": {
              "color": "#C8D4E3"
             },
             "line": {
              "color": "white"
             }
            },
            "type": "table"
           }
          ]
         },
         "layout": {
          "annotationdefaults": {
           "arrowcolor": "#2a3f5f",
           "arrowhead": 0,
           "arrowwidth": 1
          },
          "coloraxis": {
           "colorbar": {
            "outlinewidth": 0,
            "ticks": ""
           }
          },
          "colorscale": {
           "diverging": [
            [
             0,
             "#8e0152"
            ],
            [
             0.1,
             "#c51b7d"
            ],
            [
             0.2,
             "#de77ae"
            ],
            [
             0.3,
             "#f1b6da"
            ],
            [
             0.4,
             "#fde0ef"
            ],
            [
             0.5,
             "#f7f7f7"
            ],
            [
             0.6,
             "#e6f5d0"
            ],
            [
             0.7,
             "#b8e186"
            ],
            [
             0.8,
             "#7fbc41"
            ],
            [
             0.9,
             "#4d9221"
            ],
            [
             1,
             "#276419"
            ]
           ],
           "sequential": [
            [
             0,
             "#0d0887"
            ],
            [
             0.1111111111111111,
             "#46039f"
            ],
            [
             0.2222222222222222,
             "#7201a8"
            ],
            [
             0.3333333333333333,
             "#9c179e"
            ],
            [
             0.4444444444444444,
             "#bd3786"
            ],
            [
             0.5555555555555556,
             "#d8576b"
            ],
            [
             0.6666666666666666,
             "#ed7953"
            ],
            [
             0.7777777777777778,
             "#fb9f3a"
            ],
            [
             0.8888888888888888,
             "#fdca26"
            ],
            [
             1,
             "#f0f921"
            ]
           ],
           "sequentialminus": [
            [
             0,
             "#0d0887"
            ],
            [
             0.1111111111111111,
             "#46039f"
            ],
            [
             0.2222222222222222,
             "#7201a8"
            ],
            [
             0.3333333333333333,
             "#9c179e"
            ],
            [
             0.4444444444444444,
             "#bd3786"
            ],
            [
             0.5555555555555556,
             "#d8576b"
            ],
            [
             0.6666666666666666,
             "#ed7953"
            ],
            [
             0.7777777777777778,
             "#fb9f3a"
            ],
            [
             0.8888888888888888,
             "#fdca26"
            ],
            [
             1,
             "#f0f921"
            ]
           ]
          },
          "colorway": [
           "#636efa",
           "#EF553B",
           "#00cc96",
           "#ab63fa",
           "#FFA15A",
           "#19d3f3",
           "#FF6692",
           "#B6E880",
           "#FF97FF",
           "#FECB52"
          ],
          "font": {
           "color": "#2a3f5f"
          },
          "geo": {
           "bgcolor": "white",
           "lakecolor": "white",
           "landcolor": "#E5ECF6",
           "showlakes": true,
           "showland": true,
           "subunitcolor": "white"
          },
          "hoverlabel": {
           "align": "left"
          },
          "hovermode": "closest",
          "mapbox": {
           "style": "light"
          },
          "paper_bgcolor": "white",
          "plot_bgcolor": "#E5ECF6",
          "polar": {
           "angularaxis": {
            "gridcolor": "white",
            "linecolor": "white",
            "ticks": ""
           },
           "bgcolor": "#E5ECF6",
           "radialaxis": {
            "gridcolor": "white",
            "linecolor": "white",
            "ticks": ""
           }
          },
          "scene": {
           "xaxis": {
            "backgroundcolor": "#E5ECF6",
            "gridcolor": "white",
            "gridwidth": 2,
            "linecolor": "white",
            "showbackground": true,
            "ticks": "",
            "zerolinecolor": "white"
           },
           "yaxis": {
            "backgroundcolor": "#E5ECF6",
            "gridcolor": "white",
            "gridwidth": 2,
            "linecolor": "white",
            "showbackground": true,
            "ticks": "",
            "zerolinecolor": "white"
           },
           "zaxis": {
            "backgroundcolor": "#E5ECF6",
            "gridcolor": "white",
            "gridwidth": 2,
            "linecolor": "white",
            "showbackground": true,
            "ticks": "",
            "zerolinecolor": "white"
           }
          },
          "shapedefaults": {
           "line": {
            "color": "#2a3f5f"
           }
          },
          "ternary": {
           "aaxis": {
            "gridcolor": "white",
            "linecolor": "white",
            "ticks": ""
           },
           "baxis": {
            "gridcolor": "white",
            "linecolor": "white",
            "ticks": ""
           },
           "bgcolor": "#E5ECF6",
           "caxis": {
            "gridcolor": "white",
            "linecolor": "white",
            "ticks": ""
           }
          },
          "title": {
           "x": 0.05
          },
          "xaxis": {
           "automargin": true,
           "gridcolor": "white",
           "linecolor": "white",
           "ticks": "",
           "title": {
            "standoff": 15
           },
           "zerolinecolor": "white",
           "zerolinewidth": 2
          },
          "yaxis": {
           "automargin": true,
           "gridcolor": "white",
           "linecolor": "white",
           "ticks": "",
           "title": {
            "standoff": 15
           },
           "zerolinecolor": "white",
           "zerolinewidth": 2
          }
         }
        },
        "title": {
         "font": {
          "color": "#4D5663"
         }
        },
        "xaxis": {
         "gridcolor": "#E1E5ED",
         "showgrid": true,
         "tickfont": {
          "color": "#4D5663"
         },
         "title": {
          "font": {
           "color": "#4D5663"
          },
          "text": ""
         },
         "zerolinecolor": "#E1E5ED"
        },
        "yaxis": {
         "gridcolor": "#E1E5ED",
         "showgrid": true,
         "tickfont": {
          "color": "#4D5663"
         },
         "title": {
          "font": {
           "color": "#4D5663"
          },
          "text": ""
         },
         "zerolinecolor": "#E1E5ED"
        }
       }
      },
      "text/html": "<div>\n        \n        \n            <div id=\"5ce5c1b4-f301-4898-822d-ace84e784ae8\" class=\"plotly-graph-div\" style=\"height:525px; width:100%;\"></div>\n            <script type=\"text/javascript\">\n                require([\"plotly\"], function(Plotly) {\n                    window.PLOTLYENV=window.PLOTLYENV || {};\n                    window.PLOTLYENV.BASE_URL='https://plot.ly';\n                    \n                if (document.getElementById(\"5ce5c1b4-f301-4898-822d-ace84e784ae8\")) {\n                    Plotly.newPlot(\n                        '5ce5c1b4-f301-4898-822d-ace84e784ae8',\n                        [{\"colorscale\": [[0.0, \"rgb(165,0,38)\"], [0.1, \"rgb(215,48,39)\"], [0.2, \"rgb(244,109,67)\"], [0.3, \"rgb(253,174,97)\"], [0.4, \"rgb(254,224,144)\"], [0.5, \"rgb(255,255,191)\"], [0.6, \"rgb(224,243,248)\"], [0.7, \"rgb(171,217,233)\"], [0.8, \"rgb(116,173,209)\"], [0.9, \"rgb(69,117,180)\"], [1.0, \"rgb(49,54,149)\"]], \"type\": \"surface\", \"x\": [0, 1, 2, 3, 4], \"y\": [\"x\", \"y\", \"z\"], \"z\": [[1, 2, 3, 4, 5], [10, 20, 30, 20, 10], [5, 4, 3, 2, 1]]}],\n                        {\"legend\": {\"bgcolor\": \"#F5F6F9\", \"font\": {\"color\": \"#4D5663\"}}, \"paper_bgcolor\": \"#F5F6F9\", \"plot_bgcolor\": \"#F5F6F9\", \"template\": {\"data\": {\"bar\": [{\"error_x\": {\"color\": \"#2a3f5f\"}, \"error_y\": {\"color\": \"#2a3f5f\"}, \"marker\": {\"line\": {\"color\": \"#E5ECF6\", \"width\": 0.5}}, \"type\": \"bar\"}], \"barpolar\": [{\"marker\": {\"line\": {\"color\": \"#E5ECF6\", \"width\": 0.5}}, \"type\": \"barpolar\"}], \"carpet\": [{\"aaxis\": {\"endlinecolor\": \"#2a3f5f\", \"gridcolor\": \"white\", \"linecolor\": \"white\", \"minorgridcolor\": \"white\", \"startlinecolor\": \"#2a3f5f\"}, \"baxis\": {\"endlinecolor\": \"#2a3f5f\", \"gridcolor\": \"white\", \"linecolor\": \"white\", \"minorgridcolor\": \"white\", \"startlinecolor\": \"#2a3f5f\"}, \"type\": \"carpet\"}], \"choropleth\": [{\"colorbar\": {\"outlinewidth\": 0, \"ticks\": \"\"}, \"type\": \"choropleth\"}], \"contour\": [{\"colorbar\": {\"outlinewidth\": 0, \"ticks\": \"\"}, \"colorscale\": [[0.0, \"#0d0887\"], [0.1111111111111111, \"#46039f\"], [0.2222222222222222, \"#7201a8\"], [0.3333333333333333, \"#9c179e\"], [0.4444444444444444, \"#bd3786\"], [0.5555555555555556, \"#d8576b\"], [0.6666666666666666, \"#ed7953\"], [0.7777777777777778, \"#fb9f3a\"], [0.8888888888888888, \"#fdca26\"], [1.0, \"#f0f921\"]], \"type\": \"contour\"}], \"contourcarpet\": [{\"colorbar\": {\"outlinewidth\": 0, \"ticks\": \"\"}, \"type\": \"contourcarpet\"}], \"heatmap\": [{\"colorbar\": {\"outlinewidth\": 0, \"ticks\": \"\"}, \"colorscale\": [[0.0, \"#0d0887\"], [0.1111111111111111, \"#46039f\"], [0.2222222222222222, \"#7201a8\"], [0.3333333333333333, \"#9c179e\"], [0.4444444444444444, \"#bd3786\"], [0.5555555555555556, \"#d8576b\"], [0.6666666666666666, \"#ed7953\"], [0.7777777777777778, \"#fb9f3a\"], [0.8888888888888888, \"#fdca26\"], [1.0, \"#f0f921\"]], \"type\": \"heatmap\"}], \"heatmapgl\": [{\"colorbar\": {\"outlinewidth\": 0, \"ticks\": \"\"}, \"colorscale\": [[0.0, \"#0d0887\"], [0.1111111111111111, \"#46039f\"], [0.2222222222222222, \"#7201a8\"], [0.3333333333333333, \"#9c179e\"], [0.4444444444444444, \"#bd3786\"], [0.5555555555555556, \"#d8576b\"], [0.6666666666666666, \"#ed7953\"], [0.7777777777777778, \"#fb9f3a\"], [0.8888888888888888, \"#fdca26\"], [1.0, \"#f0f921\"]], \"type\": \"heatmapgl\"}], \"histogram\": [{\"marker\": {\"colorbar\": {\"outlinewidth\": 0, \"ticks\": \"\"}}, \"type\": \"histogram\"}], \"histogram2d\": [{\"colorbar\": {\"outlinewidth\": 0, \"ticks\": \"\"}, \"colorscale\": [[0.0, \"#0d0887\"], [0.1111111111111111, \"#46039f\"], [0.2222222222222222, \"#7201a8\"], [0.3333333333333333, \"#9c179e\"], [0.4444444444444444, \"#bd3786\"], [0.5555555555555556, \"#d8576b\"], [0.6666666666666666, \"#ed7953\"], [0.7777777777777778, \"#fb9f3a\"], [0.8888888888888888, \"#fdca26\"], [1.0, \"#f0f921\"]], \"type\": \"histogram2d\"}], \"histogram2dcontour\": [{\"colorbar\": {\"outlinewidth\": 0, \"ticks\": \"\"}, \"colorscale\": [[0.0, \"#0d0887\"], [0.1111111111111111, \"#46039f\"], [0.2222222222222222, \"#7201a8\"], [0.3333333333333333, \"#9c179e\"], [0.4444444444444444, \"#bd3786\"], [0.5555555555555556, \"#d8576b\"], [0.6666666666666666, \"#ed7953\"], [0.7777777777777778, \"#fb9f3a\"], [0.8888888888888888, \"#fdca26\"], [1.0, \"#f0f921\"]], \"type\": \"histogram2dcontour\"}], \"mesh3d\": [{\"colorbar\": {\"outlinewidth\": 0, \"ticks\": \"\"}, \"type\": \"mesh3d\"}], \"parcoords\": [{\"line\": {\"colorbar\": {\"outlinewidth\": 0, \"ticks\": \"\"}}, \"type\": \"parcoords\"}], \"pie\": [{\"automargin\": true, \"type\": \"pie\"}], \"scatter\": [{\"marker\": {\"colorbar\": {\"outlinewidth\": 0, \"ticks\": \"\"}}, \"type\": \"scatter\"}], \"scatter3d\": [{\"line\": {\"colorbar\": {\"outlinewidth\": 0, \"ticks\": \"\"}}, \"marker\": {\"colorbar\": {\"outlinewidth\": 0, \"ticks\": \"\"}}, \"type\": \"scatter3d\"}], \"scattercarpet\": [{\"marker\": {\"colorbar\": {\"outlinewidth\": 0, \"ticks\": \"\"}}, \"type\": \"scattercarpet\"}], \"scattergeo\": [{\"marker\": {\"colorbar\": {\"outlinewidth\": 0, \"ticks\": \"\"}}, \"type\": \"scattergeo\"}], \"scattergl\": [{\"marker\": {\"colorbar\": {\"outlinewidth\": 0, \"ticks\": \"\"}}, \"type\": \"scattergl\"}], \"scattermapbox\": [{\"marker\": {\"colorbar\": {\"outlinewidth\": 0, \"ticks\": \"\"}}, \"type\": \"scattermapbox\"}], \"scatterpolar\": [{\"marker\": {\"colorbar\": {\"outlinewidth\": 0, \"ticks\": \"\"}}, \"type\": \"scatterpolar\"}], \"scatterpolargl\": [{\"marker\": {\"colorbar\": {\"outlinewidth\": 0, \"ticks\": \"\"}}, \"type\": \"scatterpolargl\"}], \"scatterternary\": [{\"marker\": {\"colorbar\": {\"outlinewidth\": 0, \"ticks\": \"\"}}, \"type\": \"scatterternary\"}], \"surface\": [{\"colorbar\": {\"outlinewidth\": 0, \"ticks\": \"\"}, \"colorscale\": [[0.0, \"#0d0887\"], [0.1111111111111111, \"#46039f\"], [0.2222222222222222, \"#7201a8\"], [0.3333333333333333, \"#9c179e\"], [0.4444444444444444, \"#bd3786\"], [0.5555555555555556, \"#d8576b\"], [0.6666666666666666, \"#ed7953\"], [0.7777777777777778, \"#fb9f3a\"], [0.8888888888888888, \"#fdca26\"], [1.0, \"#f0f921\"]], \"type\": \"surface\"}], \"table\": [{\"cells\": {\"fill\": {\"color\": \"#EBF0F8\"}, \"line\": {\"color\": \"white\"}}, \"header\": {\"fill\": {\"color\": \"#C8D4E3\"}, \"line\": {\"color\": \"white\"}}, \"type\": \"table\"}]}, \"layout\": {\"annotationdefaults\": {\"arrowcolor\": \"#2a3f5f\", \"arrowhead\": 0, \"arrowwidth\": 1}, \"coloraxis\": {\"colorbar\": {\"outlinewidth\": 0, \"ticks\": \"\"}}, \"colorscale\": {\"diverging\": [[0, \"#8e0152\"], [0.1, \"#c51b7d\"], [0.2, \"#de77ae\"], [0.3, \"#f1b6da\"], [0.4, \"#fde0ef\"], [0.5, \"#f7f7f7\"], [0.6, \"#e6f5d0\"], [0.7, \"#b8e186\"], [0.8, \"#7fbc41\"], [0.9, \"#4d9221\"], [1, \"#276419\"]], \"sequential\": [[0.0, \"#0d0887\"], [0.1111111111111111, \"#46039f\"], [0.2222222222222222, \"#7201a8\"], [0.3333333333333333, \"#9c179e\"], [0.4444444444444444, \"#bd3786\"], [0.5555555555555556, \"#d8576b\"], [0.6666666666666666, \"#ed7953\"], [0.7777777777777778, \"#fb9f3a\"], [0.8888888888888888, \"#fdca26\"], [1.0, \"#f0f921\"]], \"sequentialminus\": [[0.0, \"#0d0887\"], [0.1111111111111111, \"#46039f\"], [0.2222222222222222, \"#7201a8\"], [0.3333333333333333, \"#9c179e\"], [0.4444444444444444, \"#bd3786\"], [0.5555555555555556, \"#d8576b\"], [0.6666666666666666, \"#ed7953\"], [0.7777777777777778, \"#fb9f3a\"], [0.8888888888888888, \"#fdca26\"], [1.0, \"#f0f921\"]]}, \"colorway\": [\"#636efa\", \"#EF553B\", \"#00cc96\", \"#ab63fa\", \"#FFA15A\", \"#19d3f3\", \"#FF6692\", \"#B6E880\", \"#FF97FF\", \"#FECB52\"], \"font\": {\"color\": \"#2a3f5f\"}, \"geo\": {\"bgcolor\": \"white\", \"lakecolor\": \"white\", \"landcolor\": \"#E5ECF6\", \"showlakes\": true, \"showland\": true, \"subunitcolor\": \"white\"}, \"hoverlabel\": {\"align\": \"left\"}, \"hovermode\": \"closest\", \"mapbox\": {\"style\": \"light\"}, \"paper_bgcolor\": \"white\", \"plot_bgcolor\": \"#E5ECF6\", \"polar\": {\"angularaxis\": {\"gridcolor\": \"white\", \"linecolor\": \"white\", \"ticks\": \"\"}, \"bgcolor\": \"#E5ECF6\", \"radialaxis\": {\"gridcolor\": \"white\", \"linecolor\": \"white\", \"ticks\": \"\"}}, \"scene\": {\"xaxis\": {\"backgroundcolor\": \"#E5ECF6\", \"gridcolor\": \"white\", \"gridwidth\": 2, \"linecolor\": \"white\", \"showbackground\": true, \"ticks\": \"\", \"zerolinecolor\": \"white\"}, \"yaxis\": {\"backgroundcolor\": \"#E5ECF6\", \"gridcolor\": \"white\", \"gridwidth\": 2, \"linecolor\": \"white\", \"showbackground\": true, \"ticks\": \"\", \"zerolinecolor\": \"white\"}, \"zaxis\": {\"backgroundcolor\": \"#E5ECF6\", \"gridcolor\": \"white\", \"gridwidth\": 2, \"linecolor\": \"white\", \"showbackground\": true, \"ticks\": \"\", \"zerolinecolor\": \"white\"}}, \"shapedefaults\": {\"line\": {\"color\": \"#2a3f5f\"}}, \"ternary\": {\"aaxis\": {\"gridcolor\": \"white\", \"linecolor\": \"white\", \"ticks\": \"\"}, \"baxis\": {\"gridcolor\": \"white\", \"linecolor\": \"white\", \"ticks\": \"\"}, \"bgcolor\": \"#E5ECF6\", \"caxis\": {\"gridcolor\": \"white\", \"linecolor\": \"white\", \"ticks\": \"\"}}, \"title\": {\"x\": 0.05}, \"xaxis\": {\"automargin\": true, \"gridcolor\": \"white\", \"linecolor\": \"white\", \"ticks\": \"\", \"title\": {\"standoff\": 15}, \"zerolinecolor\": \"white\", \"zerolinewidth\": 2}, \"yaxis\": {\"automargin\": true, \"gridcolor\": \"white\", \"linecolor\": \"white\", \"ticks\": \"\", \"title\": {\"standoff\": 15}, \"zerolinecolor\": \"white\", \"zerolinewidth\": 2}}}, \"title\": {\"font\": {\"color\": \"#4D5663\"}}, \"xaxis\": {\"gridcolor\": \"#E1E5ED\", \"showgrid\": true, \"tickfont\": {\"color\": \"#4D5663\"}, \"title\": {\"font\": {\"color\": \"#4D5663\"}, \"text\": \"\"}, \"zerolinecolor\": \"#E1E5ED\"}, \"yaxis\": {\"gridcolor\": \"#E1E5ED\", \"showgrid\": true, \"tickfont\": {\"color\": \"#4D5663\"}, \"title\": {\"font\": {\"color\": \"#4D5663\"}, \"text\": \"\"}, \"zerolinecolor\": \"#E1E5ED\"}},\n                        {\"showLink\": true, \"linkText\": \"Export to plot.ly\", \"plotlyServerURL\": \"https://plot.ly\", \"responsive\": true}\n                    ).then(function(){\n                            \nvar gd = document.getElementById('5ce5c1b4-f301-4898-822d-ace84e784ae8');\nvar x = new MutationObserver(function (mutations, observer) {{\n        var display = window.getComputedStyle(gd).display;\n        if (!display || display === 'none') {{\n            console.log([gd, 'removed!']);\n            Plotly.purge(gd);\n            observer.disconnect();\n        }}\n}});\n\n// Listen for the removal of the full notebook cells\nvar notebookContainer = gd.closest('#notebook-container');\nif (notebookContainer) {{\n    x.observe(notebookContainer, {childList: true});\n}}\n\n// Listen for the clearing of the current output cell\nvar outputEl = gd.closest('.output');\nif (outputEl) {{\n    x.observe(outputEl, {childList: true});\n}}\n\n                        })\n                };\n                });\n            </script>\n        </div>"
     },
     "metadata": {}
    }
   ],
   "source": [
    "df3 = pd.DataFrame({'x':[1,2,3,4,5],'y':[10,20,30,20,10],'z':[5,4,3,2,1]})\n",
    "df3.iplot(kind='surface',colorscale='rdylbu')"
   ]
  },
  {
   "cell_type": "markdown",
   "metadata": {},
   "source": [
    "## Spread"
   ]
  },
  {
   "cell_type": "code",
   "execution_count": 20,
   "metadata": {
    "collapsed": false
   },
   "outputs": [
    {
     "output_type": "display_data",
     "data": {
      "application/vnd.plotly.v1+json": {
       "config": {
        "linkText": "Export to plot.ly",
        "plotlyServerURL": "https://plot.ly",
        "showLink": true
       },
       "data": [
        {
         "line": {
          "color": "rgba(255, 153, 51, 1.0)",
          "dash": "solid",
          "shape": "linear",
          "width": 1.3
         },
         "mode": "lines",
         "name": "A",
         "text": "",
         "type": "scatter",
         "x": [
          0,
          1,
          2,
          3,
          4,
          5,
          6,
          7,
          8,
          9,
          10,
          11,
          12,
          13,
          14,
          15,
          16,
          17,
          18,
          19,
          20,
          21,
          22,
          23,
          24,
          25,
          26,
          27,
          28,
          29,
          30,
          31,
          32,
          33,
          34,
          35,
          36,
          37,
          38,
          39,
          40,
          41,
          42,
          43,
          44,
          45,
          46,
          47,
          48,
          49,
          50,
          51,
          52,
          53,
          54,
          55,
          56,
          57,
          58,
          59,
          60,
          61,
          62,
          63,
          64,
          65,
          66,
          67,
          68,
          69,
          70,
          71,
          72,
          73,
          74,
          75,
          76,
          77,
          78,
          79,
          80,
          81,
          82,
          83,
          84,
          85,
          86,
          87,
          88,
          89,
          90,
          91,
          92,
          93,
          94,
          95,
          96,
          97,
          98,
          99
         ],
         "y": [
          0.08154756008965315,
          0.7294112196056034,
          -0.5954430102961661,
          0.11392668617930163,
          0.24501060951980624,
          0.010534816638921151,
          2.6364400057784594,
          0.12297180125533486,
          -0.8405470416845079,
          0.6503905079803126,
          0.02672677148625623,
          1.0390373819102718,
          0.9133276526366109,
          0.18141581073949015,
          0.9104636520368209,
          -1.40892263236515,
          -0.31567975933388454,
          2.4929469924755048,
          -0.4616394252856013,
          0.048035937256642,
          0.547119258096743,
          0.3881502777279593,
          -0.6229558942782302,
          0.1730967480960979,
          1.158573553878103,
          2.005769635483669,
          0.0009764871350639321,
          1.115750124492762,
          0.7765290283003947,
          -0.15117506367172406,
          -1.084832578987809,
          0.23376103148894553,
          -0.1821311071608296,
          0.43465292198301053,
          -1.3718084383090414,
          -0.7065580490592018,
          0.909913758991963,
          0.6969810629188408,
          1.0463714894729697,
          0.6831279695180076,
          0.24409792910146047,
          1.433229901433797,
          -0.4058507832926155,
          -1.10187824116574,
          -0.8071314308373911,
          0.8577612683913687,
          -1.0708370629080108,
          -0.9168997646164357,
          -2.1631333724515924,
          0.13079043749727665,
          0.3381626091783292,
          0.15506303239424246,
          0.7901778906730181,
          0.9305057191246837,
          0.099085161899565,
          -0.9169462506429646,
          0.36951902680482057,
          0.06925822193942366,
          -0.7198369642867564,
          -1.7245899453715674,
          -0.45008624430717875,
          0.2967832703141231,
          -1.3377202043417142,
          0.27493114755760784,
          0.45941519480195747,
          -1.6291864606638882,
          -0.22070503253306045,
          0.007709510068425308,
          0.01768433879422398,
          -0.07079772944421962,
          -1.6679549393374373,
          -0.594619630454869,
          1.0366407677017115,
          0.2819081617296796,
          1.3546788202799147,
          -0.07505679983163255,
          -0.9231210754582747,
          0.6687394981273819,
          -0.5238978468910802,
          -0.8632332797156874,
          0.4545244092944283,
          1.1078297676122262,
          -0.44292004296577747,
          -0.9184911891684518,
          -0.00401103462367758,
          0.09773503073679715,
          -0.8916894520145863,
          -2.170179314341021,
          -0.012113705461402155,
          1.5340561179830172,
          -0.18585726925530954,
          -0.4131874227536773,
          -1.3631444791162253,
          1.02004939629908,
          -0.9134507475058871,
          -0.32772598652099594,
          0.34053976632380595,
          -0.2748575672954093,
          0.8385945981431505,
          -1.1295338677638593
         ]
        },
        {
         "line": {
          "color": "rgba(55, 128, 191, 1.0)",
          "dash": "solid",
          "shape": "linear",
          "width": 1.3
         },
         "mode": "lines",
         "name": "B",
         "text": "",
         "type": "scatter",
         "x": [
          0,
          1,
          2,
          3,
          4,
          5,
          6,
          7,
          8,
          9,
          10,
          11,
          12,
          13,
          14,
          15,
          16,
          17,
          18,
          19,
          20,
          21,
          22,
          23,
          24,
          25,
          26,
          27,
          28,
          29,
          30,
          31,
          32,
          33,
          34,
          35,
          36,
          37,
          38,
          39,
          40,
          41,
          42,
          43,
          44,
          45,
          46,
          47,
          48,
          49,
          50,
          51,
          52,
          53,
          54,
          55,
          56,
          57,
          58,
          59,
          60,
          61,
          62,
          63,
          64,
          65,
          66,
          67,
          68,
          69,
          70,
          71,
          72,
          73,
          74,
          75,
          76,
          77,
          78,
          79,
          80,
          81,
          82,
          83,
          84,
          85,
          86,
          87,
          88,
          89,
          90,
          91,
          92,
          93,
          94,
          95,
          96,
          97,
          98,
          99
         ],
         "y": [
          0.9239846501391048,
          0.6953024520295731,
          0.2916503621311321,
          -0.965919765688481,
          0.17191954706583218,
          0.7624116519905186,
          -0.6652284368098259,
          -0.4772016744650276,
          0.7982642870613752,
          -0.3548888991782037,
          0.6746554659039304,
          0.17857352576234595,
          2.054763084961261,
          -0.1509660537376362,
          -0.8650692283683096,
          0.22136934835948605,
          -0.4345578354252637,
          -0.8941880991505339,
          0.16429920246842383,
          0.5039931460708144,
          1.8607739043126235,
          -0.9196941311634963,
          0.799503085141445,
          -1.4450435479215027,
          -0.6072544017417235,
          0.49500505670127404,
          -0.2969998338332768,
          -0.16673200385647882,
          0.303882295816272,
          0.6744726043764007,
          0.8362026045828959,
          -0.18002551045619974,
          -0.49870969915426255,
          -0.2873512773835932,
          0.758343432345483,
          0.4346064861801654,
          -0.31777292964171794,
          -0.10655199147282932,
          -1.235611158554504,
          1.114378533758231,
          -1.2458539752494155,
          0.7741141869892867,
          -2.061430139425667,
          1.0090783960346168,
          -0.0035614682665801155,
          1.2993259230256762,
          -1.4530859670521163,
          -0.5675395884441028,
          -0.3029557917594186,
          -0.8305521833670725,
          -0.5388610646465275,
          0.11145956959528848,
          0.6905566980694475,
          -0.6056110692747558,
          -0.960534196518318,
          -2.0885118049507394,
          0.9041150734606206,
          0.47995318291304495,
          -0.14548997263476554,
          1.0524863440461119,
          -0.5611798616616022,
          -1.187334192251828,
          0.39513785300405296,
          -1.3946753976310993,
          0.24659571882049935,
          -0.2543266430056381,
          -0.5476933696255555,
          -0.28217802860274704,
          -0.5393215350313256,
          -0.8095377645697454,
          -1.8410594008385672,
          0.405702434109728,
          1.1937169003480823,
          1.581909236767621,
          -1.9180940814652665,
          1.2008090209574682,
          -0.8939329531465761,
          0.8751629307055746,
          0.29177545956713835,
          -0.9403895202828687,
          1.2286191801145336,
          -1.1950136610294053,
          0.8143533691093339,
          2.099738473353832,
          0.34499031718368306,
          -0.9010719850875789,
          0.2397697728514549,
          1.155092720172047,
          -0.5364473130500922,
          0.4116350556286882,
          -0.5224746391063635,
          -0.6780665888992978,
          -0.4083440051678913,
          1.6260859831944012,
          0.7288485407412735,
          -1.1055630627568243,
          -1.4637814591932408,
          0.008076970853890886,
          0.5256062276641782,
          -1.6605193369448148
         ]
        },
        {
         "connectgaps": false,
         "fill": "tozeroy",
         "line": {
          "color": "green",
          "dash": "solid",
          "shape": "linear",
          "width": 0.5
         },
         "mode": "lines",
         "name": "Spread",
         "showlegend": false,
         "type": "scatter",
         "x": [
          0,
          1,
          2,
          3,
          4,
          5,
          6,
          7,
          8,
          9,
          10,
          11,
          12,
          13,
          14,
          15,
          16,
          17,
          18,
          19,
          20,
          21,
          22,
          23,
          24,
          25,
          26,
          27,
          28,
          29,
          30,
          31,
          32,
          33,
          34,
          35,
          36,
          37,
          38,
          39,
          40,
          41,
          42,
          43,
          44,
          45,
          46,
          47,
          48,
          49,
          50,
          51,
          52,
          53,
          54,
          55,
          56,
          57,
          58,
          59,
          60,
          61,
          62,
          63,
          64,
          65,
          66,
          67,
          68,
          69,
          70,
          71,
          72,
          73,
          74,
          75,
          76,
          77,
          78,
          79,
          80,
          81,
          82,
          83,
          84,
          85,
          86,
          87,
          88,
          89,
          90,
          91,
          92,
          93,
          94,
          95,
          96,
          97,
          98,
          99
         ],
         "xaxis": "x2",
         "y": [
          "",
          0.03410876757603032,
          "",
          1.0798464518677826,
          0.07309106245397406,
          "",
          3.3016684425882854,
          0.6001734757203625,
          "",
          1.0052794071585163,
          "",
          0.8604638561479259,
          "",
          0.33238186447712637,
          1.7755328804051305,
          "",
          0.11887807609137918,
          3.3871350916260385,
          "",
          "",
          "",
          1.3078444088914556,
          "",
          1.6181402960176006,
          1.7658279556198266,
          1.5107645787823951,
          0.29797632096834076,
          1.2824821283492407,
          0.4726467324841227,
          "",
          "",
          0.4137865419451453,
          0.31657859199343297,
          0.7220041993666038,
          "",
          "",
          1.227686688633681,
          0.8035330543916701,
          2.2819826480274736,
          "",
          1.489951904350876,
          0.6591157144445103,
          1.6555793561330516,
          "",
          "",
          "",
          0.3822489041441055,
          "",
          "",
          0.9613426208643492,
          0.8770236738248567,
          0.04360346279895398,
          0.09962119260357061,
          1.5361167883994395,
          1.059619358417883,
          1.1715655543077748,
          "",
          "",
          "",
          "",
          0.11109361735442341,
          1.484117462565951,
          "",
          1.669606545188707,
          0.21281947598145812,
          "",
          0.32698833709249503,
          0.28988753867117234,
          0.5570058738255496,
          0.7387400351255258,
          0.1731044615011299,
          "",
          "",
          "",
          3.2727729017451814,
          "",
          "",
          "",
          "",
          0.07715624056718129,
          "",
          2.3028434286416317,
          "",
          "",
          "",
          0.998807015824376,
          "",
          "",
          0.5243336075886901,
          1.122421062354329,
          0.33661736985105395,
          0.2648791661456205,
          "",
          "",
          "",
          0.7778370762358283,
          1.8043212255170467,
          "",
          0.3129883704789723,
          0.5309854691809555
         ],
         "yaxis": "y2"
        },
        {
         "connectgaps": false,
         "fill": "tozeroy",
         "line": {
          "color": "red",
          "dash": "solid",
          "shape": "linear",
          "width": 0.5
         },
         "mode": "lines",
         "name": "Spread",
         "showlegend": false,
         "type": "scatter",
         "x": [
          0,
          1,
          2,
          3,
          4,
          5,
          6,
          7,
          8,
          9,
          10,
          11,
          12,
          13,
          14,
          15,
          16,
          17,
          18,
          19,
          20,
          21,
          22,
          23,
          24,
          25,
          26,
          27,
          28,
          29,
          30,
          31,
          32,
          33,
          34,
          35,
          36,
          37,
          38,
          39,
          40,
          41,
          42,
          43,
          44,
          45,
          46,
          47,
          48,
          49,
          50,
          51,
          52,
          53,
          54,
          55,
          56,
          57,
          58,
          59,
          60,
          61,
          62,
          63,
          64,
          65,
          66,
          67,
          68,
          69,
          70,
          71,
          72,
          73,
          74,
          75,
          76,
          77,
          78,
          79,
          80,
          81,
          82,
          83,
          84,
          85,
          86,
          87,
          88,
          89,
          90,
          91,
          92,
          93,
          94,
          95,
          96,
          97,
          98,
          99
         ],
         "xaxis": "x2",
         "y": [
          -0.8424370900494517,
          "",
          -0.8870933724272982,
          "",
          "",
          -0.7518768353515974,
          "",
          "",
          -1.638811328745883,
          "",
          -0.6479286944176742,
          "",
          -1.1414354323246503,
          "",
          "",
          -1.630291980724636,
          "",
          "",
          -0.6259386277540251,
          -0.45595720881417234,
          -1.3136546462158805,
          "",
          -1.4224589794196751,
          "",
          "",
          "",
          "",
          "",
          "",
          -0.8256476680481247,
          -1.921035183570705,
          "",
          "",
          "",
          -2.130151870654524,
          -1.1411645352393673,
          "",
          "",
          "",
          -0.43125056424022346,
          "",
          "",
          "",
          -2.1109566372003568,
          -0.803569962570811,
          -0.4415646546343075,
          "",
          -0.34936017617233295,
          -1.8601775806921739,
          "",
          "",
          "",
          "",
          "",
          "",
          "",
          -0.5345960466558,
          -0.4106949609736213,
          -0.5743469916519908,
          -2.7770762894176793,
          "",
          "",
          -1.7328580573457673,
          "",
          "",
          -1.37485981765825,
          "",
          "",
          "",
          "",
          "",
          -1.000322064564597,
          -0.15707613264637077,
          -1.3000010750379416,
          "",
          -1.2758658207891007,
          -0.02918812231169865,
          -0.20642343257819273,
          -0.8156733064582186,
          "",
          -0.7740947708201054,
          "",
          -1.2572734120751115,
          -3.018229662522284,
          -0.34900135180736064,
          "",
          -1.1314592248660411,
          -3.325272034513068,
          "",
          "",
          "",
          "",
          -0.954800473948334,
          -0.6060365868953212,
          -1.6422992882471605,
          "",
          "",
          -0.28293453814930014,
          "",
          ""
         ],
         "yaxis": "y2"
        }
       ],
       "layout": {
        "hovermode": "x",
        "legend": {
         "bgcolor": "#F5F6F9",
         "font": {
          "color": "#4D5663"
         }
        },
        "paper_bgcolor": "#F5F6F9",
        "plot_bgcolor": "#F5F6F9",
        "template": {
         "data": {
          "bar": [
           {
            "error_x": {
             "color": "#2a3f5f"
            },
            "error_y": {
             "color": "#2a3f5f"
            },
            "marker": {
             "line": {
              "color": "#E5ECF6",
              "width": 0.5
             }
            },
            "type": "bar"
           }
          ],
          "barpolar": [
           {
            "marker": {
             "line": {
              "color": "#E5ECF6",
              "width": 0.5
             }
            },
            "type": "barpolar"
           }
          ],
          "carpet": [
           {
            "aaxis": {
             "endlinecolor": "#2a3f5f",
             "gridcolor": "white",
             "linecolor": "white",
             "minorgridcolor": "white",
             "startlinecolor": "#2a3f5f"
            },
            "baxis": {
             "endlinecolor": "#2a3f5f",
             "gridcolor": "white",
             "linecolor": "white",
             "minorgridcolor": "white",
             "startlinecolor": "#2a3f5f"
            },
            "type": "carpet"
           }
          ],
          "choropleth": [
           {
            "colorbar": {
             "outlinewidth": 0,
             "ticks": ""
            },
            "type": "choropleth"
           }
          ],
          "contour": [
           {
            "colorbar": {
             "outlinewidth": 0,
             "ticks": ""
            },
            "colorscale": [
             [
              0,
              "#0d0887"
             ],
             [
              0.1111111111111111,
              "#46039f"
             ],
             [
              0.2222222222222222,
              "#7201a8"
             ],
             [
              0.3333333333333333,
              "#9c179e"
             ],
             [
              0.4444444444444444,
              "#bd3786"
             ],
             [
              0.5555555555555556,
              "#d8576b"
             ],
             [
              0.6666666666666666,
              "#ed7953"
             ],
             [
              0.7777777777777778,
              "#fb9f3a"
             ],
             [
              0.8888888888888888,
              "#fdca26"
             ],
             [
              1,
              "#f0f921"
             ]
            ],
            "type": "contour"
           }
          ],
          "contourcarpet": [
           {
            "colorbar": {
             "outlinewidth": 0,
             "ticks": ""
            },
            "type": "contourcarpet"
           }
          ],
          "heatmap": [
           {
            "colorbar": {
             "outlinewidth": 0,
             "ticks": ""
            },
            "colorscale": [
             [
              0,
              "#0d0887"
             ],
             [
              0.1111111111111111,
              "#46039f"
             ],
             [
              0.2222222222222222,
              "#7201a8"
             ],
             [
              0.3333333333333333,
              "#9c179e"
             ],
             [
              0.4444444444444444,
              "#bd3786"
             ],
             [
              0.5555555555555556,
              "#d8576b"
             ],
             [
              0.6666666666666666,
              "#ed7953"
             ],
             [
              0.7777777777777778,
              "#fb9f3a"
             ],
             [
              0.8888888888888888,
              "#fdca26"
             ],
             [
              1,
              "#f0f921"
             ]
            ],
            "type": "heatmap"
           }
          ],
          "heatmapgl": [
           {
            "colorbar": {
             "outlinewidth": 0,
             "ticks": ""
            },
            "colorscale": [
             [
              0,
              "#0d0887"
             ],
             [
              0.1111111111111111,
              "#46039f"
             ],
             [
              0.2222222222222222,
              "#7201a8"
             ],
             [
              0.3333333333333333,
              "#9c179e"
             ],
             [
              0.4444444444444444,
              "#bd3786"
             ],
             [
              0.5555555555555556,
              "#d8576b"
             ],
             [
              0.6666666666666666,
              "#ed7953"
             ],
             [
              0.7777777777777778,
              "#fb9f3a"
             ],
             [
              0.8888888888888888,
              "#fdca26"
             ],
             [
              1,
              "#f0f921"
             ]
            ],
            "type": "heatmapgl"
           }
          ],
          "histogram": [
           {
            "marker": {
             "colorbar": {
              "outlinewidth": 0,
              "ticks": ""
             }
            },
            "type": "histogram"
           }
          ],
          "histogram2d": [
           {
            "colorbar": {
             "outlinewidth": 0,
             "ticks": ""
            },
            "colorscale": [
             [
              0,
              "#0d0887"
             ],
             [
              0.1111111111111111,
              "#46039f"
             ],
             [
              0.2222222222222222,
              "#7201a8"
             ],
             [
              0.3333333333333333,
              "#9c179e"
             ],
             [
              0.4444444444444444,
              "#bd3786"
             ],
             [
              0.5555555555555556,
              "#d8576b"
             ],
             [
              0.6666666666666666,
              "#ed7953"
             ],
             [
              0.7777777777777778,
              "#fb9f3a"
             ],
             [
              0.8888888888888888,
              "#fdca26"
             ],
             [
              1,
              "#f0f921"
             ]
            ],
            "type": "histogram2d"
           }
          ],
          "histogram2dcontour": [
           {
            "colorbar": {
             "outlinewidth": 0,
             "ticks": ""
            },
            "colorscale": [
             [
              0,
              "#0d0887"
             ],
             [
              0.1111111111111111,
              "#46039f"
             ],
             [
              0.2222222222222222,
              "#7201a8"
             ],
             [
              0.3333333333333333,
              "#9c179e"
             ],
             [
              0.4444444444444444,
              "#bd3786"
             ],
             [
              0.5555555555555556,
              "#d8576b"
             ],
             [
              0.6666666666666666,
              "#ed7953"
             ],
             [
              0.7777777777777778,
              "#fb9f3a"
             ],
             [
              0.8888888888888888,
              "#fdca26"
             ],
             [
              1,
              "#f0f921"
             ]
            ],
            "type": "histogram2dcontour"
           }
          ],
          "mesh3d": [
           {
            "colorbar": {
             "outlinewidth": 0,
             "ticks": ""
            },
            "type": "mesh3d"
           }
          ],
          "parcoords": [
           {
            "line": {
             "colorbar": {
              "outlinewidth": 0,
              "ticks": ""
             }
            },
            "type": "parcoords"
           }
          ],
          "pie": [
           {
            "automargin": true,
            "type": "pie"
           }
          ],
          "scatter": [
           {
            "marker": {
             "colorbar": {
              "outlinewidth": 0,
              "ticks": ""
             }
            },
            "type": "scatter"
           }
          ],
          "scatter3d": [
           {
            "line": {
             "colorbar": {
              "outlinewidth": 0,
              "ticks": ""
             }
            },
            "marker": {
             "colorbar": {
              "outlinewidth": 0,
              "ticks": ""
             }
            },
            "type": "scatter3d"
           }
          ],
          "scattercarpet": [
           {
            "marker": {
             "colorbar": {
              "outlinewidth": 0,
              "ticks": ""
             }
            },
            "type": "scattercarpet"
           }
          ],
          "scattergeo": [
           {
            "marker": {
             "colorbar": {
              "outlinewidth": 0,
              "ticks": ""
             }
            },
            "type": "scattergeo"
           }
          ],
          "scattergl": [
           {
            "marker": {
             "colorbar": {
              "outlinewidth": 0,
              "ticks": ""
             }
            },
            "type": "scattergl"
           }
          ],
          "scattermapbox": [
           {
            "marker": {
             "colorbar": {
              "outlinewidth": 0,
              "ticks": ""
             }
            },
            "type": "scattermapbox"
           }
          ],
          "scatterpolar": [
           {
            "marker": {
             "colorbar": {
              "outlinewidth": 0,
              "ticks": ""
             }
            },
            "type": "scatterpolar"
           }
          ],
          "scatterpolargl": [
           {
            "marker": {
             "colorbar": {
              "outlinewidth": 0,
              "ticks": ""
             }
            },
            "type": "scatterpolargl"
           }
          ],
          "scatterternary": [
           {
            "marker": {
             "colorbar": {
              "outlinewidth": 0,
              "ticks": ""
             }
            },
            "type": "scatterternary"
           }
          ],
          "surface": [
           {
            "colorbar": {
             "outlinewidth": 0,
             "ticks": ""
            },
            "colorscale": [
             [
              0,
              "#0d0887"
             ],
             [
              0.1111111111111111,
              "#46039f"
             ],
             [
              0.2222222222222222,
              "#7201a8"
             ],
             [
              0.3333333333333333,
              "#9c179e"
             ],
             [
              0.4444444444444444,
              "#bd3786"
             ],
             [
              0.5555555555555556,
              "#d8576b"
             ],
             [
              0.6666666666666666,
              "#ed7953"
             ],
             [
              0.7777777777777778,
              "#fb9f3a"
             ],
             [
              0.8888888888888888,
              "#fdca26"
             ],
             [
              1,
              "#f0f921"
             ]
            ],
            "type": "surface"
           }
          ],
          "table": [
           {
            "cells": {
             "fill": {
              "color": "#EBF0F8"
             },
             "line": {
              "color": "white"
             }
            },
            "header": {
             "fill": {
              "color": "#C8D4E3"
             },
             "line": {
              "color": "white"
             }
            },
            "type": "table"
           }
          ]
         },
         "layout": {
          "annotationdefaults": {
           "arrowcolor": "#2a3f5f",
           "arrowhead": 0,
           "arrowwidth": 1
          },
          "coloraxis": {
           "colorbar": {
            "outlinewidth": 0,
            "ticks": ""
           }
          },
          "colorscale": {
           "diverging": [
            [
             0,
             "#8e0152"
            ],
            [
             0.1,
             "#c51b7d"
            ],
            [
             0.2,
             "#de77ae"
            ],
            [
             0.3,
             "#f1b6da"
            ],
            [
             0.4,
             "#fde0ef"
            ],
            [
             0.5,
             "#f7f7f7"
            ],
            [
             0.6,
             "#e6f5d0"
            ],
            [
             0.7,
             "#b8e186"
            ],
            [
             0.8,
             "#7fbc41"
            ],
            [
             0.9,
             "#4d9221"
            ],
            [
             1,
             "#276419"
            ]
           ],
           "sequential": [
            [
             0,
             "#0d0887"
            ],
            [
             0.1111111111111111,
             "#46039f"
            ],
            [
             0.2222222222222222,
             "#7201a8"
            ],
            [
             0.3333333333333333,
             "#9c179e"
            ],
            [
             0.4444444444444444,
             "#bd3786"
            ],
            [
             0.5555555555555556,
             "#d8576b"
            ],
            [
             0.6666666666666666,
             "#ed7953"
            ],
            [
             0.7777777777777778,
             "#fb9f3a"
            ],
            [
             0.8888888888888888,
             "#fdca26"
            ],
            [
             1,
             "#f0f921"
            ]
           ],
           "sequentialminus": [
            [
             0,
             "#0d0887"
            ],
            [
             0.1111111111111111,
             "#46039f"
            ],
            [
             0.2222222222222222,
             "#7201a8"
            ],
            [
             0.3333333333333333,
             "#9c179e"
            ],
            [
             0.4444444444444444,
             "#bd3786"
            ],
            [
             0.5555555555555556,
             "#d8576b"
            ],
            [
             0.6666666666666666,
             "#ed7953"
            ],
            [
             0.7777777777777778,
             "#fb9f3a"
            ],
            [
             0.8888888888888888,
             "#fdca26"
            ],
            [
             1,
             "#f0f921"
            ]
           ]
          },
          "colorway": [
           "#636efa",
           "#EF553B",
           "#00cc96",
           "#ab63fa",
           "#FFA15A",
           "#19d3f3",
           "#FF6692",
           "#B6E880",
           "#FF97FF",
           "#FECB52"
          ],
          "font": {
           "color": "#2a3f5f"
          },
          "geo": {
           "bgcolor": "white",
           "lakecolor": "white",
           "landcolor": "#E5ECF6",
           "showlakes": true,
           "showland": true,
           "subunitcolor": "white"
          },
          "hoverlabel": {
           "align": "left"
          },
          "hovermode": "closest",
          "mapbox": {
           "style": "light"
          },
          "paper_bgcolor": "white",
          "plot_bgcolor": "#E5ECF6",
          "polar": {
           "angularaxis": {
            "gridcolor": "white",
            "linecolor": "white",
            "ticks": ""
           },
           "bgcolor": "#E5ECF6",
           "radialaxis": {
            "gridcolor": "white",
            "linecolor": "white",
            "ticks": ""
           }
          },
          "scene": {
           "xaxis": {
            "backgroundcolor": "#E5ECF6",
            "gridcolor": "white",
            "gridwidth": 2,
            "linecolor": "white",
            "showbackground": true,
            "ticks": "",
            "zerolinecolor": "white"
           },
           "yaxis": {
            "backgroundcolor": "#E5ECF6",
            "gridcolor": "white",
            "gridwidth": 2,
            "linecolor": "white",
            "showbackground": true,
            "ticks": "",
            "zerolinecolor": "white"
           },
           "zaxis": {
            "backgroundcolor": "#E5ECF6",
            "gridcolor": "white",
            "gridwidth": 2,
            "linecolor": "white",
            "showbackground": true,
            "ticks": "",
            "zerolinecolor": "white"
           }
          },
          "shapedefaults": {
           "line": {
            "color": "#2a3f5f"
           }
          },
          "ternary": {
           "aaxis": {
            "gridcolor": "white",
            "linecolor": "white",
            "ticks": ""
           },
           "baxis": {
            "gridcolor": "white",
            "linecolor": "white",
            "ticks": ""
           },
           "bgcolor": "#E5ECF6",
           "caxis": {
            "gridcolor": "white",
            "linecolor": "white",
            "ticks": ""
           }
          },
          "title": {
           "x": 0.05
          },
          "xaxis": {
           "automargin": true,
           "gridcolor": "white",
           "linecolor": "white",
           "ticks": "",
           "title": {
            "standoff": 15
           },
           "zerolinecolor": "white",
           "zerolinewidth": 2
          },
          "yaxis": {
           "automargin": true,
           "gridcolor": "white",
           "linecolor": "white",
           "ticks": "",
           "title": {
            "standoff": 15
           },
           "zerolinecolor": "white",
           "zerolinewidth": 2
          }
         }
        },
        "title": {
         "font": {
          "color": "#4D5663"
         }
        },
        "xaxis": {
         "gridcolor": "#E1E5ED",
         "showgrid": true,
         "tickfont": {
          "color": "#4D5663"
         },
         "title": {
          "font": {
           "color": "#4D5663"
          },
          "text": ""
         },
         "zerolinecolor": "#E1E5ED"
        },
        "xaxis2": {
         "anchor": "y2",
         "gridcolor": "#E1E5ED",
         "showgrid": true,
         "showticklabels": false,
         "tickfont": {
          "color": "#4D5663"
         },
         "title": {
          "font": {
           "color": "#4D5663"
          },
          "text": ""
         },
         "zerolinecolor": "#E1E5ED"
        },
        "yaxis": {
         "domain": [
          0.3,
          1
         ],
         "gridcolor": "#E1E5ED",
         "showgrid": true,
         "tickfont": {
          "color": "#4D5663"
         },
         "title": {
          "font": {
           "color": "#4D5663"
          },
          "text": ""
         },
         "zerolinecolor": "#E1E5ED"
        },
        "yaxis2": {
         "domain": [
          0,
          0.25
         ],
         "gridcolor": "#E1E5ED",
         "showgrid": true,
         "tickfont": {
          "color": "#4D5663"
         },
         "title": {
          "font": {
           "color": "#4D5663"
          },
          "text": "Spread"
         },
         "zerolinecolor": "#E1E5ED"
        }
       }
      },
      "text/html": "<div>\n        \n        \n            <div id=\"4ea01828-f9de-47cc-8a6c-479ccd1299b1\" class=\"plotly-graph-div\" style=\"height:525px; width:100%;\"></div>\n            <script type=\"text/javascript\">\n                require([\"plotly\"], function(Plotly) {\n                    window.PLOTLYENV=window.PLOTLYENV || {};\n                    window.PLOTLYENV.BASE_URL='https://plot.ly';\n                    \n                if (document.getElementById(\"4ea01828-f9de-47cc-8a6c-479ccd1299b1\")) {\n                    Plotly.newPlot(\n                        '4ea01828-f9de-47cc-8a6c-479ccd1299b1',\n                        [{\"line\": {\"color\": \"rgba(255, 153, 51, 1.0)\", \"dash\": \"solid\", \"shape\": \"linear\", \"width\": 1.3}, \"mode\": \"lines\", \"name\": \"A\", \"text\": \"\", \"type\": \"scatter\", \"x\": [0, 1, 2, 3, 4, 5, 6, 7, 8, 9, 10, 11, 12, 13, 14, 15, 16, 17, 18, 19, 20, 21, 22, 23, 24, 25, 26, 27, 28, 29, 30, 31, 32, 33, 34, 35, 36, 37, 38, 39, 40, 41, 42, 43, 44, 45, 46, 47, 48, 49, 50, 51, 52, 53, 54, 55, 56, 57, 58, 59, 60, 61, 62, 63, 64, 65, 66, 67, 68, 69, 70, 71, 72, 73, 74, 75, 76, 77, 78, 79, 80, 81, 82, 83, 84, 85, 86, 87, 88, 89, 90, 91, 92, 93, 94, 95, 96, 97, 98, 99], \"y\": [0.08154756008965315, 0.7294112196056034, -0.5954430102961661, 0.11392668617930163, 0.24501060951980624, 0.010534816638921151, 2.6364400057784594, 0.12297180125533486, -0.8405470416845079, 0.6503905079803126, 0.02672677148625623, 1.0390373819102718, 0.9133276526366109, 0.18141581073949015, 0.9104636520368209, -1.40892263236515, -0.31567975933388454, 2.4929469924755048, -0.4616394252856013, 0.048035937256642, 0.547119258096743, 0.3881502777279593, -0.6229558942782302, 0.1730967480960979, 1.158573553878103, 2.005769635483669, 0.0009764871350639321, 1.115750124492762, 0.7765290283003947, -0.15117506367172406, -1.084832578987809, 0.23376103148894553, -0.1821311071608296, 0.43465292198301053, -1.3718084383090414, -0.7065580490592018, 0.909913758991963, 0.6969810629188408, 1.0463714894729697, 0.6831279695180076, 0.24409792910146047, 1.433229901433797, -0.4058507832926155, -1.10187824116574, -0.8071314308373911, 0.8577612683913687, -1.0708370629080108, -0.9168997646164357, -2.1631333724515924, 0.13079043749727665, 0.3381626091783292, 0.15506303239424246, 0.7901778906730181, 0.9305057191246837, 0.099085161899565, -0.9169462506429646, 0.36951902680482057, 0.06925822193942366, -0.7198369642867564, -1.7245899453715674, -0.45008624430717875, 0.2967832703141231, -1.3377202043417142, 0.27493114755760784, 0.45941519480195747, -1.6291864606638882, -0.22070503253306045, 0.007709510068425308, 0.01768433879422398, -0.07079772944421962, -1.6679549393374373, -0.594619630454869, 1.0366407677017115, 0.2819081617296796, 1.3546788202799147, -0.07505679983163255, -0.9231210754582747, 0.6687394981273819, -0.5238978468910802, -0.8632332797156874, 0.4545244092944283, 1.1078297676122262, -0.44292004296577747, -0.9184911891684518, -0.00401103462367758, 0.09773503073679715, -0.8916894520145863, -2.170179314341021, -0.012113705461402155, 1.5340561179830172, -0.18585726925530954, -0.4131874227536773, -1.3631444791162253, 1.02004939629908, -0.9134507475058871, -0.32772598652099594, 0.34053976632380595, -0.2748575672954093, 0.8385945981431505, -1.1295338677638593]}, {\"line\": {\"color\": \"rgba(55, 128, 191, 1.0)\", \"dash\": \"solid\", \"shape\": \"linear\", \"width\": 1.3}, \"mode\": \"lines\", \"name\": \"B\", \"text\": \"\", \"type\": \"scatter\", \"x\": [0, 1, 2, 3, 4, 5, 6, 7, 8, 9, 10, 11, 12, 13, 14, 15, 16, 17, 18, 19, 20, 21, 22, 23, 24, 25, 26, 27, 28, 29, 30, 31, 32, 33, 34, 35, 36, 37, 38, 39, 40, 41, 42, 43, 44, 45, 46, 47, 48, 49, 50, 51, 52, 53, 54, 55, 56, 57, 58, 59, 60, 61, 62, 63, 64, 65, 66, 67, 68, 69, 70, 71, 72, 73, 74, 75, 76, 77, 78, 79, 80, 81, 82, 83, 84, 85, 86, 87, 88, 89, 90, 91, 92, 93, 94, 95, 96, 97, 98, 99], \"y\": [0.9239846501391048, 0.6953024520295731, 0.2916503621311321, -0.965919765688481, 0.17191954706583218, 0.7624116519905186, -0.6652284368098259, -0.4772016744650276, 0.7982642870613752, -0.3548888991782037, 0.6746554659039304, 0.17857352576234595, 2.054763084961261, -0.1509660537376362, -0.8650692283683096, 0.22136934835948605, -0.4345578354252637, -0.8941880991505339, 0.16429920246842383, 0.5039931460708144, 1.8607739043126235, -0.9196941311634963, 0.799503085141445, -1.4450435479215027, -0.6072544017417235, 0.49500505670127404, -0.2969998338332768, -0.16673200385647882, 0.303882295816272, 0.6744726043764007, 0.8362026045828959, -0.18002551045619974, -0.49870969915426255, -0.2873512773835932, 0.758343432345483, 0.4346064861801654, -0.31777292964171794, -0.10655199147282932, -1.235611158554504, 1.114378533758231, -1.2458539752494155, 0.7741141869892867, -2.061430139425667, 1.0090783960346168, -0.0035614682665801155, 1.2993259230256762, -1.4530859670521163, -0.5675395884441028, -0.3029557917594186, -0.8305521833670725, -0.5388610646465275, 0.11145956959528848, 0.6905566980694475, -0.6056110692747558, -0.960534196518318, -2.0885118049507394, 0.9041150734606206, 0.47995318291304495, -0.14548997263476554, 1.0524863440461119, -0.5611798616616022, -1.187334192251828, 0.39513785300405296, -1.3946753976310993, 0.24659571882049935, -0.2543266430056381, -0.5476933696255555, -0.28217802860274704, -0.5393215350313256, -0.8095377645697454, -1.8410594008385672, 0.405702434109728, 1.1937169003480823, 1.581909236767621, -1.9180940814652665, 1.2008090209574682, -0.8939329531465761, 0.8751629307055746, 0.29177545956713835, -0.9403895202828687, 1.2286191801145336, -1.1950136610294053, 0.8143533691093339, 2.099738473353832, 0.34499031718368306, -0.9010719850875789, 0.2397697728514549, 1.155092720172047, -0.5364473130500922, 0.4116350556286882, -0.5224746391063635, -0.6780665888992978, -0.4083440051678913, 1.6260859831944012, 0.7288485407412735, -1.1055630627568243, -1.4637814591932408, 0.008076970853890886, 0.5256062276641782, -1.6605193369448148]}, {\"connectgaps\": false, \"fill\": \"tozeroy\", \"line\": {\"color\": \"green\", \"dash\": \"solid\", \"shape\": \"linear\", \"width\": 0.5}, \"mode\": \"lines\", \"name\": \"Spread\", \"showlegend\": false, \"type\": \"scatter\", \"x\": [0, 1, 2, 3, 4, 5, 6, 7, 8, 9, 10, 11, 12, 13, 14, 15, 16, 17, 18, 19, 20, 21, 22, 23, 24, 25, 26, 27, 28, 29, 30, 31, 32, 33, 34, 35, 36, 37, 38, 39, 40, 41, 42, 43, 44, 45, 46, 47, 48, 49, 50, 51, 52, 53, 54, 55, 56, 57, 58, 59, 60, 61, 62, 63, 64, 65, 66, 67, 68, 69, 70, 71, 72, 73, 74, 75, 76, 77, 78, 79, 80, 81, 82, 83, 84, 85, 86, 87, 88, 89, 90, 91, 92, 93, 94, 95, 96, 97, 98, 99], \"xaxis\": \"x2\", \"y\": [\"\", 0.03410876757603032, \"\", 1.0798464518677826, 0.07309106245397406, \"\", 3.3016684425882854, 0.6001734757203625, \"\", 1.0052794071585163, \"\", 0.8604638561479259, \"\", 0.33238186447712637, 1.7755328804051305, \"\", 0.11887807609137918, 3.3871350916260385, \"\", \"\", \"\", 1.3078444088914556, \"\", 1.6181402960176006, 1.7658279556198266, 1.5107645787823951, 0.29797632096834076, 1.2824821283492407, 0.4726467324841227, \"\", \"\", 0.4137865419451453, 0.31657859199343297, 0.7220041993666038, \"\", \"\", 1.227686688633681, 0.8035330543916701, 2.2819826480274736, \"\", 1.489951904350876, 0.6591157144445103, 1.6555793561330516, \"\", \"\", \"\", 0.3822489041441055, \"\", \"\", 0.9613426208643492, 0.8770236738248567, 0.04360346279895398, 0.09962119260357061, 1.5361167883994395, 1.059619358417883, 1.1715655543077748, \"\", \"\", \"\", \"\", 0.11109361735442341, 1.484117462565951, \"\", 1.669606545188707, 0.21281947598145812, \"\", 0.32698833709249503, 0.28988753867117234, 0.5570058738255496, 0.7387400351255258, 0.1731044615011299, \"\", \"\", \"\", 3.2727729017451814, \"\", \"\", \"\", \"\", 0.07715624056718129, \"\", 2.3028434286416317, \"\", \"\", \"\", 0.998807015824376, \"\", \"\", 0.5243336075886901, 1.122421062354329, 0.33661736985105395, 0.2648791661456205, \"\", \"\", \"\", 0.7778370762358283, 1.8043212255170467, \"\", 0.3129883704789723, 0.5309854691809555], \"yaxis\": \"y2\"}, {\"connectgaps\": false, \"fill\": \"tozeroy\", \"line\": {\"color\": \"red\", \"dash\": \"solid\", \"shape\": \"linear\", \"width\": 0.5}, \"mode\": \"lines\", \"name\": \"Spread\", \"showlegend\": false, \"type\": \"scatter\", \"x\": [0, 1, 2, 3, 4, 5, 6, 7, 8, 9, 10, 11, 12, 13, 14, 15, 16, 17, 18, 19, 20, 21, 22, 23, 24, 25, 26, 27, 28, 29, 30, 31, 32, 33, 34, 35, 36, 37, 38, 39, 40, 41, 42, 43, 44, 45, 46, 47, 48, 49, 50, 51, 52, 53, 54, 55, 56, 57, 58, 59, 60, 61, 62, 63, 64, 65, 66, 67, 68, 69, 70, 71, 72, 73, 74, 75, 76, 77, 78, 79, 80, 81, 82, 83, 84, 85, 86, 87, 88, 89, 90, 91, 92, 93, 94, 95, 96, 97, 98, 99], \"xaxis\": \"x2\", \"y\": [-0.8424370900494517, \"\", -0.8870933724272982, \"\", \"\", -0.7518768353515974, \"\", \"\", -1.638811328745883, \"\", -0.6479286944176742, \"\", -1.1414354323246503, \"\", \"\", -1.630291980724636, \"\", \"\", -0.6259386277540251, -0.45595720881417234, -1.3136546462158805, \"\", -1.4224589794196751, \"\", \"\", \"\", \"\", \"\", \"\", -0.8256476680481247, -1.921035183570705, \"\", \"\", \"\", -2.130151870654524, -1.1411645352393673, \"\", \"\", \"\", -0.43125056424022346, \"\", \"\", \"\", -2.1109566372003568, -0.803569962570811, -0.4415646546343075, \"\", -0.34936017617233295, -1.8601775806921739, \"\", \"\", \"\", \"\", \"\", \"\", \"\", -0.5345960466558, -0.4106949609736213, -0.5743469916519908, -2.7770762894176793, \"\", \"\", -1.7328580573457673, \"\", \"\", -1.37485981765825, \"\", \"\", \"\", \"\", \"\", -1.000322064564597, -0.15707613264637077, -1.3000010750379416, \"\", -1.2758658207891007, -0.02918812231169865, -0.20642343257819273, -0.8156733064582186, \"\", -0.7740947708201054, \"\", -1.2572734120751115, -3.018229662522284, -0.34900135180736064, \"\", -1.1314592248660411, -3.325272034513068, \"\", \"\", \"\", \"\", -0.954800473948334, -0.6060365868953212, -1.6422992882471605, \"\", \"\", -0.28293453814930014, \"\", \"\"], \"yaxis\": \"y2\"}],\n                        {\"hovermode\": \"x\", \"legend\": {\"bgcolor\": \"#F5F6F9\", \"font\": {\"color\": \"#4D5663\"}}, \"paper_bgcolor\": \"#F5F6F9\", \"plot_bgcolor\": \"#F5F6F9\", \"template\": {\"data\": {\"bar\": [{\"error_x\": {\"color\": \"#2a3f5f\"}, \"error_y\": {\"color\": \"#2a3f5f\"}, \"marker\": {\"line\": {\"color\": \"#E5ECF6\", \"width\": 0.5}}, \"type\": \"bar\"}], \"barpolar\": [{\"marker\": {\"line\": {\"color\": \"#E5ECF6\", \"width\": 0.5}}, \"type\": \"barpolar\"}], \"carpet\": [{\"aaxis\": {\"endlinecolor\": \"#2a3f5f\", \"gridcolor\": \"white\", \"linecolor\": \"white\", \"minorgridcolor\": \"white\", \"startlinecolor\": \"#2a3f5f\"}, \"baxis\": {\"endlinecolor\": \"#2a3f5f\", \"gridcolor\": \"white\", \"linecolor\": \"white\", \"minorgridcolor\": \"white\", \"startlinecolor\": \"#2a3f5f\"}, \"type\": \"carpet\"}], \"choropleth\": [{\"colorbar\": {\"outlinewidth\": 0, \"ticks\": \"\"}, \"type\": \"choropleth\"}], \"contour\": [{\"colorbar\": {\"outlinewidth\": 0, \"ticks\": \"\"}, \"colorscale\": [[0.0, \"#0d0887\"], [0.1111111111111111, \"#46039f\"], [0.2222222222222222, \"#7201a8\"], [0.3333333333333333, \"#9c179e\"], [0.4444444444444444, \"#bd3786\"], [0.5555555555555556, \"#d8576b\"], [0.6666666666666666, \"#ed7953\"], [0.7777777777777778, \"#fb9f3a\"], [0.8888888888888888, \"#fdca26\"], [1.0, \"#f0f921\"]], \"type\": \"contour\"}], \"contourcarpet\": [{\"colorbar\": {\"outlinewidth\": 0, \"ticks\": \"\"}, \"type\": \"contourcarpet\"}], \"heatmap\": [{\"colorbar\": {\"outlinewidth\": 0, \"ticks\": \"\"}, \"colorscale\": [[0.0, \"#0d0887\"], [0.1111111111111111, \"#46039f\"], [0.2222222222222222, \"#7201a8\"], [0.3333333333333333, \"#9c179e\"], [0.4444444444444444, \"#bd3786\"], [0.5555555555555556, \"#d8576b\"], [0.6666666666666666, \"#ed7953\"], [0.7777777777777778, \"#fb9f3a\"], [0.8888888888888888, \"#fdca26\"], [1.0, \"#f0f921\"]], \"type\": \"heatmap\"}], \"heatmapgl\": [{\"colorbar\": {\"outlinewidth\": 0, \"ticks\": \"\"}, \"colorscale\": [[0.0, \"#0d0887\"], [0.1111111111111111, \"#46039f\"], [0.2222222222222222, \"#7201a8\"], [0.3333333333333333, \"#9c179e\"], [0.4444444444444444, \"#bd3786\"], [0.5555555555555556, \"#d8576b\"], [0.6666666666666666, \"#ed7953\"], [0.7777777777777778, \"#fb9f3a\"], [0.8888888888888888, \"#fdca26\"], [1.0, \"#f0f921\"]], \"type\": \"heatmapgl\"}], \"histogram\": [{\"marker\": {\"colorbar\": {\"outlinewidth\": 0, \"ticks\": \"\"}}, \"type\": \"histogram\"}], \"histogram2d\": [{\"colorbar\": {\"outlinewidth\": 0, \"ticks\": \"\"}, \"colorscale\": [[0.0, \"#0d0887\"], [0.1111111111111111, \"#46039f\"], [0.2222222222222222, \"#7201a8\"], [0.3333333333333333, \"#9c179e\"], [0.4444444444444444, \"#bd3786\"], [0.5555555555555556, \"#d8576b\"], [0.6666666666666666, \"#ed7953\"], [0.7777777777777778, \"#fb9f3a\"], [0.8888888888888888, \"#fdca26\"], [1.0, \"#f0f921\"]], \"type\": \"histogram2d\"}], \"histogram2dcontour\": [{\"colorbar\": {\"outlinewidth\": 0, \"ticks\": \"\"}, \"colorscale\": [[0.0, \"#0d0887\"], [0.1111111111111111, \"#46039f\"], [0.2222222222222222, \"#7201a8\"], [0.3333333333333333, \"#9c179e\"], [0.4444444444444444, \"#bd3786\"], [0.5555555555555556, \"#d8576b\"], [0.6666666666666666, \"#ed7953\"], [0.7777777777777778, \"#fb9f3a\"], [0.8888888888888888, \"#fdca26\"], [1.0, \"#f0f921\"]], \"type\": \"histogram2dcontour\"}], \"mesh3d\": [{\"colorbar\": {\"outlinewidth\": 0, \"ticks\": \"\"}, \"type\": \"mesh3d\"}], \"parcoords\": [{\"line\": {\"colorbar\": {\"outlinewidth\": 0, \"ticks\": \"\"}}, \"type\": \"parcoords\"}], \"pie\": [{\"automargin\": true, \"type\": \"pie\"}], \"scatter\": [{\"marker\": {\"colorbar\": {\"outlinewidth\": 0, \"ticks\": \"\"}}, \"type\": \"scatter\"}], \"scatter3d\": [{\"line\": {\"colorbar\": {\"outlinewidth\": 0, \"ticks\": \"\"}}, \"marker\": {\"colorbar\": {\"outlinewidth\": 0, \"ticks\": \"\"}}, \"type\": \"scatter3d\"}], \"scattercarpet\": [{\"marker\": {\"colorbar\": {\"outlinewidth\": 0, \"ticks\": \"\"}}, \"type\": \"scattercarpet\"}], \"scattergeo\": [{\"marker\": {\"colorbar\": {\"outlinewidth\": 0, \"ticks\": \"\"}}, \"type\": \"scattergeo\"}], \"scattergl\": [{\"marker\": {\"colorbar\": {\"outlinewidth\": 0, \"ticks\": \"\"}}, \"type\": \"scattergl\"}], \"scattermapbox\": [{\"marker\": {\"colorbar\": {\"outlinewidth\": 0, \"ticks\": \"\"}}, \"type\": \"scattermapbox\"}], \"scatterpolar\": [{\"marker\": {\"colorbar\": {\"outlinewidth\": 0, \"ticks\": \"\"}}, \"type\": \"scatterpolar\"}], \"scatterpolargl\": [{\"marker\": {\"colorbar\": {\"outlinewidth\": 0, \"ticks\": \"\"}}, \"type\": \"scatterpolargl\"}], \"scatterternary\": [{\"marker\": {\"colorbar\": {\"outlinewidth\": 0, \"ticks\": \"\"}}, \"type\": \"scatterternary\"}], \"surface\": [{\"colorbar\": {\"outlinewidth\": 0, \"ticks\": \"\"}, \"colorscale\": [[0.0, \"#0d0887\"], [0.1111111111111111, \"#46039f\"], [0.2222222222222222, \"#7201a8\"], [0.3333333333333333, \"#9c179e\"], [0.4444444444444444, \"#bd3786\"], [0.5555555555555556, \"#d8576b\"], [0.6666666666666666, \"#ed7953\"], [0.7777777777777778, \"#fb9f3a\"], [0.8888888888888888, \"#fdca26\"], [1.0, \"#f0f921\"]], \"type\": \"surface\"}], \"table\": [{\"cells\": {\"fill\": {\"color\": \"#EBF0F8\"}, \"line\": {\"color\": \"white\"}}, \"header\": {\"fill\": {\"color\": \"#C8D4E3\"}, \"line\": {\"color\": \"white\"}}, \"type\": \"table\"}]}, \"layout\": {\"annotationdefaults\": {\"arrowcolor\": \"#2a3f5f\", \"arrowhead\": 0, \"arrowwidth\": 1}, \"coloraxis\": {\"colorbar\": {\"outlinewidth\": 0, \"ticks\": \"\"}}, \"colorscale\": {\"diverging\": [[0, \"#8e0152\"], [0.1, \"#c51b7d\"], [0.2, \"#de77ae\"], [0.3, \"#f1b6da\"], [0.4, \"#fde0ef\"], [0.5, \"#f7f7f7\"], [0.6, \"#e6f5d0\"], [0.7, \"#b8e186\"], [0.8, \"#7fbc41\"], [0.9, \"#4d9221\"], [1, \"#276419\"]], \"sequential\": [[0.0, \"#0d0887\"], [0.1111111111111111, \"#46039f\"], [0.2222222222222222, \"#7201a8\"], [0.3333333333333333, \"#9c179e\"], [0.4444444444444444, \"#bd3786\"], [0.5555555555555556, \"#d8576b\"], [0.6666666666666666, \"#ed7953\"], [0.7777777777777778, \"#fb9f3a\"], [0.8888888888888888, \"#fdca26\"], [1.0, \"#f0f921\"]], \"sequentialminus\": [[0.0, \"#0d0887\"], [0.1111111111111111, \"#46039f\"], [0.2222222222222222, \"#7201a8\"], [0.3333333333333333, \"#9c179e\"], [0.4444444444444444, \"#bd3786\"], [0.5555555555555556, \"#d8576b\"], [0.6666666666666666, \"#ed7953\"], [0.7777777777777778, \"#fb9f3a\"], [0.8888888888888888, \"#fdca26\"], [1.0, \"#f0f921\"]]}, \"colorway\": [\"#636efa\", \"#EF553B\", \"#00cc96\", \"#ab63fa\", \"#FFA15A\", \"#19d3f3\", \"#FF6692\", \"#B6E880\", \"#FF97FF\", \"#FECB52\"], \"font\": {\"color\": \"#2a3f5f\"}, \"geo\": {\"bgcolor\": \"white\", \"lakecolor\": \"white\", \"landcolor\": \"#E5ECF6\", \"showlakes\": true, \"showland\": true, \"subunitcolor\": \"white\"}, \"hoverlabel\": {\"align\": \"left\"}, \"hovermode\": \"closest\", \"mapbox\": {\"style\": \"light\"}, \"paper_bgcolor\": \"white\", \"plot_bgcolor\": \"#E5ECF6\", \"polar\": {\"angularaxis\": {\"gridcolor\": \"white\", \"linecolor\": \"white\", \"ticks\": \"\"}, \"bgcolor\": \"#E5ECF6\", \"radialaxis\": {\"gridcolor\": \"white\", \"linecolor\": \"white\", \"ticks\": \"\"}}, \"scene\": {\"xaxis\": {\"backgroundcolor\": \"#E5ECF6\", \"gridcolor\": \"white\", \"gridwidth\": 2, \"linecolor\": \"white\", \"showbackground\": true, \"ticks\": \"\", \"zerolinecolor\": \"white\"}, \"yaxis\": {\"backgroundcolor\": \"#E5ECF6\", \"gridcolor\": \"white\", \"gridwidth\": 2, \"linecolor\": \"white\", \"showbackground\": true, \"ticks\": \"\", \"zerolinecolor\": \"white\"}, \"zaxis\": {\"backgroundcolor\": \"#E5ECF6\", \"gridcolor\": \"white\", \"gridwidth\": 2, \"linecolor\": \"white\", \"showbackground\": true, \"ticks\": \"\", \"zerolinecolor\": \"white\"}}, \"shapedefaults\": {\"line\": {\"color\": \"#2a3f5f\"}}, \"ternary\": {\"aaxis\": {\"gridcolor\": \"white\", \"linecolor\": \"white\", \"ticks\": \"\"}, \"baxis\": {\"gridcolor\": \"white\", \"linecolor\": \"white\", \"ticks\": \"\"}, \"bgcolor\": \"#E5ECF6\", \"caxis\": {\"gridcolor\": \"white\", \"linecolor\": \"white\", \"ticks\": \"\"}}, \"title\": {\"x\": 0.05}, \"xaxis\": {\"automargin\": true, \"gridcolor\": \"white\", \"linecolor\": \"white\", \"ticks\": \"\", \"title\": {\"standoff\": 15}, \"zerolinecolor\": \"white\", \"zerolinewidth\": 2}, \"yaxis\": {\"automargin\": true, \"gridcolor\": \"white\", \"linecolor\": \"white\", \"ticks\": \"\", \"title\": {\"standoff\": 15}, \"zerolinecolor\": \"white\", \"zerolinewidth\": 2}}}, \"title\": {\"font\": {\"color\": \"#4D5663\"}}, \"xaxis\": {\"gridcolor\": \"#E1E5ED\", \"showgrid\": true, \"tickfont\": {\"color\": \"#4D5663\"}, \"title\": {\"font\": {\"color\": \"#4D5663\"}, \"text\": \"\"}, \"zerolinecolor\": \"#E1E5ED\"}, \"xaxis2\": {\"anchor\": \"y2\", \"gridcolor\": \"#E1E5ED\", \"showgrid\": true, \"showticklabels\": false, \"tickfont\": {\"color\": \"#4D5663\"}, \"title\": {\"font\": {\"color\": \"#4D5663\"}, \"text\": \"\"}, \"zerolinecolor\": \"#E1E5ED\"}, \"yaxis\": {\"domain\": [0.3, 1], \"gridcolor\": \"#E1E5ED\", \"showgrid\": true, \"tickfont\": {\"color\": \"#4D5663\"}, \"title\": {\"font\": {\"color\": \"#4D5663\"}, \"text\": \"\"}, \"zerolinecolor\": \"#E1E5ED\"}, \"yaxis2\": {\"domain\": [0, 0.25], \"gridcolor\": \"#E1E5ED\", \"showgrid\": true, \"tickfont\": {\"color\": \"#4D5663\"}, \"title\": {\"font\": {\"color\": \"#4D5663\"}, \"text\": \"Spread\"}, \"zerolinecolor\": \"#E1E5ED\"}},\n                        {\"showLink\": true, \"linkText\": \"Export to plot.ly\", \"plotlyServerURL\": \"https://plot.ly\", \"responsive\": true}\n                    ).then(function(){\n                            \nvar gd = document.getElementById('4ea01828-f9de-47cc-8a6c-479ccd1299b1');\nvar x = new MutationObserver(function (mutations, observer) {{\n        var display = window.getComputedStyle(gd).display;\n        if (!display || display === 'none') {{\n            console.log([gd, 'removed!']);\n            Plotly.purge(gd);\n            observer.disconnect();\n        }}\n}});\n\n// Listen for the removal of the full notebook cells\nvar notebookContainer = gd.closest('#notebook-container');\nif (notebookContainer) {{\n    x.observe(notebookContainer, {childList: true});\n}}\n\n// Listen for the clearing of the current output cell\nvar outputEl = gd.closest('.output');\nif (outputEl) {{\n    x.observe(outputEl, {childList: true});\n}}\n\n                        })\n                };\n                });\n            </script>\n        </div>"
     },
     "metadata": {}
    }
   ],
   "source": [
    "df[['A','B']].iplot(kind='spread')"
   ]
  },
  {
   "cell_type": "markdown",
   "metadata": {},
   "source": [
    "## histogram"
   ]
  },
  {
   "cell_type": "code",
   "execution_count": 21,
   "metadata": {
    "collapsed": false
   },
   "outputs": [
    {
     "output_type": "display_data",
     "data": {
      "application/vnd.plotly.v1+json": {
       "config": {
        "linkText": "Export to plot.ly",
        "plotlyServerURL": "https://plot.ly",
        "showLink": true
       },
       "data": [
        {
         "histfunc": "count",
         "histnorm": "",
         "marker": {
          "color": "rgba(255, 153, 51, 1.0)",
          "line": {
           "color": "#4D5663",
           "width": 1.3
          }
         },
         "name": "A",
         "nbinsx": 25,
         "opacity": 0.8,
         "orientation": "v",
         "type": "histogram",
         "x": [
          0.08154756008965315,
          0.7294112196056034,
          -0.5954430102961661,
          0.11392668617930163,
          0.24501060951980624,
          0.010534816638921151,
          2.6364400057784594,
          0.12297180125533486,
          -0.8405470416845079,
          0.6503905079803126,
          0.02672677148625623,
          1.0390373819102718,
          0.9133276526366109,
          0.18141581073949015,
          0.9104636520368209,
          -1.40892263236515,
          -0.31567975933388454,
          2.4929469924755048,
          -0.4616394252856013,
          0.048035937256642,
          0.547119258096743,
          0.3881502777279593,
          -0.6229558942782302,
          0.1730967480960979,
          1.158573553878103,
          2.005769635483669,
          0.0009764871350639321,
          1.115750124492762,
          0.7765290283003947,
          -0.15117506367172406,
          -1.084832578987809,
          0.23376103148894553,
          -0.1821311071608296,
          0.43465292198301053,
          -1.3718084383090414,
          -0.7065580490592018,
          0.909913758991963,
          0.6969810629188408,
          1.0463714894729697,
          0.6831279695180076,
          0.24409792910146047,
          1.433229901433797,
          -0.4058507832926155,
          -1.10187824116574,
          -0.8071314308373911,
          0.8577612683913687,
          -1.0708370629080108,
          -0.9168997646164357,
          -2.1631333724515924,
          0.13079043749727665,
          0.3381626091783292,
          0.15506303239424246,
          0.7901778906730181,
          0.9305057191246837,
          0.099085161899565,
          -0.9169462506429646,
          0.36951902680482057,
          0.06925822193942366,
          -0.7198369642867564,
          -1.7245899453715674,
          -0.45008624430717875,
          0.2967832703141231,
          -1.3377202043417142,
          0.27493114755760784,
          0.45941519480195747,
          -1.6291864606638882,
          -0.22070503253306045,
          0.007709510068425308,
          0.01768433879422398,
          -0.07079772944421962,
          -1.6679549393374373,
          -0.594619630454869,
          1.0366407677017115,
          0.2819081617296796,
          1.3546788202799147,
          -0.07505679983163255,
          -0.9231210754582747,
          0.6687394981273819,
          -0.5238978468910802,
          -0.8632332797156874,
          0.4545244092944283,
          1.1078297676122262,
          -0.44292004296577747,
          -0.9184911891684518,
          -0.00401103462367758,
          0.09773503073679715,
          -0.8916894520145863,
          -2.170179314341021,
          -0.012113705461402155,
          1.5340561179830172,
          -0.18585726925530954,
          -0.4131874227536773,
          -1.3631444791162253,
          1.02004939629908,
          -0.9134507475058871,
          -0.32772598652099594,
          0.34053976632380595,
          -0.2748575672954093,
          0.8385945981431505,
          -1.1295338677638593
         ]
        }
       ],
       "layout": {
        "barmode": "overlay",
        "legend": {
         "bgcolor": "#F5F6F9",
         "font": {
          "color": "#4D5663"
         }
        },
        "paper_bgcolor": "#F5F6F9",
        "plot_bgcolor": "#F5F6F9",
        "template": {
         "data": {
          "bar": [
           {
            "error_x": {
             "color": "#2a3f5f"
            },
            "error_y": {
             "color": "#2a3f5f"
            },
            "marker": {
             "line": {
              "color": "#E5ECF6",
              "width": 0.5
             }
            },
            "type": "bar"
           }
          ],
          "barpolar": [
           {
            "marker": {
             "line": {
              "color": "#E5ECF6",
              "width": 0.5
             }
            },
            "type": "barpolar"
           }
          ],
          "carpet": [
           {
            "aaxis": {
             "endlinecolor": "#2a3f5f",
             "gridcolor": "white",
             "linecolor": "white",
             "minorgridcolor": "white",
             "startlinecolor": "#2a3f5f"
            },
            "baxis": {
             "endlinecolor": "#2a3f5f",
             "gridcolor": "white",
             "linecolor": "white",
             "minorgridcolor": "white",
             "startlinecolor": "#2a3f5f"
            },
            "type": "carpet"
           }
          ],
          "choropleth": [
           {
            "colorbar": {
             "outlinewidth": 0,
             "ticks": ""
            },
            "type": "choropleth"
           }
          ],
          "contour": [
           {
            "colorbar": {
             "outlinewidth": 0,
             "ticks": ""
            },
            "colorscale": [
             [
              0,
              "#0d0887"
             ],
             [
              0.1111111111111111,
              "#46039f"
             ],
             [
              0.2222222222222222,
              "#7201a8"
             ],
             [
              0.3333333333333333,
              "#9c179e"
             ],
             [
              0.4444444444444444,
              "#bd3786"
             ],
             [
              0.5555555555555556,
              "#d8576b"
             ],
             [
              0.6666666666666666,
              "#ed7953"
             ],
             [
              0.7777777777777778,
              "#fb9f3a"
             ],
             [
              0.8888888888888888,
              "#fdca26"
             ],
             [
              1,
              "#f0f921"
             ]
            ],
            "type": "contour"
           }
          ],
          "contourcarpet": [
           {
            "colorbar": {
             "outlinewidth": 0,
             "ticks": ""
            },
            "type": "contourcarpet"
           }
          ],
          "heatmap": [
           {
            "colorbar": {
             "outlinewidth": 0,
             "ticks": ""
            },
            "colorscale": [
             [
              0,
              "#0d0887"
             ],
             [
              0.1111111111111111,
              "#46039f"
             ],
             [
              0.2222222222222222,
              "#7201a8"
             ],
             [
              0.3333333333333333,
              "#9c179e"
             ],
             [
              0.4444444444444444,
              "#bd3786"
             ],
             [
              0.5555555555555556,
              "#d8576b"
             ],
             [
              0.6666666666666666,
              "#ed7953"
             ],
             [
              0.7777777777777778,
              "#fb9f3a"
             ],
             [
              0.8888888888888888,
              "#fdca26"
             ],
             [
              1,
              "#f0f921"
             ]
            ],
            "type": "heatmap"
           }
          ],
          "heatmapgl": [
           {
            "colorbar": {
             "outlinewidth": 0,
             "ticks": ""
            },
            "colorscale": [
             [
              0,
              "#0d0887"
             ],
             [
              0.1111111111111111,
              "#46039f"
             ],
             [
              0.2222222222222222,
              "#7201a8"
             ],
             [
              0.3333333333333333,
              "#9c179e"
             ],
             [
              0.4444444444444444,
              "#bd3786"
             ],
             [
              0.5555555555555556,
              "#d8576b"
             ],
             [
              0.6666666666666666,
              "#ed7953"
             ],
             [
              0.7777777777777778,
              "#fb9f3a"
             ],
             [
              0.8888888888888888,
              "#fdca26"
             ],
             [
              1,
              "#f0f921"
             ]
            ],
            "type": "heatmapgl"
           }
          ],
          "histogram": [
           {
            "marker": {
             "colorbar": {
              "outlinewidth": 0,
              "ticks": ""
             }
            },
            "type": "histogram"
           }
          ],
          "histogram2d": [
           {
            "colorbar": {
             "outlinewidth": 0,
             "ticks": ""
            },
            "colorscale": [
             [
              0,
              "#0d0887"
             ],
             [
              0.1111111111111111,
              "#46039f"
             ],
             [
              0.2222222222222222,
              "#7201a8"
             ],
             [
              0.3333333333333333,
              "#9c179e"
             ],
             [
              0.4444444444444444,
              "#bd3786"
             ],
             [
              0.5555555555555556,
              "#d8576b"
             ],
             [
              0.6666666666666666,
              "#ed7953"
             ],
             [
              0.7777777777777778,
              "#fb9f3a"
             ],
             [
              0.8888888888888888,
              "#fdca26"
             ],
             [
              1,
              "#f0f921"
             ]
            ],
            "type": "histogram2d"
           }
          ],
          "histogram2dcontour": [
           {
            "colorbar": {
             "outlinewidth": 0,
             "ticks": ""
            },
            "colorscale": [
             [
              0,
              "#0d0887"
             ],
             [
              0.1111111111111111,
              "#46039f"
             ],
             [
              0.2222222222222222,
              "#7201a8"
             ],
             [
              0.3333333333333333,
              "#9c179e"
             ],
             [
              0.4444444444444444,
              "#bd3786"
             ],
             [
              0.5555555555555556,
              "#d8576b"
             ],
             [
              0.6666666666666666,
              "#ed7953"
             ],
             [
              0.7777777777777778,
              "#fb9f3a"
             ],
             [
              0.8888888888888888,
              "#fdca26"
             ],
             [
              1,
              "#f0f921"
             ]
            ],
            "type": "histogram2dcontour"
           }
          ],
          "mesh3d": [
           {
            "colorbar": {
             "outlinewidth": 0,
             "ticks": ""
            },
            "type": "mesh3d"
           }
          ],
          "parcoords": [
           {
            "line": {
             "colorbar": {
              "outlinewidth": 0,
              "ticks": ""
             }
            },
            "type": "parcoords"
           }
          ],
          "pie": [
           {
            "automargin": true,
            "type": "pie"
           }
          ],
          "scatter": [
           {
            "marker": {
             "colorbar": {
              "outlinewidth": 0,
              "ticks": ""
             }
            },
            "type": "scatter"
           }
          ],
          "scatter3d": [
           {
            "line": {
             "colorbar": {
              "outlinewidth": 0,
              "ticks": ""
             }
            },
            "marker": {
             "colorbar": {
              "outlinewidth": 0,
              "ticks": ""
             }
            },
            "type": "scatter3d"
           }
          ],
          "scattercarpet": [
           {
            "marker": {
             "colorbar": {
              "outlinewidth": 0,
              "ticks": ""
             }
            },
            "type": "scattercarpet"
           }
          ],
          "scattergeo": [
           {
            "marker": {
             "colorbar": {
              "outlinewidth": 0,
              "ticks": ""
             }
            },
            "type": "scattergeo"
           }
          ],
          "scattergl": [
           {
            "marker": {
             "colorbar": {
              "outlinewidth": 0,
              "ticks": ""
             }
            },
            "type": "scattergl"
           }
          ],
          "scattermapbox": [
           {
            "marker": {
             "colorbar": {
              "outlinewidth": 0,
              "ticks": ""
             }
            },
            "type": "scattermapbox"
           }
          ],
          "scatterpolar": [
           {
            "marker": {
             "colorbar": {
              "outlinewidth": 0,
              "ticks": ""
             }
            },
            "type": "scatterpolar"
           }
          ],
          "scatterpolargl": [
           {
            "marker": {
             "colorbar": {
              "outlinewidth": 0,
              "ticks": ""
             }
            },
            "type": "scatterpolargl"
           }
          ],
          "scatterternary": [
           {
            "marker": {
             "colorbar": {
              "outlinewidth": 0,
              "ticks": ""
             }
            },
            "type": "scatterternary"
           }
          ],
          "surface": [
           {
            "colorbar": {
             "outlinewidth": 0,
             "ticks": ""
            },
            "colorscale": [
             [
              0,
              "#0d0887"
             ],
             [
              0.1111111111111111,
              "#46039f"
             ],
             [
              0.2222222222222222,
              "#7201a8"
             ],
             [
              0.3333333333333333,
              "#9c179e"
             ],
             [
              0.4444444444444444,
              "#bd3786"
             ],
             [
              0.5555555555555556,
              "#d8576b"
             ],
             [
              0.6666666666666666,
              "#ed7953"
             ],
             [
              0.7777777777777778,
              "#fb9f3a"
             ],
             [
              0.8888888888888888,
              "#fdca26"
             ],
             [
              1,
              "#f0f921"
             ]
            ],
            "type": "surface"
           }
          ],
          "table": [
           {
            "cells": {
             "fill": {
              "color": "#EBF0F8"
             },
             "line": {
              "color": "white"
             }
            },
            "header": {
             "fill": {
              "color": "#C8D4E3"
             },
             "line": {
              "color": "white"
             }
            },
            "type": "table"
           }
          ]
         },
         "layout": {
          "annotationdefaults": {
           "arrowcolor": "#2a3f5f",
           "arrowhead": 0,
           "arrowwidth": 1
          },
          "coloraxis": {
           "colorbar": {
            "outlinewidth": 0,
            "ticks": ""
           }
          },
          "colorscale": {
           "diverging": [
            [
             0,
             "#8e0152"
            ],
            [
             0.1,
             "#c51b7d"
            ],
            [
             0.2,
             "#de77ae"
            ],
            [
             0.3,
             "#f1b6da"
            ],
            [
             0.4,
             "#fde0ef"
            ],
            [
             0.5,
             "#f7f7f7"
            ],
            [
             0.6,
             "#e6f5d0"
            ],
            [
             0.7,
             "#b8e186"
            ],
            [
             0.8,
             "#7fbc41"
            ],
            [
             0.9,
             "#4d9221"
            ],
            [
             1,
             "#276419"
            ]
           ],
           "sequential": [
            [
             0,
             "#0d0887"
            ],
            [
             0.1111111111111111,
             "#46039f"
            ],
            [
             0.2222222222222222,
             "#7201a8"
            ],
            [
             0.3333333333333333,
             "#9c179e"
            ],
            [
             0.4444444444444444,
             "#bd3786"
            ],
            [
             0.5555555555555556,
             "#d8576b"
            ],
            [
             0.6666666666666666,
             "#ed7953"
            ],
            [
             0.7777777777777778,
             "#fb9f3a"
            ],
            [
             0.8888888888888888,
             "#fdca26"
            ],
            [
             1,
             "#f0f921"
            ]
           ],
           "sequentialminus": [
            [
             0,
             "#0d0887"
            ],
            [
             0.1111111111111111,
             "#46039f"
            ],
            [
             0.2222222222222222,
             "#7201a8"
            ],
            [
             0.3333333333333333,
             "#9c179e"
            ],
            [
             0.4444444444444444,
             "#bd3786"
            ],
            [
             0.5555555555555556,
             "#d8576b"
            ],
            [
             0.6666666666666666,
             "#ed7953"
            ],
            [
             0.7777777777777778,
             "#fb9f3a"
            ],
            [
             0.8888888888888888,
             "#fdca26"
            ],
            [
             1,
             "#f0f921"
            ]
           ]
          },
          "colorway": [
           "#636efa",
           "#EF553B",
           "#00cc96",
           "#ab63fa",
           "#FFA15A",
           "#19d3f3",
           "#FF6692",
           "#B6E880",
           "#FF97FF",
           "#FECB52"
          ],
          "font": {
           "color": "#2a3f5f"
          },
          "geo": {
           "bgcolor": "white",
           "lakecolor": "white",
           "landcolor": "#E5ECF6",
           "showlakes": true,
           "showland": true,
           "subunitcolor": "white"
          },
          "hoverlabel": {
           "align": "left"
          },
          "hovermode": "closest",
          "mapbox": {
           "style": "light"
          },
          "paper_bgcolor": "white",
          "plot_bgcolor": "#E5ECF6",
          "polar": {
           "angularaxis": {
            "gridcolor": "white",
            "linecolor": "white",
            "ticks": ""
           },
           "bgcolor": "#E5ECF6",
           "radialaxis": {
            "gridcolor": "white",
            "linecolor": "white",
            "ticks": ""
           }
          },
          "scene": {
           "xaxis": {
            "backgroundcolor": "#E5ECF6",
            "gridcolor": "white",
            "gridwidth": 2,
            "linecolor": "white",
            "showbackground": true,
            "ticks": "",
            "zerolinecolor": "white"
           },
           "yaxis": {
            "backgroundcolor": "#E5ECF6",
            "gridcolor": "white",
            "gridwidth": 2,
            "linecolor": "white",
            "showbackground": true,
            "ticks": "",
            "zerolinecolor": "white"
           },
           "zaxis": {
            "backgroundcolor": "#E5ECF6",
            "gridcolor": "white",
            "gridwidth": 2,
            "linecolor": "white",
            "showbackground": true,
            "ticks": "",
            "zerolinecolor": "white"
           }
          },
          "shapedefaults": {
           "line": {
            "color": "#2a3f5f"
           }
          },
          "ternary": {
           "aaxis": {
            "gridcolor": "white",
            "linecolor": "white",
            "ticks": ""
           },
           "baxis": {
            "gridcolor": "white",
            "linecolor": "white",
            "ticks": ""
           },
           "bgcolor": "#E5ECF6",
           "caxis": {
            "gridcolor": "white",
            "linecolor": "white",
            "ticks": ""
           }
          },
          "title": {
           "x": 0.05
          },
          "xaxis": {
           "automargin": true,
           "gridcolor": "white",
           "linecolor": "white",
           "ticks": "",
           "title": {
            "standoff": 15
           },
           "zerolinecolor": "white",
           "zerolinewidth": 2
          },
          "yaxis": {
           "automargin": true,
           "gridcolor": "white",
           "linecolor": "white",
           "ticks": "",
           "title": {
            "standoff": 15
           },
           "zerolinecolor": "white",
           "zerolinewidth": 2
          }
         }
        },
        "title": {
         "font": {
          "color": "#4D5663"
         }
        },
        "xaxis": {
         "gridcolor": "#E1E5ED",
         "showgrid": true,
         "tickfont": {
          "color": "#4D5663"
         },
         "title": {
          "font": {
           "color": "#4D5663"
          },
          "text": ""
         },
         "zerolinecolor": "#E1E5ED"
        },
        "yaxis": {
         "gridcolor": "#E1E5ED",
         "showgrid": true,
         "tickfont": {
          "color": "#4D5663"
         },
         "title": {
          "font": {
           "color": "#4D5663"
          },
          "text": ""
         },
         "zerolinecolor": "#E1E5ED"
        }
       }
      },
      "text/html": "<div>\n        \n        \n            <div id=\"c775fe41-ced3-4c3c-86e1-c6c7d093c2a8\" class=\"plotly-graph-div\" style=\"height:525px; width:100%;\"></div>\n            <script type=\"text/javascript\">\n                require([\"plotly\"], function(Plotly) {\n                    window.PLOTLYENV=window.PLOTLYENV || {};\n                    window.PLOTLYENV.BASE_URL='https://plot.ly';\n                    \n                if (document.getElementById(\"c775fe41-ced3-4c3c-86e1-c6c7d093c2a8\")) {\n                    Plotly.newPlot(\n                        'c775fe41-ced3-4c3c-86e1-c6c7d093c2a8',\n                        [{\"histfunc\": \"count\", \"histnorm\": \"\", \"marker\": {\"color\": \"rgba(255, 153, 51, 1.0)\", \"line\": {\"color\": \"#4D5663\", \"width\": 1.3}}, \"name\": \"A\", \"nbinsx\": 25, \"opacity\": 0.8, \"orientation\": \"v\", \"type\": \"histogram\", \"x\": [0.08154756008965315, 0.7294112196056034, -0.5954430102961661, 0.11392668617930163, 0.24501060951980624, 0.010534816638921151, 2.6364400057784594, 0.12297180125533486, -0.8405470416845079, 0.6503905079803126, 0.02672677148625623, 1.0390373819102718, 0.9133276526366109, 0.18141581073949015, 0.9104636520368209, -1.40892263236515, -0.31567975933388454, 2.4929469924755048, -0.4616394252856013, 0.048035937256642, 0.547119258096743, 0.3881502777279593, -0.6229558942782302, 0.1730967480960979, 1.158573553878103, 2.005769635483669, 0.0009764871350639321, 1.115750124492762, 0.7765290283003947, -0.15117506367172406, -1.084832578987809, 0.23376103148894553, -0.1821311071608296, 0.43465292198301053, -1.3718084383090414, -0.7065580490592018, 0.909913758991963, 0.6969810629188408, 1.0463714894729697, 0.6831279695180076, 0.24409792910146047, 1.433229901433797, -0.4058507832926155, -1.10187824116574, -0.8071314308373911, 0.8577612683913687, -1.0708370629080108, -0.9168997646164357, -2.1631333724515924, 0.13079043749727665, 0.3381626091783292, 0.15506303239424246, 0.7901778906730181, 0.9305057191246837, 0.099085161899565, -0.9169462506429646, 0.36951902680482057, 0.06925822193942366, -0.7198369642867564, -1.7245899453715674, -0.45008624430717875, 0.2967832703141231, -1.3377202043417142, 0.27493114755760784, 0.45941519480195747, -1.6291864606638882, -0.22070503253306045, 0.007709510068425308, 0.01768433879422398, -0.07079772944421962, -1.6679549393374373, -0.594619630454869, 1.0366407677017115, 0.2819081617296796, 1.3546788202799147, -0.07505679983163255, -0.9231210754582747, 0.6687394981273819, -0.5238978468910802, -0.8632332797156874, 0.4545244092944283, 1.1078297676122262, -0.44292004296577747, -0.9184911891684518, -0.00401103462367758, 0.09773503073679715, -0.8916894520145863, -2.170179314341021, -0.012113705461402155, 1.5340561179830172, -0.18585726925530954, -0.4131874227536773, -1.3631444791162253, 1.02004939629908, -0.9134507475058871, -0.32772598652099594, 0.34053976632380595, -0.2748575672954093, 0.8385945981431505, -1.1295338677638593]}],\n                        {\"barmode\": \"overlay\", \"legend\": {\"bgcolor\": \"#F5F6F9\", \"font\": {\"color\": \"#4D5663\"}}, \"paper_bgcolor\": \"#F5F6F9\", \"plot_bgcolor\": \"#F5F6F9\", \"template\": {\"data\": {\"bar\": [{\"error_x\": {\"color\": \"#2a3f5f\"}, \"error_y\": {\"color\": \"#2a3f5f\"}, \"marker\": {\"line\": {\"color\": \"#E5ECF6\", \"width\": 0.5}}, \"type\": \"bar\"}], \"barpolar\": [{\"marker\": {\"line\": {\"color\": \"#E5ECF6\", \"width\": 0.5}}, \"type\": \"barpolar\"}], \"carpet\": [{\"aaxis\": {\"endlinecolor\": \"#2a3f5f\", \"gridcolor\": \"white\", \"linecolor\": \"white\", \"minorgridcolor\": \"white\", \"startlinecolor\": \"#2a3f5f\"}, \"baxis\": {\"endlinecolor\": \"#2a3f5f\", \"gridcolor\": \"white\", \"linecolor\": \"white\", \"minorgridcolor\": \"white\", \"startlinecolor\": \"#2a3f5f\"}, \"type\": \"carpet\"}], \"choropleth\": [{\"colorbar\": {\"outlinewidth\": 0, \"ticks\": \"\"}, \"type\": \"choropleth\"}], \"contour\": [{\"colorbar\": {\"outlinewidth\": 0, \"ticks\": \"\"}, \"colorscale\": [[0.0, \"#0d0887\"], [0.1111111111111111, \"#46039f\"], [0.2222222222222222, \"#7201a8\"], [0.3333333333333333, \"#9c179e\"], [0.4444444444444444, \"#bd3786\"], [0.5555555555555556, \"#d8576b\"], [0.6666666666666666, \"#ed7953\"], [0.7777777777777778, \"#fb9f3a\"], [0.8888888888888888, \"#fdca26\"], [1.0, \"#f0f921\"]], \"type\": \"contour\"}], \"contourcarpet\": [{\"colorbar\": {\"outlinewidth\": 0, \"ticks\": \"\"}, \"type\": \"contourcarpet\"}], \"heatmap\": [{\"colorbar\": {\"outlinewidth\": 0, \"ticks\": \"\"}, \"colorscale\": [[0.0, \"#0d0887\"], [0.1111111111111111, \"#46039f\"], [0.2222222222222222, \"#7201a8\"], [0.3333333333333333, \"#9c179e\"], [0.4444444444444444, \"#bd3786\"], [0.5555555555555556, \"#d8576b\"], [0.6666666666666666, \"#ed7953\"], [0.7777777777777778, \"#fb9f3a\"], [0.8888888888888888, \"#fdca26\"], [1.0, \"#f0f921\"]], \"type\": \"heatmap\"}], \"heatmapgl\": [{\"colorbar\": {\"outlinewidth\": 0, \"ticks\": \"\"}, \"colorscale\": [[0.0, \"#0d0887\"], [0.1111111111111111, \"#46039f\"], [0.2222222222222222, \"#7201a8\"], [0.3333333333333333, \"#9c179e\"], [0.4444444444444444, \"#bd3786\"], [0.5555555555555556, \"#d8576b\"], [0.6666666666666666, \"#ed7953\"], [0.7777777777777778, \"#fb9f3a\"], [0.8888888888888888, \"#fdca26\"], [1.0, \"#f0f921\"]], \"type\": \"heatmapgl\"}], \"histogram\": [{\"marker\": {\"colorbar\": {\"outlinewidth\": 0, \"ticks\": \"\"}}, \"type\": \"histogram\"}], \"histogram2d\": [{\"colorbar\": {\"outlinewidth\": 0, \"ticks\": \"\"}, \"colorscale\": [[0.0, \"#0d0887\"], [0.1111111111111111, \"#46039f\"], [0.2222222222222222, \"#7201a8\"], [0.3333333333333333, \"#9c179e\"], [0.4444444444444444, \"#bd3786\"], [0.5555555555555556, \"#d8576b\"], [0.6666666666666666, \"#ed7953\"], [0.7777777777777778, \"#fb9f3a\"], [0.8888888888888888, \"#fdca26\"], [1.0, \"#f0f921\"]], \"type\": \"histogram2d\"}], \"histogram2dcontour\": [{\"colorbar\": {\"outlinewidth\": 0, \"ticks\": \"\"}, \"colorscale\": [[0.0, \"#0d0887\"], [0.1111111111111111, \"#46039f\"], [0.2222222222222222, \"#7201a8\"], [0.3333333333333333, \"#9c179e\"], [0.4444444444444444, \"#bd3786\"], [0.5555555555555556, \"#d8576b\"], [0.6666666666666666, \"#ed7953\"], [0.7777777777777778, \"#fb9f3a\"], [0.8888888888888888, \"#fdca26\"], [1.0, \"#f0f921\"]], \"type\": \"histogram2dcontour\"}], \"mesh3d\": [{\"colorbar\": {\"outlinewidth\": 0, \"ticks\": \"\"}, \"type\": \"mesh3d\"}], \"parcoords\": [{\"line\": {\"colorbar\": {\"outlinewidth\": 0, \"ticks\": \"\"}}, \"type\": \"parcoords\"}], \"pie\": [{\"automargin\": true, \"type\": \"pie\"}], \"scatter\": [{\"marker\": {\"colorbar\": {\"outlinewidth\": 0, \"ticks\": \"\"}}, \"type\": \"scatter\"}], \"scatter3d\": [{\"line\": {\"colorbar\": {\"outlinewidth\": 0, \"ticks\": \"\"}}, \"marker\": {\"colorbar\": {\"outlinewidth\": 0, \"ticks\": \"\"}}, \"type\": \"scatter3d\"}], \"scattercarpet\": [{\"marker\": {\"colorbar\": {\"outlinewidth\": 0, \"ticks\": \"\"}}, \"type\": \"scattercarpet\"}], \"scattergeo\": [{\"marker\": {\"colorbar\": {\"outlinewidth\": 0, \"ticks\": \"\"}}, \"type\": \"scattergeo\"}], \"scattergl\": [{\"marker\": {\"colorbar\": {\"outlinewidth\": 0, \"ticks\": \"\"}}, \"type\": \"scattergl\"}], \"scattermapbox\": [{\"marker\": {\"colorbar\": {\"outlinewidth\": 0, \"ticks\": \"\"}}, \"type\": \"scattermapbox\"}], \"scatterpolar\": [{\"marker\": {\"colorbar\": {\"outlinewidth\": 0, \"ticks\": \"\"}}, \"type\": \"scatterpolar\"}], \"scatterpolargl\": [{\"marker\": {\"colorbar\": {\"outlinewidth\": 0, \"ticks\": \"\"}}, \"type\": \"scatterpolargl\"}], \"scatterternary\": [{\"marker\": {\"colorbar\": {\"outlinewidth\": 0, \"ticks\": \"\"}}, \"type\": \"scatterternary\"}], \"surface\": [{\"colorbar\": {\"outlinewidth\": 0, \"ticks\": \"\"}, \"colorscale\": [[0.0, \"#0d0887\"], [0.1111111111111111, \"#46039f\"], [0.2222222222222222, \"#7201a8\"], [0.3333333333333333, \"#9c179e\"], [0.4444444444444444, \"#bd3786\"], [0.5555555555555556, \"#d8576b\"], [0.6666666666666666, \"#ed7953\"], [0.7777777777777778, \"#fb9f3a\"], [0.8888888888888888, \"#fdca26\"], [1.0, \"#f0f921\"]], \"type\": \"surface\"}], \"table\": [{\"cells\": {\"fill\": {\"color\": \"#EBF0F8\"}, \"line\": {\"color\": \"white\"}}, \"header\": {\"fill\": {\"color\": \"#C8D4E3\"}, \"line\": {\"color\": \"white\"}}, \"type\": \"table\"}]}, \"layout\": {\"annotationdefaults\": {\"arrowcolor\": \"#2a3f5f\", \"arrowhead\": 0, \"arrowwidth\": 1}, \"coloraxis\": {\"colorbar\": {\"outlinewidth\": 0, \"ticks\": \"\"}}, \"colorscale\": {\"diverging\": [[0, \"#8e0152\"], [0.1, \"#c51b7d\"], [0.2, \"#de77ae\"], [0.3, \"#f1b6da\"], [0.4, \"#fde0ef\"], [0.5, \"#f7f7f7\"], [0.6, \"#e6f5d0\"], [0.7, \"#b8e186\"], [0.8, \"#7fbc41\"], [0.9, \"#4d9221\"], [1, \"#276419\"]], \"sequential\": [[0.0, \"#0d0887\"], [0.1111111111111111, \"#46039f\"], [0.2222222222222222, \"#7201a8\"], [0.3333333333333333, \"#9c179e\"], [0.4444444444444444, \"#bd3786\"], [0.5555555555555556, \"#d8576b\"], [0.6666666666666666, \"#ed7953\"], [0.7777777777777778, \"#fb9f3a\"], [0.8888888888888888, \"#fdca26\"], [1.0, \"#f0f921\"]], \"sequentialminus\": [[0.0, \"#0d0887\"], [0.1111111111111111, \"#46039f\"], [0.2222222222222222, \"#7201a8\"], [0.3333333333333333, \"#9c179e\"], [0.4444444444444444, \"#bd3786\"], [0.5555555555555556, \"#d8576b\"], [0.6666666666666666, \"#ed7953\"], [0.7777777777777778, \"#fb9f3a\"], [0.8888888888888888, \"#fdca26\"], [1.0, \"#f0f921\"]]}, \"colorway\": [\"#636efa\", \"#EF553B\", \"#00cc96\", \"#ab63fa\", \"#FFA15A\", \"#19d3f3\", \"#FF6692\", \"#B6E880\", \"#FF97FF\", \"#FECB52\"], \"font\": {\"color\": \"#2a3f5f\"}, \"geo\": {\"bgcolor\": \"white\", \"lakecolor\": \"white\", \"landcolor\": \"#E5ECF6\", \"showlakes\": true, \"showland\": true, \"subunitcolor\": \"white\"}, \"hoverlabel\": {\"align\": \"left\"}, \"hovermode\": \"closest\", \"mapbox\": {\"style\": \"light\"}, \"paper_bgcolor\": \"white\", \"plot_bgcolor\": \"#E5ECF6\", \"polar\": {\"angularaxis\": {\"gridcolor\": \"white\", \"linecolor\": \"white\", \"ticks\": \"\"}, \"bgcolor\": \"#E5ECF6\", \"radialaxis\": {\"gridcolor\": \"white\", \"linecolor\": \"white\", \"ticks\": \"\"}}, \"scene\": {\"xaxis\": {\"backgroundcolor\": \"#E5ECF6\", \"gridcolor\": \"white\", \"gridwidth\": 2, \"linecolor\": \"white\", \"showbackground\": true, \"ticks\": \"\", \"zerolinecolor\": \"white\"}, \"yaxis\": {\"backgroundcolor\": \"#E5ECF6\", \"gridcolor\": \"white\", \"gridwidth\": 2, \"linecolor\": \"white\", \"showbackground\": true, \"ticks\": \"\", \"zerolinecolor\": \"white\"}, \"zaxis\": {\"backgroundcolor\": \"#E5ECF6\", \"gridcolor\": \"white\", \"gridwidth\": 2, \"linecolor\": \"white\", \"showbackground\": true, \"ticks\": \"\", \"zerolinecolor\": \"white\"}}, \"shapedefaults\": {\"line\": {\"color\": \"#2a3f5f\"}}, \"ternary\": {\"aaxis\": {\"gridcolor\": \"white\", \"linecolor\": \"white\", \"ticks\": \"\"}, \"baxis\": {\"gridcolor\": \"white\", \"linecolor\": \"white\", \"ticks\": \"\"}, \"bgcolor\": \"#E5ECF6\", \"caxis\": {\"gridcolor\": \"white\", \"linecolor\": \"white\", \"ticks\": \"\"}}, \"title\": {\"x\": 0.05}, \"xaxis\": {\"automargin\": true, \"gridcolor\": \"white\", \"linecolor\": \"white\", \"ticks\": \"\", \"title\": {\"standoff\": 15}, \"zerolinecolor\": \"white\", \"zerolinewidth\": 2}, \"yaxis\": {\"automargin\": true, \"gridcolor\": \"white\", \"linecolor\": \"white\", \"ticks\": \"\", \"title\": {\"standoff\": 15}, \"zerolinecolor\": \"white\", \"zerolinewidth\": 2}}}, \"title\": {\"font\": {\"color\": \"#4D5663\"}}, \"xaxis\": {\"gridcolor\": \"#E1E5ED\", \"showgrid\": true, \"tickfont\": {\"color\": \"#4D5663\"}, \"title\": {\"font\": {\"color\": \"#4D5663\"}, \"text\": \"\"}, \"zerolinecolor\": \"#E1E5ED\"}, \"yaxis\": {\"gridcolor\": \"#E1E5ED\", \"showgrid\": true, \"tickfont\": {\"color\": \"#4D5663\"}, \"title\": {\"font\": {\"color\": \"#4D5663\"}, \"text\": \"\"}, \"zerolinecolor\": \"#E1E5ED\"}},\n                        {\"showLink\": true, \"linkText\": \"Export to plot.ly\", \"plotlyServerURL\": \"https://plot.ly\", \"responsive\": true}\n                    ).then(function(){\n                            \nvar gd = document.getElementById('c775fe41-ced3-4c3c-86e1-c6c7d093c2a8');\nvar x = new MutationObserver(function (mutations, observer) {{\n        var display = window.getComputedStyle(gd).display;\n        if (!display || display === 'none') {{\n            console.log([gd, 'removed!']);\n            Plotly.purge(gd);\n            observer.disconnect();\n        }}\n}});\n\n// Listen for the removal of the full notebook cells\nvar notebookContainer = gd.closest('#notebook-container');\nif (notebookContainer) {{\n    x.observe(notebookContainer, {childList: true});\n}}\n\n// Listen for the clearing of the current output cell\nvar outputEl = gd.closest('.output');\nif (outputEl) {{\n    x.observe(outputEl, {childList: true});\n}}\n\n                        })\n                };\n                });\n            </script>\n        </div>"
     },
     "metadata": {}
    }
   ],
   "source": [
    "df['A'].iplot(kind='hist',bins=25)"
   ]
  },
  {
   "cell_type": "code",
   "execution_count": 22,
   "metadata": {
    "collapsed": false
   },
   "outputs": [
    {
     "output_type": "display_data",
     "data": {
      "application/vnd.plotly.v1+json": {
       "config": {
        "linkText": "Export to plot.ly",
        "plotlyServerURL": "https://plot.ly",
        "showLink": true
       },
       "data": [
        {
         "marker": {
          "color": [
           "rgb(255, 153, 51)",
           "rgb(55, 128, 191)",
           "rgb(50, 171, 96)",
           "rgb(128, 0, 128)",
           "rgb(219, 64, 82)",
           "rgb(0, 128, 128)",
           "rgb(255, 255, 51)",
           "rgb(128, 128, 0)",
           "rgb(251, 128, 114)",
           "rgb(128, 177, 211)"
          ],
          "line": {
           "width": 1.3
          },
          "size": [
           66,
           88,
           66,
           52,
           55,
           85,
           100,
           25,
           36,
           46,
           90,
           67,
           29,
           85,
           32,
           65,
           55,
           71,
           34,
           50,
           67,
           15,
           39,
           39,
           76,
           48,
           65,
           50,
           74,
           55,
           59,
           64,
           71,
           61,
           89,
           41,
           31,
           99,
           62,
           58,
           43,
           66,
           88,
           14,
           78,
           78,
           83,
           70,
           70,
           36,
           62,
           45,
           91,
           89,
           12,
           53,
           56,
           65,
           60,
           95,
           102,
           26,
           49,
           97,
           70,
           77,
           29,
           81,
           110,
           69,
           100,
           66,
           52,
           109,
           29,
           26,
           77,
           47,
           60,
           85,
           30,
           40,
           69,
           57,
           64,
           88,
           92,
           74,
           52,
           59,
           21,
           65,
           78,
           31,
           101,
           67,
           73,
           14,
           112,
           41
          ],
          "symbol": "circle"
         },
         "mode": "markers",
         "text": "",
         "type": "scatter",
         "x": [
          0.08154756008965315,
          0.7294112196056034,
          -0.5954430102961661,
          0.11392668617930163,
          0.24501060951980624,
          0.010534816638921151,
          2.6364400057784594,
          0.12297180125533486,
          -0.8405470416845079,
          0.6503905079803126,
          0.02672677148625623,
          1.0390373819102718,
          0.9133276526366109,
          0.18141581073949015,
          0.9104636520368209,
          -1.40892263236515,
          -0.31567975933388454,
          2.4929469924755048,
          -0.4616394252856013,
          0.048035937256642,
          0.547119258096743,
          0.3881502777279593,
          -0.6229558942782302,
          0.1730967480960979,
          1.158573553878103,
          2.005769635483669,
          0.0009764871350639321,
          1.115750124492762,
          0.7765290283003947,
          -0.15117506367172406,
          -1.084832578987809,
          0.23376103148894553,
          -0.1821311071608296,
          0.43465292198301053,
          -1.3718084383090414,
          -0.7065580490592018,
          0.909913758991963,
          0.6969810629188408,
          1.0463714894729697,
          0.6831279695180076,
          0.24409792910146047,
          1.433229901433797,
          -0.4058507832926155,
          -1.10187824116574,
          -0.8071314308373911,
          0.8577612683913687,
          -1.0708370629080108,
          -0.9168997646164357,
          -2.1631333724515924,
          0.13079043749727665,
          0.3381626091783292,
          0.15506303239424246,
          0.7901778906730181,
          0.9305057191246837,
          0.099085161899565,
          -0.9169462506429646,
          0.36951902680482057,
          0.06925822193942366,
          -0.7198369642867564,
          -1.7245899453715674,
          -0.45008624430717875,
          0.2967832703141231,
          -1.3377202043417142,
          0.27493114755760784,
          0.45941519480195747,
          -1.6291864606638882,
          -0.22070503253306045,
          0.007709510068425308,
          0.01768433879422398,
          -0.07079772944421962,
          -1.6679549393374373,
          -0.594619630454869,
          1.0366407677017115,
          0.2819081617296796,
          1.3546788202799147,
          -0.07505679983163255,
          -0.9231210754582747,
          0.6687394981273819,
          -0.5238978468910802,
          -0.8632332797156874,
          0.4545244092944283,
          1.1078297676122262,
          -0.44292004296577747,
          -0.9184911891684518,
          -0.00401103462367758,
          0.09773503073679715,
          -0.8916894520145863,
          -2.170179314341021,
          -0.012113705461402155,
          1.5340561179830172,
          -0.18585726925530954,
          -0.4131874227536773,
          -1.3631444791162253,
          1.02004939629908,
          -0.9134507475058871,
          -0.32772598652099594,
          0.34053976632380595,
          -0.2748575672954093,
          0.8385945981431505,
          -1.1295338677638593
         ],
         "y": [
          0.9239846501391048,
          0.6953024520295731,
          0.2916503621311321,
          -0.965919765688481,
          0.17191954706583218,
          0.7624116519905186,
          -0.6652284368098259,
          -0.4772016744650276,
          0.7982642870613752,
          -0.3548888991782037,
          0.6746554659039304,
          0.17857352576234595,
          2.054763084961261,
          -0.1509660537376362,
          -0.8650692283683096,
          0.22136934835948605,
          -0.4345578354252637,
          -0.8941880991505339,
          0.16429920246842383,
          0.5039931460708144,
          1.8607739043126235,
          -0.9196941311634963,
          0.799503085141445,
          -1.4450435479215027,
          -0.6072544017417235,
          0.49500505670127404,
          -0.2969998338332768,
          -0.16673200385647882,
          0.303882295816272,
          0.6744726043764007,
          0.8362026045828959,
          -0.18002551045619974,
          -0.49870969915426255,
          -0.2873512773835932,
          0.758343432345483,
          0.4346064861801654,
          -0.31777292964171794,
          -0.10655199147282932,
          -1.235611158554504,
          1.114378533758231,
          -1.2458539752494155,
          0.7741141869892867,
          -2.061430139425667,
          1.0090783960346168,
          -0.0035614682665801155,
          1.2993259230256762,
          -1.4530859670521163,
          -0.5675395884441028,
          -0.3029557917594186,
          -0.8305521833670725,
          -0.5388610646465275,
          0.11145956959528848,
          0.6905566980694475,
          -0.6056110692747558,
          -0.960534196518318,
          -2.0885118049507394,
          0.9041150734606206,
          0.47995318291304495,
          -0.14548997263476554,
          1.0524863440461119,
          -0.5611798616616022,
          -1.187334192251828,
          0.39513785300405296,
          -1.3946753976310993,
          0.24659571882049935,
          -0.2543266430056381,
          -0.5476933696255555,
          -0.28217802860274704,
          -0.5393215350313256,
          -0.8095377645697454,
          -1.8410594008385672,
          0.405702434109728,
          1.1937169003480823,
          1.581909236767621,
          -1.9180940814652665,
          1.2008090209574682,
          -0.8939329531465761,
          0.8751629307055746,
          0.29177545956713835,
          -0.9403895202828687,
          1.2286191801145336,
          -1.1950136610294053,
          0.8143533691093339,
          2.099738473353832,
          0.34499031718368306,
          -0.9010719850875789,
          0.2397697728514549,
          1.155092720172047,
          -0.5364473130500922,
          0.4116350556286882,
          -0.5224746391063635,
          -0.6780665888992978,
          -0.4083440051678913,
          1.6260859831944012,
          0.7288485407412735,
          -1.1055630627568243,
          -1.4637814591932408,
          0.008076970853890886,
          0.5256062276641782,
          -1.6605193369448148
         ]
        }
       ],
       "layout": {
        "legend": {
         "bgcolor": "#F5F6F9",
         "font": {
          "color": "#4D5663"
         }
        },
        "paper_bgcolor": "#F5F6F9",
        "plot_bgcolor": "#F5F6F9",
        "template": {
         "data": {
          "bar": [
           {
            "error_x": {
             "color": "#2a3f5f"
            },
            "error_y": {
             "color": "#2a3f5f"
            },
            "marker": {
             "line": {
              "color": "#E5ECF6",
              "width": 0.5
             }
            },
            "type": "bar"
           }
          ],
          "barpolar": [
           {
            "marker": {
             "line": {
              "color": "#E5ECF6",
              "width": 0.5
             }
            },
            "type": "barpolar"
           }
          ],
          "carpet": [
           {
            "aaxis": {
             "endlinecolor": "#2a3f5f",
             "gridcolor": "white",
             "linecolor": "white",
             "minorgridcolor": "white",
             "startlinecolor": "#2a3f5f"
            },
            "baxis": {
             "endlinecolor": "#2a3f5f",
             "gridcolor": "white",
             "linecolor": "white",
             "minorgridcolor": "white",
             "startlinecolor": "#2a3f5f"
            },
            "type": "carpet"
           }
          ],
          "choropleth": [
           {
            "colorbar": {
             "outlinewidth": 0,
             "ticks": ""
            },
            "type": "choropleth"
           }
          ],
          "contour": [
           {
            "colorbar": {
             "outlinewidth": 0,
             "ticks": ""
            },
            "colorscale": [
             [
              0,
              "#0d0887"
             ],
             [
              0.1111111111111111,
              "#46039f"
             ],
             [
              0.2222222222222222,
              "#7201a8"
             ],
             [
              0.3333333333333333,
              "#9c179e"
             ],
             [
              0.4444444444444444,
              "#bd3786"
             ],
             [
              0.5555555555555556,
              "#d8576b"
             ],
             [
              0.6666666666666666,
              "#ed7953"
             ],
             [
              0.7777777777777778,
              "#fb9f3a"
             ],
             [
              0.8888888888888888,
              "#fdca26"
             ],
             [
              1,
              "#f0f921"
             ]
            ],
            "type": "contour"
           }
          ],
          "contourcarpet": [
           {
            "colorbar": {
             "outlinewidth": 0,
             "ticks": ""
            },
            "type": "contourcarpet"
           }
          ],
          "heatmap": [
           {
            "colorbar": {
             "outlinewidth": 0,
             "ticks": ""
            },
            "colorscale": [
             [
              0,
              "#0d0887"
             ],
             [
              0.1111111111111111,
              "#46039f"
             ],
             [
              0.2222222222222222,
              "#7201a8"
             ],
             [
              0.3333333333333333,
              "#9c179e"
             ],
             [
              0.4444444444444444,
              "#bd3786"
             ],
             [
              0.5555555555555556,
              "#d8576b"
             ],
             [
              0.6666666666666666,
              "#ed7953"
             ],
             [
              0.7777777777777778,
              "#fb9f3a"
             ],
             [
              0.8888888888888888,
              "#fdca26"
             ],
             [
              1,
              "#f0f921"
             ]
            ],
            "type": "heatmap"
           }
          ],
          "heatmapgl": [
           {
            "colorbar": {
             "outlinewidth": 0,
             "ticks": ""
            },
            "colorscale": [
             [
              0,
              "#0d0887"
             ],
             [
              0.1111111111111111,
              "#46039f"
             ],
             [
              0.2222222222222222,
              "#7201a8"
             ],
             [
              0.3333333333333333,
              "#9c179e"
             ],
             [
              0.4444444444444444,
              "#bd3786"
             ],
             [
              0.5555555555555556,
              "#d8576b"
             ],
             [
              0.6666666666666666,
              "#ed7953"
             ],
             [
              0.7777777777777778,
              "#fb9f3a"
             ],
             [
              0.8888888888888888,
              "#fdca26"
             ],
             [
              1,
              "#f0f921"
             ]
            ],
            "type": "heatmapgl"
           }
          ],
          "histogram": [
           {
            "marker": {
             "colorbar": {
              "outlinewidth": 0,
              "ticks": ""
             }
            },
            "type": "histogram"
           }
          ],
          "histogram2d": [
           {
            "colorbar": {
             "outlinewidth": 0,
             "ticks": ""
            },
            "colorscale": [
             [
              0,
              "#0d0887"
             ],
             [
              0.1111111111111111,
              "#46039f"
             ],
             [
              0.2222222222222222,
              "#7201a8"
             ],
             [
              0.3333333333333333,
              "#9c179e"
             ],
             [
              0.4444444444444444,
              "#bd3786"
             ],
             [
              0.5555555555555556,
              "#d8576b"
             ],
             [
              0.6666666666666666,
              "#ed7953"
             ],
             [
              0.7777777777777778,
              "#fb9f3a"
             ],
             [
              0.8888888888888888,
              "#fdca26"
             ],
             [
              1,
              "#f0f921"
             ]
            ],
            "type": "histogram2d"
           }
          ],
          "histogram2dcontour": [
           {
            "colorbar": {
             "outlinewidth": 0,
             "ticks": ""
            },
            "colorscale": [
             [
              0,
              "#0d0887"
             ],
             [
              0.1111111111111111,
              "#46039f"
             ],
             [
              0.2222222222222222,
              "#7201a8"
             ],
             [
              0.3333333333333333,
              "#9c179e"
             ],
             [
              0.4444444444444444,
              "#bd3786"
             ],
             [
              0.5555555555555556,
              "#d8576b"
             ],
             [
              0.6666666666666666,
              "#ed7953"
             ],
             [
              0.7777777777777778,
              "#fb9f3a"
             ],
             [
              0.8888888888888888,
              "#fdca26"
             ],
             [
              1,
              "#f0f921"
             ]
            ],
            "type": "histogram2dcontour"
           }
          ],
          "mesh3d": [
           {
            "colorbar": {
             "outlinewidth": 0,
             "ticks": ""
            },
            "type": "mesh3d"
           }
          ],
          "parcoords": [
           {
            "line": {
             "colorbar": {
              "outlinewidth": 0,
              "ticks": ""
             }
            },
            "type": "parcoords"
           }
          ],
          "pie": [
           {
            "automargin": true,
            "type": "pie"
           }
          ],
          "scatter": [
           {
            "marker": {
             "colorbar": {
              "outlinewidth": 0,
              "ticks": ""
             }
            },
            "type": "scatter"
           }
          ],
          "scatter3d": [
           {
            "line": {
             "colorbar": {
              "outlinewidth": 0,
              "ticks": ""
             }
            },
            "marker": {
             "colorbar": {
              "outlinewidth": 0,
              "ticks": ""
             }
            },
            "type": "scatter3d"
           }
          ],
          "scattercarpet": [
           {
            "marker": {
             "colorbar": {
              "outlinewidth": 0,
              "ticks": ""
             }
            },
            "type": "scattercarpet"
           }
          ],
          "scattergeo": [
           {
            "marker": {
             "colorbar": {
              "outlinewidth": 0,
              "ticks": ""
             }
            },
            "type": "scattergeo"
           }
          ],
          "scattergl": [
           {
            "marker": {
             "colorbar": {
              "outlinewidth": 0,
              "ticks": ""
             }
            },
            "type": "scattergl"
           }
          ],
          "scattermapbox": [
           {
            "marker": {
             "colorbar": {
              "outlinewidth": 0,
              "ticks": ""
             }
            },
            "type": "scattermapbox"
           }
          ],
          "scatterpolar": [
           {
            "marker": {
             "colorbar": {
              "outlinewidth": 0,
              "ticks": ""
             }
            },
            "type": "scatterpolar"
           }
          ],
          "scatterpolargl": [
           {
            "marker": {
             "colorbar": {
              "outlinewidth": 0,
              "ticks": ""
             }
            },
            "type": "scatterpolargl"
           }
          ],
          "scatterternary": [
           {
            "marker": {
             "colorbar": {
              "outlinewidth": 0,
              "ticks": ""
             }
            },
            "type": "scatterternary"
           }
          ],
          "surface": [
           {
            "colorbar": {
             "outlinewidth": 0,
             "ticks": ""
            },
            "colorscale": [
             [
              0,
              "#0d0887"
             ],
             [
              0.1111111111111111,
              "#46039f"
             ],
             [
              0.2222222222222222,
              "#7201a8"
             ],
             [
              0.3333333333333333,
              "#9c179e"
             ],
             [
              0.4444444444444444,
              "#bd3786"
             ],
             [
              0.5555555555555556,
              "#d8576b"
             ],
             [
              0.6666666666666666,
              "#ed7953"
             ],
             [
              0.7777777777777778,
              "#fb9f3a"
             ],
             [
              0.8888888888888888,
              "#fdca26"
             ],
             [
              1,
              "#f0f921"
             ]
            ],
            "type": "surface"
           }
          ],
          "table": [
           {
            "cells": {
             "fill": {
              "color": "#EBF0F8"
             },
             "line": {
              "color": "white"
             }
            },
            "header": {
             "fill": {
              "color": "#C8D4E3"
             },
             "line": {
              "color": "white"
             }
            },
            "type": "table"
           }
          ]
         },
         "layout": {
          "annotationdefaults": {
           "arrowcolor": "#2a3f5f",
           "arrowhead": 0,
           "arrowwidth": 1
          },
          "coloraxis": {
           "colorbar": {
            "outlinewidth": 0,
            "ticks": ""
           }
          },
          "colorscale": {
           "diverging": [
            [
             0,
             "#8e0152"
            ],
            [
             0.1,
             "#c51b7d"
            ],
            [
             0.2,
             "#de77ae"
            ],
            [
             0.3,
             "#f1b6da"
            ],
            [
             0.4,
             "#fde0ef"
            ],
            [
             0.5,
             "#f7f7f7"
            ],
            [
             0.6,
             "#e6f5d0"
            ],
            [
             0.7,
             "#b8e186"
            ],
            [
             0.8,
             "#7fbc41"
            ],
            [
             0.9,
             "#4d9221"
            ],
            [
             1,
             "#276419"
            ]
           ],
           "sequential": [
            [
             0,
             "#0d0887"
            ],
            [
             0.1111111111111111,
             "#46039f"
            ],
            [
             0.2222222222222222,
             "#7201a8"
            ],
            [
             0.3333333333333333,
             "#9c179e"
            ],
            [
             0.4444444444444444,
             "#bd3786"
            ],
            [
             0.5555555555555556,
             "#d8576b"
            ],
            [
             0.6666666666666666,
             "#ed7953"
            ],
            [
             0.7777777777777778,
             "#fb9f3a"
            ],
            [
             0.8888888888888888,
             "#fdca26"
            ],
            [
             1,
             "#f0f921"
            ]
           ],
           "sequentialminus": [
            [
             0,
             "#0d0887"
            ],
            [
             0.1111111111111111,
             "#46039f"
            ],
            [
             0.2222222222222222,
             "#7201a8"
            ],
            [
             0.3333333333333333,
             "#9c179e"
            ],
            [
             0.4444444444444444,
             "#bd3786"
            ],
            [
             0.5555555555555556,
             "#d8576b"
            ],
            [
             0.6666666666666666,
             "#ed7953"
            ],
            [
             0.7777777777777778,
             "#fb9f3a"
            ],
            [
             0.8888888888888888,
             "#fdca26"
            ],
            [
             1,
             "#f0f921"
            ]
           ]
          },
          "colorway": [
           "#636efa",
           "#EF553B",
           "#00cc96",
           "#ab63fa",
           "#FFA15A",
           "#19d3f3",
           "#FF6692",
           "#B6E880",
           "#FF97FF",
           "#FECB52"
          ],
          "font": {
           "color": "#2a3f5f"
          },
          "geo": {
           "bgcolor": "white",
           "lakecolor": "white",
           "landcolor": "#E5ECF6",
           "showlakes": true,
           "showland": true,
           "subunitcolor": "white"
          },
          "hoverlabel": {
           "align": "left"
          },
          "hovermode": "closest",
          "mapbox": {
           "style": "light"
          },
          "paper_bgcolor": "white",
          "plot_bgcolor": "#E5ECF6",
          "polar": {
           "angularaxis": {
            "gridcolor": "white",
            "linecolor": "white",
            "ticks": ""
           },
           "bgcolor": "#E5ECF6",
           "radialaxis": {
            "gridcolor": "white",
            "linecolor": "white",
            "ticks": ""
           }
          },
          "scene": {
           "xaxis": {
            "backgroundcolor": "#E5ECF6",
            "gridcolor": "white",
            "gridwidth": 2,
            "linecolor": "white",
            "showbackground": true,
            "ticks": "",
            "zerolinecolor": "white"
           },
           "yaxis": {
            "backgroundcolor": "#E5ECF6",
            "gridcolor": "white",
            "gridwidth": 2,
            "linecolor": "white",
            "showbackground": true,
            "ticks": "",
            "zerolinecolor": "white"
           },
           "zaxis": {
            "backgroundcolor": "#E5ECF6",
            "gridcolor": "white",
            "gridwidth": 2,
            "linecolor": "white",
            "showbackground": true,
            "ticks": "",
            "zerolinecolor": "white"
           }
          },
          "shapedefaults": {
           "line": {
            "color": "#2a3f5f"
           }
          },
          "ternary": {
           "aaxis": {
            "gridcolor": "white",
            "linecolor": "white",
            "ticks": ""
           },
           "baxis": {
            "gridcolor": "white",
            "linecolor": "white",
            "ticks": ""
           },
           "bgcolor": "#E5ECF6",
           "caxis": {
            "gridcolor": "white",
            "linecolor": "white",
            "ticks": ""
           }
          },
          "title": {
           "x": 0.05
          },
          "xaxis": {
           "automargin": true,
           "gridcolor": "white",
           "linecolor": "white",
           "ticks": "",
           "title": {
            "standoff": 15
           },
           "zerolinecolor": "white",
           "zerolinewidth": 2
          },
          "yaxis": {
           "automargin": true,
           "gridcolor": "white",
           "linecolor": "white",
           "ticks": "",
           "title": {
            "standoff": 15
           },
           "zerolinecolor": "white",
           "zerolinewidth": 2
          }
         }
        },
        "title": {
         "font": {
          "color": "#4D5663"
         }
        },
        "xaxis": {
         "gridcolor": "#E1E5ED",
         "showgrid": true,
         "tickfont": {
          "color": "#4D5663"
         },
         "title": {
          "font": {
           "color": "#4D5663"
          },
          "text": ""
         },
         "zerolinecolor": "#E1E5ED"
        },
        "yaxis": {
         "gridcolor": "#E1E5ED",
         "showgrid": true,
         "tickfont": {
          "color": "#4D5663"
         },
         "title": {
          "font": {
           "color": "#4D5663"
          },
          "text": ""
         },
         "zerolinecolor": "#E1E5ED"
        }
       }
      },
      "text/html": "<div>\n        \n        \n            <div id=\"d3f76830-f6aa-470a-b6f9-5d2d84a90a71\" class=\"plotly-graph-div\" style=\"height:525px; width:100%;\"></div>\n            <script type=\"text/javascript\">\n                require([\"plotly\"], function(Plotly) {\n                    window.PLOTLYENV=window.PLOTLYENV || {};\n                    window.PLOTLYENV.BASE_URL='https://plot.ly';\n                    \n                if (document.getElementById(\"d3f76830-f6aa-470a-b6f9-5d2d84a90a71\")) {\n                    Plotly.newPlot(\n                        'd3f76830-f6aa-470a-b6f9-5d2d84a90a71',\n                        [{\"marker\": {\"color\": [\"rgb(255, 153, 51)\", \"rgb(55, 128, 191)\", \"rgb(50, 171, 96)\", \"rgb(128, 0, 128)\", \"rgb(219, 64, 82)\", \"rgb(0, 128, 128)\", \"rgb(255, 255, 51)\", \"rgb(128, 128, 0)\", \"rgb(251, 128, 114)\", \"rgb(128, 177, 211)\"], \"line\": {\"width\": 1.3}, \"size\": [66, 88, 66, 52, 55, 85, 100, 25, 36, 46, 90, 67, 29, 85, 32, 65, 55, 71, 34, 50, 67, 15, 39, 39, 76, 48, 65, 50, 74, 55, 59, 64, 71, 61, 89, 41, 31, 99, 62, 58, 43, 66, 88, 14, 78, 78, 83, 70, 70, 36, 62, 45, 91, 89, 12, 53, 56, 65, 60, 95, 102, 26, 49, 97, 70, 77, 29, 81, 110, 69, 100, 66, 52, 109, 29, 26, 77, 47, 60, 85, 30, 40, 69, 57, 64, 88, 92, 74, 52, 59, 21, 65, 78, 31, 101, 67, 73, 14, 112, 41], \"symbol\": \"circle\"}, \"mode\": \"markers\", \"text\": \"\", \"type\": \"scatter\", \"x\": [0.08154756008965315, 0.7294112196056034, -0.5954430102961661, 0.11392668617930163, 0.24501060951980624, 0.010534816638921151, 2.6364400057784594, 0.12297180125533486, -0.8405470416845079, 0.6503905079803126, 0.02672677148625623, 1.0390373819102718, 0.9133276526366109, 0.18141581073949015, 0.9104636520368209, -1.40892263236515, -0.31567975933388454, 2.4929469924755048, -0.4616394252856013, 0.048035937256642, 0.547119258096743, 0.3881502777279593, -0.6229558942782302, 0.1730967480960979, 1.158573553878103, 2.005769635483669, 0.0009764871350639321, 1.115750124492762, 0.7765290283003947, -0.15117506367172406, -1.084832578987809, 0.23376103148894553, -0.1821311071608296, 0.43465292198301053, -1.3718084383090414, -0.7065580490592018, 0.909913758991963, 0.6969810629188408, 1.0463714894729697, 0.6831279695180076, 0.24409792910146047, 1.433229901433797, -0.4058507832926155, -1.10187824116574, -0.8071314308373911, 0.8577612683913687, -1.0708370629080108, -0.9168997646164357, -2.1631333724515924, 0.13079043749727665, 0.3381626091783292, 0.15506303239424246, 0.7901778906730181, 0.9305057191246837, 0.099085161899565, -0.9169462506429646, 0.36951902680482057, 0.06925822193942366, -0.7198369642867564, -1.7245899453715674, -0.45008624430717875, 0.2967832703141231, -1.3377202043417142, 0.27493114755760784, 0.45941519480195747, -1.6291864606638882, -0.22070503253306045, 0.007709510068425308, 0.01768433879422398, -0.07079772944421962, -1.6679549393374373, -0.594619630454869, 1.0366407677017115, 0.2819081617296796, 1.3546788202799147, -0.07505679983163255, -0.9231210754582747, 0.6687394981273819, -0.5238978468910802, -0.8632332797156874, 0.4545244092944283, 1.1078297676122262, -0.44292004296577747, -0.9184911891684518, -0.00401103462367758, 0.09773503073679715, -0.8916894520145863, -2.170179314341021, -0.012113705461402155, 1.5340561179830172, -0.18585726925530954, -0.4131874227536773, -1.3631444791162253, 1.02004939629908, -0.9134507475058871, -0.32772598652099594, 0.34053976632380595, -0.2748575672954093, 0.8385945981431505, -1.1295338677638593], \"y\": [0.9239846501391048, 0.6953024520295731, 0.2916503621311321, -0.965919765688481, 0.17191954706583218, 0.7624116519905186, -0.6652284368098259, -0.4772016744650276, 0.7982642870613752, -0.3548888991782037, 0.6746554659039304, 0.17857352576234595, 2.054763084961261, -0.1509660537376362, -0.8650692283683096, 0.22136934835948605, -0.4345578354252637, -0.8941880991505339, 0.16429920246842383, 0.5039931460708144, 1.8607739043126235, -0.9196941311634963, 0.799503085141445, -1.4450435479215027, -0.6072544017417235, 0.49500505670127404, -0.2969998338332768, -0.16673200385647882, 0.303882295816272, 0.6744726043764007, 0.8362026045828959, -0.18002551045619974, -0.49870969915426255, -0.2873512773835932, 0.758343432345483, 0.4346064861801654, -0.31777292964171794, -0.10655199147282932, -1.235611158554504, 1.114378533758231, -1.2458539752494155, 0.7741141869892867, -2.061430139425667, 1.0090783960346168, -0.0035614682665801155, 1.2993259230256762, -1.4530859670521163, -0.5675395884441028, -0.3029557917594186, -0.8305521833670725, -0.5388610646465275, 0.11145956959528848, 0.6905566980694475, -0.6056110692747558, -0.960534196518318, -2.0885118049507394, 0.9041150734606206, 0.47995318291304495, -0.14548997263476554, 1.0524863440461119, -0.5611798616616022, -1.187334192251828, 0.39513785300405296, -1.3946753976310993, 0.24659571882049935, -0.2543266430056381, -0.5476933696255555, -0.28217802860274704, -0.5393215350313256, -0.8095377645697454, -1.8410594008385672, 0.405702434109728, 1.1937169003480823, 1.581909236767621, -1.9180940814652665, 1.2008090209574682, -0.8939329531465761, 0.8751629307055746, 0.29177545956713835, -0.9403895202828687, 1.2286191801145336, -1.1950136610294053, 0.8143533691093339, 2.099738473353832, 0.34499031718368306, -0.9010719850875789, 0.2397697728514549, 1.155092720172047, -0.5364473130500922, 0.4116350556286882, -0.5224746391063635, -0.6780665888992978, -0.4083440051678913, 1.6260859831944012, 0.7288485407412735, -1.1055630627568243, -1.4637814591932408, 0.008076970853890886, 0.5256062276641782, -1.6605193369448148]}],\n                        {\"legend\": {\"bgcolor\": \"#F5F6F9\", \"font\": {\"color\": \"#4D5663\"}}, \"paper_bgcolor\": \"#F5F6F9\", \"plot_bgcolor\": \"#F5F6F9\", \"template\": {\"data\": {\"bar\": [{\"error_x\": {\"color\": \"#2a3f5f\"}, \"error_y\": {\"color\": \"#2a3f5f\"}, \"marker\": {\"line\": {\"color\": \"#E5ECF6\", \"width\": 0.5}}, \"type\": \"bar\"}], \"barpolar\": [{\"marker\": {\"line\": {\"color\": \"#E5ECF6\", \"width\": 0.5}}, \"type\": \"barpolar\"}], \"carpet\": [{\"aaxis\": {\"endlinecolor\": \"#2a3f5f\", \"gridcolor\": \"white\", \"linecolor\": \"white\", \"minorgridcolor\": \"white\", \"startlinecolor\": \"#2a3f5f\"}, \"baxis\": {\"endlinecolor\": \"#2a3f5f\", \"gridcolor\": \"white\", \"linecolor\": \"white\", \"minorgridcolor\": \"white\", \"startlinecolor\": \"#2a3f5f\"}, \"type\": \"carpet\"}], \"choropleth\": [{\"colorbar\": {\"outlinewidth\": 0, \"ticks\": \"\"}, \"type\": \"choropleth\"}], \"contour\": [{\"colorbar\": {\"outlinewidth\": 0, \"ticks\": \"\"}, \"colorscale\": [[0.0, \"#0d0887\"], [0.1111111111111111, \"#46039f\"], [0.2222222222222222, \"#7201a8\"], [0.3333333333333333, \"#9c179e\"], [0.4444444444444444, \"#bd3786\"], [0.5555555555555556, \"#d8576b\"], [0.6666666666666666, \"#ed7953\"], [0.7777777777777778, \"#fb9f3a\"], [0.8888888888888888, \"#fdca26\"], [1.0, \"#f0f921\"]], \"type\": \"contour\"}], \"contourcarpet\": [{\"colorbar\": {\"outlinewidth\": 0, \"ticks\": \"\"}, \"type\": \"contourcarpet\"}], \"heatmap\": [{\"colorbar\": {\"outlinewidth\": 0, \"ticks\": \"\"}, \"colorscale\": [[0.0, \"#0d0887\"], [0.1111111111111111, \"#46039f\"], [0.2222222222222222, \"#7201a8\"], [0.3333333333333333, \"#9c179e\"], [0.4444444444444444, \"#bd3786\"], [0.5555555555555556, \"#d8576b\"], [0.6666666666666666, \"#ed7953\"], [0.7777777777777778, \"#fb9f3a\"], [0.8888888888888888, \"#fdca26\"], [1.0, \"#f0f921\"]], \"type\": \"heatmap\"}], \"heatmapgl\": [{\"colorbar\": {\"outlinewidth\": 0, \"ticks\": \"\"}, \"colorscale\": [[0.0, \"#0d0887\"], [0.1111111111111111, \"#46039f\"], [0.2222222222222222, \"#7201a8\"], [0.3333333333333333, \"#9c179e\"], [0.4444444444444444, \"#bd3786\"], [0.5555555555555556, \"#d8576b\"], [0.6666666666666666, \"#ed7953\"], [0.7777777777777778, \"#fb9f3a\"], [0.8888888888888888, \"#fdca26\"], [1.0, \"#f0f921\"]], \"type\": \"heatmapgl\"}], \"histogram\": [{\"marker\": {\"colorbar\": {\"outlinewidth\": 0, \"ticks\": \"\"}}, \"type\": \"histogram\"}], \"histogram2d\": [{\"colorbar\": {\"outlinewidth\": 0, \"ticks\": \"\"}, \"colorscale\": [[0.0, \"#0d0887\"], [0.1111111111111111, \"#46039f\"], [0.2222222222222222, \"#7201a8\"], [0.3333333333333333, \"#9c179e\"], [0.4444444444444444, \"#bd3786\"], [0.5555555555555556, \"#d8576b\"], [0.6666666666666666, \"#ed7953\"], [0.7777777777777778, \"#fb9f3a\"], [0.8888888888888888, \"#fdca26\"], [1.0, \"#f0f921\"]], \"type\": \"histogram2d\"}], \"histogram2dcontour\": [{\"colorbar\": {\"outlinewidth\": 0, \"ticks\": \"\"}, \"colorscale\": [[0.0, \"#0d0887\"], [0.1111111111111111, \"#46039f\"], [0.2222222222222222, \"#7201a8\"], [0.3333333333333333, \"#9c179e\"], [0.4444444444444444, \"#bd3786\"], [0.5555555555555556, \"#d8576b\"], [0.6666666666666666, \"#ed7953\"], [0.7777777777777778, \"#fb9f3a\"], [0.8888888888888888, \"#fdca26\"], [1.0, \"#f0f921\"]], \"type\": \"histogram2dcontour\"}], \"mesh3d\": [{\"colorbar\": {\"outlinewidth\": 0, \"ticks\": \"\"}, \"type\": \"mesh3d\"}], \"parcoords\": [{\"line\": {\"colorbar\": {\"outlinewidth\": 0, \"ticks\": \"\"}}, \"type\": \"parcoords\"}], \"pie\": [{\"automargin\": true, \"type\": \"pie\"}], \"scatter\": [{\"marker\": {\"colorbar\": {\"outlinewidth\": 0, \"ticks\": \"\"}}, \"type\": \"scatter\"}], \"scatter3d\": [{\"line\": {\"colorbar\": {\"outlinewidth\": 0, \"ticks\": \"\"}}, \"marker\": {\"colorbar\": {\"outlinewidth\": 0, \"ticks\": \"\"}}, \"type\": \"scatter3d\"}], \"scattercarpet\": [{\"marker\": {\"colorbar\": {\"outlinewidth\": 0, \"ticks\": \"\"}}, \"type\": \"scattercarpet\"}], \"scattergeo\": [{\"marker\": {\"colorbar\": {\"outlinewidth\": 0, \"ticks\": \"\"}}, \"type\": \"scattergeo\"}], \"scattergl\": [{\"marker\": {\"colorbar\": {\"outlinewidth\": 0, \"ticks\": \"\"}}, \"type\": \"scattergl\"}], \"scattermapbox\": [{\"marker\": {\"colorbar\": {\"outlinewidth\": 0, \"ticks\": \"\"}}, \"type\": \"scattermapbox\"}], \"scatterpolar\": [{\"marker\": {\"colorbar\": {\"outlinewidth\": 0, \"ticks\": \"\"}}, \"type\": \"scatterpolar\"}], \"scatterpolargl\": [{\"marker\": {\"colorbar\": {\"outlinewidth\": 0, \"ticks\": \"\"}}, \"type\": \"scatterpolargl\"}], \"scatterternary\": [{\"marker\": {\"colorbar\": {\"outlinewidth\": 0, \"ticks\": \"\"}}, \"type\": \"scatterternary\"}], \"surface\": [{\"colorbar\": {\"outlinewidth\": 0, \"ticks\": \"\"}, \"colorscale\": [[0.0, \"#0d0887\"], [0.1111111111111111, \"#46039f\"], [0.2222222222222222, \"#7201a8\"], [0.3333333333333333, \"#9c179e\"], [0.4444444444444444, \"#bd3786\"], [0.5555555555555556, \"#d8576b\"], [0.6666666666666666, \"#ed7953\"], [0.7777777777777778, \"#fb9f3a\"], [0.8888888888888888, \"#fdca26\"], [1.0, \"#f0f921\"]], \"type\": \"surface\"}], \"table\": [{\"cells\": {\"fill\": {\"color\": \"#EBF0F8\"}, \"line\": {\"color\": \"white\"}}, \"header\": {\"fill\": {\"color\": \"#C8D4E3\"}, \"line\": {\"color\": \"white\"}}, \"type\": \"table\"}]}, \"layout\": {\"annotationdefaults\": {\"arrowcolor\": \"#2a3f5f\", \"arrowhead\": 0, \"arrowwidth\": 1}, \"coloraxis\": {\"colorbar\": {\"outlinewidth\": 0, \"ticks\": \"\"}}, \"colorscale\": {\"diverging\": [[0, \"#8e0152\"], [0.1, \"#c51b7d\"], [0.2, \"#de77ae\"], [0.3, \"#f1b6da\"], [0.4, \"#fde0ef\"], [0.5, \"#f7f7f7\"], [0.6, \"#e6f5d0\"], [0.7, \"#b8e186\"], [0.8, \"#7fbc41\"], [0.9, \"#4d9221\"], [1, \"#276419\"]], \"sequential\": [[0.0, \"#0d0887\"], [0.1111111111111111, \"#46039f\"], [0.2222222222222222, \"#7201a8\"], [0.3333333333333333, \"#9c179e\"], [0.4444444444444444, \"#bd3786\"], [0.5555555555555556, \"#d8576b\"], [0.6666666666666666, \"#ed7953\"], [0.7777777777777778, \"#fb9f3a\"], [0.8888888888888888, \"#fdca26\"], [1.0, \"#f0f921\"]], \"sequentialminus\": [[0.0, \"#0d0887\"], [0.1111111111111111, \"#46039f\"], [0.2222222222222222, \"#7201a8\"], [0.3333333333333333, \"#9c179e\"], [0.4444444444444444, \"#bd3786\"], [0.5555555555555556, \"#d8576b\"], [0.6666666666666666, \"#ed7953\"], [0.7777777777777778, \"#fb9f3a\"], [0.8888888888888888, \"#fdca26\"], [1.0, \"#f0f921\"]]}, \"colorway\": [\"#636efa\", \"#EF553B\", \"#00cc96\", \"#ab63fa\", \"#FFA15A\", \"#19d3f3\", \"#FF6692\", \"#B6E880\", \"#FF97FF\", \"#FECB52\"], \"font\": {\"color\": \"#2a3f5f\"}, \"geo\": {\"bgcolor\": \"white\", \"lakecolor\": \"white\", \"landcolor\": \"#E5ECF6\", \"showlakes\": true, \"showland\": true, \"subunitcolor\": \"white\"}, \"hoverlabel\": {\"align\": \"left\"}, \"hovermode\": \"closest\", \"mapbox\": {\"style\": \"light\"}, \"paper_bgcolor\": \"white\", \"plot_bgcolor\": \"#E5ECF6\", \"polar\": {\"angularaxis\": {\"gridcolor\": \"white\", \"linecolor\": \"white\", \"ticks\": \"\"}, \"bgcolor\": \"#E5ECF6\", \"radialaxis\": {\"gridcolor\": \"white\", \"linecolor\": \"white\", \"ticks\": \"\"}}, \"scene\": {\"xaxis\": {\"backgroundcolor\": \"#E5ECF6\", \"gridcolor\": \"white\", \"gridwidth\": 2, \"linecolor\": \"white\", \"showbackground\": true, \"ticks\": \"\", \"zerolinecolor\": \"white\"}, \"yaxis\": {\"backgroundcolor\": \"#E5ECF6\", \"gridcolor\": \"white\", \"gridwidth\": 2, \"linecolor\": \"white\", \"showbackground\": true, \"ticks\": \"\", \"zerolinecolor\": \"white\"}, \"zaxis\": {\"backgroundcolor\": \"#E5ECF6\", \"gridcolor\": \"white\", \"gridwidth\": 2, \"linecolor\": \"white\", \"showbackground\": true, \"ticks\": \"\", \"zerolinecolor\": \"white\"}}, \"shapedefaults\": {\"line\": {\"color\": \"#2a3f5f\"}}, \"ternary\": {\"aaxis\": {\"gridcolor\": \"white\", \"linecolor\": \"white\", \"ticks\": \"\"}, \"baxis\": {\"gridcolor\": \"white\", \"linecolor\": \"white\", \"ticks\": \"\"}, \"bgcolor\": \"#E5ECF6\", \"caxis\": {\"gridcolor\": \"white\", \"linecolor\": \"white\", \"ticks\": \"\"}}, \"title\": {\"x\": 0.05}, \"xaxis\": {\"automargin\": true, \"gridcolor\": \"white\", \"linecolor\": \"white\", \"ticks\": \"\", \"title\": {\"standoff\": 15}, \"zerolinecolor\": \"white\", \"zerolinewidth\": 2}, \"yaxis\": {\"automargin\": true, \"gridcolor\": \"white\", \"linecolor\": \"white\", \"ticks\": \"\", \"title\": {\"standoff\": 15}, \"zerolinecolor\": \"white\", \"zerolinewidth\": 2}}}, \"title\": {\"font\": {\"color\": \"#4D5663\"}}, \"xaxis\": {\"gridcolor\": \"#E1E5ED\", \"showgrid\": true, \"tickfont\": {\"color\": \"#4D5663\"}, \"title\": {\"font\": {\"color\": \"#4D5663\"}, \"text\": \"\"}, \"zerolinecolor\": \"#E1E5ED\"}, \"yaxis\": {\"gridcolor\": \"#E1E5ED\", \"showgrid\": true, \"tickfont\": {\"color\": \"#4D5663\"}, \"title\": {\"font\": {\"color\": \"#4D5663\"}, \"text\": \"\"}, \"zerolinecolor\": \"#E1E5ED\"}},\n                        {\"showLink\": true, \"linkText\": \"Export to plot.ly\", \"plotlyServerURL\": \"https://plot.ly\", \"responsive\": true}\n                    ).then(function(){\n                            \nvar gd = document.getElementById('d3f76830-f6aa-470a-b6f9-5d2d84a90a71');\nvar x = new MutationObserver(function (mutations, observer) {{\n        var display = window.getComputedStyle(gd).display;\n        if (!display || display === 'none') {{\n            console.log([gd, 'removed!']);\n            Plotly.purge(gd);\n            observer.disconnect();\n        }}\n}});\n\n// Listen for the removal of the full notebook cells\nvar notebookContainer = gd.closest('#notebook-container');\nif (notebookContainer) {{\n    x.observe(notebookContainer, {childList: true});\n}}\n\n// Listen for the clearing of the current output cell\nvar outputEl = gd.closest('.output');\nif (outputEl) {{\n    x.observe(outputEl, {childList: true});\n}}\n\n                        })\n                };\n                });\n            </script>\n        </div>"
     },
     "metadata": {}
    }
   ],
   "source": [
    "df.iplot(kind='bubble',x='A',y='B',size='C')"
   ]
  },
  {
   "cell_type": "markdown",
   "metadata": {},
   "source": [
    "## scatter_matrix()\n",
    "\n",
    "Similar to sns.pairplot()"
   ]
  },
  {
   "cell_type": "code",
   "execution_count": 23,
   "metadata": {
    "collapsed": false
   },
   "outputs": [
    {
     "output_type": "display_data",
     "data": {
      "application/vnd.plotly.v1+json": {
       "config": {
        "linkText": "Export to plot.ly",
        "plotlyServerURL": "https://plot.ly",
        "showLink": true
       },
       "data": [
        {
         "histfunc": "count",
         "histnorm": "",
         "marker": {
          "color": "rgba(255, 153, 51, 1.0)",
          "line": {
           "color": "#4D5663",
           "width": 1.3
          }
         },
         "name": "A",
         "nbinsx": 10,
         "opacity": 0.8,
         "orientation": "v",
         "type": "histogram",
         "x": [
          0.08154756008965315,
          0.7294112196056034,
          -0.5954430102961661,
          0.11392668617930163,
          0.24501060951980624,
          0.010534816638921151,
          2.6364400057784594,
          0.12297180125533486,
          -0.8405470416845079,
          0.6503905079803126,
          0.02672677148625623,
          1.0390373819102718,
          0.9133276526366109,
          0.18141581073949015,
          0.9104636520368209,
          -1.40892263236515,
          -0.31567975933388454,
          2.4929469924755048,
          -0.4616394252856013,
          0.048035937256642,
          0.547119258096743,
          0.3881502777279593,
          -0.6229558942782302,
          0.1730967480960979,
          1.158573553878103,
          2.005769635483669,
          0.0009764871350639321,
          1.115750124492762,
          0.7765290283003947,
          -0.15117506367172406,
          -1.084832578987809,
          0.23376103148894553,
          -0.1821311071608296,
          0.43465292198301053,
          -1.3718084383090414,
          -0.7065580490592018,
          0.909913758991963,
          0.6969810629188408,
          1.0463714894729697,
          0.6831279695180076,
          0.24409792910146047,
          1.433229901433797,
          -0.4058507832926155,
          -1.10187824116574,
          -0.8071314308373911,
          0.8577612683913687,
          -1.0708370629080108,
          -0.9168997646164357,
          -2.1631333724515924,
          0.13079043749727665,
          0.3381626091783292,
          0.15506303239424246,
          0.7901778906730181,
          0.9305057191246837,
          0.099085161899565,
          -0.9169462506429646,
          0.36951902680482057,
          0.06925822193942366,
          -0.7198369642867564,
          -1.7245899453715674,
          -0.45008624430717875,
          0.2967832703141231,
          -1.3377202043417142,
          0.27493114755760784,
          0.45941519480195747,
          -1.6291864606638882,
          -0.22070503253306045,
          0.007709510068425308,
          0.01768433879422398,
          -0.07079772944421962,
          -1.6679549393374373,
          -0.594619630454869,
          1.0366407677017115,
          0.2819081617296796,
          1.3546788202799147,
          -0.07505679983163255,
          -0.9231210754582747,
          0.6687394981273819,
          -0.5238978468910802,
          -0.8632332797156874,
          0.4545244092944283,
          1.1078297676122262,
          -0.44292004296577747,
          -0.9184911891684518,
          -0.00401103462367758,
          0.09773503073679715,
          -0.8916894520145863,
          -2.170179314341021,
          -0.012113705461402155,
          1.5340561179830172,
          -0.18585726925530954,
          -0.4131874227536773,
          -1.3631444791162253,
          1.02004939629908,
          -0.9134507475058871,
          -0.32772598652099594,
          0.34053976632380595,
          -0.2748575672954093,
          0.8385945981431505,
          -1.1295338677638593
         ],
         "xaxis": "x",
         "yaxis": "y"
        },
        {
         "line": {
          "color": "rgba(128, 128, 128, 1.0)",
          "dash": "solid",
          "shape": "linear",
          "width": 1.3
         },
         "marker": {
          "size": 2,
          "symbol": "circle"
         },
         "mode": "markers",
         "name": "A",
         "text": "",
         "type": "scatter",
         "x": [
          0.9239846501391048,
          0.6953024520295731,
          0.2916503621311321,
          -0.965919765688481,
          0.17191954706583218,
          0.7624116519905186,
          -0.6652284368098259,
          -0.4772016744650276,
          0.7982642870613752,
          -0.3548888991782037,
          0.6746554659039304,
          0.17857352576234595,
          2.054763084961261,
          -0.1509660537376362,
          -0.8650692283683096,
          0.22136934835948605,
          -0.4345578354252637,
          -0.8941880991505339,
          0.16429920246842383,
          0.5039931460708144,
          1.8607739043126235,
          -0.9196941311634963,
          0.799503085141445,
          -1.4450435479215027,
          -0.6072544017417235,
          0.49500505670127404,
          -0.2969998338332768,
          -0.16673200385647882,
          0.303882295816272,
          0.6744726043764007,
          0.8362026045828959,
          -0.18002551045619974,
          -0.49870969915426255,
          -0.2873512773835932,
          0.758343432345483,
          0.4346064861801654,
          -0.31777292964171794,
          -0.10655199147282932,
          -1.235611158554504,
          1.114378533758231,
          -1.2458539752494155,
          0.7741141869892867,
          -2.061430139425667,
          1.0090783960346168,
          -0.0035614682665801155,
          1.2993259230256762,
          -1.4530859670521163,
          -0.5675395884441028,
          -0.3029557917594186,
          -0.8305521833670725,
          -0.5388610646465275,
          0.11145956959528848,
          0.6905566980694475,
          -0.6056110692747558,
          -0.960534196518318,
          -2.0885118049507394,
          0.9041150734606206,
          0.47995318291304495,
          -0.14548997263476554,
          1.0524863440461119,
          -0.5611798616616022,
          -1.187334192251828,
          0.39513785300405296,
          -1.3946753976310993,
          0.24659571882049935,
          -0.2543266430056381,
          -0.5476933696255555,
          -0.28217802860274704,
          -0.5393215350313256,
          -0.8095377645697454,
          -1.8410594008385672,
          0.405702434109728,
          1.1937169003480823,
          1.581909236767621,
          -1.9180940814652665,
          1.2008090209574682,
          -0.8939329531465761,
          0.8751629307055746,
          0.29177545956713835,
          -0.9403895202828687,
          1.2286191801145336,
          -1.1950136610294053,
          0.8143533691093339,
          2.099738473353832,
          0.34499031718368306,
          -0.9010719850875789,
          0.2397697728514549,
          1.155092720172047,
          -0.5364473130500922,
          0.4116350556286882,
          -0.5224746391063635,
          -0.6780665888992978,
          -0.4083440051678913,
          1.6260859831944012,
          0.7288485407412735,
          -1.1055630627568243,
          -1.4637814591932408,
          0.008076970853890886,
          0.5256062276641782,
          -1.6605193369448148
         ],
         "xaxis": "x2",
         "y": [
          0.08154756008965315,
          0.7294112196056034,
          -0.5954430102961661,
          0.11392668617930163,
          0.24501060951980624,
          0.010534816638921151,
          2.6364400057784594,
          0.12297180125533486,
          -0.8405470416845079,
          0.6503905079803126,
          0.02672677148625623,
          1.0390373819102718,
          0.9133276526366109,
          0.18141581073949015,
          0.9104636520368209,
          -1.40892263236515,
          -0.31567975933388454,
          2.4929469924755048,
          -0.4616394252856013,
          0.048035937256642,
          0.547119258096743,
          0.3881502777279593,
          -0.6229558942782302,
          0.1730967480960979,
          1.158573553878103,
          2.005769635483669,
          0.0009764871350639321,
          1.115750124492762,
          0.7765290283003947,
          -0.15117506367172406,
          -1.084832578987809,
          0.23376103148894553,
          -0.1821311071608296,
          0.43465292198301053,
          -1.3718084383090414,
          -0.7065580490592018,
          0.909913758991963,
          0.6969810629188408,
          1.0463714894729697,
          0.6831279695180076,
          0.24409792910146047,
          1.433229901433797,
          -0.4058507832926155,
          -1.10187824116574,
          -0.8071314308373911,
          0.8577612683913687,
          -1.0708370629080108,
          -0.9168997646164357,
          -2.1631333724515924,
          0.13079043749727665,
          0.3381626091783292,
          0.15506303239424246,
          0.7901778906730181,
          0.9305057191246837,
          0.099085161899565,
          -0.9169462506429646,
          0.36951902680482057,
          0.06925822193942366,
          -0.7198369642867564,
          -1.7245899453715674,
          -0.45008624430717875,
          0.2967832703141231,
          -1.3377202043417142,
          0.27493114755760784,
          0.45941519480195747,
          -1.6291864606638882,
          -0.22070503253306045,
          0.007709510068425308,
          0.01768433879422398,
          -0.07079772944421962,
          -1.6679549393374373,
          -0.594619630454869,
          1.0366407677017115,
          0.2819081617296796,
          1.3546788202799147,
          -0.07505679983163255,
          -0.9231210754582747,
          0.6687394981273819,
          -0.5238978468910802,
          -0.8632332797156874,
          0.4545244092944283,
          1.1078297676122262,
          -0.44292004296577747,
          -0.9184911891684518,
          -0.00401103462367758,
          0.09773503073679715,
          -0.8916894520145863,
          -2.170179314341021,
          -0.012113705461402155,
          1.5340561179830172,
          -0.18585726925530954,
          -0.4131874227536773,
          -1.3631444791162253,
          1.02004939629908,
          -0.9134507475058871,
          -0.32772598652099594,
          0.34053976632380595,
          -0.2748575672954093,
          0.8385945981431505,
          -1.1295338677638593
         ],
         "yaxis": "y2"
        },
        {
         "line": {
          "color": "rgba(128, 128, 128, 1.0)",
          "dash": "solid",
          "shape": "linear",
          "width": 1.3
         },
         "marker": {
          "size": 2,
          "symbol": "circle"
         },
         "mode": "markers",
         "name": "A",
         "text": "",
         "type": "scatter",
         "x": [
          0.1731897801871931,
          1.0805717454346522,
          0.1661815232188988,
          -0.4231972335987849,
          -0.2894533176460957,
          0.9497988890641357,
          1.558133953659309,
          -1.5291805685676683,
          -1.0551807024957554,
          -0.640238750476245,
          1.1446536801133733,
          0.20976504318236616,
          -1.3382958360655268,
          0.9518497188546176,
          -1.2288145585109191,
          0.11670601375788553,
          -0.2655007078065531,
          0.3688943535632997,
          -1.1547589682595232,
          -0.48901052641937004,
          0.19946934127534185,
          -1.9021996549429325,
          -0.9377069093083589,
          -0.9337351133110984,
          0.5623826885631529,
          -0.5622692926720693,
          0.11934591893240494,
          -0.4800356227742899,
          0.5104577368749124,
          -0.2795289095937796,
          -0.12692310306701218,
          0.07343796483065212,
          0.35976486569917826,
          -0.020082737660763607,
          1.1114187302743177,
          -0.863830611873298,
          -1.2783946019204804,
          1.5250607675908419,
          0.002146472280955956,
          -0.16949927720793204,
          -0.7586236333447639,
          0.17887601161337757,
          1.0517588365000778,
          -1.967048201289373,
          0.6750443213360052,
          0.6483937197172981,
          0.850693843078563,
          0.3227404170056332,
          0.34889164245916643,
          -1.0457422369419092,
          0.014022093848823814,
          -0.6973731946226839,
          1.1691260417598122,
          1.0887492305473025,
          -2.0629420159266196,
          -0.3817441839140059,
          -0.23409990190736532,
          0.13264340828353383,
          -0.08222876710525634,
          1.3688674497143116,
          1.6352216822242112,
          -1.471449110271284,
          -0.5244026362381358,
          1.4362226985951463,
          0.3085997514256125,
          0.6241273972711119,
          -1.3342724604708143,
          0.7806353792899472,
          1.9824371066258424,
          0.29970388069490195,
          1.5404486201641265,
          0.18096403741163036,
          -0.39596123536534394,
          1.9376849092721047,
          -1.3292782232149443,
          -1.4666601875527623,
          0.6242695966531804,
          -0.6176493128058889,
          -0.0750675329539289,
          0.9481856527016067,
          -1.2872360668272416,
          -0.8789159961972396,
          0.2983390403860215,
          -0.220802075095829,
          0.09694274281928222,
          1.0610922307984672,
          1.2243623444569152,
          0.4822194731439537,
          -0.4003820335468704,
          -0.11951785465035626,
          -1.6618586635524273,
          0.13157180141905434,
          0.6435258751189307,
          -1.2678693784667685,
          1.603064218833642,
          0.20869997830926718,
          0.452935272055739,
          -1.942258717894802,
          2.025334371561616,
          -0.8449746319198892
         ],
         "xaxis": "x3",
         "y": [
          0.08154756008965315,
          0.7294112196056034,
          -0.5954430102961661,
          0.11392668617930163,
          0.24501060951980624,
          0.010534816638921151,
          2.6364400057784594,
          0.12297180125533486,
          -0.8405470416845079,
          0.6503905079803126,
          0.02672677148625623,
          1.0390373819102718,
          0.9133276526366109,
          0.18141581073949015,
          0.9104636520368209,
          -1.40892263236515,
          -0.31567975933388454,
          2.4929469924755048,
          -0.4616394252856013,
          0.048035937256642,
          0.547119258096743,
          0.3881502777279593,
          -0.6229558942782302,
          0.1730967480960979,
          1.158573553878103,
          2.005769635483669,
          0.0009764871350639321,
          1.115750124492762,
          0.7765290283003947,
          -0.15117506367172406,
          -1.084832578987809,
          0.23376103148894553,
          -0.1821311071608296,
          0.43465292198301053,
          -1.3718084383090414,
          -0.7065580490592018,
          0.909913758991963,
          0.6969810629188408,
          1.0463714894729697,
          0.6831279695180076,
          0.24409792910146047,
          1.433229901433797,
          -0.4058507832926155,
          -1.10187824116574,
          -0.8071314308373911,
          0.8577612683913687,
          -1.0708370629080108,
          -0.9168997646164357,
          -2.1631333724515924,
          0.13079043749727665,
          0.3381626091783292,
          0.15506303239424246,
          0.7901778906730181,
          0.9305057191246837,
          0.099085161899565,
          -0.9169462506429646,
          0.36951902680482057,
          0.06925822193942366,
          -0.7198369642867564,
          -1.7245899453715674,
          -0.45008624430717875,
          0.2967832703141231,
          -1.3377202043417142,
          0.27493114755760784,
          0.45941519480195747,
          -1.6291864606638882,
          -0.22070503253306045,
          0.007709510068425308,
          0.01768433879422398,
          -0.07079772944421962,
          -1.6679549393374373,
          -0.594619630454869,
          1.0366407677017115,
          0.2819081617296796,
          1.3546788202799147,
          -0.07505679983163255,
          -0.9231210754582747,
          0.6687394981273819,
          -0.5238978468910802,
          -0.8632332797156874,
          0.4545244092944283,
          1.1078297676122262,
          -0.44292004296577747,
          -0.9184911891684518,
          -0.00401103462367758,
          0.09773503073679715,
          -0.8916894520145863,
          -2.170179314341021,
          -0.012113705461402155,
          1.5340561179830172,
          -0.18585726925530954,
          -0.4131874227536773,
          -1.3631444791162253,
          1.02004939629908,
          -0.9134507475058871,
          -0.32772598652099594,
          0.34053976632380595,
          -0.2748575672954093,
          0.8385945981431505,
          -1.1295338677638593
         ],
         "yaxis": "y3"
        },
        {
         "line": {
          "color": "rgba(128, 128, 128, 1.0)",
          "dash": "solid",
          "shape": "linear",
          "width": 1.3
         },
         "marker": {
          "size": 2,
          "symbol": "circle"
         },
         "mode": "markers",
         "name": "A",
         "text": "",
         "type": "scatter",
         "x": [
          -1.3874849477667144,
          -1.8656498231275773,
          -0.33749021888015307,
          0.5488343617703392,
          -1.0508688271766322,
          -0.08778009754034234,
          -2.286142696234354,
          1.6257304646226955,
          0.15313810264602,
          -0.3987176989567448,
          0.35764497952947116,
          0.47354284215415654,
          -0.1723453883790165,
          -0.8914056644373052,
          1.2902095150186206,
          -1.4816870734327254,
          0.1483562742596897,
          0.3043444840057154,
          0.2539473040683697,
          0.23526044843933577,
          1.2629927352072594,
          -0.22611484087641787,
          0.7109365890900765,
          0.08756974766629698,
          0.16531812727383804,
          -0.9616230175982924,
          -0.6006186301256718,
          1.0643291101644667,
          -0.545939815993772,
          0.6430378864115665,
          0.0052357292339122495,
          -1.513604748112339,
          0.5231533677726229,
          1.3817943007055535,
          0.27125166672707574,
          1.9037269509437669,
          0.045407533647354247,
          0.3952368589656036,
          0.8083530083235367,
          -2.3419611795562294,
          -1.6511650360092605,
          0.06280541544054928,
          -0.052273312085548036,
          1.2001554553695584,
          -0.8547263820888261,
          0.5177546873595925,
          0.17508077620254087,
          1.9001590783905606,
          -0.713229459631557,
          2.373962445976622,
          0.5532735516263807,
          -0.3840168580308098,
          0.03362334697478046,
          -1.103203773813644,
          0.02346124218995091,
          0.05255960602561054,
          0.6727938023652159,
          0.5646896146548723,
          -0.6266538981748045,
          1.526513850461846,
          1.1952029124949193,
          0.9274273106965598,
          -0.33731735453322564,
          0.44685854230215055,
          1.6349709493685298,
          -0.2209708413295089,
          0.48923563646043466,
          -0.2945118225534256,
          -0.8251248149131969,
          0.00857551287297888,
          -0.13002228318371914,
          -0.9771456209548197,
          0.09469617143608043,
          -0.14593108388755036,
          0.17630435429081576,
          1.79185022241687,
          -1.8143582927777,
          0.7017241144873628,
          -0.2568340537743485,
          1.004992962769046,
          -1.85800838094076,
          0.3102690773759805,
          0.5739626686524494,
          -0.4524609135108897,
          -0.4996566096925608,
          0.3067263817491155,
          -0.33826278591067316,
          -0.9535551517747584,
          0.5543197263992433,
          -0.5380370196346342,
          -0.13926724184245634,
          -1.6050890209212885,
          0.10552377837277267,
          0.8482112437267506,
          2.6089245208845684,
          0.4010429097785106,
          1.1204122953435418,
          -0.1889293064943024,
          -1.7312277812298196,
          -0.6050912679966161
         ],
         "xaxis": "x4",
         "y": [
          0.08154756008965315,
          0.7294112196056034,
          -0.5954430102961661,
          0.11392668617930163,
          0.24501060951980624,
          0.010534816638921151,
          2.6364400057784594,
          0.12297180125533486,
          -0.8405470416845079,
          0.6503905079803126,
          0.02672677148625623,
          1.0390373819102718,
          0.9133276526366109,
          0.18141581073949015,
          0.9104636520368209,
          -1.40892263236515,
          -0.31567975933388454,
          2.4929469924755048,
          -0.4616394252856013,
          0.048035937256642,
          0.547119258096743,
          0.3881502777279593,
          -0.6229558942782302,
          0.1730967480960979,
          1.158573553878103,
          2.005769635483669,
          0.0009764871350639321,
          1.115750124492762,
          0.7765290283003947,
          -0.15117506367172406,
          -1.084832578987809,
          0.23376103148894553,
          -0.1821311071608296,
          0.43465292198301053,
          -1.3718084383090414,
          -0.7065580490592018,
          0.909913758991963,
          0.6969810629188408,
          1.0463714894729697,
          0.6831279695180076,
          0.24409792910146047,
          1.433229901433797,
          -0.4058507832926155,
          -1.10187824116574,
          -0.8071314308373911,
          0.8577612683913687,
          -1.0708370629080108,
          -0.9168997646164357,
          -2.1631333724515924,
          0.13079043749727665,
          0.3381626091783292,
          0.15506303239424246,
          0.7901778906730181,
          0.9305057191246837,
          0.099085161899565,
          -0.9169462506429646,
          0.36951902680482057,
          0.06925822193942366,
          -0.7198369642867564,
          -1.7245899453715674,
          -0.45008624430717875,
          0.2967832703141231,
          -1.3377202043417142,
          0.27493114755760784,
          0.45941519480195747,
          -1.6291864606638882,
          -0.22070503253306045,
          0.007709510068425308,
          0.01768433879422398,
          -0.07079772944421962,
          -1.6679549393374373,
          -0.594619630454869,
          1.0366407677017115,
          0.2819081617296796,
          1.3546788202799147,
          -0.07505679983163255,
          -0.9231210754582747,
          0.6687394981273819,
          -0.5238978468910802,
          -0.8632332797156874,
          0.4545244092944283,
          1.1078297676122262,
          -0.44292004296577747,
          -0.9184911891684518,
          -0.00401103462367758,
          0.09773503073679715,
          -0.8916894520145863,
          -2.170179314341021,
          -0.012113705461402155,
          1.5340561179830172,
          -0.18585726925530954,
          -0.4131874227536773,
          -1.3631444791162253,
          1.02004939629908,
          -0.9134507475058871,
          -0.32772598652099594,
          0.34053976632380595,
          -0.2748575672954093,
          0.8385945981431505,
          -1.1295338677638593
         ],
         "yaxis": "y4"
        },
        {
         "line": {
          "color": "rgba(128, 128, 128, 1.0)",
          "dash": "solid",
          "shape": "linear",
          "width": 1.3
         },
         "marker": {
          "size": 2,
          "symbol": "circle"
         },
         "mode": "markers",
         "name": "B",
         "text": "",
         "type": "scatter",
         "x": [
          0.08154756008965315,
          0.7294112196056034,
          -0.5954430102961661,
          0.11392668617930163,
          0.24501060951980624,
          0.010534816638921151,
          2.6364400057784594,
          0.12297180125533486,
          -0.8405470416845079,
          0.6503905079803126,
          0.02672677148625623,
          1.0390373819102718,
          0.9133276526366109,
          0.18141581073949015,
          0.9104636520368209,
          -1.40892263236515,
          -0.31567975933388454,
          2.4929469924755048,
          -0.4616394252856013,
          0.048035937256642,
          0.547119258096743,
          0.3881502777279593,
          -0.6229558942782302,
          0.1730967480960979,
          1.158573553878103,
          2.005769635483669,
          0.0009764871350639321,
          1.115750124492762,
          0.7765290283003947,
          -0.15117506367172406,
          -1.084832578987809,
          0.23376103148894553,
          -0.1821311071608296,
          0.43465292198301053,
          -1.3718084383090414,
          -0.7065580490592018,
          0.909913758991963,
          0.6969810629188408,
          1.0463714894729697,
          0.6831279695180076,
          0.24409792910146047,
          1.433229901433797,
          -0.4058507832926155,
          -1.10187824116574,
          -0.8071314308373911,
          0.8577612683913687,
          -1.0708370629080108,
          -0.9168997646164357,
          -2.1631333724515924,
          0.13079043749727665,
          0.3381626091783292,
          0.15506303239424246,
          0.7901778906730181,
          0.9305057191246837,
          0.099085161899565,
          -0.9169462506429646,
          0.36951902680482057,
          0.06925822193942366,
          -0.7198369642867564,
          -1.7245899453715674,
          -0.45008624430717875,
          0.2967832703141231,
          -1.3377202043417142,
          0.27493114755760784,
          0.45941519480195747,
          -1.6291864606638882,
          -0.22070503253306045,
          0.007709510068425308,
          0.01768433879422398,
          -0.07079772944421962,
          -1.6679549393374373,
          -0.594619630454869,
          1.0366407677017115,
          0.2819081617296796,
          1.3546788202799147,
          -0.07505679983163255,
          -0.9231210754582747,
          0.6687394981273819,
          -0.5238978468910802,
          -0.8632332797156874,
          0.4545244092944283,
          1.1078297676122262,
          -0.44292004296577747,
          -0.9184911891684518,
          -0.00401103462367758,
          0.09773503073679715,
          -0.8916894520145863,
          -2.170179314341021,
          -0.012113705461402155,
          1.5340561179830172,
          -0.18585726925530954,
          -0.4131874227536773,
          -1.3631444791162253,
          1.02004939629908,
          -0.9134507475058871,
          -0.32772598652099594,
          0.34053976632380595,
          -0.2748575672954093,
          0.8385945981431505,
          -1.1295338677638593
         ],
         "xaxis": "x5",
         "y": [
          0.9239846501391048,
          0.6953024520295731,
          0.2916503621311321,
          -0.965919765688481,
          0.17191954706583218,
          0.7624116519905186,
          -0.6652284368098259,
          -0.4772016744650276,
          0.7982642870613752,
          -0.3548888991782037,
          0.6746554659039304,
          0.17857352576234595,
          2.054763084961261,
          -0.1509660537376362,
          -0.8650692283683096,
          0.22136934835948605,
          -0.4345578354252637,
          -0.8941880991505339,
          0.16429920246842383,
          0.5039931460708144,
          1.8607739043126235,
          -0.9196941311634963,
          0.799503085141445,
          -1.4450435479215027,
          -0.6072544017417235,
          0.49500505670127404,
          -0.2969998338332768,
          -0.16673200385647882,
          0.303882295816272,
          0.6744726043764007,
          0.8362026045828959,
          -0.18002551045619974,
          -0.49870969915426255,
          -0.2873512773835932,
          0.758343432345483,
          0.4346064861801654,
          -0.31777292964171794,
          -0.10655199147282932,
          -1.235611158554504,
          1.114378533758231,
          -1.2458539752494155,
          0.7741141869892867,
          -2.061430139425667,
          1.0090783960346168,
          -0.0035614682665801155,
          1.2993259230256762,
          -1.4530859670521163,
          -0.5675395884441028,
          -0.3029557917594186,
          -0.8305521833670725,
          -0.5388610646465275,
          0.11145956959528848,
          0.6905566980694475,
          -0.6056110692747558,
          -0.960534196518318,
          -2.0885118049507394,
          0.9041150734606206,
          0.47995318291304495,
          -0.14548997263476554,
          1.0524863440461119,
          -0.5611798616616022,
          -1.187334192251828,
          0.39513785300405296,
          -1.3946753976310993,
          0.24659571882049935,
          -0.2543266430056381,
          -0.5476933696255555,
          -0.28217802860274704,
          -0.5393215350313256,
          -0.8095377645697454,
          -1.8410594008385672,
          0.405702434109728,
          1.1937169003480823,
          1.581909236767621,
          -1.9180940814652665,
          1.2008090209574682,
          -0.8939329531465761,
          0.8751629307055746,
          0.29177545956713835,
          -0.9403895202828687,
          1.2286191801145336,
          -1.1950136610294053,
          0.8143533691093339,
          2.099738473353832,
          0.34499031718368306,
          -0.9010719850875789,
          0.2397697728514549,
          1.155092720172047,
          -0.5364473130500922,
          0.4116350556286882,
          -0.5224746391063635,
          -0.6780665888992978,
          -0.4083440051678913,
          1.6260859831944012,
          0.7288485407412735,
          -1.1055630627568243,
          -1.4637814591932408,
          0.008076970853890886,
          0.5256062276641782,
          -1.6605193369448148
         ],
         "yaxis": "y5"
        },
        {
         "histfunc": "count",
         "histnorm": "",
         "marker": {
          "color": "rgba(55, 128, 191, 1.0)",
          "line": {
           "color": "#4D5663",
           "width": 1.3
          }
         },
         "name": "B",
         "nbinsx": 10,
         "opacity": 0.8,
         "orientation": "v",
         "type": "histogram",
         "x": [
          0.9239846501391048,
          0.6953024520295731,
          0.2916503621311321,
          -0.965919765688481,
          0.17191954706583218,
          0.7624116519905186,
          -0.6652284368098259,
          -0.4772016744650276,
          0.7982642870613752,
          -0.3548888991782037,
          0.6746554659039304,
          0.17857352576234595,
          2.054763084961261,
          -0.1509660537376362,
          -0.8650692283683096,
          0.22136934835948605,
          -0.4345578354252637,
          -0.8941880991505339,
          0.16429920246842383,
          0.5039931460708144,
          1.8607739043126235,
          -0.9196941311634963,
          0.799503085141445,
          -1.4450435479215027,
          -0.6072544017417235,
          0.49500505670127404,
          -0.2969998338332768,
          -0.16673200385647882,
          0.303882295816272,
          0.6744726043764007,
          0.8362026045828959,
          -0.18002551045619974,
          -0.49870969915426255,
          -0.2873512773835932,
          0.758343432345483,
          0.4346064861801654,
          -0.31777292964171794,
          -0.10655199147282932,
          -1.235611158554504,
          1.114378533758231,
          -1.2458539752494155,
          0.7741141869892867,
          -2.061430139425667,
          1.0090783960346168,
          -0.0035614682665801155,
          1.2993259230256762,
          -1.4530859670521163,
          -0.5675395884441028,
          -0.3029557917594186,
          -0.8305521833670725,
          -0.5388610646465275,
          0.11145956959528848,
          0.6905566980694475,
          -0.6056110692747558,
          -0.960534196518318,
          -2.0885118049507394,
          0.9041150734606206,
          0.47995318291304495,
          -0.14548997263476554,
          1.0524863440461119,
          -0.5611798616616022,
          -1.187334192251828,
          0.39513785300405296,
          -1.3946753976310993,
          0.24659571882049935,
          -0.2543266430056381,
          -0.5476933696255555,
          -0.28217802860274704,
          -0.5393215350313256,
          -0.8095377645697454,
          -1.8410594008385672,
          0.405702434109728,
          1.1937169003480823,
          1.581909236767621,
          -1.9180940814652665,
          1.2008090209574682,
          -0.8939329531465761,
          0.8751629307055746,
          0.29177545956713835,
          -0.9403895202828687,
          1.2286191801145336,
          -1.1950136610294053,
          0.8143533691093339,
          2.099738473353832,
          0.34499031718368306,
          -0.9010719850875789,
          0.2397697728514549,
          1.155092720172047,
          -0.5364473130500922,
          0.4116350556286882,
          -0.5224746391063635,
          -0.6780665888992978,
          -0.4083440051678913,
          1.6260859831944012,
          0.7288485407412735,
          -1.1055630627568243,
          -1.4637814591932408,
          0.008076970853890886,
          0.5256062276641782,
          -1.6605193369448148
         ],
         "xaxis": "x6",
         "yaxis": "y6"
        },
        {
         "line": {
          "color": "rgba(128, 128, 128, 1.0)",
          "dash": "solid",
          "shape": "linear",
          "width": 1.3
         },
         "marker": {
          "size": 2,
          "symbol": "circle"
         },
         "mode": "markers",
         "name": "B",
         "text": "",
         "type": "scatter",
         "x": [
          0.1731897801871931,
          1.0805717454346522,
          0.1661815232188988,
          -0.4231972335987849,
          -0.2894533176460957,
          0.9497988890641357,
          1.558133953659309,
          -1.5291805685676683,
          -1.0551807024957554,
          -0.640238750476245,
          1.1446536801133733,
          0.20976504318236616,
          -1.3382958360655268,
          0.9518497188546176,
          -1.2288145585109191,
          0.11670601375788553,
          -0.2655007078065531,
          0.3688943535632997,
          -1.1547589682595232,
          -0.48901052641937004,
          0.19946934127534185,
          -1.9021996549429325,
          -0.9377069093083589,
          -0.9337351133110984,
          0.5623826885631529,
          -0.5622692926720693,
          0.11934591893240494,
          -0.4800356227742899,
          0.5104577368749124,
          -0.2795289095937796,
          -0.12692310306701218,
          0.07343796483065212,
          0.35976486569917826,
          -0.020082737660763607,
          1.1114187302743177,
          -0.863830611873298,
          -1.2783946019204804,
          1.5250607675908419,
          0.002146472280955956,
          -0.16949927720793204,
          -0.7586236333447639,
          0.17887601161337757,
          1.0517588365000778,
          -1.967048201289373,
          0.6750443213360052,
          0.6483937197172981,
          0.850693843078563,
          0.3227404170056332,
          0.34889164245916643,
          -1.0457422369419092,
          0.014022093848823814,
          -0.6973731946226839,
          1.1691260417598122,
          1.0887492305473025,
          -2.0629420159266196,
          -0.3817441839140059,
          -0.23409990190736532,
          0.13264340828353383,
          -0.08222876710525634,
          1.3688674497143116,
          1.6352216822242112,
          -1.471449110271284,
          -0.5244026362381358,
          1.4362226985951463,
          0.3085997514256125,
          0.6241273972711119,
          -1.3342724604708143,
          0.7806353792899472,
          1.9824371066258424,
          0.29970388069490195,
          1.5404486201641265,
          0.18096403741163036,
          -0.39596123536534394,
          1.9376849092721047,
          -1.3292782232149443,
          -1.4666601875527623,
          0.6242695966531804,
          -0.6176493128058889,
          -0.0750675329539289,
          0.9481856527016067,
          -1.2872360668272416,
          -0.8789159961972396,
          0.2983390403860215,
          -0.220802075095829,
          0.09694274281928222,
          1.0610922307984672,
          1.2243623444569152,
          0.4822194731439537,
          -0.4003820335468704,
          -0.11951785465035626,
          -1.6618586635524273,
          0.13157180141905434,
          0.6435258751189307,
          -1.2678693784667685,
          1.603064218833642,
          0.20869997830926718,
          0.452935272055739,
          -1.942258717894802,
          2.025334371561616,
          -0.8449746319198892
         ],
         "xaxis": "x7",
         "y": [
          0.9239846501391048,
          0.6953024520295731,
          0.2916503621311321,
          -0.965919765688481,
          0.17191954706583218,
          0.7624116519905186,
          -0.6652284368098259,
          -0.4772016744650276,
          0.7982642870613752,
          -0.3548888991782037,
          0.6746554659039304,
          0.17857352576234595,
          2.054763084961261,
          -0.1509660537376362,
          -0.8650692283683096,
          0.22136934835948605,
          -0.4345578354252637,
          -0.8941880991505339,
          0.16429920246842383,
          0.5039931460708144,
          1.8607739043126235,
          -0.9196941311634963,
          0.799503085141445,
          -1.4450435479215027,
          -0.6072544017417235,
          0.49500505670127404,
          -0.2969998338332768,
          -0.16673200385647882,
          0.303882295816272,
          0.6744726043764007,
          0.8362026045828959,
          -0.18002551045619974,
          -0.49870969915426255,
          -0.2873512773835932,
          0.758343432345483,
          0.4346064861801654,
          -0.31777292964171794,
          -0.10655199147282932,
          -1.235611158554504,
          1.114378533758231,
          -1.2458539752494155,
          0.7741141869892867,
          -2.061430139425667,
          1.0090783960346168,
          -0.0035614682665801155,
          1.2993259230256762,
          -1.4530859670521163,
          -0.5675395884441028,
          -0.3029557917594186,
          -0.8305521833670725,
          -0.5388610646465275,
          0.11145956959528848,
          0.6905566980694475,
          -0.6056110692747558,
          -0.960534196518318,
          -2.0885118049507394,
          0.9041150734606206,
          0.47995318291304495,
          -0.14548997263476554,
          1.0524863440461119,
          -0.5611798616616022,
          -1.187334192251828,
          0.39513785300405296,
          -1.3946753976310993,
          0.24659571882049935,
          -0.2543266430056381,
          -0.5476933696255555,
          -0.28217802860274704,
          -0.5393215350313256,
          -0.8095377645697454,
          -1.8410594008385672,
          0.405702434109728,
          1.1937169003480823,
          1.581909236767621,
          -1.9180940814652665,
          1.2008090209574682,
          -0.8939329531465761,
          0.8751629307055746,
          0.29177545956713835,
          -0.9403895202828687,
          1.2286191801145336,
          -1.1950136610294053,
          0.8143533691093339,
          2.099738473353832,
          0.34499031718368306,
          -0.9010719850875789,
          0.2397697728514549,
          1.155092720172047,
          -0.5364473130500922,
          0.4116350556286882,
          -0.5224746391063635,
          -0.6780665888992978,
          -0.4083440051678913,
          1.6260859831944012,
          0.7288485407412735,
          -1.1055630627568243,
          -1.4637814591932408,
          0.008076970853890886,
          0.5256062276641782,
          -1.6605193369448148
         ],
         "yaxis": "y7"
        },
        {
         "line": {
          "color": "rgba(128, 128, 128, 1.0)",
          "dash": "solid",
          "shape": "linear",
          "width": 1.3
         },
         "marker": {
          "size": 2,
          "symbol": "circle"
         },
         "mode": "markers",
         "name": "B",
         "text": "",
         "type": "scatter",
         "x": [
          -1.3874849477667144,
          -1.8656498231275773,
          -0.33749021888015307,
          0.5488343617703392,
          -1.0508688271766322,
          -0.08778009754034234,
          -2.286142696234354,
          1.6257304646226955,
          0.15313810264602,
          -0.3987176989567448,
          0.35764497952947116,
          0.47354284215415654,
          -0.1723453883790165,
          -0.8914056644373052,
          1.2902095150186206,
          -1.4816870734327254,
          0.1483562742596897,
          0.3043444840057154,
          0.2539473040683697,
          0.23526044843933577,
          1.2629927352072594,
          -0.22611484087641787,
          0.7109365890900765,
          0.08756974766629698,
          0.16531812727383804,
          -0.9616230175982924,
          -0.6006186301256718,
          1.0643291101644667,
          -0.545939815993772,
          0.6430378864115665,
          0.0052357292339122495,
          -1.513604748112339,
          0.5231533677726229,
          1.3817943007055535,
          0.27125166672707574,
          1.9037269509437669,
          0.045407533647354247,
          0.3952368589656036,
          0.8083530083235367,
          -2.3419611795562294,
          -1.6511650360092605,
          0.06280541544054928,
          -0.052273312085548036,
          1.2001554553695584,
          -0.8547263820888261,
          0.5177546873595925,
          0.17508077620254087,
          1.9001590783905606,
          -0.713229459631557,
          2.373962445976622,
          0.5532735516263807,
          -0.3840168580308098,
          0.03362334697478046,
          -1.103203773813644,
          0.02346124218995091,
          0.05255960602561054,
          0.6727938023652159,
          0.5646896146548723,
          -0.6266538981748045,
          1.526513850461846,
          1.1952029124949193,
          0.9274273106965598,
          -0.33731735453322564,
          0.44685854230215055,
          1.6349709493685298,
          -0.2209708413295089,
          0.48923563646043466,
          -0.2945118225534256,
          -0.8251248149131969,
          0.00857551287297888,
          -0.13002228318371914,
          -0.9771456209548197,
          0.09469617143608043,
          -0.14593108388755036,
          0.17630435429081576,
          1.79185022241687,
          -1.8143582927777,
          0.7017241144873628,
          -0.2568340537743485,
          1.004992962769046,
          -1.85800838094076,
          0.3102690773759805,
          0.5739626686524494,
          -0.4524609135108897,
          -0.4996566096925608,
          0.3067263817491155,
          -0.33826278591067316,
          -0.9535551517747584,
          0.5543197263992433,
          -0.5380370196346342,
          -0.13926724184245634,
          -1.6050890209212885,
          0.10552377837277267,
          0.8482112437267506,
          2.6089245208845684,
          0.4010429097785106,
          1.1204122953435418,
          -0.1889293064943024,
          -1.7312277812298196,
          -0.6050912679966161
         ],
         "xaxis": "x8",
         "y": [
          0.9239846501391048,
          0.6953024520295731,
          0.2916503621311321,
          -0.965919765688481,
          0.17191954706583218,
          0.7624116519905186,
          -0.6652284368098259,
          -0.4772016744650276,
          0.7982642870613752,
          -0.3548888991782037,
          0.6746554659039304,
          0.17857352576234595,
          2.054763084961261,
          -0.1509660537376362,
          -0.8650692283683096,
          0.22136934835948605,
          -0.4345578354252637,
          -0.8941880991505339,
          0.16429920246842383,
          0.5039931460708144,
          1.8607739043126235,
          -0.9196941311634963,
          0.799503085141445,
          -1.4450435479215027,
          -0.6072544017417235,
          0.49500505670127404,
          -0.2969998338332768,
          -0.16673200385647882,
          0.303882295816272,
          0.6744726043764007,
          0.8362026045828959,
          -0.18002551045619974,
          -0.49870969915426255,
          -0.2873512773835932,
          0.758343432345483,
          0.4346064861801654,
          -0.31777292964171794,
          -0.10655199147282932,
          -1.235611158554504,
          1.114378533758231,
          -1.2458539752494155,
          0.7741141869892867,
          -2.061430139425667,
          1.0090783960346168,
          -0.0035614682665801155,
          1.2993259230256762,
          -1.4530859670521163,
          -0.5675395884441028,
          -0.3029557917594186,
          -0.8305521833670725,
          -0.5388610646465275,
          0.11145956959528848,
          0.6905566980694475,
          -0.6056110692747558,
          -0.960534196518318,
          -2.0885118049507394,
          0.9041150734606206,
          0.47995318291304495,
          -0.14548997263476554,
          1.0524863440461119,
          -0.5611798616616022,
          -1.187334192251828,
          0.39513785300405296,
          -1.3946753976310993,
          0.24659571882049935,
          -0.2543266430056381,
          -0.5476933696255555,
          -0.28217802860274704,
          -0.5393215350313256,
          -0.8095377645697454,
          -1.8410594008385672,
          0.405702434109728,
          1.1937169003480823,
          1.581909236767621,
          -1.9180940814652665,
          1.2008090209574682,
          -0.8939329531465761,
          0.8751629307055746,
          0.29177545956713835,
          -0.9403895202828687,
          1.2286191801145336,
          -1.1950136610294053,
          0.8143533691093339,
          2.099738473353832,
          0.34499031718368306,
          -0.9010719850875789,
          0.2397697728514549,
          1.155092720172047,
          -0.5364473130500922,
          0.4116350556286882,
          -0.5224746391063635,
          -0.6780665888992978,
          -0.4083440051678913,
          1.6260859831944012,
          0.7288485407412735,
          -1.1055630627568243,
          -1.4637814591932408,
          0.008076970853890886,
          0.5256062276641782,
          -1.6605193369448148
         ],
         "yaxis": "y8"
        },
        {
         "line": {
          "color": "rgba(128, 128, 128, 1.0)",
          "dash": "solid",
          "shape": "linear",
          "width": 1.3
         },
         "marker": {
          "size": 2,
          "symbol": "circle"
         },
         "mode": "markers",
         "name": "C",
         "text": "",
         "type": "scatter",
         "x": [
          0.08154756008965315,
          0.7294112196056034,
          -0.5954430102961661,
          0.11392668617930163,
          0.24501060951980624,
          0.010534816638921151,
          2.6364400057784594,
          0.12297180125533486,
          -0.8405470416845079,
          0.6503905079803126,
          0.02672677148625623,
          1.0390373819102718,
          0.9133276526366109,
          0.18141581073949015,
          0.9104636520368209,
          -1.40892263236515,
          -0.31567975933388454,
          2.4929469924755048,
          -0.4616394252856013,
          0.048035937256642,
          0.547119258096743,
          0.3881502777279593,
          -0.6229558942782302,
          0.1730967480960979,
          1.158573553878103,
          2.005769635483669,
          0.0009764871350639321,
          1.115750124492762,
          0.7765290283003947,
          -0.15117506367172406,
          -1.084832578987809,
          0.23376103148894553,
          -0.1821311071608296,
          0.43465292198301053,
          -1.3718084383090414,
          -0.7065580490592018,
          0.909913758991963,
          0.6969810629188408,
          1.0463714894729697,
          0.6831279695180076,
          0.24409792910146047,
          1.433229901433797,
          -0.4058507832926155,
          -1.10187824116574,
          -0.8071314308373911,
          0.8577612683913687,
          -1.0708370629080108,
          -0.9168997646164357,
          -2.1631333724515924,
          0.13079043749727665,
          0.3381626091783292,
          0.15506303239424246,
          0.7901778906730181,
          0.9305057191246837,
          0.099085161899565,
          -0.9169462506429646,
          0.36951902680482057,
          0.06925822193942366,
          -0.7198369642867564,
          -1.7245899453715674,
          -0.45008624430717875,
          0.2967832703141231,
          -1.3377202043417142,
          0.27493114755760784,
          0.45941519480195747,
          -1.6291864606638882,
          -0.22070503253306045,
          0.007709510068425308,
          0.01768433879422398,
          -0.07079772944421962,
          -1.6679549393374373,
          -0.594619630454869,
          1.0366407677017115,
          0.2819081617296796,
          1.3546788202799147,
          -0.07505679983163255,
          -0.9231210754582747,
          0.6687394981273819,
          -0.5238978468910802,
          -0.8632332797156874,
          0.4545244092944283,
          1.1078297676122262,
          -0.44292004296577747,
          -0.9184911891684518,
          -0.00401103462367758,
          0.09773503073679715,
          -0.8916894520145863,
          -2.170179314341021,
          -0.012113705461402155,
          1.5340561179830172,
          -0.18585726925530954,
          -0.4131874227536773,
          -1.3631444791162253,
          1.02004939629908,
          -0.9134507475058871,
          -0.32772598652099594,
          0.34053976632380595,
          -0.2748575672954093,
          0.8385945981431505,
          -1.1295338677638593
         ],
         "xaxis": "x9",
         "y": [
          0.1731897801871931,
          1.0805717454346522,
          0.1661815232188988,
          -0.4231972335987849,
          -0.2894533176460957,
          0.9497988890641357,
          1.558133953659309,
          -1.5291805685676683,
          -1.0551807024957554,
          -0.640238750476245,
          1.1446536801133733,
          0.20976504318236616,
          -1.3382958360655268,
          0.9518497188546176,
          -1.2288145585109191,
          0.11670601375788553,
          -0.2655007078065531,
          0.3688943535632997,
          -1.1547589682595232,
          -0.48901052641937004,
          0.19946934127534185,
          -1.9021996549429325,
          -0.9377069093083589,
          -0.9337351133110984,
          0.5623826885631529,
          -0.5622692926720693,
          0.11934591893240494,
          -0.4800356227742899,
          0.5104577368749124,
          -0.2795289095937796,
          -0.12692310306701218,
          0.07343796483065212,
          0.35976486569917826,
          -0.020082737660763607,
          1.1114187302743177,
          -0.863830611873298,
          -1.2783946019204804,
          1.5250607675908419,
          0.002146472280955956,
          -0.16949927720793204,
          -0.7586236333447639,
          0.17887601161337757,
          1.0517588365000778,
          -1.967048201289373,
          0.6750443213360052,
          0.6483937197172981,
          0.850693843078563,
          0.3227404170056332,
          0.34889164245916643,
          -1.0457422369419092,
          0.014022093848823814,
          -0.6973731946226839,
          1.1691260417598122,
          1.0887492305473025,
          -2.0629420159266196,
          -0.3817441839140059,
          -0.23409990190736532,
          0.13264340828353383,
          -0.08222876710525634,
          1.3688674497143116,
          1.6352216822242112,
          -1.471449110271284,
          -0.5244026362381358,
          1.4362226985951463,
          0.3085997514256125,
          0.6241273972711119,
          -1.3342724604708143,
          0.7806353792899472,
          1.9824371066258424,
          0.29970388069490195,
          1.5404486201641265,
          0.18096403741163036,
          -0.39596123536534394,
          1.9376849092721047,
          -1.3292782232149443,
          -1.4666601875527623,
          0.6242695966531804,
          -0.6176493128058889,
          -0.0750675329539289,
          0.9481856527016067,
          -1.2872360668272416,
          -0.8789159961972396,
          0.2983390403860215,
          -0.220802075095829,
          0.09694274281928222,
          1.0610922307984672,
          1.2243623444569152,
          0.4822194731439537,
          -0.4003820335468704,
          -0.11951785465035626,
          -1.6618586635524273,
          0.13157180141905434,
          0.6435258751189307,
          -1.2678693784667685,
          1.603064218833642,
          0.20869997830926718,
          0.452935272055739,
          -1.942258717894802,
          2.025334371561616,
          -0.8449746319198892
         ],
         "yaxis": "y9"
        },
        {
         "line": {
          "color": "rgba(128, 128, 128, 1.0)",
          "dash": "solid",
          "shape": "linear",
          "width": 1.3
         },
         "marker": {
          "size": 2,
          "symbol": "circle"
         },
         "mode": "markers",
         "name": "C",
         "text": "",
         "type": "scatter",
         "x": [
          0.9239846501391048,
          0.6953024520295731,
          0.2916503621311321,
          -0.965919765688481,
          0.17191954706583218,
          0.7624116519905186,
          -0.6652284368098259,
          -0.4772016744650276,
          0.7982642870613752,
          -0.3548888991782037,
          0.6746554659039304,
          0.17857352576234595,
          2.054763084961261,
          -0.1509660537376362,
          -0.8650692283683096,
          0.22136934835948605,
          -0.4345578354252637,
          -0.8941880991505339,
          0.16429920246842383,
          0.5039931460708144,
          1.8607739043126235,
          -0.9196941311634963,
          0.799503085141445,
          -1.4450435479215027,
          -0.6072544017417235,
          0.49500505670127404,
          -0.2969998338332768,
          -0.16673200385647882,
          0.303882295816272,
          0.6744726043764007,
          0.8362026045828959,
          -0.18002551045619974,
          -0.49870969915426255,
          -0.2873512773835932,
          0.758343432345483,
          0.4346064861801654,
          -0.31777292964171794,
          -0.10655199147282932,
          -1.235611158554504,
          1.114378533758231,
          -1.2458539752494155,
          0.7741141869892867,
          -2.061430139425667,
          1.0090783960346168,
          -0.0035614682665801155,
          1.2993259230256762,
          -1.4530859670521163,
          -0.5675395884441028,
          -0.3029557917594186,
          -0.8305521833670725,
          -0.5388610646465275,
          0.11145956959528848,
          0.6905566980694475,
          -0.6056110692747558,
          -0.960534196518318,
          -2.0885118049507394,
          0.9041150734606206,
          0.47995318291304495,
          -0.14548997263476554,
          1.0524863440461119,
          -0.5611798616616022,
          -1.187334192251828,
          0.39513785300405296,
          -1.3946753976310993,
          0.24659571882049935,
          -0.2543266430056381,
          -0.5476933696255555,
          -0.28217802860274704,
          -0.5393215350313256,
          -0.8095377645697454,
          -1.8410594008385672,
          0.405702434109728,
          1.1937169003480823,
          1.581909236767621,
          -1.9180940814652665,
          1.2008090209574682,
          -0.8939329531465761,
          0.8751629307055746,
          0.29177545956713835,
          -0.9403895202828687,
          1.2286191801145336,
          -1.1950136610294053,
          0.8143533691093339,
          2.099738473353832,
          0.34499031718368306,
          -0.9010719850875789,
          0.2397697728514549,
          1.155092720172047,
          -0.5364473130500922,
          0.4116350556286882,
          -0.5224746391063635,
          -0.6780665888992978,
          -0.4083440051678913,
          1.6260859831944012,
          0.7288485407412735,
          -1.1055630627568243,
          -1.4637814591932408,
          0.008076970853890886,
          0.5256062276641782,
          -1.6605193369448148
         ],
         "xaxis": "x10",
         "y": [
          0.1731897801871931,
          1.0805717454346522,
          0.1661815232188988,
          -0.4231972335987849,
          -0.2894533176460957,
          0.9497988890641357,
          1.558133953659309,
          -1.5291805685676683,
          -1.0551807024957554,
          -0.640238750476245,
          1.1446536801133733,
          0.20976504318236616,
          -1.3382958360655268,
          0.9518497188546176,
          -1.2288145585109191,
          0.11670601375788553,
          -0.2655007078065531,
          0.3688943535632997,
          -1.1547589682595232,
          -0.48901052641937004,
          0.19946934127534185,
          -1.9021996549429325,
          -0.9377069093083589,
          -0.9337351133110984,
          0.5623826885631529,
          -0.5622692926720693,
          0.11934591893240494,
          -0.4800356227742899,
          0.5104577368749124,
          -0.2795289095937796,
          -0.12692310306701218,
          0.07343796483065212,
          0.35976486569917826,
          -0.020082737660763607,
          1.1114187302743177,
          -0.863830611873298,
          -1.2783946019204804,
          1.5250607675908419,
          0.002146472280955956,
          -0.16949927720793204,
          -0.7586236333447639,
          0.17887601161337757,
          1.0517588365000778,
          -1.967048201289373,
          0.6750443213360052,
          0.6483937197172981,
          0.850693843078563,
          0.3227404170056332,
          0.34889164245916643,
          -1.0457422369419092,
          0.014022093848823814,
          -0.6973731946226839,
          1.1691260417598122,
          1.0887492305473025,
          -2.0629420159266196,
          -0.3817441839140059,
          -0.23409990190736532,
          0.13264340828353383,
          -0.08222876710525634,
          1.3688674497143116,
          1.6352216822242112,
          -1.471449110271284,
          -0.5244026362381358,
          1.4362226985951463,
          0.3085997514256125,
          0.6241273972711119,
          -1.3342724604708143,
          0.7806353792899472,
          1.9824371066258424,
          0.29970388069490195,
          1.5404486201641265,
          0.18096403741163036,
          -0.39596123536534394,
          1.9376849092721047,
          -1.3292782232149443,
          -1.4666601875527623,
          0.6242695966531804,
          -0.6176493128058889,
          -0.0750675329539289,
          0.9481856527016067,
          -1.2872360668272416,
          -0.8789159961972396,
          0.2983390403860215,
          -0.220802075095829,
          0.09694274281928222,
          1.0610922307984672,
          1.2243623444569152,
          0.4822194731439537,
          -0.4003820335468704,
          -0.11951785465035626,
          -1.6618586635524273,
          0.13157180141905434,
          0.6435258751189307,
          -1.2678693784667685,
          1.603064218833642,
          0.20869997830926718,
          0.452935272055739,
          -1.942258717894802,
          2.025334371561616,
          -0.8449746319198892
         ],
         "yaxis": "y10"
        },
        {
         "histfunc": "count",
         "histnorm": "",
         "marker": {
          "color": "rgba(50, 171, 96, 1.0)",
          "line": {
           "color": "#4D5663",
           "width": 1.3
          }
         },
         "name": "C",
         "nbinsx": 10,
         "opacity": 0.8,
         "orientation": "v",
         "type": "histogram",
         "x": [
          0.1731897801871931,
          1.0805717454346522,
          0.1661815232188988,
          -0.4231972335987849,
          -0.2894533176460957,
          0.9497988890641357,
          1.558133953659309,
          -1.5291805685676683,
          -1.0551807024957554,
          -0.640238750476245,
          1.1446536801133733,
          0.20976504318236616,
          -1.3382958360655268,
          0.9518497188546176,
          -1.2288145585109191,
          0.11670601375788553,
          -0.2655007078065531,
          0.3688943535632997,
          -1.1547589682595232,
          -0.48901052641937004,
          0.19946934127534185,
          -1.9021996549429325,
          -0.9377069093083589,
          -0.9337351133110984,
          0.5623826885631529,
          -0.5622692926720693,
          0.11934591893240494,
          -0.4800356227742899,
          0.5104577368749124,
          -0.2795289095937796,
          -0.12692310306701218,
          0.07343796483065212,
          0.35976486569917826,
          -0.020082737660763607,
          1.1114187302743177,
          -0.863830611873298,
          -1.2783946019204804,
          1.5250607675908419,
          0.002146472280955956,
          -0.16949927720793204,
          -0.7586236333447639,
          0.17887601161337757,
          1.0517588365000778,
          -1.967048201289373,
          0.6750443213360052,
          0.6483937197172981,
          0.850693843078563,
          0.3227404170056332,
          0.34889164245916643,
          -1.0457422369419092,
          0.014022093848823814,
          -0.6973731946226839,
          1.1691260417598122,
          1.0887492305473025,
          -2.0629420159266196,
          -0.3817441839140059,
          -0.23409990190736532,
          0.13264340828353383,
          -0.08222876710525634,
          1.3688674497143116,
          1.6352216822242112,
          -1.471449110271284,
          -0.5244026362381358,
          1.4362226985951463,
          0.3085997514256125,
          0.6241273972711119,
          -1.3342724604708143,
          0.7806353792899472,
          1.9824371066258424,
          0.29970388069490195,
          1.5404486201641265,
          0.18096403741163036,
          -0.39596123536534394,
          1.9376849092721047,
          -1.3292782232149443,
          -1.4666601875527623,
          0.6242695966531804,
          -0.6176493128058889,
          -0.0750675329539289,
          0.9481856527016067,
          -1.2872360668272416,
          -0.8789159961972396,
          0.2983390403860215,
          -0.220802075095829,
          0.09694274281928222,
          1.0610922307984672,
          1.2243623444569152,
          0.4822194731439537,
          -0.4003820335468704,
          -0.11951785465035626,
          -1.6618586635524273,
          0.13157180141905434,
          0.6435258751189307,
          -1.2678693784667685,
          1.603064218833642,
          0.20869997830926718,
          0.452935272055739,
          -1.942258717894802,
          2.025334371561616,
          -0.8449746319198892
         ],
         "xaxis": "x11",
         "yaxis": "y11"
        },
        {
         "line": {
          "color": "rgba(128, 128, 128, 1.0)",
          "dash": "solid",
          "shape": "linear",
          "width": 1.3
         },
         "marker": {
          "size": 2,
          "symbol": "circle"
         },
         "mode": "markers",
         "name": "C",
         "text": "",
         "type": "scatter",
         "x": [
          -1.3874849477667144,
          -1.8656498231275773,
          -0.33749021888015307,
          0.5488343617703392,
          -1.0508688271766322,
          -0.08778009754034234,
          -2.286142696234354,
          1.6257304646226955,
          0.15313810264602,
          -0.3987176989567448,
          0.35764497952947116,
          0.47354284215415654,
          -0.1723453883790165,
          -0.8914056644373052,
          1.2902095150186206,
          -1.4816870734327254,
          0.1483562742596897,
          0.3043444840057154,
          0.2539473040683697,
          0.23526044843933577,
          1.2629927352072594,
          -0.22611484087641787,
          0.7109365890900765,
          0.08756974766629698,
          0.16531812727383804,
          -0.9616230175982924,
          -0.6006186301256718,
          1.0643291101644667,
          -0.545939815993772,
          0.6430378864115665,
          0.0052357292339122495,
          -1.513604748112339,
          0.5231533677726229,
          1.3817943007055535,
          0.27125166672707574,
          1.9037269509437669,
          0.045407533647354247,
          0.3952368589656036,
          0.8083530083235367,
          -2.3419611795562294,
          -1.6511650360092605,
          0.06280541544054928,
          -0.052273312085548036,
          1.2001554553695584,
          -0.8547263820888261,
          0.5177546873595925,
          0.17508077620254087,
          1.9001590783905606,
          -0.713229459631557,
          2.373962445976622,
          0.5532735516263807,
          -0.3840168580308098,
          0.03362334697478046,
          -1.103203773813644,
          0.02346124218995091,
          0.05255960602561054,
          0.6727938023652159,
          0.5646896146548723,
          -0.6266538981748045,
          1.526513850461846,
          1.1952029124949193,
          0.9274273106965598,
          -0.33731735453322564,
          0.44685854230215055,
          1.6349709493685298,
          -0.2209708413295089,
          0.48923563646043466,
          -0.2945118225534256,
          -0.8251248149131969,
          0.00857551287297888,
          -0.13002228318371914,
          -0.9771456209548197,
          0.09469617143608043,
          -0.14593108388755036,
          0.17630435429081576,
          1.79185022241687,
          -1.8143582927777,
          0.7017241144873628,
          -0.2568340537743485,
          1.004992962769046,
          -1.85800838094076,
          0.3102690773759805,
          0.5739626686524494,
          -0.4524609135108897,
          -0.4996566096925608,
          0.3067263817491155,
          -0.33826278591067316,
          -0.9535551517747584,
          0.5543197263992433,
          -0.5380370196346342,
          -0.13926724184245634,
          -1.6050890209212885,
          0.10552377837277267,
          0.8482112437267506,
          2.6089245208845684,
          0.4010429097785106,
          1.1204122953435418,
          -0.1889293064943024,
          -1.7312277812298196,
          -0.6050912679966161
         ],
         "xaxis": "x12",
         "y": [
          0.1731897801871931,
          1.0805717454346522,
          0.1661815232188988,
          -0.4231972335987849,
          -0.2894533176460957,
          0.9497988890641357,
          1.558133953659309,
          -1.5291805685676683,
          -1.0551807024957554,
          -0.640238750476245,
          1.1446536801133733,
          0.20976504318236616,
          -1.3382958360655268,
          0.9518497188546176,
          -1.2288145585109191,
          0.11670601375788553,
          -0.2655007078065531,
          0.3688943535632997,
          -1.1547589682595232,
          -0.48901052641937004,
          0.19946934127534185,
          -1.9021996549429325,
          -0.9377069093083589,
          -0.9337351133110984,
          0.5623826885631529,
          -0.5622692926720693,
          0.11934591893240494,
          -0.4800356227742899,
          0.5104577368749124,
          -0.2795289095937796,
          -0.12692310306701218,
          0.07343796483065212,
          0.35976486569917826,
          -0.020082737660763607,
          1.1114187302743177,
          -0.863830611873298,
          -1.2783946019204804,
          1.5250607675908419,
          0.002146472280955956,
          -0.16949927720793204,
          -0.7586236333447639,
          0.17887601161337757,
          1.0517588365000778,
          -1.967048201289373,
          0.6750443213360052,
          0.6483937197172981,
          0.850693843078563,
          0.3227404170056332,
          0.34889164245916643,
          -1.0457422369419092,
          0.014022093848823814,
          -0.6973731946226839,
          1.1691260417598122,
          1.0887492305473025,
          -2.0629420159266196,
          -0.3817441839140059,
          -0.23409990190736532,
          0.13264340828353383,
          -0.08222876710525634,
          1.3688674497143116,
          1.6352216822242112,
          -1.471449110271284,
          -0.5244026362381358,
          1.4362226985951463,
          0.3085997514256125,
          0.6241273972711119,
          -1.3342724604708143,
          0.7806353792899472,
          1.9824371066258424,
          0.29970388069490195,
          1.5404486201641265,
          0.18096403741163036,
          -0.39596123536534394,
          1.9376849092721047,
          -1.3292782232149443,
          -1.4666601875527623,
          0.6242695966531804,
          -0.6176493128058889,
          -0.0750675329539289,
          0.9481856527016067,
          -1.2872360668272416,
          -0.8789159961972396,
          0.2983390403860215,
          -0.220802075095829,
          0.09694274281928222,
          1.0610922307984672,
          1.2243623444569152,
          0.4822194731439537,
          -0.4003820335468704,
          -0.11951785465035626,
          -1.6618586635524273,
          0.13157180141905434,
          0.6435258751189307,
          -1.2678693784667685,
          1.603064218833642,
          0.20869997830926718,
          0.452935272055739,
          -1.942258717894802,
          2.025334371561616,
          -0.8449746319198892
         ],
         "yaxis": "y12"
        },
        {
         "line": {
          "color": "rgba(128, 128, 128, 1.0)",
          "dash": "solid",
          "shape": "linear",
          "width": 1.3
         },
         "marker": {
          "size": 2,
          "symbol": "circle"
         },
         "mode": "markers",
         "name": "D",
         "text": "",
         "type": "scatter",
         "x": [
          0.08154756008965315,
          0.7294112196056034,
          -0.5954430102961661,
          0.11392668617930163,
          0.24501060951980624,
          0.010534816638921151,
          2.6364400057784594,
          0.12297180125533486,
          -0.8405470416845079,
          0.6503905079803126,
          0.02672677148625623,
          1.0390373819102718,
          0.9133276526366109,
          0.18141581073949015,
          0.9104636520368209,
          -1.40892263236515,
          -0.31567975933388454,
          2.4929469924755048,
          -0.4616394252856013,
          0.048035937256642,
          0.547119258096743,
          0.3881502777279593,
          -0.6229558942782302,
          0.1730967480960979,
          1.158573553878103,
          2.005769635483669,
          0.0009764871350639321,
          1.115750124492762,
          0.7765290283003947,
          -0.15117506367172406,
          -1.084832578987809,
          0.23376103148894553,
          -0.1821311071608296,
          0.43465292198301053,
          -1.3718084383090414,
          -0.7065580490592018,
          0.909913758991963,
          0.6969810629188408,
          1.0463714894729697,
          0.6831279695180076,
          0.24409792910146047,
          1.433229901433797,
          -0.4058507832926155,
          -1.10187824116574,
          -0.8071314308373911,
          0.8577612683913687,
          -1.0708370629080108,
          -0.9168997646164357,
          -2.1631333724515924,
          0.13079043749727665,
          0.3381626091783292,
          0.15506303239424246,
          0.7901778906730181,
          0.9305057191246837,
          0.099085161899565,
          -0.9169462506429646,
          0.36951902680482057,
          0.06925822193942366,
          -0.7198369642867564,
          -1.7245899453715674,
          -0.45008624430717875,
          0.2967832703141231,
          -1.3377202043417142,
          0.27493114755760784,
          0.45941519480195747,
          -1.6291864606638882,
          -0.22070503253306045,
          0.007709510068425308,
          0.01768433879422398,
          -0.07079772944421962,
          -1.6679549393374373,
          -0.594619630454869,
          1.0366407677017115,
          0.2819081617296796,
          1.3546788202799147,
          -0.07505679983163255,
          -0.9231210754582747,
          0.6687394981273819,
          -0.5238978468910802,
          -0.8632332797156874,
          0.4545244092944283,
          1.1078297676122262,
          -0.44292004296577747,
          -0.9184911891684518,
          -0.00401103462367758,
          0.09773503073679715,
          -0.8916894520145863,
          -2.170179314341021,
          -0.012113705461402155,
          1.5340561179830172,
          -0.18585726925530954,
          -0.4131874227536773,
          -1.3631444791162253,
          1.02004939629908,
          -0.9134507475058871,
          -0.32772598652099594,
          0.34053976632380595,
          -0.2748575672954093,
          0.8385945981431505,
          -1.1295338677638593
         ],
         "xaxis": "x13",
         "y": [
          -1.3874849477667144,
          -1.8656498231275773,
          -0.33749021888015307,
          0.5488343617703392,
          -1.0508688271766322,
          -0.08778009754034234,
          -2.286142696234354,
          1.6257304646226955,
          0.15313810264602,
          -0.3987176989567448,
          0.35764497952947116,
          0.47354284215415654,
          -0.1723453883790165,
          -0.8914056644373052,
          1.2902095150186206,
          -1.4816870734327254,
          0.1483562742596897,
          0.3043444840057154,
          0.2539473040683697,
          0.23526044843933577,
          1.2629927352072594,
          -0.22611484087641787,
          0.7109365890900765,
          0.08756974766629698,
          0.16531812727383804,
          -0.9616230175982924,
          -0.6006186301256718,
          1.0643291101644667,
          -0.545939815993772,
          0.6430378864115665,
          0.0052357292339122495,
          -1.513604748112339,
          0.5231533677726229,
          1.3817943007055535,
          0.27125166672707574,
          1.9037269509437669,
          0.045407533647354247,
          0.3952368589656036,
          0.8083530083235367,
          -2.3419611795562294,
          -1.6511650360092605,
          0.06280541544054928,
          -0.052273312085548036,
          1.2001554553695584,
          -0.8547263820888261,
          0.5177546873595925,
          0.17508077620254087,
          1.9001590783905606,
          -0.713229459631557,
          2.373962445976622,
          0.5532735516263807,
          -0.3840168580308098,
          0.03362334697478046,
          -1.103203773813644,
          0.02346124218995091,
          0.05255960602561054,
          0.6727938023652159,
          0.5646896146548723,
          -0.6266538981748045,
          1.526513850461846,
          1.1952029124949193,
          0.9274273106965598,
          -0.33731735453322564,
          0.44685854230215055,
          1.6349709493685298,
          -0.2209708413295089,
          0.48923563646043466,
          -0.2945118225534256,
          -0.8251248149131969,
          0.00857551287297888,
          -0.13002228318371914,
          -0.9771456209548197,
          0.09469617143608043,
          -0.14593108388755036,
          0.17630435429081576,
          1.79185022241687,
          -1.8143582927777,
          0.7017241144873628,
          -0.2568340537743485,
          1.004992962769046,
          -1.85800838094076,
          0.3102690773759805,
          0.5739626686524494,
          -0.4524609135108897,
          -0.4996566096925608,
          0.3067263817491155,
          -0.33826278591067316,
          -0.9535551517747584,
          0.5543197263992433,
          -0.5380370196346342,
          -0.13926724184245634,
          -1.6050890209212885,
          0.10552377837277267,
          0.8482112437267506,
          2.6089245208845684,
          0.4010429097785106,
          1.1204122953435418,
          -0.1889293064943024,
          -1.7312277812298196,
          -0.6050912679966161
         ],
         "yaxis": "y13"
        },
        {
         "line": {
          "color": "rgba(128, 128, 128, 1.0)",
          "dash": "solid",
          "shape": "linear",
          "width": 1.3
         },
         "marker": {
          "size": 2,
          "symbol": "circle"
         },
         "mode": "markers",
         "name": "D",
         "text": "",
         "type": "scatter",
         "x": [
          0.9239846501391048,
          0.6953024520295731,
          0.2916503621311321,
          -0.965919765688481,
          0.17191954706583218,
          0.7624116519905186,
          -0.6652284368098259,
          -0.4772016744650276,
          0.7982642870613752,
          -0.3548888991782037,
          0.6746554659039304,
          0.17857352576234595,
          2.054763084961261,
          -0.1509660537376362,
          -0.8650692283683096,
          0.22136934835948605,
          -0.4345578354252637,
          -0.8941880991505339,
          0.16429920246842383,
          0.5039931460708144,
          1.8607739043126235,
          -0.9196941311634963,
          0.799503085141445,
          -1.4450435479215027,
          -0.6072544017417235,
          0.49500505670127404,
          -0.2969998338332768,
          -0.16673200385647882,
          0.303882295816272,
          0.6744726043764007,
          0.8362026045828959,
          -0.18002551045619974,
          -0.49870969915426255,
          -0.2873512773835932,
          0.758343432345483,
          0.4346064861801654,
          -0.31777292964171794,
          -0.10655199147282932,
          -1.235611158554504,
          1.114378533758231,
          -1.2458539752494155,
          0.7741141869892867,
          -2.061430139425667,
          1.0090783960346168,
          -0.0035614682665801155,
          1.2993259230256762,
          -1.4530859670521163,
          -0.5675395884441028,
          -0.3029557917594186,
          -0.8305521833670725,
          -0.5388610646465275,
          0.11145956959528848,
          0.6905566980694475,
          -0.6056110692747558,
          -0.960534196518318,
          -2.0885118049507394,
          0.9041150734606206,
          0.47995318291304495,
          -0.14548997263476554,
          1.0524863440461119,
          -0.5611798616616022,
          -1.187334192251828,
          0.39513785300405296,
          -1.3946753976310993,
          0.24659571882049935,
          -0.2543266430056381,
          -0.5476933696255555,
          -0.28217802860274704,
          -0.5393215350313256,
          -0.8095377645697454,
          -1.8410594008385672,
          0.405702434109728,
          1.1937169003480823,
          1.581909236767621,
          -1.9180940814652665,
          1.2008090209574682,
          -0.8939329531465761,
          0.8751629307055746,
          0.29177545956713835,
          -0.9403895202828687,
          1.2286191801145336,
          -1.1950136610294053,
          0.8143533691093339,
          2.099738473353832,
          0.34499031718368306,
          -0.9010719850875789,
          0.2397697728514549,
          1.155092720172047,
          -0.5364473130500922,
          0.4116350556286882,
          -0.5224746391063635,
          -0.6780665888992978,
          -0.4083440051678913,
          1.6260859831944012,
          0.7288485407412735,
          -1.1055630627568243,
          -1.4637814591932408,
          0.008076970853890886,
          0.5256062276641782,
          -1.6605193369448148
         ],
         "xaxis": "x14",
         "y": [
          -1.3874849477667144,
          -1.8656498231275773,
          -0.33749021888015307,
          0.5488343617703392,
          -1.0508688271766322,
          -0.08778009754034234,
          -2.286142696234354,
          1.6257304646226955,
          0.15313810264602,
          -0.3987176989567448,
          0.35764497952947116,
          0.47354284215415654,
          -0.1723453883790165,
          -0.8914056644373052,
          1.2902095150186206,
          -1.4816870734327254,
          0.1483562742596897,
          0.3043444840057154,
          0.2539473040683697,
          0.23526044843933577,
          1.2629927352072594,
          -0.22611484087641787,
          0.7109365890900765,
          0.08756974766629698,
          0.16531812727383804,
          -0.9616230175982924,
          -0.6006186301256718,
          1.0643291101644667,
          -0.545939815993772,
          0.6430378864115665,
          0.0052357292339122495,
          -1.513604748112339,
          0.5231533677726229,
          1.3817943007055535,
          0.27125166672707574,
          1.9037269509437669,
          0.045407533647354247,
          0.3952368589656036,
          0.8083530083235367,
          -2.3419611795562294,
          -1.6511650360092605,
          0.06280541544054928,
          -0.052273312085548036,
          1.2001554553695584,
          -0.8547263820888261,
          0.5177546873595925,
          0.17508077620254087,
          1.9001590783905606,
          -0.713229459631557,
          2.373962445976622,
          0.5532735516263807,
          -0.3840168580308098,
          0.03362334697478046,
          -1.103203773813644,
          0.02346124218995091,
          0.05255960602561054,
          0.6727938023652159,
          0.5646896146548723,
          -0.6266538981748045,
          1.526513850461846,
          1.1952029124949193,
          0.9274273106965598,
          -0.33731735453322564,
          0.44685854230215055,
          1.6349709493685298,
          -0.2209708413295089,
          0.48923563646043466,
          -0.2945118225534256,
          -0.8251248149131969,
          0.00857551287297888,
          -0.13002228318371914,
          -0.9771456209548197,
          0.09469617143608043,
          -0.14593108388755036,
          0.17630435429081576,
          1.79185022241687,
          -1.8143582927777,
          0.7017241144873628,
          -0.2568340537743485,
          1.004992962769046,
          -1.85800838094076,
          0.3102690773759805,
          0.5739626686524494,
          -0.4524609135108897,
          -0.4996566096925608,
          0.3067263817491155,
          -0.33826278591067316,
          -0.9535551517747584,
          0.5543197263992433,
          -0.5380370196346342,
          -0.13926724184245634,
          -1.6050890209212885,
          0.10552377837277267,
          0.8482112437267506,
          2.6089245208845684,
          0.4010429097785106,
          1.1204122953435418,
          -0.1889293064943024,
          -1.7312277812298196,
          -0.6050912679966161
         ],
         "yaxis": "y14"
        },
        {
         "line": {
          "color": "rgba(128, 128, 128, 1.0)",
          "dash": "solid",
          "shape": "linear",
          "width": 1.3
         },
         "marker": {
          "size": 2,
          "symbol": "circle"
         },
         "mode": "markers",
         "name": "D",
         "text": "",
         "type": "scatter",
         "x": [
          0.1731897801871931,
          1.0805717454346522,
          0.1661815232188988,
          -0.4231972335987849,
          -0.2894533176460957,
          0.9497988890641357,
          1.558133953659309,
          -1.5291805685676683,
          -1.0551807024957554,
          -0.640238750476245,
          1.1446536801133733,
          0.20976504318236616,
          -1.3382958360655268,
          0.9518497188546176,
          -1.2288145585109191,
          0.11670601375788553,
          -0.2655007078065531,
          0.3688943535632997,
          -1.1547589682595232,
          -0.48901052641937004,
          0.19946934127534185,
          -1.9021996549429325,
          -0.9377069093083589,
          -0.9337351133110984,
          0.5623826885631529,
          -0.5622692926720693,
          0.11934591893240494,
          -0.4800356227742899,
          0.5104577368749124,
          -0.2795289095937796,
          -0.12692310306701218,
          0.07343796483065212,
          0.35976486569917826,
          -0.020082737660763607,
          1.1114187302743177,
          -0.863830611873298,
          -1.2783946019204804,
          1.5250607675908419,
          0.002146472280955956,
          -0.16949927720793204,
          -0.7586236333447639,
          0.17887601161337757,
          1.0517588365000778,
          -1.967048201289373,
          0.6750443213360052,
          0.6483937197172981,
          0.850693843078563,
          0.3227404170056332,
          0.34889164245916643,
          -1.0457422369419092,
          0.014022093848823814,
          -0.6973731946226839,
          1.1691260417598122,
          1.0887492305473025,
          -2.0629420159266196,
          -0.3817441839140059,
          -0.23409990190736532,
          0.13264340828353383,
          -0.08222876710525634,
          1.3688674497143116,
          1.6352216822242112,
          -1.471449110271284,
          -0.5244026362381358,
          1.4362226985951463,
          0.3085997514256125,
          0.6241273972711119,
          -1.3342724604708143,
          0.7806353792899472,
          1.9824371066258424,
          0.29970388069490195,
          1.5404486201641265,
          0.18096403741163036,
          -0.39596123536534394,
          1.9376849092721047,
          -1.3292782232149443,
          -1.4666601875527623,
          0.6242695966531804,
          -0.6176493128058889,
          -0.0750675329539289,
          0.9481856527016067,
          -1.2872360668272416,
          -0.8789159961972396,
          0.2983390403860215,
          -0.220802075095829,
          0.09694274281928222,
          1.0610922307984672,
          1.2243623444569152,
          0.4822194731439537,
          -0.4003820335468704,
          -0.11951785465035626,
          -1.6618586635524273,
          0.13157180141905434,
          0.6435258751189307,
          -1.2678693784667685,
          1.603064218833642,
          0.20869997830926718,
          0.452935272055739,
          -1.942258717894802,
          2.025334371561616,
          -0.8449746319198892
         ],
         "xaxis": "x15",
         "y": [
          -1.3874849477667144,
          -1.8656498231275773,
          -0.33749021888015307,
          0.5488343617703392,
          -1.0508688271766322,
          -0.08778009754034234,
          -2.286142696234354,
          1.6257304646226955,
          0.15313810264602,
          -0.3987176989567448,
          0.35764497952947116,
          0.47354284215415654,
          -0.1723453883790165,
          -0.8914056644373052,
          1.2902095150186206,
          -1.4816870734327254,
          0.1483562742596897,
          0.3043444840057154,
          0.2539473040683697,
          0.23526044843933577,
          1.2629927352072594,
          -0.22611484087641787,
          0.7109365890900765,
          0.08756974766629698,
          0.16531812727383804,
          -0.9616230175982924,
          -0.6006186301256718,
          1.0643291101644667,
          -0.545939815993772,
          0.6430378864115665,
          0.0052357292339122495,
          -1.513604748112339,
          0.5231533677726229,
          1.3817943007055535,
          0.27125166672707574,
          1.9037269509437669,
          0.045407533647354247,
          0.3952368589656036,
          0.8083530083235367,
          -2.3419611795562294,
          -1.6511650360092605,
          0.06280541544054928,
          -0.052273312085548036,
          1.2001554553695584,
          -0.8547263820888261,
          0.5177546873595925,
          0.17508077620254087,
          1.9001590783905606,
          -0.713229459631557,
          2.373962445976622,
          0.5532735516263807,
          -0.3840168580308098,
          0.03362334697478046,
          -1.103203773813644,
          0.02346124218995091,
          0.05255960602561054,
          0.6727938023652159,
          0.5646896146548723,
          -0.6266538981748045,
          1.526513850461846,
          1.1952029124949193,
          0.9274273106965598,
          -0.33731735453322564,
          0.44685854230215055,
          1.6349709493685298,
          -0.2209708413295089,
          0.48923563646043466,
          -0.2945118225534256,
          -0.8251248149131969,
          0.00857551287297888,
          -0.13002228318371914,
          -0.9771456209548197,
          0.09469617143608043,
          -0.14593108388755036,
          0.17630435429081576,
          1.79185022241687,
          -1.8143582927777,
          0.7017241144873628,
          -0.2568340537743485,
          1.004992962769046,
          -1.85800838094076,
          0.3102690773759805,
          0.5739626686524494,
          -0.4524609135108897,
          -0.4996566096925608,
          0.3067263817491155,
          -0.33826278591067316,
          -0.9535551517747584,
          0.5543197263992433,
          -0.5380370196346342,
          -0.13926724184245634,
          -1.6050890209212885,
          0.10552377837277267,
          0.8482112437267506,
          2.6089245208845684,
          0.4010429097785106,
          1.1204122953435418,
          -0.1889293064943024,
          -1.7312277812298196,
          -0.6050912679966161
         ],
         "yaxis": "y15"
        },
        {
         "histfunc": "count",
         "histnorm": "",
         "marker": {
          "color": "rgba(128, 0, 128, 1.0)",
          "line": {
           "color": "#4D5663",
           "width": 1.3
          }
         },
         "name": "D",
         "nbinsx": 10,
         "opacity": 0.8,
         "orientation": "v",
         "type": "histogram",
         "x": [
          -1.3874849477667144,
          -1.8656498231275773,
          -0.33749021888015307,
          0.5488343617703392,
          -1.0508688271766322,
          -0.08778009754034234,
          -2.286142696234354,
          1.6257304646226955,
          0.15313810264602,
          -0.3987176989567448,
          0.35764497952947116,
          0.47354284215415654,
          -0.1723453883790165,
          -0.8914056644373052,
          1.2902095150186206,
          -1.4816870734327254,
          0.1483562742596897,
          0.3043444840057154,
          0.2539473040683697,
          0.23526044843933577,
          1.2629927352072594,
          -0.22611484087641787,
          0.7109365890900765,
          0.08756974766629698,
          0.16531812727383804,
          -0.9616230175982924,
          -0.6006186301256718,
          1.0643291101644667,
          -0.545939815993772,
          0.6430378864115665,
          0.0052357292339122495,
          -1.513604748112339,
          0.5231533677726229,
          1.3817943007055535,
          0.27125166672707574,
          1.9037269509437669,
          0.045407533647354247,
          0.3952368589656036,
          0.8083530083235367,
          -2.3419611795562294,
          -1.6511650360092605,
          0.06280541544054928,
          -0.052273312085548036,
          1.2001554553695584,
          -0.8547263820888261,
          0.5177546873595925,
          0.17508077620254087,
          1.9001590783905606,
          -0.713229459631557,
          2.373962445976622,
          0.5532735516263807,
          -0.3840168580308098,
          0.03362334697478046,
          -1.103203773813644,
          0.02346124218995091,
          0.05255960602561054,
          0.6727938023652159,
          0.5646896146548723,
          -0.6266538981748045,
          1.526513850461846,
          1.1952029124949193,
          0.9274273106965598,
          -0.33731735453322564,
          0.44685854230215055,
          1.6349709493685298,
          -0.2209708413295089,
          0.48923563646043466,
          -0.2945118225534256,
          -0.8251248149131969,
          0.00857551287297888,
          -0.13002228318371914,
          -0.9771456209548197,
          0.09469617143608043,
          -0.14593108388755036,
          0.17630435429081576,
          1.79185022241687,
          -1.8143582927777,
          0.7017241144873628,
          -0.2568340537743485,
          1.004992962769046,
          -1.85800838094076,
          0.3102690773759805,
          0.5739626686524494,
          -0.4524609135108897,
          -0.4996566096925608,
          0.3067263817491155,
          -0.33826278591067316,
          -0.9535551517747584,
          0.5543197263992433,
          -0.5380370196346342,
          -0.13926724184245634,
          -1.6050890209212885,
          0.10552377837277267,
          0.8482112437267506,
          2.6089245208845684,
          0.4010429097785106,
          1.1204122953435418,
          -0.1889293064943024,
          -1.7312277812298196,
          -0.6050912679966161
         ],
         "xaxis": "x16",
         "yaxis": "y16"
        }
       ],
       "layout": {
        "bargap": 0.02,
        "legend": {
         "bgcolor": "#F5F6F9",
         "font": {
          "color": "#4D5663"
         }
        },
        "paper_bgcolor": "#F5F6F9",
        "plot_bgcolor": "#F5F6F9",
        "showlegend": false,
        "template": {
         "data": {
          "bar": [
           {
            "error_x": {
             "color": "#2a3f5f"
            },
            "error_y": {
             "color": "#2a3f5f"
            },
            "marker": {
             "line": {
              "color": "#E5ECF6",
              "width": 0.5
             }
            },
            "type": "bar"
           }
          ],
          "barpolar": [
           {
            "marker": {
             "line": {
              "color": "#E5ECF6",
              "width": 0.5
             }
            },
            "type": "barpolar"
           }
          ],
          "carpet": [
           {
            "aaxis": {
             "endlinecolor": "#2a3f5f",
             "gridcolor": "white",
             "linecolor": "white",
             "minorgridcolor": "white",
             "startlinecolor": "#2a3f5f"
            },
            "baxis": {
             "endlinecolor": "#2a3f5f",
             "gridcolor": "white",
             "linecolor": "white",
             "minorgridcolor": "white",
             "startlinecolor": "#2a3f5f"
            },
            "type": "carpet"
           }
          ],
          "choropleth": [
           {
            "colorbar": {
             "outlinewidth": 0,
             "ticks": ""
            },
            "type": "choropleth"
           }
          ],
          "contour": [
           {
            "colorbar": {
             "outlinewidth": 0,
             "ticks": ""
            },
            "colorscale": [
             [
              0,
              "#0d0887"
             ],
             [
              0.1111111111111111,
              "#46039f"
             ],
             [
              0.2222222222222222,
              "#7201a8"
             ],
             [
              0.3333333333333333,
              "#9c179e"
             ],
             [
              0.4444444444444444,
              "#bd3786"
             ],
             [
              0.5555555555555556,
              "#d8576b"
             ],
             [
              0.6666666666666666,
              "#ed7953"
             ],
             [
              0.7777777777777778,
              "#fb9f3a"
             ],
             [
              0.8888888888888888,
              "#fdca26"
             ],
             [
              1,
              "#f0f921"
             ]
            ],
            "type": "contour"
           }
          ],
          "contourcarpet": [
           {
            "colorbar": {
             "outlinewidth": 0,
             "ticks": ""
            },
            "type": "contourcarpet"
           }
          ],
          "heatmap": [
           {
            "colorbar": {
             "outlinewidth": 0,
             "ticks": ""
            },
            "colorscale": [
             [
              0,
              "#0d0887"
             ],
             [
              0.1111111111111111,
              "#46039f"
             ],
             [
              0.2222222222222222,
              "#7201a8"
             ],
             [
              0.3333333333333333,
              "#9c179e"
             ],
             [
              0.4444444444444444,
              "#bd3786"
             ],
             [
              0.5555555555555556,
              "#d8576b"
             ],
             [
              0.6666666666666666,
              "#ed7953"
             ],
             [
              0.7777777777777778,
              "#fb9f3a"
             ],
             [
              0.8888888888888888,
              "#fdca26"
             ],
             [
              1,
              "#f0f921"
             ]
            ],
            "type": "heatmap"
           }
          ],
          "heatmapgl": [
           {
            "colorbar": {
             "outlinewidth": 0,
             "ticks": ""
            },
            "colorscale": [
             [
              0,
              "#0d0887"
             ],
             [
              0.1111111111111111,
              "#46039f"
             ],
             [
              0.2222222222222222,
              "#7201a8"
             ],
             [
              0.3333333333333333,
              "#9c179e"
             ],
             [
              0.4444444444444444,
              "#bd3786"
             ],
             [
              0.5555555555555556,
              "#d8576b"
             ],
             [
              0.6666666666666666,
              "#ed7953"
             ],
             [
              0.7777777777777778,
              "#fb9f3a"
             ],
             [
              0.8888888888888888,
              "#fdca26"
             ],
             [
              1,
              "#f0f921"
             ]
            ],
            "type": "heatmapgl"
           }
          ],
          "histogram": [
           {
            "marker": {
             "colorbar": {
              "outlinewidth": 0,
              "ticks": ""
             }
            },
            "type": "histogram"
           }
          ],
          "histogram2d": [
           {
            "colorbar": {
             "outlinewidth": 0,
             "ticks": ""
            },
            "colorscale": [
             [
              0,
              "#0d0887"
             ],
             [
              0.1111111111111111,
              "#46039f"
             ],
             [
              0.2222222222222222,
              "#7201a8"
             ],
             [
              0.3333333333333333,
              "#9c179e"
             ],
             [
              0.4444444444444444,
              "#bd3786"
             ],
             [
              0.5555555555555556,
              "#d8576b"
             ],
             [
              0.6666666666666666,
              "#ed7953"
             ],
             [
              0.7777777777777778,
              "#fb9f3a"
             ],
             [
              0.8888888888888888,
              "#fdca26"
             ],
             [
              1,
              "#f0f921"
             ]
            ],
            "type": "histogram2d"
           }
          ],
          "histogram2dcontour": [
           {
            "colorbar": {
             "outlinewidth": 0,
             "ticks": ""
            },
            "colorscale": [
             [
              0,
              "#0d0887"
             ],
             [
              0.1111111111111111,
              "#46039f"
             ],
             [
              0.2222222222222222,
              "#7201a8"
             ],
             [
              0.3333333333333333,
              "#9c179e"
             ],
             [
              0.4444444444444444,
              "#bd3786"
             ],
             [
              0.5555555555555556,
              "#d8576b"
             ],
             [
              0.6666666666666666,
              "#ed7953"
             ],
             [
              0.7777777777777778,
              "#fb9f3a"
             ],
             [
              0.8888888888888888,
              "#fdca26"
             ],
             [
              1,
              "#f0f921"
             ]
            ],
            "type": "histogram2dcontour"
           }
          ],
          "mesh3d": [
           {
            "colorbar": {
             "outlinewidth": 0,
             "ticks": ""
            },
            "type": "mesh3d"
           }
          ],
          "parcoords": [
           {
            "line": {
             "colorbar": {
              "outlinewidth": 0,
              "ticks": ""
             }
            },
            "type": "parcoords"
           }
          ],
          "pie": [
           {
            "automargin": true,
            "type": "pie"
           }
          ],
          "scatter": [
           {
            "marker": {
             "colorbar": {
              "outlinewidth": 0,
              "ticks": ""
             }
            },
            "type": "scatter"
           }
          ],
          "scatter3d": [
           {
            "line": {
             "colorbar": {
              "outlinewidth": 0,
              "ticks": ""
             }
            },
            "marker": {
             "colorbar": {
              "outlinewidth": 0,
              "ticks": ""
             }
            },
            "type": "scatter3d"
           }
          ],
          "scattercarpet": [
           {
            "marker": {
             "colorbar": {
              "outlinewidth": 0,
              "ticks": ""
             }
            },
            "type": "scattercarpet"
           }
          ],
          "scattergeo": [
           {
            "marker": {
             "colorbar": {
              "outlinewidth": 0,
              "ticks": ""
             }
            },
            "type": "scattergeo"
           }
          ],
          "scattergl": [
           {
            "marker": {
             "colorbar": {
              "outlinewidth": 0,
              "ticks": ""
             }
            },
            "type": "scattergl"
           }
          ],
          "scattermapbox": [
           {
            "marker": {
             "colorbar": {
              "outlinewidth": 0,
              "ticks": ""
             }
            },
            "type": "scattermapbox"
           }
          ],
          "scatterpolar": [
           {
            "marker": {
             "colorbar": {
              "outlinewidth": 0,
              "ticks": ""
             }
            },
            "type": "scatterpolar"
           }
          ],
          "scatterpolargl": [
           {
            "marker": {
             "colorbar": {
              "outlinewidth": 0,
              "ticks": ""
             }
            },
            "type": "scatterpolargl"
           }
          ],
          "scatterternary": [
           {
            "marker": {
             "colorbar": {
              "outlinewidth": 0,
              "ticks": ""
             }
            },
            "type": "scatterternary"
           }
          ],
          "surface": [
           {
            "colorbar": {
             "outlinewidth": 0,
             "ticks": ""
            },
            "colorscale": [
             [
              0,
              "#0d0887"
             ],
             [
              0.1111111111111111,
              "#46039f"
             ],
             [
              0.2222222222222222,
              "#7201a8"
             ],
             [
              0.3333333333333333,
              "#9c179e"
             ],
             [
              0.4444444444444444,
              "#bd3786"
             ],
             [
              0.5555555555555556,
              "#d8576b"
             ],
             [
              0.6666666666666666,
              "#ed7953"
             ],
             [
              0.7777777777777778,
              "#fb9f3a"
             ],
             [
              0.8888888888888888,
              "#fdca26"
             ],
             [
              1,
              "#f0f921"
             ]
            ],
            "type": "surface"
           }
          ],
          "table": [
           {
            "cells": {
             "fill": {
              "color": "#EBF0F8"
             },
             "line": {
              "color": "white"
             }
            },
            "header": {
             "fill": {
              "color": "#C8D4E3"
             },
             "line": {
              "color": "white"
             }
            },
            "type": "table"
           }
          ]
         },
         "layout": {
          "annotationdefaults": {
           "arrowcolor": "#2a3f5f",
           "arrowhead": 0,
           "arrowwidth": 1
          },
          "coloraxis": {
           "colorbar": {
            "outlinewidth": 0,
            "ticks": ""
           }
          },
          "colorscale": {
           "diverging": [
            [
             0,
             "#8e0152"
            ],
            [
             0.1,
             "#c51b7d"
            ],
            [
             0.2,
             "#de77ae"
            ],
            [
             0.3,
             "#f1b6da"
            ],
            [
             0.4,
             "#fde0ef"
            ],
            [
             0.5,
             "#f7f7f7"
            ],
            [
             0.6,
             "#e6f5d0"
            ],
            [
             0.7,
             "#b8e186"
            ],
            [
             0.8,
             "#7fbc41"
            ],
            [
             0.9,
             "#4d9221"
            ],
            [
             1,
             "#276419"
            ]
           ],
           "sequential": [
            [
             0,
             "#0d0887"
            ],
            [
             0.1111111111111111,
             "#46039f"
            ],
            [
             0.2222222222222222,
             "#7201a8"
            ],
            [
             0.3333333333333333,
             "#9c179e"
            ],
            [
             0.4444444444444444,
             "#bd3786"
            ],
            [
             0.5555555555555556,
             "#d8576b"
            ],
            [
             0.6666666666666666,
             "#ed7953"
            ],
            [
             0.7777777777777778,
             "#fb9f3a"
            ],
            [
             0.8888888888888888,
             "#fdca26"
            ],
            [
             1,
             "#f0f921"
            ]
           ],
           "sequentialminus": [
            [
             0,
             "#0d0887"
            ],
            [
             0.1111111111111111,
             "#46039f"
            ],
            [
             0.2222222222222222,
             "#7201a8"
            ],
            [
             0.3333333333333333,
             "#9c179e"
            ],
            [
             0.4444444444444444,
             "#bd3786"
            ],
            [
             0.5555555555555556,
             "#d8576b"
            ],
            [
             0.6666666666666666,
             "#ed7953"
            ],
            [
             0.7777777777777778,
             "#fb9f3a"
            ],
            [
             0.8888888888888888,
             "#fdca26"
            ],
            [
             1,
             "#f0f921"
            ]
           ]
          },
          "colorway": [
           "#636efa",
           "#EF553B",
           "#00cc96",
           "#ab63fa",
           "#FFA15A",
           "#19d3f3",
           "#FF6692",
           "#B6E880",
           "#FF97FF",
           "#FECB52"
          ],
          "font": {
           "color": "#2a3f5f"
          },
          "geo": {
           "bgcolor": "white",
           "lakecolor": "white",
           "landcolor": "#E5ECF6",
           "showlakes": true,
           "showland": true,
           "subunitcolor": "white"
          },
          "hoverlabel": {
           "align": "left"
          },
          "hovermode": "closest",
          "mapbox": {
           "style": "light"
          },
          "paper_bgcolor": "white",
          "plot_bgcolor": "#E5ECF6",
          "polar": {
           "angularaxis": {
            "gridcolor": "white",
            "linecolor": "white",
            "ticks": ""
           },
           "bgcolor": "#E5ECF6",
           "radialaxis": {
            "gridcolor": "white",
            "linecolor": "white",
            "ticks": ""
           }
          },
          "scene": {
           "xaxis": {
            "backgroundcolor": "#E5ECF6",
            "gridcolor": "white",
            "gridwidth": 2,
            "linecolor": "white",
            "showbackground": true,
            "ticks": "",
            "zerolinecolor": "white"
           },
           "yaxis": {
            "backgroundcolor": "#E5ECF6",
            "gridcolor": "white",
            "gridwidth": 2,
            "linecolor": "white",
            "showbackground": true,
            "ticks": "",
            "zerolinecolor": "white"
           },
           "zaxis": {
            "backgroundcolor": "#E5ECF6",
            "gridcolor": "white",
            "gridwidth": 2,
            "linecolor": "white",
            "showbackground": true,
            "ticks": "",
            "zerolinecolor": "white"
           }
          },
          "shapedefaults": {
           "line": {
            "color": "#2a3f5f"
           }
          },
          "ternary": {
           "aaxis": {
            "gridcolor": "white",
            "linecolor": "white",
            "ticks": ""
           },
           "baxis": {
            "gridcolor": "white",
            "linecolor": "white",
            "ticks": ""
           },
           "bgcolor": "#E5ECF6",
           "caxis": {
            "gridcolor": "white",
            "linecolor": "white",
            "ticks": ""
           }
          },
          "title": {
           "x": 0.05
          },
          "xaxis": {
           "automargin": true,
           "gridcolor": "white",
           "linecolor": "white",
           "ticks": "",
           "title": {
            "standoff": 15
           },
           "zerolinecolor": "white",
           "zerolinewidth": 2
          },
          "yaxis": {
           "automargin": true,
           "gridcolor": "white",
           "linecolor": "white",
           "ticks": "",
           "title": {
            "standoff": 15
           },
           "zerolinecolor": "white",
           "zerolinewidth": 2
          }
         }
        },
        "title": {
         "font": {
          "color": "#4D5663"
         }
        },
        "xaxis": {
         "anchor": "y",
         "domain": [
          0,
          0.2125
         ],
         "gridcolor": "#E1E5ED",
         "showgrid": false,
         "tickfont": {
          "color": "#4D5663"
         },
         "title": {
          "font": {
           "color": "#4D5663"
          },
          "text": ""
         },
         "zerolinecolor": "#E1E5ED"
        },
        "xaxis10": {
         "anchor": "y10",
         "domain": [
          0.2625,
          0.475
         ],
         "gridcolor": "#E1E5ED",
         "showgrid": false,
         "tickfont": {
          "color": "#4D5663"
         },
         "title": {
          "font": {
           "color": "#4D5663"
          },
          "text": ""
         },
         "zerolinecolor": "#E1E5ED"
        },
        "xaxis11": {
         "anchor": "y11",
         "domain": [
          0.525,
          0.7375
         ],
         "gridcolor": "#E1E5ED",
         "showgrid": false,
         "tickfont": {
          "color": "#4D5663"
         },
         "title": {
          "font": {
           "color": "#4D5663"
          },
          "text": ""
         },
         "zerolinecolor": "#E1E5ED"
        },
        "xaxis12": {
         "anchor": "y12",
         "domain": [
          0.7875,
          1
         ],
         "gridcolor": "#E1E5ED",
         "showgrid": false,
         "tickfont": {
          "color": "#4D5663"
         },
         "title": {
          "font": {
           "color": "#4D5663"
          },
          "text": ""
         },
         "zerolinecolor": "#E1E5ED"
        },
        "xaxis13": {
         "anchor": "y13",
         "domain": [
          0,
          0.2125
         ],
         "gridcolor": "#E1E5ED",
         "showgrid": false,
         "tickfont": {
          "color": "#4D5663"
         },
         "title": {
          "font": {
           "color": "#4D5663"
          },
          "text": ""
         },
         "zerolinecolor": "#E1E5ED"
        },
        "xaxis14": {
         "anchor": "y14",
         "domain": [
          0.2625,
          0.475
         ],
         "gridcolor": "#E1E5ED",
         "showgrid": false,
         "tickfont": {
          "color": "#4D5663"
         },
         "title": {
          "font": {
           "color": "#4D5663"
          },
          "text": ""
         },
         "zerolinecolor": "#E1E5ED"
        },
        "xaxis15": {
         "anchor": "y15",
         "domain": [
          0.525,
          0.7375
         ],
         "gridcolor": "#E1E5ED",
         "showgrid": false,
         "tickfont": {
          "color": "#4D5663"
         },
         "title": {
          "font": {
           "color": "#4D5663"
          },
          "text": ""
         },
         "zerolinecolor": "#E1E5ED"
        },
        "xaxis16": {
         "anchor": "y16",
         "domain": [
          0.7875,
          1
         ],
         "gridcolor": "#E1E5ED",
         "showgrid": false,
         "tickfont": {
          "color": "#4D5663"
         },
         "title": {
          "font": {
           "color": "#4D5663"
          },
          "text": ""
         },
         "zerolinecolor": "#E1E5ED"
        },
        "xaxis2": {
         "anchor": "y2",
         "domain": [
          0.2625,
          0.475
         ],
         "gridcolor": "#E1E5ED",
         "showgrid": false,
         "tickfont": {
          "color": "#4D5663"
         },
         "title": {
          "font": {
           "color": "#4D5663"
          },
          "text": ""
         },
         "zerolinecolor": "#E1E5ED"
        },
        "xaxis3": {
         "anchor": "y3",
         "domain": [
          0.525,
          0.7375
         ],
         "gridcolor": "#E1E5ED",
         "showgrid": false,
         "tickfont": {
          "color": "#4D5663"
         },
         "title": {
          "font": {
           "color": "#4D5663"
          },
          "text": ""
         },
         "zerolinecolor": "#E1E5ED"
        },
        "xaxis4": {
         "anchor": "y4",
         "domain": [
          0.7875,
          1
         ],
         "gridcolor": "#E1E5ED",
         "showgrid": false,
         "tickfont": {
          "color": "#4D5663"
         },
         "title": {
          "font": {
           "color": "#4D5663"
          },
          "text": ""
         },
         "zerolinecolor": "#E1E5ED"
        },
        "xaxis5": {
         "anchor": "y5",
         "domain": [
          0,
          0.2125
         ],
         "gridcolor": "#E1E5ED",
         "showgrid": false,
         "tickfont": {
          "color": "#4D5663"
         },
         "title": {
          "font": {
           "color": "#4D5663"
          },
          "text": ""
         },
         "zerolinecolor": "#E1E5ED"
        },
        "xaxis6": {
         "anchor": "y6",
         "domain": [
          0.2625,
          0.475
         ],
         "gridcolor": "#E1E5ED",
         "showgrid": false,
         "tickfont": {
          "color": "#4D5663"
         },
         "title": {
          "font": {
           "color": "#4D5663"
          },
          "text": ""
         },
         "zerolinecolor": "#E1E5ED"
        },
        "xaxis7": {
         "anchor": "y7",
         "domain": [
          0.525,
          0.7375
         ],
         "gridcolor": "#E1E5ED",
         "showgrid": false,
         "tickfont": {
          "color": "#4D5663"
         },
         "title": {
          "font": {
           "color": "#4D5663"
          },
          "text": ""
         },
         "zerolinecolor": "#E1E5ED"
        },
        "xaxis8": {
         "anchor": "y8",
         "domain": [
          0.7875,
          1
         ],
         "gridcolor": "#E1E5ED",
         "showgrid": false,
         "tickfont": {
          "color": "#4D5663"
         },
         "title": {
          "font": {
           "color": "#4D5663"
          },
          "text": ""
         },
         "zerolinecolor": "#E1E5ED"
        },
        "xaxis9": {
         "anchor": "y9",
         "domain": [
          0,
          0.2125
         ],
         "gridcolor": "#E1E5ED",
         "showgrid": false,
         "tickfont": {
          "color": "#4D5663"
         },
         "title": {
          "font": {
           "color": "#4D5663"
          },
          "text": ""
         },
         "zerolinecolor": "#E1E5ED"
        },
        "yaxis": {
         "anchor": "x",
         "domain": [
          0.8025,
          1
         ],
         "gridcolor": "#E1E5ED",
         "showgrid": false,
         "tickfont": {
          "color": "#4D5663"
         },
         "title": {
          "font": {
           "color": "#4D5663"
          },
          "text": ""
         },
         "zerolinecolor": "#E1E5ED"
        },
        "yaxis10": {
         "anchor": "x10",
         "domain": [
          0.2675,
          0.465
         ],
         "gridcolor": "#E1E5ED",
         "showgrid": false,
         "tickfont": {
          "color": "#4D5663"
         },
         "title": {
          "font": {
           "color": "#4D5663"
          },
          "text": ""
         },
         "zerolinecolor": "#E1E5ED"
        },
        "yaxis11": {
         "anchor": "x11",
         "domain": [
          0.2675,
          0.465
         ],
         "gridcolor": "#E1E5ED",
         "showgrid": false,
         "tickfont": {
          "color": "#4D5663"
         },
         "title": {
          "font": {
           "color": "#4D5663"
          },
          "text": ""
         },
         "zerolinecolor": "#E1E5ED"
        },
        "yaxis12": {
         "anchor": "x12",
         "domain": [
          0.2675,
          0.465
         ],
         "gridcolor": "#E1E5ED",
         "showgrid": false,
         "tickfont": {
          "color": "#4D5663"
         },
         "title": {
          "font": {
           "color": "#4D5663"
          },
          "text": ""
         },
         "zerolinecolor": "#E1E5ED"
        },
        "yaxis13": {
         "anchor": "x13",
         "domain": [
          0,
          0.1975
         ],
         "gridcolor": "#E1E5ED",
         "showgrid": false,
         "tickfont": {
          "color": "#4D5663"
         },
         "title": {
          "font": {
           "color": "#4D5663"
          },
          "text": ""
         },
         "zerolinecolor": "#E1E5ED"
        },
        "yaxis14": {
         "anchor": "x14",
         "domain": [
          0,
          0.1975
         ],
         "gridcolor": "#E1E5ED",
         "showgrid": false,
         "tickfont": {
          "color": "#4D5663"
         },
         "title": {
          "font": {
           "color": "#4D5663"
          },
          "text": ""
         },
         "zerolinecolor": "#E1E5ED"
        },
        "yaxis15": {
         "anchor": "x15",
         "domain": [
          0,
          0.1975
         ],
         "gridcolor": "#E1E5ED",
         "showgrid": false,
         "tickfont": {
          "color": "#4D5663"
         },
         "title": {
          "font": {
           "color": "#4D5663"
          },
          "text": ""
         },
         "zerolinecolor": "#E1E5ED"
        },
        "yaxis16": {
         "anchor": "x16",
         "domain": [
          0,
          0.1975
         ],
         "gridcolor": "#E1E5ED",
         "showgrid": false,
         "tickfont": {
          "color": "#4D5663"
         },
         "title": {
          "font": {
           "color": "#4D5663"
          },
          "text": ""
         },
         "zerolinecolor": "#E1E5ED"
        },
        "yaxis2": {
         "anchor": "x2",
         "domain": [
          0.8025,
          1
         ],
         "gridcolor": "#E1E5ED",
         "showgrid": false,
         "tickfont": {
          "color": "#4D5663"
         },
         "title": {
          "font": {
           "color": "#4D5663"
          },
          "text": ""
         },
         "zerolinecolor": "#E1E5ED"
        },
        "yaxis3": {
         "anchor": "x3",
         "domain": [
          0.8025,
          1
         ],
         "gridcolor": "#E1E5ED",
         "showgrid": false,
         "tickfont": {
          "color": "#4D5663"
         },
         "title": {
          "font": {
           "color": "#4D5663"
          },
          "text": ""
         },
         "zerolinecolor": "#E1E5ED"
        },
        "yaxis4": {
         "anchor": "x4",
         "domain": [
          0.8025,
          1
         ],
         "gridcolor": "#E1E5ED",
         "showgrid": false,
         "tickfont": {
          "color": "#4D5663"
         },
         "title": {
          "font": {
           "color": "#4D5663"
          },
          "text": ""
         },
         "zerolinecolor": "#E1E5ED"
        },
        "yaxis5": {
         "anchor": "x5",
         "domain": [
          0.535,
          0.7325
         ],
         "gridcolor": "#E1E5ED",
         "showgrid": false,
         "tickfont": {
          "color": "#4D5663"
         },
         "title": {
          "font": {
           "color": "#4D5663"
          },
          "text": ""
         },
         "zerolinecolor": "#E1E5ED"
        },
        "yaxis6": {
         "anchor": "x6",
         "domain": [
          0.535,
          0.7325
         ],
         "gridcolor": "#E1E5ED",
         "showgrid": false,
         "tickfont": {
          "color": "#4D5663"
         },
         "title": {
          "font": {
           "color": "#4D5663"
          },
          "text": ""
         },
         "zerolinecolor": "#E1E5ED"
        },
        "yaxis7": {
         "anchor": "x7",
         "domain": [
          0.535,
          0.7325
         ],
         "gridcolor": "#E1E5ED",
         "showgrid": false,
         "tickfont": {
          "color": "#4D5663"
         },
         "title": {
          "font": {
           "color": "#4D5663"
          },
          "text": ""
         },
         "zerolinecolor": "#E1E5ED"
        },
        "yaxis8": {
         "anchor": "x8",
         "domain": [
          0.535,
          0.7325
         ],
         "gridcolor": "#E1E5ED",
         "showgrid": false,
         "tickfont": {
          "color": "#4D5663"
         },
         "title": {
          "font": {
           "color": "#4D5663"
          },
          "text": ""
         },
         "zerolinecolor": "#E1E5ED"
        },
        "yaxis9": {
         "anchor": "x9",
         "domain": [
          0.2675,
          0.465
         ],
         "gridcolor": "#E1E5ED",
         "showgrid": false,
         "tickfont": {
          "color": "#4D5663"
         },
         "title": {
          "font": {
           "color": "#4D5663"
          },
          "text": ""
         },
         "zerolinecolor": "#E1E5ED"
        }
       }
      },
      "text/html": "<div>\n        \n        \n            <div id=\"b661bb9e-6e9e-40ba-be2a-3e8da22650f9\" class=\"plotly-graph-div\" style=\"height:525px; width:100%;\"></div>\n            <script type=\"text/javascript\">\n                require([\"plotly\"], function(Plotly) {\n                    window.PLOTLYENV=window.PLOTLYENV || {};\n                    window.PLOTLYENV.BASE_URL='https://plot.ly';\n                    \n                if (document.getElementById(\"b661bb9e-6e9e-40ba-be2a-3e8da22650f9\")) {\n                    Plotly.newPlot(\n                        'b661bb9e-6e9e-40ba-be2a-3e8da22650f9',\n                        [{\"histfunc\": \"count\", \"histnorm\": \"\", \"marker\": {\"color\": \"rgba(255, 153, 51, 1.0)\", \"line\": {\"color\": \"#4D5663\", \"width\": 1.3}}, \"name\": \"A\", \"nbinsx\": 10, \"opacity\": 0.8, \"orientation\": \"v\", \"type\": \"histogram\", \"x\": [0.08154756008965315, 0.7294112196056034, -0.5954430102961661, 0.11392668617930163, 0.24501060951980624, 0.010534816638921151, 2.6364400057784594, 0.12297180125533486, -0.8405470416845079, 0.6503905079803126, 0.02672677148625623, 1.0390373819102718, 0.9133276526366109, 0.18141581073949015, 0.9104636520368209, -1.40892263236515, -0.31567975933388454, 2.4929469924755048, -0.4616394252856013, 0.048035937256642, 0.547119258096743, 0.3881502777279593, -0.6229558942782302, 0.1730967480960979, 1.158573553878103, 2.005769635483669, 0.0009764871350639321, 1.115750124492762, 0.7765290283003947, -0.15117506367172406, -1.084832578987809, 0.23376103148894553, -0.1821311071608296, 0.43465292198301053, -1.3718084383090414, -0.7065580490592018, 0.909913758991963, 0.6969810629188408, 1.0463714894729697, 0.6831279695180076, 0.24409792910146047, 1.433229901433797, -0.4058507832926155, -1.10187824116574, -0.8071314308373911, 0.8577612683913687, -1.0708370629080108, -0.9168997646164357, -2.1631333724515924, 0.13079043749727665, 0.3381626091783292, 0.15506303239424246, 0.7901778906730181, 0.9305057191246837, 0.099085161899565, -0.9169462506429646, 0.36951902680482057, 0.06925822193942366, -0.7198369642867564, -1.7245899453715674, -0.45008624430717875, 0.2967832703141231, -1.3377202043417142, 0.27493114755760784, 0.45941519480195747, -1.6291864606638882, -0.22070503253306045, 0.007709510068425308, 0.01768433879422398, -0.07079772944421962, -1.6679549393374373, -0.594619630454869, 1.0366407677017115, 0.2819081617296796, 1.3546788202799147, -0.07505679983163255, -0.9231210754582747, 0.6687394981273819, -0.5238978468910802, -0.8632332797156874, 0.4545244092944283, 1.1078297676122262, -0.44292004296577747, -0.9184911891684518, -0.00401103462367758, 0.09773503073679715, -0.8916894520145863, -2.170179314341021, -0.012113705461402155, 1.5340561179830172, -0.18585726925530954, -0.4131874227536773, -1.3631444791162253, 1.02004939629908, -0.9134507475058871, -0.32772598652099594, 0.34053976632380595, -0.2748575672954093, 0.8385945981431505, -1.1295338677638593], \"xaxis\": \"x\", \"yaxis\": \"y\"}, {\"line\": {\"color\": \"rgba(128, 128, 128, 1.0)\", \"dash\": \"solid\", \"shape\": \"linear\", \"width\": 1.3}, \"marker\": {\"size\": 2, \"symbol\": \"circle\"}, \"mode\": \"markers\", \"name\": \"A\", \"text\": \"\", \"type\": \"scatter\", \"x\": [0.9239846501391048, 0.6953024520295731, 0.2916503621311321, -0.965919765688481, 0.17191954706583218, 0.7624116519905186, -0.6652284368098259, -0.4772016744650276, 0.7982642870613752, -0.3548888991782037, 0.6746554659039304, 0.17857352576234595, 2.054763084961261, -0.1509660537376362, -0.8650692283683096, 0.22136934835948605, -0.4345578354252637, -0.8941880991505339, 0.16429920246842383, 0.5039931460708144, 1.8607739043126235, -0.9196941311634963, 0.799503085141445, -1.4450435479215027, -0.6072544017417235, 0.49500505670127404, -0.2969998338332768, -0.16673200385647882, 0.303882295816272, 0.6744726043764007, 0.8362026045828959, -0.18002551045619974, -0.49870969915426255, -0.2873512773835932, 0.758343432345483, 0.4346064861801654, -0.31777292964171794, -0.10655199147282932, -1.235611158554504, 1.114378533758231, -1.2458539752494155, 0.7741141869892867, -2.061430139425667, 1.0090783960346168, -0.0035614682665801155, 1.2993259230256762, -1.4530859670521163, -0.5675395884441028, -0.3029557917594186, -0.8305521833670725, -0.5388610646465275, 0.11145956959528848, 0.6905566980694475, -0.6056110692747558, -0.960534196518318, -2.0885118049507394, 0.9041150734606206, 0.47995318291304495, -0.14548997263476554, 1.0524863440461119, -0.5611798616616022, -1.187334192251828, 0.39513785300405296, -1.3946753976310993, 0.24659571882049935, -0.2543266430056381, -0.5476933696255555, -0.28217802860274704, -0.5393215350313256, -0.8095377645697454, -1.8410594008385672, 0.405702434109728, 1.1937169003480823, 1.581909236767621, -1.9180940814652665, 1.2008090209574682, -0.8939329531465761, 0.8751629307055746, 0.29177545956713835, -0.9403895202828687, 1.2286191801145336, -1.1950136610294053, 0.8143533691093339, 2.099738473353832, 0.34499031718368306, -0.9010719850875789, 0.2397697728514549, 1.155092720172047, -0.5364473130500922, 0.4116350556286882, -0.5224746391063635, -0.6780665888992978, -0.4083440051678913, 1.6260859831944012, 0.7288485407412735, -1.1055630627568243, -1.4637814591932408, 0.008076970853890886, 0.5256062276641782, -1.6605193369448148], \"xaxis\": \"x2\", \"y\": [0.08154756008965315, 0.7294112196056034, -0.5954430102961661, 0.11392668617930163, 0.24501060951980624, 0.010534816638921151, 2.6364400057784594, 0.12297180125533486, -0.8405470416845079, 0.6503905079803126, 0.02672677148625623, 1.0390373819102718, 0.9133276526366109, 0.18141581073949015, 0.9104636520368209, -1.40892263236515, -0.31567975933388454, 2.4929469924755048, -0.4616394252856013, 0.048035937256642, 0.547119258096743, 0.3881502777279593, -0.6229558942782302, 0.1730967480960979, 1.158573553878103, 2.005769635483669, 0.0009764871350639321, 1.115750124492762, 0.7765290283003947, -0.15117506367172406, -1.084832578987809, 0.23376103148894553, -0.1821311071608296, 0.43465292198301053, -1.3718084383090414, -0.7065580490592018, 0.909913758991963, 0.6969810629188408, 1.0463714894729697, 0.6831279695180076, 0.24409792910146047, 1.433229901433797, -0.4058507832926155, -1.10187824116574, -0.8071314308373911, 0.8577612683913687, -1.0708370629080108, -0.9168997646164357, -2.1631333724515924, 0.13079043749727665, 0.3381626091783292, 0.15506303239424246, 0.7901778906730181, 0.9305057191246837, 0.099085161899565, -0.9169462506429646, 0.36951902680482057, 0.06925822193942366, -0.7198369642867564, -1.7245899453715674, -0.45008624430717875, 0.2967832703141231, -1.3377202043417142, 0.27493114755760784, 0.45941519480195747, -1.6291864606638882, -0.22070503253306045, 0.007709510068425308, 0.01768433879422398, -0.07079772944421962, -1.6679549393374373, -0.594619630454869, 1.0366407677017115, 0.2819081617296796, 1.3546788202799147, -0.07505679983163255, -0.9231210754582747, 0.6687394981273819, -0.5238978468910802, -0.8632332797156874, 0.4545244092944283, 1.1078297676122262, -0.44292004296577747, -0.9184911891684518, -0.00401103462367758, 0.09773503073679715, -0.8916894520145863, -2.170179314341021, -0.012113705461402155, 1.5340561179830172, -0.18585726925530954, -0.4131874227536773, -1.3631444791162253, 1.02004939629908, -0.9134507475058871, -0.32772598652099594, 0.34053976632380595, -0.2748575672954093, 0.8385945981431505, -1.1295338677638593], \"yaxis\": \"y2\"}, {\"line\": {\"color\": \"rgba(128, 128, 128, 1.0)\", \"dash\": \"solid\", \"shape\": \"linear\", \"width\": 1.3}, \"marker\": {\"size\": 2, \"symbol\": \"circle\"}, \"mode\": \"markers\", \"name\": \"A\", \"text\": \"\", \"type\": \"scatter\", \"x\": [0.1731897801871931, 1.0805717454346522, 0.1661815232188988, -0.4231972335987849, -0.2894533176460957, 0.9497988890641357, 1.558133953659309, -1.5291805685676683, -1.0551807024957554, -0.640238750476245, 1.1446536801133733, 0.20976504318236616, -1.3382958360655268, 0.9518497188546176, -1.2288145585109191, 0.11670601375788553, -0.2655007078065531, 0.3688943535632997, -1.1547589682595232, -0.48901052641937004, 0.19946934127534185, -1.9021996549429325, -0.9377069093083589, -0.9337351133110984, 0.5623826885631529, -0.5622692926720693, 0.11934591893240494, -0.4800356227742899, 0.5104577368749124, -0.2795289095937796, -0.12692310306701218, 0.07343796483065212, 0.35976486569917826, -0.020082737660763607, 1.1114187302743177, -0.863830611873298, -1.2783946019204804, 1.5250607675908419, 0.002146472280955956, -0.16949927720793204, -0.7586236333447639, 0.17887601161337757, 1.0517588365000778, -1.967048201289373, 0.6750443213360052, 0.6483937197172981, 0.850693843078563, 0.3227404170056332, 0.34889164245916643, -1.0457422369419092, 0.014022093848823814, -0.6973731946226839, 1.1691260417598122, 1.0887492305473025, -2.0629420159266196, -0.3817441839140059, -0.23409990190736532, 0.13264340828353383, -0.08222876710525634, 1.3688674497143116, 1.6352216822242112, -1.471449110271284, -0.5244026362381358, 1.4362226985951463, 0.3085997514256125, 0.6241273972711119, -1.3342724604708143, 0.7806353792899472, 1.9824371066258424, 0.29970388069490195, 1.5404486201641265, 0.18096403741163036, -0.39596123536534394, 1.9376849092721047, -1.3292782232149443, -1.4666601875527623, 0.6242695966531804, -0.6176493128058889, -0.0750675329539289, 0.9481856527016067, -1.2872360668272416, -0.8789159961972396, 0.2983390403860215, -0.220802075095829, 0.09694274281928222, 1.0610922307984672, 1.2243623444569152, 0.4822194731439537, -0.4003820335468704, -0.11951785465035626, -1.6618586635524273, 0.13157180141905434, 0.6435258751189307, -1.2678693784667685, 1.603064218833642, 0.20869997830926718, 0.452935272055739, -1.942258717894802, 2.025334371561616, -0.8449746319198892], \"xaxis\": \"x3\", \"y\": [0.08154756008965315, 0.7294112196056034, -0.5954430102961661, 0.11392668617930163, 0.24501060951980624, 0.010534816638921151, 2.6364400057784594, 0.12297180125533486, -0.8405470416845079, 0.6503905079803126, 0.02672677148625623, 1.0390373819102718, 0.9133276526366109, 0.18141581073949015, 0.9104636520368209, -1.40892263236515, -0.31567975933388454, 2.4929469924755048, -0.4616394252856013, 0.048035937256642, 0.547119258096743, 0.3881502777279593, -0.6229558942782302, 0.1730967480960979, 1.158573553878103, 2.005769635483669, 0.0009764871350639321, 1.115750124492762, 0.7765290283003947, -0.15117506367172406, -1.084832578987809, 0.23376103148894553, -0.1821311071608296, 0.43465292198301053, -1.3718084383090414, -0.7065580490592018, 0.909913758991963, 0.6969810629188408, 1.0463714894729697, 0.6831279695180076, 0.24409792910146047, 1.433229901433797, -0.4058507832926155, -1.10187824116574, -0.8071314308373911, 0.8577612683913687, -1.0708370629080108, -0.9168997646164357, -2.1631333724515924, 0.13079043749727665, 0.3381626091783292, 0.15506303239424246, 0.7901778906730181, 0.9305057191246837, 0.099085161899565, -0.9169462506429646, 0.36951902680482057, 0.06925822193942366, -0.7198369642867564, -1.7245899453715674, -0.45008624430717875, 0.2967832703141231, -1.3377202043417142, 0.27493114755760784, 0.45941519480195747, -1.6291864606638882, -0.22070503253306045, 0.007709510068425308, 0.01768433879422398, -0.07079772944421962, -1.6679549393374373, -0.594619630454869, 1.0366407677017115, 0.2819081617296796, 1.3546788202799147, -0.07505679983163255, -0.9231210754582747, 0.6687394981273819, -0.5238978468910802, -0.8632332797156874, 0.4545244092944283, 1.1078297676122262, -0.44292004296577747, -0.9184911891684518, -0.00401103462367758, 0.09773503073679715, -0.8916894520145863, -2.170179314341021, -0.012113705461402155, 1.5340561179830172, -0.18585726925530954, -0.4131874227536773, -1.3631444791162253, 1.02004939629908, -0.9134507475058871, -0.32772598652099594, 0.34053976632380595, -0.2748575672954093, 0.8385945981431505, -1.1295338677638593], \"yaxis\": \"y3\"}, {\"line\": {\"color\": \"rgba(128, 128, 128, 1.0)\", \"dash\": \"solid\", \"shape\": \"linear\", \"width\": 1.3}, \"marker\": {\"size\": 2, \"symbol\": \"circle\"}, \"mode\": \"markers\", \"name\": \"A\", \"text\": \"\", \"type\": \"scatter\", \"x\": [-1.3874849477667144, -1.8656498231275773, -0.33749021888015307, 0.5488343617703392, -1.0508688271766322, -0.08778009754034234, -2.286142696234354, 1.6257304646226955, 0.15313810264602, -0.3987176989567448, 0.35764497952947116, 0.47354284215415654, -0.1723453883790165, -0.8914056644373052, 1.2902095150186206, -1.4816870734327254, 0.1483562742596897, 0.3043444840057154, 0.2539473040683697, 0.23526044843933577, 1.2629927352072594, -0.22611484087641787, 0.7109365890900765, 0.08756974766629698, 0.16531812727383804, -0.9616230175982924, -0.6006186301256718, 1.0643291101644667, -0.545939815993772, 0.6430378864115665, 0.0052357292339122495, -1.513604748112339, 0.5231533677726229, 1.3817943007055535, 0.27125166672707574, 1.9037269509437669, 0.045407533647354247, 0.3952368589656036, 0.8083530083235367, -2.3419611795562294, -1.6511650360092605, 0.06280541544054928, -0.052273312085548036, 1.2001554553695584, -0.8547263820888261, 0.5177546873595925, 0.17508077620254087, 1.9001590783905606, -0.713229459631557, 2.373962445976622, 0.5532735516263807, -0.3840168580308098, 0.03362334697478046, -1.103203773813644, 0.02346124218995091, 0.05255960602561054, 0.6727938023652159, 0.5646896146548723, -0.6266538981748045, 1.526513850461846, 1.1952029124949193, 0.9274273106965598, -0.33731735453322564, 0.44685854230215055, 1.6349709493685298, -0.2209708413295089, 0.48923563646043466, -0.2945118225534256, -0.8251248149131969, 0.00857551287297888, -0.13002228318371914, -0.9771456209548197, 0.09469617143608043, -0.14593108388755036, 0.17630435429081576, 1.79185022241687, -1.8143582927777, 0.7017241144873628, -0.2568340537743485, 1.004992962769046, -1.85800838094076, 0.3102690773759805, 0.5739626686524494, -0.4524609135108897, -0.4996566096925608, 0.3067263817491155, -0.33826278591067316, -0.9535551517747584, 0.5543197263992433, -0.5380370196346342, -0.13926724184245634, -1.6050890209212885, 0.10552377837277267, 0.8482112437267506, 2.6089245208845684, 0.4010429097785106, 1.1204122953435418, -0.1889293064943024, -1.7312277812298196, -0.6050912679966161], \"xaxis\": \"x4\", \"y\": [0.08154756008965315, 0.7294112196056034, -0.5954430102961661, 0.11392668617930163, 0.24501060951980624, 0.010534816638921151, 2.6364400057784594, 0.12297180125533486, -0.8405470416845079, 0.6503905079803126, 0.02672677148625623, 1.0390373819102718, 0.9133276526366109, 0.18141581073949015, 0.9104636520368209, -1.40892263236515, -0.31567975933388454, 2.4929469924755048, -0.4616394252856013, 0.048035937256642, 0.547119258096743, 0.3881502777279593, -0.6229558942782302, 0.1730967480960979, 1.158573553878103, 2.005769635483669, 0.0009764871350639321, 1.115750124492762, 0.7765290283003947, -0.15117506367172406, -1.084832578987809, 0.23376103148894553, -0.1821311071608296, 0.43465292198301053, -1.3718084383090414, -0.7065580490592018, 0.909913758991963, 0.6969810629188408, 1.0463714894729697, 0.6831279695180076, 0.24409792910146047, 1.433229901433797, -0.4058507832926155, -1.10187824116574, -0.8071314308373911, 0.8577612683913687, -1.0708370629080108, -0.9168997646164357, -2.1631333724515924, 0.13079043749727665, 0.3381626091783292, 0.15506303239424246, 0.7901778906730181, 0.9305057191246837, 0.099085161899565, -0.9169462506429646, 0.36951902680482057, 0.06925822193942366, -0.7198369642867564, -1.7245899453715674, -0.45008624430717875, 0.2967832703141231, -1.3377202043417142, 0.27493114755760784, 0.45941519480195747, -1.6291864606638882, -0.22070503253306045, 0.007709510068425308, 0.01768433879422398, -0.07079772944421962, -1.6679549393374373, -0.594619630454869, 1.0366407677017115, 0.2819081617296796, 1.3546788202799147, -0.07505679983163255, -0.9231210754582747, 0.6687394981273819, -0.5238978468910802, -0.8632332797156874, 0.4545244092944283, 1.1078297676122262, -0.44292004296577747, -0.9184911891684518, -0.00401103462367758, 0.09773503073679715, -0.8916894520145863, -2.170179314341021, -0.012113705461402155, 1.5340561179830172, -0.18585726925530954, -0.4131874227536773, -1.3631444791162253, 1.02004939629908, -0.9134507475058871, -0.32772598652099594, 0.34053976632380595, -0.2748575672954093, 0.8385945981431505, -1.1295338677638593], \"yaxis\": \"y4\"}, {\"line\": {\"color\": \"rgba(128, 128, 128, 1.0)\", \"dash\": \"solid\", \"shape\": \"linear\", \"width\": 1.3}, \"marker\": {\"size\": 2, \"symbol\": \"circle\"}, \"mode\": \"markers\", \"name\": \"B\", \"text\": \"\", \"type\": \"scatter\", \"x\": [0.08154756008965315, 0.7294112196056034, -0.5954430102961661, 0.11392668617930163, 0.24501060951980624, 0.010534816638921151, 2.6364400057784594, 0.12297180125533486, -0.8405470416845079, 0.6503905079803126, 0.02672677148625623, 1.0390373819102718, 0.9133276526366109, 0.18141581073949015, 0.9104636520368209, -1.40892263236515, -0.31567975933388454, 2.4929469924755048, -0.4616394252856013, 0.048035937256642, 0.547119258096743, 0.3881502777279593, -0.6229558942782302, 0.1730967480960979, 1.158573553878103, 2.005769635483669, 0.0009764871350639321, 1.115750124492762, 0.7765290283003947, -0.15117506367172406, -1.084832578987809, 0.23376103148894553, -0.1821311071608296, 0.43465292198301053, -1.3718084383090414, -0.7065580490592018, 0.909913758991963, 0.6969810629188408, 1.0463714894729697, 0.6831279695180076, 0.24409792910146047, 1.433229901433797, -0.4058507832926155, -1.10187824116574, -0.8071314308373911, 0.8577612683913687, -1.0708370629080108, -0.9168997646164357, -2.1631333724515924, 0.13079043749727665, 0.3381626091783292, 0.15506303239424246, 0.7901778906730181, 0.9305057191246837, 0.099085161899565, -0.9169462506429646, 0.36951902680482057, 0.06925822193942366, -0.7198369642867564, -1.7245899453715674, -0.45008624430717875, 0.2967832703141231, -1.3377202043417142, 0.27493114755760784, 0.45941519480195747, -1.6291864606638882, -0.22070503253306045, 0.007709510068425308, 0.01768433879422398, -0.07079772944421962, -1.6679549393374373, -0.594619630454869, 1.0366407677017115, 0.2819081617296796, 1.3546788202799147, -0.07505679983163255, -0.9231210754582747, 0.6687394981273819, -0.5238978468910802, -0.8632332797156874, 0.4545244092944283, 1.1078297676122262, -0.44292004296577747, -0.9184911891684518, -0.00401103462367758, 0.09773503073679715, -0.8916894520145863, -2.170179314341021, -0.012113705461402155, 1.5340561179830172, -0.18585726925530954, -0.4131874227536773, -1.3631444791162253, 1.02004939629908, -0.9134507475058871, -0.32772598652099594, 0.34053976632380595, -0.2748575672954093, 0.8385945981431505, -1.1295338677638593], \"xaxis\": \"x5\", \"y\": [0.9239846501391048, 0.6953024520295731, 0.2916503621311321, -0.965919765688481, 0.17191954706583218, 0.7624116519905186, -0.6652284368098259, -0.4772016744650276, 0.7982642870613752, -0.3548888991782037, 0.6746554659039304, 0.17857352576234595, 2.054763084961261, -0.1509660537376362, -0.8650692283683096, 0.22136934835948605, -0.4345578354252637, -0.8941880991505339, 0.16429920246842383, 0.5039931460708144, 1.8607739043126235, -0.9196941311634963, 0.799503085141445, -1.4450435479215027, -0.6072544017417235, 0.49500505670127404, -0.2969998338332768, -0.16673200385647882, 0.303882295816272, 0.6744726043764007, 0.8362026045828959, -0.18002551045619974, -0.49870969915426255, -0.2873512773835932, 0.758343432345483, 0.4346064861801654, -0.31777292964171794, -0.10655199147282932, -1.235611158554504, 1.114378533758231, -1.2458539752494155, 0.7741141869892867, -2.061430139425667, 1.0090783960346168, -0.0035614682665801155, 1.2993259230256762, -1.4530859670521163, -0.5675395884441028, -0.3029557917594186, -0.8305521833670725, -0.5388610646465275, 0.11145956959528848, 0.6905566980694475, -0.6056110692747558, -0.960534196518318, -2.0885118049507394, 0.9041150734606206, 0.47995318291304495, -0.14548997263476554, 1.0524863440461119, -0.5611798616616022, -1.187334192251828, 0.39513785300405296, -1.3946753976310993, 0.24659571882049935, -0.2543266430056381, -0.5476933696255555, -0.28217802860274704, -0.5393215350313256, -0.8095377645697454, -1.8410594008385672, 0.405702434109728, 1.1937169003480823, 1.581909236767621, -1.9180940814652665, 1.2008090209574682, -0.8939329531465761, 0.8751629307055746, 0.29177545956713835, -0.9403895202828687, 1.2286191801145336, -1.1950136610294053, 0.8143533691093339, 2.099738473353832, 0.34499031718368306, -0.9010719850875789, 0.2397697728514549, 1.155092720172047, -0.5364473130500922, 0.4116350556286882, -0.5224746391063635, -0.6780665888992978, -0.4083440051678913, 1.6260859831944012, 0.7288485407412735, -1.1055630627568243, -1.4637814591932408, 0.008076970853890886, 0.5256062276641782, -1.6605193369448148], \"yaxis\": \"y5\"}, {\"histfunc\": \"count\", \"histnorm\": \"\", \"marker\": {\"color\": \"rgba(55, 128, 191, 1.0)\", \"line\": {\"color\": \"#4D5663\", \"width\": 1.3}}, \"name\": \"B\", \"nbinsx\": 10, \"opacity\": 0.8, \"orientation\": \"v\", \"type\": \"histogram\", \"x\": [0.9239846501391048, 0.6953024520295731, 0.2916503621311321, -0.965919765688481, 0.17191954706583218, 0.7624116519905186, -0.6652284368098259, -0.4772016744650276, 0.7982642870613752, -0.3548888991782037, 0.6746554659039304, 0.17857352576234595, 2.054763084961261, -0.1509660537376362, -0.8650692283683096, 0.22136934835948605, -0.4345578354252637, -0.8941880991505339, 0.16429920246842383, 0.5039931460708144, 1.8607739043126235, -0.9196941311634963, 0.799503085141445, -1.4450435479215027, -0.6072544017417235, 0.49500505670127404, -0.2969998338332768, -0.16673200385647882, 0.303882295816272, 0.6744726043764007, 0.8362026045828959, -0.18002551045619974, -0.49870969915426255, -0.2873512773835932, 0.758343432345483, 0.4346064861801654, -0.31777292964171794, -0.10655199147282932, -1.235611158554504, 1.114378533758231, -1.2458539752494155, 0.7741141869892867, -2.061430139425667, 1.0090783960346168, -0.0035614682665801155, 1.2993259230256762, -1.4530859670521163, -0.5675395884441028, -0.3029557917594186, -0.8305521833670725, -0.5388610646465275, 0.11145956959528848, 0.6905566980694475, -0.6056110692747558, -0.960534196518318, -2.0885118049507394, 0.9041150734606206, 0.47995318291304495, -0.14548997263476554, 1.0524863440461119, -0.5611798616616022, -1.187334192251828, 0.39513785300405296, -1.3946753976310993, 0.24659571882049935, -0.2543266430056381, -0.5476933696255555, -0.28217802860274704, -0.5393215350313256, -0.8095377645697454, -1.8410594008385672, 0.405702434109728, 1.1937169003480823, 1.581909236767621, -1.9180940814652665, 1.2008090209574682, -0.8939329531465761, 0.8751629307055746, 0.29177545956713835, -0.9403895202828687, 1.2286191801145336, -1.1950136610294053, 0.8143533691093339, 2.099738473353832, 0.34499031718368306, -0.9010719850875789, 0.2397697728514549, 1.155092720172047, -0.5364473130500922, 0.4116350556286882, -0.5224746391063635, -0.6780665888992978, -0.4083440051678913, 1.6260859831944012, 0.7288485407412735, -1.1055630627568243, -1.4637814591932408, 0.008076970853890886, 0.5256062276641782, -1.6605193369448148], \"xaxis\": \"x6\", \"yaxis\": \"y6\"}, {\"line\": {\"color\": \"rgba(128, 128, 128, 1.0)\", \"dash\": \"solid\", \"shape\": \"linear\", \"width\": 1.3}, \"marker\": {\"size\": 2, \"symbol\": \"circle\"}, \"mode\": \"markers\", \"name\": \"B\", \"text\": \"\", \"type\": \"scatter\", \"x\": [0.1731897801871931, 1.0805717454346522, 0.1661815232188988, -0.4231972335987849, -0.2894533176460957, 0.9497988890641357, 1.558133953659309, -1.5291805685676683, -1.0551807024957554, -0.640238750476245, 1.1446536801133733, 0.20976504318236616, -1.3382958360655268, 0.9518497188546176, -1.2288145585109191, 0.11670601375788553, -0.2655007078065531, 0.3688943535632997, -1.1547589682595232, -0.48901052641937004, 0.19946934127534185, -1.9021996549429325, -0.9377069093083589, -0.9337351133110984, 0.5623826885631529, -0.5622692926720693, 0.11934591893240494, -0.4800356227742899, 0.5104577368749124, -0.2795289095937796, -0.12692310306701218, 0.07343796483065212, 0.35976486569917826, -0.020082737660763607, 1.1114187302743177, -0.863830611873298, -1.2783946019204804, 1.5250607675908419, 0.002146472280955956, -0.16949927720793204, -0.7586236333447639, 0.17887601161337757, 1.0517588365000778, -1.967048201289373, 0.6750443213360052, 0.6483937197172981, 0.850693843078563, 0.3227404170056332, 0.34889164245916643, -1.0457422369419092, 0.014022093848823814, -0.6973731946226839, 1.1691260417598122, 1.0887492305473025, -2.0629420159266196, -0.3817441839140059, -0.23409990190736532, 0.13264340828353383, -0.08222876710525634, 1.3688674497143116, 1.6352216822242112, -1.471449110271284, -0.5244026362381358, 1.4362226985951463, 0.3085997514256125, 0.6241273972711119, -1.3342724604708143, 0.7806353792899472, 1.9824371066258424, 0.29970388069490195, 1.5404486201641265, 0.18096403741163036, -0.39596123536534394, 1.9376849092721047, -1.3292782232149443, -1.4666601875527623, 0.6242695966531804, -0.6176493128058889, -0.0750675329539289, 0.9481856527016067, -1.2872360668272416, -0.8789159961972396, 0.2983390403860215, -0.220802075095829, 0.09694274281928222, 1.0610922307984672, 1.2243623444569152, 0.4822194731439537, -0.4003820335468704, -0.11951785465035626, -1.6618586635524273, 0.13157180141905434, 0.6435258751189307, -1.2678693784667685, 1.603064218833642, 0.20869997830926718, 0.452935272055739, -1.942258717894802, 2.025334371561616, -0.8449746319198892], \"xaxis\": \"x7\", \"y\": [0.9239846501391048, 0.6953024520295731, 0.2916503621311321, -0.965919765688481, 0.17191954706583218, 0.7624116519905186, -0.6652284368098259, -0.4772016744650276, 0.7982642870613752, -0.3548888991782037, 0.6746554659039304, 0.17857352576234595, 2.054763084961261, -0.1509660537376362, -0.8650692283683096, 0.22136934835948605, -0.4345578354252637, -0.8941880991505339, 0.16429920246842383, 0.5039931460708144, 1.8607739043126235, -0.9196941311634963, 0.799503085141445, -1.4450435479215027, -0.6072544017417235, 0.49500505670127404, -0.2969998338332768, -0.16673200385647882, 0.303882295816272, 0.6744726043764007, 0.8362026045828959, -0.18002551045619974, -0.49870969915426255, -0.2873512773835932, 0.758343432345483, 0.4346064861801654, -0.31777292964171794, -0.10655199147282932, -1.235611158554504, 1.114378533758231, -1.2458539752494155, 0.7741141869892867, -2.061430139425667, 1.0090783960346168, -0.0035614682665801155, 1.2993259230256762, -1.4530859670521163, -0.5675395884441028, -0.3029557917594186, -0.8305521833670725, -0.5388610646465275, 0.11145956959528848, 0.6905566980694475, -0.6056110692747558, -0.960534196518318, -2.0885118049507394, 0.9041150734606206, 0.47995318291304495, -0.14548997263476554, 1.0524863440461119, -0.5611798616616022, -1.187334192251828, 0.39513785300405296, -1.3946753976310993, 0.24659571882049935, -0.2543266430056381, -0.5476933696255555, -0.28217802860274704, -0.5393215350313256, -0.8095377645697454, -1.8410594008385672, 0.405702434109728, 1.1937169003480823, 1.581909236767621, -1.9180940814652665, 1.2008090209574682, -0.8939329531465761, 0.8751629307055746, 0.29177545956713835, -0.9403895202828687, 1.2286191801145336, -1.1950136610294053, 0.8143533691093339, 2.099738473353832, 0.34499031718368306, -0.9010719850875789, 0.2397697728514549, 1.155092720172047, -0.5364473130500922, 0.4116350556286882, -0.5224746391063635, -0.6780665888992978, -0.4083440051678913, 1.6260859831944012, 0.7288485407412735, -1.1055630627568243, -1.4637814591932408, 0.008076970853890886, 0.5256062276641782, -1.6605193369448148], \"yaxis\": \"y7\"}, {\"line\": {\"color\": \"rgba(128, 128, 128, 1.0)\", \"dash\": \"solid\", \"shape\": \"linear\", \"width\": 1.3}, \"marker\": {\"size\": 2, \"symbol\": \"circle\"}, \"mode\": \"markers\", \"name\": \"B\", \"text\": \"\", \"type\": \"scatter\", \"x\": [-1.3874849477667144, -1.8656498231275773, -0.33749021888015307, 0.5488343617703392, -1.0508688271766322, -0.08778009754034234, -2.286142696234354, 1.6257304646226955, 0.15313810264602, -0.3987176989567448, 0.35764497952947116, 0.47354284215415654, -0.1723453883790165, -0.8914056644373052, 1.2902095150186206, -1.4816870734327254, 0.1483562742596897, 0.3043444840057154, 0.2539473040683697, 0.23526044843933577, 1.2629927352072594, -0.22611484087641787, 0.7109365890900765, 0.08756974766629698, 0.16531812727383804, -0.9616230175982924, -0.6006186301256718, 1.0643291101644667, -0.545939815993772, 0.6430378864115665, 0.0052357292339122495, -1.513604748112339, 0.5231533677726229, 1.3817943007055535, 0.27125166672707574, 1.9037269509437669, 0.045407533647354247, 0.3952368589656036, 0.8083530083235367, -2.3419611795562294, -1.6511650360092605, 0.06280541544054928, -0.052273312085548036, 1.2001554553695584, -0.8547263820888261, 0.5177546873595925, 0.17508077620254087, 1.9001590783905606, -0.713229459631557, 2.373962445976622, 0.5532735516263807, -0.3840168580308098, 0.03362334697478046, -1.103203773813644, 0.02346124218995091, 0.05255960602561054, 0.6727938023652159, 0.5646896146548723, -0.6266538981748045, 1.526513850461846, 1.1952029124949193, 0.9274273106965598, -0.33731735453322564, 0.44685854230215055, 1.6349709493685298, -0.2209708413295089, 0.48923563646043466, -0.2945118225534256, -0.8251248149131969, 0.00857551287297888, -0.13002228318371914, -0.9771456209548197, 0.09469617143608043, -0.14593108388755036, 0.17630435429081576, 1.79185022241687, -1.8143582927777, 0.7017241144873628, -0.2568340537743485, 1.004992962769046, -1.85800838094076, 0.3102690773759805, 0.5739626686524494, -0.4524609135108897, -0.4996566096925608, 0.3067263817491155, -0.33826278591067316, -0.9535551517747584, 0.5543197263992433, -0.5380370196346342, -0.13926724184245634, -1.6050890209212885, 0.10552377837277267, 0.8482112437267506, 2.6089245208845684, 0.4010429097785106, 1.1204122953435418, -0.1889293064943024, -1.7312277812298196, -0.6050912679966161], \"xaxis\": \"x8\", \"y\": [0.9239846501391048, 0.6953024520295731, 0.2916503621311321, -0.965919765688481, 0.17191954706583218, 0.7624116519905186, -0.6652284368098259, -0.4772016744650276, 0.7982642870613752, -0.3548888991782037, 0.6746554659039304, 0.17857352576234595, 2.054763084961261, -0.1509660537376362, -0.8650692283683096, 0.22136934835948605, -0.4345578354252637, -0.8941880991505339, 0.16429920246842383, 0.5039931460708144, 1.8607739043126235, -0.9196941311634963, 0.799503085141445, -1.4450435479215027, -0.6072544017417235, 0.49500505670127404, -0.2969998338332768, -0.16673200385647882, 0.303882295816272, 0.6744726043764007, 0.8362026045828959, -0.18002551045619974, -0.49870969915426255, -0.2873512773835932, 0.758343432345483, 0.4346064861801654, -0.31777292964171794, -0.10655199147282932, -1.235611158554504, 1.114378533758231, -1.2458539752494155, 0.7741141869892867, -2.061430139425667, 1.0090783960346168, -0.0035614682665801155, 1.2993259230256762, -1.4530859670521163, -0.5675395884441028, -0.3029557917594186, -0.8305521833670725, -0.5388610646465275, 0.11145956959528848, 0.6905566980694475, -0.6056110692747558, -0.960534196518318, -2.0885118049507394, 0.9041150734606206, 0.47995318291304495, -0.14548997263476554, 1.0524863440461119, -0.5611798616616022, -1.187334192251828, 0.39513785300405296, -1.3946753976310993, 0.24659571882049935, -0.2543266430056381, -0.5476933696255555, -0.28217802860274704, -0.5393215350313256, -0.8095377645697454, -1.8410594008385672, 0.405702434109728, 1.1937169003480823, 1.581909236767621, -1.9180940814652665, 1.2008090209574682, -0.8939329531465761, 0.8751629307055746, 0.29177545956713835, -0.9403895202828687, 1.2286191801145336, -1.1950136610294053, 0.8143533691093339, 2.099738473353832, 0.34499031718368306, -0.9010719850875789, 0.2397697728514549, 1.155092720172047, -0.5364473130500922, 0.4116350556286882, -0.5224746391063635, -0.6780665888992978, -0.4083440051678913, 1.6260859831944012, 0.7288485407412735, -1.1055630627568243, -1.4637814591932408, 0.008076970853890886, 0.5256062276641782, -1.6605193369448148], \"yaxis\": \"y8\"}, {\"line\": {\"color\": \"rgba(128, 128, 128, 1.0)\", \"dash\": \"solid\", \"shape\": \"linear\", \"width\": 1.3}, \"marker\": {\"size\": 2, \"symbol\": \"circle\"}, \"mode\": \"markers\", \"name\": \"C\", \"text\": \"\", \"type\": \"scatter\", \"x\": [0.08154756008965315, 0.7294112196056034, -0.5954430102961661, 0.11392668617930163, 0.24501060951980624, 0.010534816638921151, 2.6364400057784594, 0.12297180125533486, -0.8405470416845079, 0.6503905079803126, 0.02672677148625623, 1.0390373819102718, 0.9133276526366109, 0.18141581073949015, 0.9104636520368209, -1.40892263236515, -0.31567975933388454, 2.4929469924755048, -0.4616394252856013, 0.048035937256642, 0.547119258096743, 0.3881502777279593, -0.6229558942782302, 0.1730967480960979, 1.158573553878103, 2.005769635483669, 0.0009764871350639321, 1.115750124492762, 0.7765290283003947, -0.15117506367172406, -1.084832578987809, 0.23376103148894553, -0.1821311071608296, 0.43465292198301053, -1.3718084383090414, -0.7065580490592018, 0.909913758991963, 0.6969810629188408, 1.0463714894729697, 0.6831279695180076, 0.24409792910146047, 1.433229901433797, -0.4058507832926155, -1.10187824116574, -0.8071314308373911, 0.8577612683913687, -1.0708370629080108, -0.9168997646164357, -2.1631333724515924, 0.13079043749727665, 0.3381626091783292, 0.15506303239424246, 0.7901778906730181, 0.9305057191246837, 0.099085161899565, -0.9169462506429646, 0.36951902680482057, 0.06925822193942366, -0.7198369642867564, -1.7245899453715674, -0.45008624430717875, 0.2967832703141231, -1.3377202043417142, 0.27493114755760784, 0.45941519480195747, -1.6291864606638882, -0.22070503253306045, 0.007709510068425308, 0.01768433879422398, -0.07079772944421962, -1.6679549393374373, -0.594619630454869, 1.0366407677017115, 0.2819081617296796, 1.3546788202799147, -0.07505679983163255, -0.9231210754582747, 0.6687394981273819, -0.5238978468910802, -0.8632332797156874, 0.4545244092944283, 1.1078297676122262, -0.44292004296577747, -0.9184911891684518, -0.00401103462367758, 0.09773503073679715, -0.8916894520145863, -2.170179314341021, -0.012113705461402155, 1.5340561179830172, -0.18585726925530954, -0.4131874227536773, -1.3631444791162253, 1.02004939629908, -0.9134507475058871, -0.32772598652099594, 0.34053976632380595, -0.2748575672954093, 0.8385945981431505, -1.1295338677638593], \"xaxis\": \"x9\", \"y\": [0.1731897801871931, 1.0805717454346522, 0.1661815232188988, -0.4231972335987849, -0.2894533176460957, 0.9497988890641357, 1.558133953659309, -1.5291805685676683, -1.0551807024957554, -0.640238750476245, 1.1446536801133733, 0.20976504318236616, -1.3382958360655268, 0.9518497188546176, -1.2288145585109191, 0.11670601375788553, -0.2655007078065531, 0.3688943535632997, -1.1547589682595232, -0.48901052641937004, 0.19946934127534185, -1.9021996549429325, -0.9377069093083589, -0.9337351133110984, 0.5623826885631529, -0.5622692926720693, 0.11934591893240494, -0.4800356227742899, 0.5104577368749124, -0.2795289095937796, -0.12692310306701218, 0.07343796483065212, 0.35976486569917826, -0.020082737660763607, 1.1114187302743177, -0.863830611873298, -1.2783946019204804, 1.5250607675908419, 0.002146472280955956, -0.16949927720793204, -0.7586236333447639, 0.17887601161337757, 1.0517588365000778, -1.967048201289373, 0.6750443213360052, 0.6483937197172981, 0.850693843078563, 0.3227404170056332, 0.34889164245916643, -1.0457422369419092, 0.014022093848823814, -0.6973731946226839, 1.1691260417598122, 1.0887492305473025, -2.0629420159266196, -0.3817441839140059, -0.23409990190736532, 0.13264340828353383, -0.08222876710525634, 1.3688674497143116, 1.6352216822242112, -1.471449110271284, -0.5244026362381358, 1.4362226985951463, 0.3085997514256125, 0.6241273972711119, -1.3342724604708143, 0.7806353792899472, 1.9824371066258424, 0.29970388069490195, 1.5404486201641265, 0.18096403741163036, -0.39596123536534394, 1.9376849092721047, -1.3292782232149443, -1.4666601875527623, 0.6242695966531804, -0.6176493128058889, -0.0750675329539289, 0.9481856527016067, -1.2872360668272416, -0.8789159961972396, 0.2983390403860215, -0.220802075095829, 0.09694274281928222, 1.0610922307984672, 1.2243623444569152, 0.4822194731439537, -0.4003820335468704, -0.11951785465035626, -1.6618586635524273, 0.13157180141905434, 0.6435258751189307, -1.2678693784667685, 1.603064218833642, 0.20869997830926718, 0.452935272055739, -1.942258717894802, 2.025334371561616, -0.8449746319198892], \"yaxis\": \"y9\"}, {\"line\": {\"color\": \"rgba(128, 128, 128, 1.0)\", \"dash\": \"solid\", \"shape\": \"linear\", \"width\": 1.3}, \"marker\": {\"size\": 2, \"symbol\": \"circle\"}, \"mode\": \"markers\", \"name\": \"C\", \"text\": \"\", \"type\": \"scatter\", \"x\": [0.9239846501391048, 0.6953024520295731, 0.2916503621311321, -0.965919765688481, 0.17191954706583218, 0.7624116519905186, -0.6652284368098259, -0.4772016744650276, 0.7982642870613752, -0.3548888991782037, 0.6746554659039304, 0.17857352576234595, 2.054763084961261, -0.1509660537376362, -0.8650692283683096, 0.22136934835948605, -0.4345578354252637, -0.8941880991505339, 0.16429920246842383, 0.5039931460708144, 1.8607739043126235, -0.9196941311634963, 0.799503085141445, -1.4450435479215027, -0.6072544017417235, 0.49500505670127404, -0.2969998338332768, -0.16673200385647882, 0.303882295816272, 0.6744726043764007, 0.8362026045828959, -0.18002551045619974, -0.49870969915426255, -0.2873512773835932, 0.758343432345483, 0.4346064861801654, -0.31777292964171794, -0.10655199147282932, -1.235611158554504, 1.114378533758231, -1.2458539752494155, 0.7741141869892867, -2.061430139425667, 1.0090783960346168, -0.0035614682665801155, 1.2993259230256762, -1.4530859670521163, -0.5675395884441028, -0.3029557917594186, -0.8305521833670725, -0.5388610646465275, 0.11145956959528848, 0.6905566980694475, -0.6056110692747558, -0.960534196518318, -2.0885118049507394, 0.9041150734606206, 0.47995318291304495, -0.14548997263476554, 1.0524863440461119, -0.5611798616616022, -1.187334192251828, 0.39513785300405296, -1.3946753976310993, 0.24659571882049935, -0.2543266430056381, -0.5476933696255555, -0.28217802860274704, -0.5393215350313256, -0.8095377645697454, -1.8410594008385672, 0.405702434109728, 1.1937169003480823, 1.581909236767621, -1.9180940814652665, 1.2008090209574682, -0.8939329531465761, 0.8751629307055746, 0.29177545956713835, -0.9403895202828687, 1.2286191801145336, -1.1950136610294053, 0.8143533691093339, 2.099738473353832, 0.34499031718368306, -0.9010719850875789, 0.2397697728514549, 1.155092720172047, -0.5364473130500922, 0.4116350556286882, -0.5224746391063635, -0.6780665888992978, -0.4083440051678913, 1.6260859831944012, 0.7288485407412735, -1.1055630627568243, -1.4637814591932408, 0.008076970853890886, 0.5256062276641782, -1.6605193369448148], \"xaxis\": \"x10\", \"y\": [0.1731897801871931, 1.0805717454346522, 0.1661815232188988, -0.4231972335987849, -0.2894533176460957, 0.9497988890641357, 1.558133953659309, -1.5291805685676683, -1.0551807024957554, -0.640238750476245, 1.1446536801133733, 0.20976504318236616, -1.3382958360655268, 0.9518497188546176, -1.2288145585109191, 0.11670601375788553, -0.2655007078065531, 0.3688943535632997, -1.1547589682595232, -0.48901052641937004, 0.19946934127534185, -1.9021996549429325, -0.9377069093083589, -0.9337351133110984, 0.5623826885631529, -0.5622692926720693, 0.11934591893240494, -0.4800356227742899, 0.5104577368749124, -0.2795289095937796, -0.12692310306701218, 0.07343796483065212, 0.35976486569917826, -0.020082737660763607, 1.1114187302743177, -0.863830611873298, -1.2783946019204804, 1.5250607675908419, 0.002146472280955956, -0.16949927720793204, -0.7586236333447639, 0.17887601161337757, 1.0517588365000778, -1.967048201289373, 0.6750443213360052, 0.6483937197172981, 0.850693843078563, 0.3227404170056332, 0.34889164245916643, -1.0457422369419092, 0.014022093848823814, -0.6973731946226839, 1.1691260417598122, 1.0887492305473025, -2.0629420159266196, -0.3817441839140059, -0.23409990190736532, 0.13264340828353383, -0.08222876710525634, 1.3688674497143116, 1.6352216822242112, -1.471449110271284, -0.5244026362381358, 1.4362226985951463, 0.3085997514256125, 0.6241273972711119, -1.3342724604708143, 0.7806353792899472, 1.9824371066258424, 0.29970388069490195, 1.5404486201641265, 0.18096403741163036, -0.39596123536534394, 1.9376849092721047, -1.3292782232149443, -1.4666601875527623, 0.6242695966531804, -0.6176493128058889, -0.0750675329539289, 0.9481856527016067, -1.2872360668272416, -0.8789159961972396, 0.2983390403860215, -0.220802075095829, 0.09694274281928222, 1.0610922307984672, 1.2243623444569152, 0.4822194731439537, -0.4003820335468704, -0.11951785465035626, -1.6618586635524273, 0.13157180141905434, 0.6435258751189307, -1.2678693784667685, 1.603064218833642, 0.20869997830926718, 0.452935272055739, -1.942258717894802, 2.025334371561616, -0.8449746319198892], \"yaxis\": \"y10\"}, {\"histfunc\": \"count\", \"histnorm\": \"\", \"marker\": {\"color\": \"rgba(50, 171, 96, 1.0)\", \"line\": {\"color\": \"#4D5663\", \"width\": 1.3}}, \"name\": \"C\", \"nbinsx\": 10, \"opacity\": 0.8, \"orientation\": \"v\", \"type\": \"histogram\", \"x\": [0.1731897801871931, 1.0805717454346522, 0.1661815232188988, -0.4231972335987849, -0.2894533176460957, 0.9497988890641357, 1.558133953659309, -1.5291805685676683, -1.0551807024957554, -0.640238750476245, 1.1446536801133733, 0.20976504318236616, -1.3382958360655268, 0.9518497188546176, -1.2288145585109191, 0.11670601375788553, -0.2655007078065531, 0.3688943535632997, -1.1547589682595232, -0.48901052641937004, 0.19946934127534185, -1.9021996549429325, -0.9377069093083589, -0.9337351133110984, 0.5623826885631529, -0.5622692926720693, 0.11934591893240494, -0.4800356227742899, 0.5104577368749124, -0.2795289095937796, -0.12692310306701218, 0.07343796483065212, 0.35976486569917826, -0.020082737660763607, 1.1114187302743177, -0.863830611873298, -1.2783946019204804, 1.5250607675908419, 0.002146472280955956, -0.16949927720793204, -0.7586236333447639, 0.17887601161337757, 1.0517588365000778, -1.967048201289373, 0.6750443213360052, 0.6483937197172981, 0.850693843078563, 0.3227404170056332, 0.34889164245916643, -1.0457422369419092, 0.014022093848823814, -0.6973731946226839, 1.1691260417598122, 1.0887492305473025, -2.0629420159266196, -0.3817441839140059, -0.23409990190736532, 0.13264340828353383, -0.08222876710525634, 1.3688674497143116, 1.6352216822242112, -1.471449110271284, -0.5244026362381358, 1.4362226985951463, 0.3085997514256125, 0.6241273972711119, -1.3342724604708143, 0.7806353792899472, 1.9824371066258424, 0.29970388069490195, 1.5404486201641265, 0.18096403741163036, -0.39596123536534394, 1.9376849092721047, -1.3292782232149443, -1.4666601875527623, 0.6242695966531804, -0.6176493128058889, -0.0750675329539289, 0.9481856527016067, -1.2872360668272416, -0.8789159961972396, 0.2983390403860215, -0.220802075095829, 0.09694274281928222, 1.0610922307984672, 1.2243623444569152, 0.4822194731439537, -0.4003820335468704, -0.11951785465035626, -1.6618586635524273, 0.13157180141905434, 0.6435258751189307, -1.2678693784667685, 1.603064218833642, 0.20869997830926718, 0.452935272055739, -1.942258717894802, 2.025334371561616, -0.8449746319198892], \"xaxis\": \"x11\", \"yaxis\": \"y11\"}, {\"line\": {\"color\": \"rgba(128, 128, 128, 1.0)\", \"dash\": \"solid\", \"shape\": \"linear\", \"width\": 1.3}, \"marker\": {\"size\": 2, \"symbol\": \"circle\"}, \"mode\": \"markers\", \"name\": \"C\", \"text\": \"\", \"type\": \"scatter\", \"x\": [-1.3874849477667144, -1.8656498231275773, -0.33749021888015307, 0.5488343617703392, -1.0508688271766322, -0.08778009754034234, -2.286142696234354, 1.6257304646226955, 0.15313810264602, -0.3987176989567448, 0.35764497952947116, 0.47354284215415654, -0.1723453883790165, -0.8914056644373052, 1.2902095150186206, -1.4816870734327254, 0.1483562742596897, 0.3043444840057154, 0.2539473040683697, 0.23526044843933577, 1.2629927352072594, -0.22611484087641787, 0.7109365890900765, 0.08756974766629698, 0.16531812727383804, -0.9616230175982924, -0.6006186301256718, 1.0643291101644667, -0.545939815993772, 0.6430378864115665, 0.0052357292339122495, -1.513604748112339, 0.5231533677726229, 1.3817943007055535, 0.27125166672707574, 1.9037269509437669, 0.045407533647354247, 0.3952368589656036, 0.8083530083235367, -2.3419611795562294, -1.6511650360092605, 0.06280541544054928, -0.052273312085548036, 1.2001554553695584, -0.8547263820888261, 0.5177546873595925, 0.17508077620254087, 1.9001590783905606, -0.713229459631557, 2.373962445976622, 0.5532735516263807, -0.3840168580308098, 0.03362334697478046, -1.103203773813644, 0.02346124218995091, 0.05255960602561054, 0.6727938023652159, 0.5646896146548723, -0.6266538981748045, 1.526513850461846, 1.1952029124949193, 0.9274273106965598, -0.33731735453322564, 0.44685854230215055, 1.6349709493685298, -0.2209708413295089, 0.48923563646043466, -0.2945118225534256, -0.8251248149131969, 0.00857551287297888, -0.13002228318371914, -0.9771456209548197, 0.09469617143608043, -0.14593108388755036, 0.17630435429081576, 1.79185022241687, -1.8143582927777, 0.7017241144873628, -0.2568340537743485, 1.004992962769046, -1.85800838094076, 0.3102690773759805, 0.5739626686524494, -0.4524609135108897, -0.4996566096925608, 0.3067263817491155, -0.33826278591067316, -0.9535551517747584, 0.5543197263992433, -0.5380370196346342, -0.13926724184245634, -1.6050890209212885, 0.10552377837277267, 0.8482112437267506, 2.6089245208845684, 0.4010429097785106, 1.1204122953435418, -0.1889293064943024, -1.7312277812298196, -0.6050912679966161], \"xaxis\": \"x12\", \"y\": [0.1731897801871931, 1.0805717454346522, 0.1661815232188988, -0.4231972335987849, -0.2894533176460957, 0.9497988890641357, 1.558133953659309, -1.5291805685676683, -1.0551807024957554, -0.640238750476245, 1.1446536801133733, 0.20976504318236616, -1.3382958360655268, 0.9518497188546176, -1.2288145585109191, 0.11670601375788553, -0.2655007078065531, 0.3688943535632997, -1.1547589682595232, -0.48901052641937004, 0.19946934127534185, -1.9021996549429325, -0.9377069093083589, -0.9337351133110984, 0.5623826885631529, -0.5622692926720693, 0.11934591893240494, -0.4800356227742899, 0.5104577368749124, -0.2795289095937796, -0.12692310306701218, 0.07343796483065212, 0.35976486569917826, -0.020082737660763607, 1.1114187302743177, -0.863830611873298, -1.2783946019204804, 1.5250607675908419, 0.002146472280955956, -0.16949927720793204, -0.7586236333447639, 0.17887601161337757, 1.0517588365000778, -1.967048201289373, 0.6750443213360052, 0.6483937197172981, 0.850693843078563, 0.3227404170056332, 0.34889164245916643, -1.0457422369419092, 0.014022093848823814, -0.6973731946226839, 1.1691260417598122, 1.0887492305473025, -2.0629420159266196, -0.3817441839140059, -0.23409990190736532, 0.13264340828353383, -0.08222876710525634, 1.3688674497143116, 1.6352216822242112, -1.471449110271284, -0.5244026362381358, 1.4362226985951463, 0.3085997514256125, 0.6241273972711119, -1.3342724604708143, 0.7806353792899472, 1.9824371066258424, 0.29970388069490195, 1.5404486201641265, 0.18096403741163036, -0.39596123536534394, 1.9376849092721047, -1.3292782232149443, -1.4666601875527623, 0.6242695966531804, -0.6176493128058889, -0.0750675329539289, 0.9481856527016067, -1.2872360668272416, -0.8789159961972396, 0.2983390403860215, -0.220802075095829, 0.09694274281928222, 1.0610922307984672, 1.2243623444569152, 0.4822194731439537, -0.4003820335468704, -0.11951785465035626, -1.6618586635524273, 0.13157180141905434, 0.6435258751189307, -1.2678693784667685, 1.603064218833642, 0.20869997830926718, 0.452935272055739, -1.942258717894802, 2.025334371561616, -0.8449746319198892], \"yaxis\": \"y12\"}, {\"line\": {\"color\": \"rgba(128, 128, 128, 1.0)\", \"dash\": \"solid\", \"shape\": \"linear\", \"width\": 1.3}, \"marker\": {\"size\": 2, \"symbol\": \"circle\"}, \"mode\": \"markers\", \"name\": \"D\", \"text\": \"\", \"type\": \"scatter\", \"x\": [0.08154756008965315, 0.7294112196056034, -0.5954430102961661, 0.11392668617930163, 0.24501060951980624, 0.010534816638921151, 2.6364400057784594, 0.12297180125533486, -0.8405470416845079, 0.6503905079803126, 0.02672677148625623, 1.0390373819102718, 0.9133276526366109, 0.18141581073949015, 0.9104636520368209, -1.40892263236515, -0.31567975933388454, 2.4929469924755048, -0.4616394252856013, 0.048035937256642, 0.547119258096743, 0.3881502777279593, -0.6229558942782302, 0.1730967480960979, 1.158573553878103, 2.005769635483669, 0.0009764871350639321, 1.115750124492762, 0.7765290283003947, -0.15117506367172406, -1.084832578987809, 0.23376103148894553, -0.1821311071608296, 0.43465292198301053, -1.3718084383090414, -0.7065580490592018, 0.909913758991963, 0.6969810629188408, 1.0463714894729697, 0.6831279695180076, 0.24409792910146047, 1.433229901433797, -0.4058507832926155, -1.10187824116574, -0.8071314308373911, 0.8577612683913687, -1.0708370629080108, -0.9168997646164357, -2.1631333724515924, 0.13079043749727665, 0.3381626091783292, 0.15506303239424246, 0.7901778906730181, 0.9305057191246837, 0.099085161899565, -0.9169462506429646, 0.36951902680482057, 0.06925822193942366, -0.7198369642867564, -1.7245899453715674, -0.45008624430717875, 0.2967832703141231, -1.3377202043417142, 0.27493114755760784, 0.45941519480195747, -1.6291864606638882, -0.22070503253306045, 0.007709510068425308, 0.01768433879422398, -0.07079772944421962, -1.6679549393374373, -0.594619630454869, 1.0366407677017115, 0.2819081617296796, 1.3546788202799147, -0.07505679983163255, -0.9231210754582747, 0.6687394981273819, -0.5238978468910802, -0.8632332797156874, 0.4545244092944283, 1.1078297676122262, -0.44292004296577747, -0.9184911891684518, -0.00401103462367758, 0.09773503073679715, -0.8916894520145863, -2.170179314341021, -0.012113705461402155, 1.5340561179830172, -0.18585726925530954, -0.4131874227536773, -1.3631444791162253, 1.02004939629908, -0.9134507475058871, -0.32772598652099594, 0.34053976632380595, -0.2748575672954093, 0.8385945981431505, -1.1295338677638593], \"xaxis\": \"x13\", \"y\": [-1.3874849477667144, -1.8656498231275773, -0.33749021888015307, 0.5488343617703392, -1.0508688271766322, -0.08778009754034234, -2.286142696234354, 1.6257304646226955, 0.15313810264602, -0.3987176989567448, 0.35764497952947116, 0.47354284215415654, -0.1723453883790165, -0.8914056644373052, 1.2902095150186206, -1.4816870734327254, 0.1483562742596897, 0.3043444840057154, 0.2539473040683697, 0.23526044843933577, 1.2629927352072594, -0.22611484087641787, 0.7109365890900765, 0.08756974766629698, 0.16531812727383804, -0.9616230175982924, -0.6006186301256718, 1.0643291101644667, -0.545939815993772, 0.6430378864115665, 0.0052357292339122495, -1.513604748112339, 0.5231533677726229, 1.3817943007055535, 0.27125166672707574, 1.9037269509437669, 0.045407533647354247, 0.3952368589656036, 0.8083530083235367, -2.3419611795562294, -1.6511650360092605, 0.06280541544054928, -0.052273312085548036, 1.2001554553695584, -0.8547263820888261, 0.5177546873595925, 0.17508077620254087, 1.9001590783905606, -0.713229459631557, 2.373962445976622, 0.5532735516263807, -0.3840168580308098, 0.03362334697478046, -1.103203773813644, 0.02346124218995091, 0.05255960602561054, 0.6727938023652159, 0.5646896146548723, -0.6266538981748045, 1.526513850461846, 1.1952029124949193, 0.9274273106965598, -0.33731735453322564, 0.44685854230215055, 1.6349709493685298, -0.2209708413295089, 0.48923563646043466, -0.2945118225534256, -0.8251248149131969, 0.00857551287297888, -0.13002228318371914, -0.9771456209548197, 0.09469617143608043, -0.14593108388755036, 0.17630435429081576, 1.79185022241687, -1.8143582927777, 0.7017241144873628, -0.2568340537743485, 1.004992962769046, -1.85800838094076, 0.3102690773759805, 0.5739626686524494, -0.4524609135108897, -0.4996566096925608, 0.3067263817491155, -0.33826278591067316, -0.9535551517747584, 0.5543197263992433, -0.5380370196346342, -0.13926724184245634, -1.6050890209212885, 0.10552377837277267, 0.8482112437267506, 2.6089245208845684, 0.4010429097785106, 1.1204122953435418, -0.1889293064943024, -1.7312277812298196, -0.6050912679966161], \"yaxis\": \"y13\"}, {\"line\": {\"color\": \"rgba(128, 128, 128, 1.0)\", \"dash\": \"solid\", \"shape\": \"linear\", \"width\": 1.3}, \"marker\": {\"size\": 2, \"symbol\": \"circle\"}, \"mode\": \"markers\", \"name\": \"D\", \"text\": \"\", \"type\": \"scatter\", \"x\": [0.9239846501391048, 0.6953024520295731, 0.2916503621311321, -0.965919765688481, 0.17191954706583218, 0.7624116519905186, -0.6652284368098259, -0.4772016744650276, 0.7982642870613752, -0.3548888991782037, 0.6746554659039304, 0.17857352576234595, 2.054763084961261, -0.1509660537376362, -0.8650692283683096, 0.22136934835948605, -0.4345578354252637, -0.8941880991505339, 0.16429920246842383, 0.5039931460708144, 1.8607739043126235, -0.9196941311634963, 0.799503085141445, -1.4450435479215027, -0.6072544017417235, 0.49500505670127404, -0.2969998338332768, -0.16673200385647882, 0.303882295816272, 0.6744726043764007, 0.8362026045828959, -0.18002551045619974, -0.49870969915426255, -0.2873512773835932, 0.758343432345483, 0.4346064861801654, -0.31777292964171794, -0.10655199147282932, -1.235611158554504, 1.114378533758231, -1.2458539752494155, 0.7741141869892867, -2.061430139425667, 1.0090783960346168, -0.0035614682665801155, 1.2993259230256762, -1.4530859670521163, -0.5675395884441028, -0.3029557917594186, -0.8305521833670725, -0.5388610646465275, 0.11145956959528848, 0.6905566980694475, -0.6056110692747558, -0.960534196518318, -2.0885118049507394, 0.9041150734606206, 0.47995318291304495, -0.14548997263476554, 1.0524863440461119, -0.5611798616616022, -1.187334192251828, 0.39513785300405296, -1.3946753976310993, 0.24659571882049935, -0.2543266430056381, -0.5476933696255555, -0.28217802860274704, -0.5393215350313256, -0.8095377645697454, -1.8410594008385672, 0.405702434109728, 1.1937169003480823, 1.581909236767621, -1.9180940814652665, 1.2008090209574682, -0.8939329531465761, 0.8751629307055746, 0.29177545956713835, -0.9403895202828687, 1.2286191801145336, -1.1950136610294053, 0.8143533691093339, 2.099738473353832, 0.34499031718368306, -0.9010719850875789, 0.2397697728514549, 1.155092720172047, -0.5364473130500922, 0.4116350556286882, -0.5224746391063635, -0.6780665888992978, -0.4083440051678913, 1.6260859831944012, 0.7288485407412735, -1.1055630627568243, -1.4637814591932408, 0.008076970853890886, 0.5256062276641782, -1.6605193369448148], \"xaxis\": \"x14\", \"y\": [-1.3874849477667144, -1.8656498231275773, -0.33749021888015307, 0.5488343617703392, -1.0508688271766322, -0.08778009754034234, -2.286142696234354, 1.6257304646226955, 0.15313810264602, -0.3987176989567448, 0.35764497952947116, 0.47354284215415654, -0.1723453883790165, -0.8914056644373052, 1.2902095150186206, -1.4816870734327254, 0.1483562742596897, 0.3043444840057154, 0.2539473040683697, 0.23526044843933577, 1.2629927352072594, -0.22611484087641787, 0.7109365890900765, 0.08756974766629698, 0.16531812727383804, -0.9616230175982924, -0.6006186301256718, 1.0643291101644667, -0.545939815993772, 0.6430378864115665, 0.0052357292339122495, -1.513604748112339, 0.5231533677726229, 1.3817943007055535, 0.27125166672707574, 1.9037269509437669, 0.045407533647354247, 0.3952368589656036, 0.8083530083235367, -2.3419611795562294, -1.6511650360092605, 0.06280541544054928, -0.052273312085548036, 1.2001554553695584, -0.8547263820888261, 0.5177546873595925, 0.17508077620254087, 1.9001590783905606, -0.713229459631557, 2.373962445976622, 0.5532735516263807, -0.3840168580308098, 0.03362334697478046, -1.103203773813644, 0.02346124218995091, 0.05255960602561054, 0.6727938023652159, 0.5646896146548723, -0.6266538981748045, 1.526513850461846, 1.1952029124949193, 0.9274273106965598, -0.33731735453322564, 0.44685854230215055, 1.6349709493685298, -0.2209708413295089, 0.48923563646043466, -0.2945118225534256, -0.8251248149131969, 0.00857551287297888, -0.13002228318371914, -0.9771456209548197, 0.09469617143608043, -0.14593108388755036, 0.17630435429081576, 1.79185022241687, -1.8143582927777, 0.7017241144873628, -0.2568340537743485, 1.004992962769046, -1.85800838094076, 0.3102690773759805, 0.5739626686524494, -0.4524609135108897, -0.4996566096925608, 0.3067263817491155, -0.33826278591067316, -0.9535551517747584, 0.5543197263992433, -0.5380370196346342, -0.13926724184245634, -1.6050890209212885, 0.10552377837277267, 0.8482112437267506, 2.6089245208845684, 0.4010429097785106, 1.1204122953435418, -0.1889293064943024, -1.7312277812298196, -0.6050912679966161], \"yaxis\": \"y14\"}, {\"line\": {\"color\": \"rgba(128, 128, 128, 1.0)\", \"dash\": \"solid\", \"shape\": \"linear\", \"width\": 1.3}, \"marker\": {\"size\": 2, \"symbol\": \"circle\"}, \"mode\": \"markers\", \"name\": \"D\", \"text\": \"\", \"type\": \"scatter\", \"x\": [0.1731897801871931, 1.0805717454346522, 0.1661815232188988, -0.4231972335987849, -0.2894533176460957, 0.9497988890641357, 1.558133953659309, -1.5291805685676683, -1.0551807024957554, -0.640238750476245, 1.1446536801133733, 0.20976504318236616, -1.3382958360655268, 0.9518497188546176, -1.2288145585109191, 0.11670601375788553, -0.2655007078065531, 0.3688943535632997, -1.1547589682595232, -0.48901052641937004, 0.19946934127534185, -1.9021996549429325, -0.9377069093083589, -0.9337351133110984, 0.5623826885631529, -0.5622692926720693, 0.11934591893240494, -0.4800356227742899, 0.5104577368749124, -0.2795289095937796, -0.12692310306701218, 0.07343796483065212, 0.35976486569917826, -0.020082737660763607, 1.1114187302743177, -0.863830611873298, -1.2783946019204804, 1.5250607675908419, 0.002146472280955956, -0.16949927720793204, -0.7586236333447639, 0.17887601161337757, 1.0517588365000778, -1.967048201289373, 0.6750443213360052, 0.6483937197172981, 0.850693843078563, 0.3227404170056332, 0.34889164245916643, -1.0457422369419092, 0.014022093848823814, -0.6973731946226839, 1.1691260417598122, 1.0887492305473025, -2.0629420159266196, -0.3817441839140059, -0.23409990190736532, 0.13264340828353383, -0.08222876710525634, 1.3688674497143116, 1.6352216822242112, -1.471449110271284, -0.5244026362381358, 1.4362226985951463, 0.3085997514256125, 0.6241273972711119, -1.3342724604708143, 0.7806353792899472, 1.9824371066258424, 0.29970388069490195, 1.5404486201641265, 0.18096403741163036, -0.39596123536534394, 1.9376849092721047, -1.3292782232149443, -1.4666601875527623, 0.6242695966531804, -0.6176493128058889, -0.0750675329539289, 0.9481856527016067, -1.2872360668272416, -0.8789159961972396, 0.2983390403860215, -0.220802075095829, 0.09694274281928222, 1.0610922307984672, 1.2243623444569152, 0.4822194731439537, -0.4003820335468704, -0.11951785465035626, -1.6618586635524273, 0.13157180141905434, 0.6435258751189307, -1.2678693784667685, 1.603064218833642, 0.20869997830926718, 0.452935272055739, -1.942258717894802, 2.025334371561616, -0.8449746319198892], \"xaxis\": \"x15\", \"y\": [-1.3874849477667144, -1.8656498231275773, -0.33749021888015307, 0.5488343617703392, -1.0508688271766322, -0.08778009754034234, -2.286142696234354, 1.6257304646226955, 0.15313810264602, -0.3987176989567448, 0.35764497952947116, 0.47354284215415654, -0.1723453883790165, -0.8914056644373052, 1.2902095150186206, -1.4816870734327254, 0.1483562742596897, 0.3043444840057154, 0.2539473040683697, 0.23526044843933577, 1.2629927352072594, -0.22611484087641787, 0.7109365890900765, 0.08756974766629698, 0.16531812727383804, -0.9616230175982924, -0.6006186301256718, 1.0643291101644667, -0.545939815993772, 0.6430378864115665, 0.0052357292339122495, -1.513604748112339, 0.5231533677726229, 1.3817943007055535, 0.27125166672707574, 1.9037269509437669, 0.045407533647354247, 0.3952368589656036, 0.8083530083235367, -2.3419611795562294, -1.6511650360092605, 0.06280541544054928, -0.052273312085548036, 1.2001554553695584, -0.8547263820888261, 0.5177546873595925, 0.17508077620254087, 1.9001590783905606, -0.713229459631557, 2.373962445976622, 0.5532735516263807, -0.3840168580308098, 0.03362334697478046, -1.103203773813644, 0.02346124218995091, 0.05255960602561054, 0.6727938023652159, 0.5646896146548723, -0.6266538981748045, 1.526513850461846, 1.1952029124949193, 0.9274273106965598, -0.33731735453322564, 0.44685854230215055, 1.6349709493685298, -0.2209708413295089, 0.48923563646043466, -0.2945118225534256, -0.8251248149131969, 0.00857551287297888, -0.13002228318371914, -0.9771456209548197, 0.09469617143608043, -0.14593108388755036, 0.17630435429081576, 1.79185022241687, -1.8143582927777, 0.7017241144873628, -0.2568340537743485, 1.004992962769046, -1.85800838094076, 0.3102690773759805, 0.5739626686524494, -0.4524609135108897, -0.4996566096925608, 0.3067263817491155, -0.33826278591067316, -0.9535551517747584, 0.5543197263992433, -0.5380370196346342, -0.13926724184245634, -1.6050890209212885, 0.10552377837277267, 0.8482112437267506, 2.6089245208845684, 0.4010429097785106, 1.1204122953435418, -0.1889293064943024, -1.7312277812298196, -0.6050912679966161], \"yaxis\": \"y15\"}, {\"histfunc\": \"count\", \"histnorm\": \"\", \"marker\": {\"color\": \"rgba(128, 0, 128, 1.0)\", \"line\": {\"color\": \"#4D5663\", \"width\": 1.3}}, \"name\": \"D\", \"nbinsx\": 10, \"opacity\": 0.8, \"orientation\": \"v\", \"type\": \"histogram\", \"x\": [-1.3874849477667144, -1.8656498231275773, -0.33749021888015307, 0.5488343617703392, -1.0508688271766322, -0.08778009754034234, -2.286142696234354, 1.6257304646226955, 0.15313810264602, -0.3987176989567448, 0.35764497952947116, 0.47354284215415654, -0.1723453883790165, -0.8914056644373052, 1.2902095150186206, -1.4816870734327254, 0.1483562742596897, 0.3043444840057154, 0.2539473040683697, 0.23526044843933577, 1.2629927352072594, -0.22611484087641787, 0.7109365890900765, 0.08756974766629698, 0.16531812727383804, -0.9616230175982924, -0.6006186301256718, 1.0643291101644667, -0.545939815993772, 0.6430378864115665, 0.0052357292339122495, -1.513604748112339, 0.5231533677726229, 1.3817943007055535, 0.27125166672707574, 1.9037269509437669, 0.045407533647354247, 0.3952368589656036, 0.8083530083235367, -2.3419611795562294, -1.6511650360092605, 0.06280541544054928, -0.052273312085548036, 1.2001554553695584, -0.8547263820888261, 0.5177546873595925, 0.17508077620254087, 1.9001590783905606, -0.713229459631557, 2.373962445976622, 0.5532735516263807, -0.3840168580308098, 0.03362334697478046, -1.103203773813644, 0.02346124218995091, 0.05255960602561054, 0.6727938023652159, 0.5646896146548723, -0.6266538981748045, 1.526513850461846, 1.1952029124949193, 0.9274273106965598, -0.33731735453322564, 0.44685854230215055, 1.6349709493685298, -0.2209708413295089, 0.48923563646043466, -0.2945118225534256, -0.8251248149131969, 0.00857551287297888, -0.13002228318371914, -0.9771456209548197, 0.09469617143608043, -0.14593108388755036, 0.17630435429081576, 1.79185022241687, -1.8143582927777, 0.7017241144873628, -0.2568340537743485, 1.004992962769046, -1.85800838094076, 0.3102690773759805, 0.5739626686524494, -0.4524609135108897, -0.4996566096925608, 0.3067263817491155, -0.33826278591067316, -0.9535551517747584, 0.5543197263992433, -0.5380370196346342, -0.13926724184245634, -1.6050890209212885, 0.10552377837277267, 0.8482112437267506, 2.6089245208845684, 0.4010429097785106, 1.1204122953435418, -0.1889293064943024, -1.7312277812298196, -0.6050912679966161], \"xaxis\": \"x16\", \"yaxis\": \"y16\"}],\n                        {\"bargap\": 0.02, \"legend\": {\"bgcolor\": \"#F5F6F9\", \"font\": {\"color\": \"#4D5663\"}}, \"paper_bgcolor\": \"#F5F6F9\", \"plot_bgcolor\": \"#F5F6F9\", \"showlegend\": false, \"template\": {\"data\": {\"bar\": [{\"error_x\": {\"color\": \"#2a3f5f\"}, \"error_y\": {\"color\": \"#2a3f5f\"}, \"marker\": {\"line\": {\"color\": \"#E5ECF6\", \"width\": 0.5}}, \"type\": \"bar\"}], \"barpolar\": [{\"marker\": {\"line\": {\"color\": \"#E5ECF6\", \"width\": 0.5}}, \"type\": \"barpolar\"}], \"carpet\": [{\"aaxis\": {\"endlinecolor\": \"#2a3f5f\", \"gridcolor\": \"white\", \"linecolor\": \"white\", \"minorgridcolor\": \"white\", \"startlinecolor\": \"#2a3f5f\"}, \"baxis\": {\"endlinecolor\": \"#2a3f5f\", \"gridcolor\": \"white\", \"linecolor\": \"white\", \"minorgridcolor\": \"white\", \"startlinecolor\": \"#2a3f5f\"}, \"type\": \"carpet\"}], \"choropleth\": [{\"colorbar\": {\"outlinewidth\": 0, \"ticks\": \"\"}, \"type\": \"choropleth\"}], \"contour\": [{\"colorbar\": {\"outlinewidth\": 0, \"ticks\": \"\"}, \"colorscale\": [[0.0, \"#0d0887\"], [0.1111111111111111, \"#46039f\"], [0.2222222222222222, \"#7201a8\"], [0.3333333333333333, \"#9c179e\"], [0.4444444444444444, \"#bd3786\"], [0.5555555555555556, \"#d8576b\"], [0.6666666666666666, \"#ed7953\"], [0.7777777777777778, \"#fb9f3a\"], [0.8888888888888888, \"#fdca26\"], [1.0, \"#f0f921\"]], \"type\": \"contour\"}], \"contourcarpet\": [{\"colorbar\": {\"outlinewidth\": 0, \"ticks\": \"\"}, \"type\": \"contourcarpet\"}], \"heatmap\": [{\"colorbar\": {\"outlinewidth\": 0, \"ticks\": \"\"}, \"colorscale\": [[0.0, \"#0d0887\"], [0.1111111111111111, \"#46039f\"], [0.2222222222222222, \"#7201a8\"], [0.3333333333333333, \"#9c179e\"], [0.4444444444444444, \"#bd3786\"], [0.5555555555555556, \"#d8576b\"], [0.6666666666666666, \"#ed7953\"], [0.7777777777777778, \"#fb9f3a\"], [0.8888888888888888, \"#fdca26\"], [1.0, \"#f0f921\"]], \"type\": \"heatmap\"}], \"heatmapgl\": [{\"colorbar\": {\"outlinewidth\": 0, \"ticks\": \"\"}, \"colorscale\": [[0.0, \"#0d0887\"], [0.1111111111111111, \"#46039f\"], [0.2222222222222222, \"#7201a8\"], [0.3333333333333333, \"#9c179e\"], [0.4444444444444444, \"#bd3786\"], [0.5555555555555556, \"#d8576b\"], [0.6666666666666666, \"#ed7953\"], [0.7777777777777778, \"#fb9f3a\"], [0.8888888888888888, \"#fdca26\"], [1.0, \"#f0f921\"]], \"type\": \"heatmapgl\"}], \"histogram\": [{\"marker\": {\"colorbar\": {\"outlinewidth\": 0, \"ticks\": \"\"}}, \"type\": \"histogram\"}], \"histogram2d\": [{\"colorbar\": {\"outlinewidth\": 0, \"ticks\": \"\"}, \"colorscale\": [[0.0, \"#0d0887\"], [0.1111111111111111, \"#46039f\"], [0.2222222222222222, \"#7201a8\"], [0.3333333333333333, \"#9c179e\"], [0.4444444444444444, \"#bd3786\"], [0.5555555555555556, \"#d8576b\"], [0.6666666666666666, \"#ed7953\"], [0.7777777777777778, \"#fb9f3a\"], [0.8888888888888888, \"#fdca26\"], [1.0, \"#f0f921\"]], \"type\": \"histogram2d\"}], \"histogram2dcontour\": [{\"colorbar\": {\"outlinewidth\": 0, \"ticks\": \"\"}, \"colorscale\": [[0.0, \"#0d0887\"], [0.1111111111111111, \"#46039f\"], [0.2222222222222222, \"#7201a8\"], [0.3333333333333333, \"#9c179e\"], [0.4444444444444444, \"#bd3786\"], [0.5555555555555556, \"#d8576b\"], [0.6666666666666666, \"#ed7953\"], [0.7777777777777778, \"#fb9f3a\"], [0.8888888888888888, \"#fdca26\"], [1.0, \"#f0f921\"]], \"type\": \"histogram2dcontour\"}], \"mesh3d\": [{\"colorbar\": {\"outlinewidth\": 0, \"ticks\": \"\"}, \"type\": \"mesh3d\"}], \"parcoords\": [{\"line\": {\"colorbar\": {\"outlinewidth\": 0, \"ticks\": \"\"}}, \"type\": \"parcoords\"}], \"pie\": [{\"automargin\": true, \"type\": \"pie\"}], \"scatter\": [{\"marker\": {\"colorbar\": {\"outlinewidth\": 0, \"ticks\": \"\"}}, \"type\": \"scatter\"}], \"scatter3d\": [{\"line\": {\"colorbar\": {\"outlinewidth\": 0, \"ticks\": \"\"}}, \"marker\": {\"colorbar\": {\"outlinewidth\": 0, \"ticks\": \"\"}}, \"type\": \"scatter3d\"}], \"scattercarpet\": [{\"marker\": {\"colorbar\": {\"outlinewidth\": 0, \"ticks\": \"\"}}, \"type\": \"scattercarpet\"}], \"scattergeo\": [{\"marker\": {\"colorbar\": {\"outlinewidth\": 0, \"ticks\": \"\"}}, \"type\": \"scattergeo\"}], \"scattergl\": [{\"marker\": {\"colorbar\": {\"outlinewidth\": 0, \"ticks\": \"\"}}, \"type\": \"scattergl\"}], \"scattermapbox\": [{\"marker\": {\"colorbar\": {\"outlinewidth\": 0, \"ticks\": \"\"}}, \"type\": \"scattermapbox\"}], \"scatterpolar\": [{\"marker\": {\"colorbar\": {\"outlinewidth\": 0, \"ticks\": \"\"}}, \"type\": \"scatterpolar\"}], \"scatterpolargl\": [{\"marker\": {\"colorbar\": {\"outlinewidth\": 0, \"ticks\": \"\"}}, \"type\": \"scatterpolargl\"}], \"scatterternary\": [{\"marker\": {\"colorbar\": {\"outlinewidth\": 0, \"ticks\": \"\"}}, \"type\": \"scatterternary\"}], \"surface\": [{\"colorbar\": {\"outlinewidth\": 0, \"ticks\": \"\"}, \"colorscale\": [[0.0, \"#0d0887\"], [0.1111111111111111, \"#46039f\"], [0.2222222222222222, \"#7201a8\"], [0.3333333333333333, \"#9c179e\"], [0.4444444444444444, \"#bd3786\"], [0.5555555555555556, \"#d8576b\"], [0.6666666666666666, \"#ed7953\"], [0.7777777777777778, \"#fb9f3a\"], [0.8888888888888888, \"#fdca26\"], [1.0, \"#f0f921\"]], \"type\": \"surface\"}], \"table\": [{\"cells\": {\"fill\": {\"color\": \"#EBF0F8\"}, \"line\": {\"color\": \"white\"}}, \"header\": {\"fill\": {\"color\": \"#C8D4E3\"}, \"line\": {\"color\": \"white\"}}, \"type\": \"table\"}]}, \"layout\": {\"annotationdefaults\": {\"arrowcolor\": \"#2a3f5f\", \"arrowhead\": 0, \"arrowwidth\": 1}, \"coloraxis\": {\"colorbar\": {\"outlinewidth\": 0, \"ticks\": \"\"}}, \"colorscale\": {\"diverging\": [[0, \"#8e0152\"], [0.1, \"#c51b7d\"], [0.2, \"#de77ae\"], [0.3, \"#f1b6da\"], [0.4, \"#fde0ef\"], [0.5, \"#f7f7f7\"], [0.6, \"#e6f5d0\"], [0.7, \"#b8e186\"], [0.8, \"#7fbc41\"], [0.9, \"#4d9221\"], [1, \"#276419\"]], \"sequential\": [[0.0, \"#0d0887\"], [0.1111111111111111, \"#46039f\"], [0.2222222222222222, \"#7201a8\"], [0.3333333333333333, \"#9c179e\"], [0.4444444444444444, \"#bd3786\"], [0.5555555555555556, \"#d8576b\"], [0.6666666666666666, \"#ed7953\"], [0.7777777777777778, \"#fb9f3a\"], [0.8888888888888888, \"#fdca26\"], [1.0, \"#f0f921\"]], \"sequentialminus\": [[0.0, \"#0d0887\"], [0.1111111111111111, \"#46039f\"], [0.2222222222222222, \"#7201a8\"], [0.3333333333333333, \"#9c179e\"], [0.4444444444444444, \"#bd3786\"], [0.5555555555555556, \"#d8576b\"], [0.6666666666666666, \"#ed7953\"], [0.7777777777777778, \"#fb9f3a\"], [0.8888888888888888, \"#fdca26\"], [1.0, \"#f0f921\"]]}, \"colorway\": [\"#636efa\", \"#EF553B\", \"#00cc96\", \"#ab63fa\", \"#FFA15A\", \"#19d3f3\", \"#FF6692\", \"#B6E880\", \"#FF97FF\", \"#FECB52\"], \"font\": {\"color\": \"#2a3f5f\"}, \"geo\": {\"bgcolor\": \"white\", \"lakecolor\": \"white\", \"landcolor\": \"#E5ECF6\", \"showlakes\": true, \"showland\": true, \"subunitcolor\": \"white\"}, \"hoverlabel\": {\"align\": \"left\"}, \"hovermode\": \"closest\", \"mapbox\": {\"style\": \"light\"}, \"paper_bgcolor\": \"white\", \"plot_bgcolor\": \"#E5ECF6\", \"polar\": {\"angularaxis\": {\"gridcolor\": \"white\", \"linecolor\": \"white\", \"ticks\": \"\"}, \"bgcolor\": \"#E5ECF6\", \"radialaxis\": {\"gridcolor\": \"white\", \"linecolor\": \"white\", \"ticks\": \"\"}}, \"scene\": {\"xaxis\": {\"backgroundcolor\": \"#E5ECF6\", \"gridcolor\": \"white\", \"gridwidth\": 2, \"linecolor\": \"white\", \"showbackground\": true, \"ticks\": \"\", \"zerolinecolor\": \"white\"}, \"yaxis\": {\"backgroundcolor\": \"#E5ECF6\", \"gridcolor\": \"white\", \"gridwidth\": 2, \"linecolor\": \"white\", \"showbackground\": true, \"ticks\": \"\", \"zerolinecolor\": \"white\"}, \"zaxis\": {\"backgroundcolor\": \"#E5ECF6\", \"gridcolor\": \"white\", \"gridwidth\": 2, \"linecolor\": \"white\", \"showbackground\": true, \"ticks\": \"\", \"zerolinecolor\": \"white\"}}, \"shapedefaults\": {\"line\": {\"color\": \"#2a3f5f\"}}, \"ternary\": {\"aaxis\": {\"gridcolor\": \"white\", \"linecolor\": \"white\", \"ticks\": \"\"}, \"baxis\": {\"gridcolor\": \"white\", \"linecolor\": \"white\", \"ticks\": \"\"}, \"bgcolor\": \"#E5ECF6\", \"caxis\": {\"gridcolor\": \"white\", \"linecolor\": \"white\", \"ticks\": \"\"}}, \"title\": {\"x\": 0.05}, \"xaxis\": {\"automargin\": true, \"gridcolor\": \"white\", \"linecolor\": \"white\", \"ticks\": \"\", \"title\": {\"standoff\": 15}, \"zerolinecolor\": \"white\", \"zerolinewidth\": 2}, \"yaxis\": {\"automargin\": true, \"gridcolor\": \"white\", \"linecolor\": \"white\", \"ticks\": \"\", \"title\": {\"standoff\": 15}, \"zerolinecolor\": \"white\", \"zerolinewidth\": 2}}}, \"title\": {\"font\": {\"color\": \"#4D5663\"}}, \"xaxis\": {\"anchor\": \"y\", \"domain\": [0.0, 0.2125], \"gridcolor\": \"#E1E5ED\", \"showgrid\": false, \"tickfont\": {\"color\": \"#4D5663\"}, \"title\": {\"font\": {\"color\": \"#4D5663\"}, \"text\": \"\"}, \"zerolinecolor\": \"#E1E5ED\"}, \"xaxis10\": {\"anchor\": \"y10\", \"domain\": [0.2625, 0.475], \"gridcolor\": \"#E1E5ED\", \"showgrid\": false, \"tickfont\": {\"color\": \"#4D5663\"}, \"title\": {\"font\": {\"color\": \"#4D5663\"}, \"text\": \"\"}, \"zerolinecolor\": \"#E1E5ED\"}, \"xaxis11\": {\"anchor\": \"y11\", \"domain\": [0.525, 0.7375], \"gridcolor\": \"#E1E5ED\", \"showgrid\": false, \"tickfont\": {\"color\": \"#4D5663\"}, \"title\": {\"font\": {\"color\": \"#4D5663\"}, \"text\": \"\"}, \"zerolinecolor\": \"#E1E5ED\"}, \"xaxis12\": {\"anchor\": \"y12\", \"domain\": [0.7875, 1.0], \"gridcolor\": \"#E1E5ED\", \"showgrid\": false, \"tickfont\": {\"color\": \"#4D5663\"}, \"title\": {\"font\": {\"color\": \"#4D5663\"}, \"text\": \"\"}, \"zerolinecolor\": \"#E1E5ED\"}, \"xaxis13\": {\"anchor\": \"y13\", \"domain\": [0.0, 0.2125], \"gridcolor\": \"#E1E5ED\", \"showgrid\": false, \"tickfont\": {\"color\": \"#4D5663\"}, \"title\": {\"font\": {\"color\": \"#4D5663\"}, \"text\": \"\"}, \"zerolinecolor\": \"#E1E5ED\"}, \"xaxis14\": {\"anchor\": \"y14\", \"domain\": [0.2625, 0.475], \"gridcolor\": \"#E1E5ED\", \"showgrid\": false, \"tickfont\": {\"color\": \"#4D5663\"}, \"title\": {\"font\": {\"color\": \"#4D5663\"}, \"text\": \"\"}, \"zerolinecolor\": \"#E1E5ED\"}, \"xaxis15\": {\"anchor\": \"y15\", \"domain\": [0.525, 0.7375], \"gridcolor\": \"#E1E5ED\", \"showgrid\": false, \"tickfont\": {\"color\": \"#4D5663\"}, \"title\": {\"font\": {\"color\": \"#4D5663\"}, \"text\": \"\"}, \"zerolinecolor\": \"#E1E5ED\"}, \"xaxis16\": {\"anchor\": \"y16\", \"domain\": [0.7875, 1.0], \"gridcolor\": \"#E1E5ED\", \"showgrid\": false, \"tickfont\": {\"color\": \"#4D5663\"}, \"title\": {\"font\": {\"color\": \"#4D5663\"}, \"text\": \"\"}, \"zerolinecolor\": \"#E1E5ED\"}, \"xaxis2\": {\"anchor\": \"y2\", \"domain\": [0.2625, 0.475], \"gridcolor\": \"#E1E5ED\", \"showgrid\": false, \"tickfont\": {\"color\": \"#4D5663\"}, \"title\": {\"font\": {\"color\": \"#4D5663\"}, \"text\": \"\"}, \"zerolinecolor\": \"#E1E5ED\"}, \"xaxis3\": {\"anchor\": \"y3\", \"domain\": [0.525, 0.7375], \"gridcolor\": \"#E1E5ED\", \"showgrid\": false, \"tickfont\": {\"color\": \"#4D5663\"}, \"title\": {\"font\": {\"color\": \"#4D5663\"}, \"text\": \"\"}, \"zerolinecolor\": \"#E1E5ED\"}, \"xaxis4\": {\"anchor\": \"y4\", \"domain\": [0.7875, 1.0], \"gridcolor\": \"#E1E5ED\", \"showgrid\": false, \"tickfont\": {\"color\": \"#4D5663\"}, \"title\": {\"font\": {\"color\": \"#4D5663\"}, \"text\": \"\"}, \"zerolinecolor\": \"#E1E5ED\"}, \"xaxis5\": {\"anchor\": \"y5\", \"domain\": [0.0, 0.2125], \"gridcolor\": \"#E1E5ED\", \"showgrid\": false, \"tickfont\": {\"color\": \"#4D5663\"}, \"title\": {\"font\": {\"color\": \"#4D5663\"}, \"text\": \"\"}, \"zerolinecolor\": \"#E1E5ED\"}, \"xaxis6\": {\"anchor\": \"y6\", \"domain\": [0.2625, 0.475], \"gridcolor\": \"#E1E5ED\", \"showgrid\": false, \"tickfont\": {\"color\": \"#4D5663\"}, \"title\": {\"font\": {\"color\": \"#4D5663\"}, \"text\": \"\"}, \"zerolinecolor\": \"#E1E5ED\"}, \"xaxis7\": {\"anchor\": \"y7\", \"domain\": [0.525, 0.7375], \"gridcolor\": \"#E1E5ED\", \"showgrid\": false, \"tickfont\": {\"color\": \"#4D5663\"}, \"title\": {\"font\": {\"color\": \"#4D5663\"}, \"text\": \"\"}, \"zerolinecolor\": \"#E1E5ED\"}, \"xaxis8\": {\"anchor\": \"y8\", \"domain\": [0.7875, 1.0], \"gridcolor\": \"#E1E5ED\", \"showgrid\": false, \"tickfont\": {\"color\": \"#4D5663\"}, \"title\": {\"font\": {\"color\": \"#4D5663\"}, \"text\": \"\"}, \"zerolinecolor\": \"#E1E5ED\"}, \"xaxis9\": {\"anchor\": \"y9\", \"domain\": [0.0, 0.2125], \"gridcolor\": \"#E1E5ED\", \"showgrid\": false, \"tickfont\": {\"color\": \"#4D5663\"}, \"title\": {\"font\": {\"color\": \"#4D5663\"}, \"text\": \"\"}, \"zerolinecolor\": \"#E1E5ED\"}, \"yaxis\": {\"anchor\": \"x\", \"domain\": [0.8025, 1.0], \"gridcolor\": \"#E1E5ED\", \"showgrid\": false, \"tickfont\": {\"color\": \"#4D5663\"}, \"title\": {\"font\": {\"color\": \"#4D5663\"}, \"text\": \"\"}, \"zerolinecolor\": \"#E1E5ED\"}, \"yaxis10\": {\"anchor\": \"x10\", \"domain\": [0.2675, 0.465], \"gridcolor\": \"#E1E5ED\", \"showgrid\": false, \"tickfont\": {\"color\": \"#4D5663\"}, \"title\": {\"font\": {\"color\": \"#4D5663\"}, \"text\": \"\"}, \"zerolinecolor\": \"#E1E5ED\"}, \"yaxis11\": {\"anchor\": \"x11\", \"domain\": [0.2675, 0.465], \"gridcolor\": \"#E1E5ED\", \"showgrid\": false, \"tickfont\": {\"color\": \"#4D5663\"}, \"title\": {\"font\": {\"color\": \"#4D5663\"}, \"text\": \"\"}, \"zerolinecolor\": \"#E1E5ED\"}, \"yaxis12\": {\"anchor\": \"x12\", \"domain\": [0.2675, 0.465], \"gridcolor\": \"#E1E5ED\", \"showgrid\": false, \"tickfont\": {\"color\": \"#4D5663\"}, \"title\": {\"font\": {\"color\": \"#4D5663\"}, \"text\": \"\"}, \"zerolinecolor\": \"#E1E5ED\"}, \"yaxis13\": {\"anchor\": \"x13\", \"domain\": [0.0, 0.1975], \"gridcolor\": \"#E1E5ED\", \"showgrid\": false, \"tickfont\": {\"color\": \"#4D5663\"}, \"title\": {\"font\": {\"color\": \"#4D5663\"}, \"text\": \"\"}, \"zerolinecolor\": \"#E1E5ED\"}, \"yaxis14\": {\"anchor\": \"x14\", \"domain\": [0.0, 0.1975], \"gridcolor\": \"#E1E5ED\", \"showgrid\": false, \"tickfont\": {\"color\": \"#4D5663\"}, \"title\": {\"font\": {\"color\": \"#4D5663\"}, \"text\": \"\"}, \"zerolinecolor\": \"#E1E5ED\"}, \"yaxis15\": {\"anchor\": \"x15\", \"domain\": [0.0, 0.1975], \"gridcolor\": \"#E1E5ED\", \"showgrid\": false, \"tickfont\": {\"color\": \"#4D5663\"}, \"title\": {\"font\": {\"color\": \"#4D5663\"}, \"text\": \"\"}, \"zerolinecolor\": \"#E1E5ED\"}, \"yaxis16\": {\"anchor\": \"x16\", \"domain\": [0.0, 0.1975], \"gridcolor\": \"#E1E5ED\", \"showgrid\": false, \"tickfont\": {\"color\": \"#4D5663\"}, \"title\": {\"font\": {\"color\": \"#4D5663\"}, \"text\": \"\"}, \"zerolinecolor\": \"#E1E5ED\"}, \"yaxis2\": {\"anchor\": \"x2\", \"domain\": [0.8025, 1.0], \"gridcolor\": \"#E1E5ED\", \"showgrid\": false, \"tickfont\": {\"color\": \"#4D5663\"}, \"title\": {\"font\": {\"color\": \"#4D5663\"}, \"text\": \"\"}, \"zerolinecolor\": \"#E1E5ED\"}, \"yaxis3\": {\"anchor\": \"x3\", \"domain\": [0.8025, 1.0], \"gridcolor\": \"#E1E5ED\", \"showgrid\": false, \"tickfont\": {\"color\": \"#4D5663\"}, \"title\": {\"font\": {\"color\": \"#4D5663\"}, \"text\": \"\"}, \"zerolinecolor\": \"#E1E5ED\"}, \"yaxis4\": {\"anchor\": \"x4\", \"domain\": [0.8025, 1.0], \"gridcolor\": \"#E1E5ED\", \"showgrid\": false, \"tickfont\": {\"color\": \"#4D5663\"}, \"title\": {\"font\": {\"color\": \"#4D5663\"}, \"text\": \"\"}, \"zerolinecolor\": \"#E1E5ED\"}, \"yaxis5\": {\"anchor\": \"x5\", \"domain\": [0.535, 0.7325], \"gridcolor\": \"#E1E5ED\", \"showgrid\": false, \"tickfont\": {\"color\": \"#4D5663\"}, \"title\": {\"font\": {\"color\": \"#4D5663\"}, \"text\": \"\"}, \"zerolinecolor\": \"#E1E5ED\"}, \"yaxis6\": {\"anchor\": \"x6\", \"domain\": [0.535, 0.7325], \"gridcolor\": \"#E1E5ED\", \"showgrid\": false, \"tickfont\": {\"color\": \"#4D5663\"}, \"title\": {\"font\": {\"color\": \"#4D5663\"}, \"text\": \"\"}, \"zerolinecolor\": \"#E1E5ED\"}, \"yaxis7\": {\"anchor\": \"x7\", \"domain\": [0.535, 0.7325], \"gridcolor\": \"#E1E5ED\", \"showgrid\": false, \"tickfont\": {\"color\": \"#4D5663\"}, \"title\": {\"font\": {\"color\": \"#4D5663\"}, \"text\": \"\"}, \"zerolinecolor\": \"#E1E5ED\"}, \"yaxis8\": {\"anchor\": \"x8\", \"domain\": [0.535, 0.7325], \"gridcolor\": \"#E1E5ED\", \"showgrid\": false, \"tickfont\": {\"color\": \"#4D5663\"}, \"title\": {\"font\": {\"color\": \"#4D5663\"}, \"text\": \"\"}, \"zerolinecolor\": \"#E1E5ED\"}, \"yaxis9\": {\"anchor\": \"x9\", \"domain\": [0.2675, 0.465], \"gridcolor\": \"#E1E5ED\", \"showgrid\": false, \"tickfont\": {\"color\": \"#4D5663\"}, \"title\": {\"font\": {\"color\": \"#4D5663\"}, \"text\": \"\"}, \"zerolinecolor\": \"#E1E5ED\"}},\n                        {\"showLink\": true, \"linkText\": \"Export to plot.ly\", \"plotlyServerURL\": \"https://plot.ly\", \"responsive\": true}\n                    ).then(function(){\n                            \nvar gd = document.getElementById('b661bb9e-6e9e-40ba-be2a-3e8da22650f9');\nvar x = new MutationObserver(function (mutations, observer) {{\n        var display = window.getComputedStyle(gd).display;\n        if (!display || display === 'none') {{\n            console.log([gd, 'removed!']);\n            Plotly.purge(gd);\n            observer.disconnect();\n        }}\n}});\n\n// Listen for the removal of the full notebook cells\nvar notebookContainer = gd.closest('#notebook-container');\nif (notebookContainer) {{\n    x.observe(notebookContainer, {childList: true});\n}}\n\n// Listen for the clearing of the current output cell\nvar outputEl = gd.closest('.output');\nif (outputEl) {{\n    x.observe(outputEl, {childList: true});\n}}\n\n                        })\n                };\n                });\n            </script>\n        </div>"
     },
     "metadata": {}
    }
   ],
   "source": [
    "df.scatter_matrix()"
   ]
  },
  {
   "cell_type": "markdown",
   "metadata": {
    "collapsed": true
   },
   "source": [
    "# Great Job!"
   ]
  }
 ],
 "metadata": {
  "kernelspec": {
   "display_name": "Python 3",
   "language": "python",
   "name": "python3"
  },
  "language_info": {
   "codemirror_mode": {
    "name": "ipython",
    "version": 3
   },
   "file_extension": ".py",
   "mimetype": "text/x-python",
   "name": "python",
   "nbconvert_exporter": "python",
   "pygments_lexer": "ipython3",
   "version": "3.7.6-final"
  }
 },
 "nbformat": 4,
 "nbformat_minor": 0
}